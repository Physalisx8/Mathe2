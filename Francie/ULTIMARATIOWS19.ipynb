{
 "cells": [
  {
   "cell_type": "code",
   "execution_count": null,
   "metadata": {},
   "outputs": [],
   "source": [
    "'''Aufgabensammlung WS 2019 Stand 11. Oktober 2019'''"
   ]
  },
  {
   "cell_type": "code",
   "execution_count": null,
   "metadata": {},
   "outputs": [],
   "source": [
    "'''\n",
    "Aufabe 118\n",
    "Kreuzen Sie von den folgenden Aussagen die an, die wahr sind.\n",
    "[x]4e[3,5]         [x]3e[3,5)        [x]5e(3,5]         [x] [3,4] n (4;5] = leere Menge\n",
    "\n",
    "\n",
    "Aufgabe 119\n",
    "Welche der folgenden Mengen sind Intervalle?\n",
    "[x] [40,42]\\{42}               [ ] [40,42]\\{41}         [] [40,42]\\[40,42)\n",
    "[x] [40,41]\\[42,43]            [] [40,41]n[42,43]        [x] [40,41]U[42,43]\n",
    "\n",
    "!!!!!!!!!!!ATTENCIÒNE!!!!!!!!!!!!!!\n",
    "[40,42] ohne das Element 41, würde doch zwei Intervalle ergeben, oder? \n",
    "[40,41) und (41,42] > zählt nicht\n",
    "\n",
    "\n",
    "Aufgabe 120\n",
    "Welche der folgenden Mengen sind echte Intervalle?\n",
    "[x] [40,42]\\[40,41)             [x] [40,41]\\N           [] [40,42]\\[40,42)\n",
    "[ ] [40,41]\\Q                   [ ] [40,41]n[41,43]     [ ] (40,42)\\ N\n",
    "\n",
    "!!!!!!!!!!!!!ATTENCIÒNE!!!!!!!!!!!\n",
    "echte Intervalle sind als Intervalle definiert, die mehr als eine Zahl enthalten. Wenn bei [40,41]\\Q-> gibts noch R, oder?\n",
    "Das letzte teilt sich wieder in (40,41) & (41,42) auf, oder? > geklärt\n",
    "\n",
    "\n",
    "Aufgabe 121\n",
    "Welche der folgenden Mengen sind echte Intervalle?\n",
    "[x] [40,42]\\[40,41)               [x] [40,41]\\N          [] [40,42]\\[40,42)\n",
    "[x] [40,41)U{41}                  [x] [40,41]\\{41}       [x] (40,41)U[41,42]\n",
    "\n",
    "\n",
    "Aufgabe 122\n",
    "Sei A={10/n : n e N+}. Geben Sie das kleinste Intervall I oberhalb von A an. (Damit ist gemeint,\n",
    "dass sowohl A teilmenge I als auch A keine Teilmenge J für jedes Intervall J keine Teilmenge I gelten soll.)\n",
    "#whatever..\n",
    "\n",
    "Aufgabe 123\n",
    "Sei A = {m/n : m e Z und n e N+ und |m| < |n|}. Geben Sie das kleinste Intervall I oberhalb\n",
    "von A an. (Damit ist gemeint, dass sowohl A \u0012 I als auch A * J fur jedes Intervall J ( I gelten\n",
    "soll.)\n",
    "#whatever\n",
    "\n",
    "Aufgabe 124\n",
    "Wenn a e [2,4) und b e [3,6) gilt, in welchem Intervall befindet sich dann a + b? (Gesucht ist das\n",
    "kleinstmöogliche Intervall, in dem a + b mit Sicherheit liegt. Es gibt also nur eine mögliche Antwort.)\n",
    "[] [2,10)       [] [2,10]    [] [2,6)     [] [2,6]     [x] [5,10)     [] [5,10]\n",
    "\n",
    "\n",
    "Aufgabe 125\n",
    "Wenn a e (2,4] und b e [3,6) gilt, in welchem Intervall befindet sich dann a + b? (Gesucht ist das\n",
    "kleinstmögliche Intervall, in dem a + b mit Sicherheit liegt. Es gibt also nur eine mögliche Antwort.)\n",
    "[] (2,6)     [] (2,6]      [] [2,6)      [] [2,6]     [] (5,10)      [] (5,10]     [x] [5,10)   [] [5,10]\n",
    "\n",
    "\n",
    "Aufgabe 126\n",
    "Wenn a e [2,4] und b e [10,20] gilt, in welchem Intervall befindet sich dann b-a? (Gesucht ist\n",
    "das kleinstmögliche Intervall, in dem b-a mit Sicherheit liegt. Es gibt also nur eine mogliche\n",
    "Antwort.)\n",
    "[] [2,20]    [x][8,16]  [] [6,18]   [] [8,18]  [] [6,16]\n",
    "\n",
    "\n",
    "Aufgabe 127\n",
    "Sei M = {ab : a e [1,2] und b e [-2,1)}. Was ist das größte Element von M?\n",
    "[] 1     [] 2   [] 4   [x] M hat kein größtes Element.\n",
    "\n",
    "\n",
    "Aufgabe 128\n",
    "Sei M = {ab:a e [-1,2/3] und b e [-3/2,3]}\n",
    "Was ist das größte Element von M?\n",
    "[] 3/2      [] 2    [] 3    [x] M hat kein größtes Element\n",
    "#es wird immer größer deshalb hat es kein größtes Element\n",
    "\n",
    "\n",
    "Aufgabe 129\n",
    "Welche der folgenden Mengen sind endlich?\n",
    "[] [40,42]\\[40,41)     [x]{-40,-41}\\ N        [x] [40,42]\\[40,42)\n",
    "[] [40,41]\\Q           [x] [40,41]n[41,43]    [x] [40,41]n[42,43]\n",
    "\n",
    "\n",
    "Aufgabe 130\n",
    "In der folgenden Liste kommt eine Menge nur einmal vor. Kreuzen Sie diese an:\n",
    "[] [3,5]n[4,6] =[4,5]       [] (3,5]n[4,6) =[3,5]       [] (3,5]n[4,6] = [4,5]\n",
    "[] [3,5)U[4,6] = [3,6]       [x] (4,6]n[3,5] =(4,5]     [] [4,6]U[3,5] = [3,6]\n",
    "\n",
    "\n",
    "\n",
    "Aufgabe 131\n",
    "Jeweils zwei der unten aufgeführten Mengen sind gleich. Finden Sie die entsprechenden Paare.\n",
    "A = [38,43)U{38,40,43}       B = [38,40)U(38,40]\n",
    "C = [40,40]\\(40,43]          D = [40,43]U{40}\n",
    "E = [38,43]\\(40,43]          F = [38,43]n(40,43]\n",
    "G = [3840]U[40,43]           H = {38,40}\n",
    "I = [38,40]n[40,43]          J = [38,40]U(38,40)\n",
    "\n",
    "H ❤️ J    A ❤️ G   D ❤️ F\n",
    "B ❤️ E    I ❤️ C\n",
    "\n",
    "A&G = [38,43]\n",
    "B&E = [38,40]\n",
    "C&I = [40,40]\n",
    "D&F = (40,43]\n",
    "H&J = {38,40}\n",
    "\n",
    "\n",
    "Aufgabe 132\n",
    "Jeweils zwei der unten aufgeführten Mengen sind gleich. Finden Sie die entsprechenden Paare.\n",
    "A = [38,40)U(38,40]          B = [40,40]\\(40,43]\n",
    "C = [38,43)U{n e N:38<n<44}  D = {x e R : 40<x<=43}\n",
    "E = [38,43]\\(40,43]          F = [38,43]n(40,43]\n",
    "G = [38,40]U[40,43]          H = {x e [38; 40] : x/2 e N}\n",
    "I = [38,40]U[40,43]          J = [38,40]\\(38,40)\n",
    "\n",
    "A ❤️ E   C ❤️ G   I ❤️ B   D ❤️ F   H ❤️ J\n",
    "\n",
    "A&E = [38,40]\n",
    "C&G = [38,43]\n",
    "I&B = [40,40]\n",
    "D&F = (40,43]\n",
    "H&J = {38,40}\n",
    "\n",
    "\n",
    "Aufgabe 133\n",
    "Jeweils zwei der unten aufgeführten Mengen sind gleich. Finden Sie die entsprechenden Paare.\n",
    "#whatever\n",
    "#help\n",
    "\n",
    "\n",
    "\n",
    "'''"
   ]
  },
  {
   "cell_type": "code",
   "execution_count": null,
   "metadata": {},
   "outputs": [],
   "source": [
    "'''!!!!!!!!!!!!!!!!ATTENCIÓNE!!!!!!!!!!!!!!\n",
    "Aufgabe 134\n",
    "Sei A = [0; 9] \\ N. Wie viele Elemente hat ´PM(´PM(A))?\n",
    "# Die Potenzmenge einer Potenzmenge einer Menge der Mächtigkeit n ist 2**2**n in diesem Fall\n",
    "2**2**10\n",
    "> Potenzgesetze 2**20\n",
    "\n",
    "\n",
    "#1048576 Antwort\n",
    "'''\n",
    "\n",
    "pow(pow(2,2),10)"
   ]
  },
  {
   "cell_type": "code",
   "execution_count": null,
   "metadata": {},
   "outputs": [],
   "source": [
    "'''\n",
    "Aufgabe 135\n",
    "Welchen Wert hat die Variable c nach Ausführung des folgenden Codes?\n",
    "'''\n",
    "c = 1\n",
    "for i in range(2222):\n",
    "    c = (11 * c) % 13\n",
    "c\n",
    "#gibt je nach 2 - 4,10,12 aus wg. Restklasse. Wir haben im Original Code 10*2 \n",
    "#Antwort: 4"
   ]
  },
  {
   "cell_type": "code",
   "execution_count": null,
   "metadata": {},
   "outputs": [],
   "source": [
    "'''\n",
    "Aufgabe 136\n",
    "Welchen Wert hat die Variable s nach Ausführung des folgenden Codes?\n",
    "'''\n",
    "def foo ():\n",
    "    k = 0\n",
    "    while True:\n",
    "        yield k\n",
    "        k += 1\n",
    "        \n",
    "c, s = 0, 0\n",
    "for i in foo():\n",
    "    s = (s + i) % 3\n",
    "    c += 1\n",
    "    if c > 34:\n",
    "        break\n",
    "print(s)\n",
    "\n",
    "# Ergebnis: 1"
   ]
  },
  {
   "cell_type": "code",
   "execution_count": null,
   "metadata": {},
   "outputs": [],
   "source": [
    "'''\n",
    "!!!!!!!!!!!!!!!!!!ATTENCIÒNE!!!!!!!!!!!!!!!!!!!!!\n",
    "Aufgabe 137\n",
    "\n",
    "Wenn man in den Kasten unten True einsetzt, wird foo eine Generator-Funktion, die die Menge\n",
    "A = {p e Q : 0 < p < 1}rekursiv aufzählt. Was muss man in den Kasten einsetzen, damit in dieser\n",
    "Aufzählung jedes Element aus A nur einmal vorkommt?\n",
    "'''\n",
    "from fractions import Fraction\n",
    "from math import * # <-- Das ist ein Hinweis...\n",
    "\n",
    "def foo ():\n",
    "    i = 3\n",
    "    while True:\n",
    "        for m in range(1, ceil(i / 2)): #ceil nachgucken\n",
    "            n = i - m\n",
    "            if #:\n",
    "            yield Fraction(m, n)\n",
    "        i += 1"
   ]
  },
  {
   "cell_type": "code",
   "execution_count": null,
   "metadata": {},
   "outputs": [],
   "source": [
    "'''\n",
    "!!!!!!!!!!!!!!ATTENCIÒNE!!!!!!!!!!!\n",
    "Aufgabe 138\n",
    "\n",
    "from math import sqrt\n",
    "def foo (n = False):\n",
    "    k = 2\n",
    "    while not n or k <= n:\n",
    "        X = True\n",
    "        for p in foo(sqrt(k)):\n",
    "            if #:\n",
    "                X = False\n",
    "                break\n",
    "        if X:\n",
    "            yield k\n",
    "        k += 1\n",
    "'''"
   ]
  },
  {
   "cell_type": "code",
   "execution_count": null,
   "metadata": {},
   "outputs": [],
   "source": [
    "'''\n",
    "Aufgabe 139\n",
    "Welche Menge wird von der folgenden Generator-Funktion rekursiv aufgezahlt? Geben Sie die Antwort\n",
    "in beschreibender Mengenschreibweise (und nicht in Worten) an.\n",
    "def foo ():\n",
    "    i = 1\n",
    "    while True:\n",
    "        yield i\n",
    "        i += 2\n",
    "'''\n",
    "#{i e N: i%2 = 1} "
   ]
  },
  {
   "cell_type": "code",
   "execution_count": null,
   "metadata": {},
   "outputs": [],
   "source": [
    "'''\n",
    "Aufgabe 140\n",
    "Welche Menge wird von der folgenden Generator-Funktion rekursiv aufgezählt? Geben Sie die Antwort\n",
    "in beschreibender Mengenschreibweise (und nicht in Worten) an.\n",
    "'''\n",
    "\n",
    "def viewGen(gen,n):\n",
    "    c=1\n",
    "    L=[] #Liste durch großbuchstaben\n",
    "    for x in gen:\n",
    "        if c > n:\n",
    "            break\n",
    "        L.append(x)\n",
    "        c+=1\n",
    "    return L\n",
    "\n",
    "def foo():\n",
    "    i=2\n",
    "    while True:\n",
    "        yield i\n",
    "        i*=3\n",
    "        \n",
    "# {i e N: i=2 und i*=3 }????"
   ]
  },
  {
   "cell_type": "code",
   "execution_count": null,
   "metadata": {},
   "outputs": [],
   "source": [
    "viewGen(foo(),10)"
   ]
  },
  {
   "cell_type": "code",
   "execution_count": null,
   "metadata": {},
   "outputs": [],
   "source": [
    "'''\n",
    "Aufgabe 141\n",
    "Welche Menge wird von der folgenden Generator-Funktion rekursiv aufgezählt? Geben Sie die Antwort\n",
    "in beschreibender Mengenschreibweise (und nicht in Worten) an.\n",
    "'''\n",
    "\n",
    "def foo2():\n",
    "    i = 2\n",
    "    while True:\n",
    "        yield i\n",
    "        i *= 4\n",
    "\n",
    "#{i e N+: i=4 und i*=4}       ?????"
   ]
  },
  {
   "cell_type": "code",
   "execution_count": null,
   "metadata": {},
   "outputs": [],
   "source": [
    "'''\n",
    "Aufgabe 142\n",
    "Die folgende Generator-Funktion zählt bei jedem Aufruf eine andere Menge von natürlichen Zahlen\n",
    "auf. Welches sind die drei kleinsten natürlichen Zahlen, die garantiert nie aufgezählt werden?\n",
    "'''\n",
    "\n",
    "from sympy import prime\n",
    "from random import randrange\n",
    "def foo3():\n",
    "    i = 0\n",
    "    while True:\n",
    "        i += 1\n",
    "        p = 1\n",
    "        for k in range(i):\n",
    "            p *= prime(randrange(1,i+2))\n",
    "        yield p\n",
    "\n",
    "        #seen 3,2,6,4,9,8\n",
    "        #1,5,7"
   ]
  },
  {
   "cell_type": "code",
   "execution_count": null,
   "metadata": {},
   "outputs": [],
   "source": [
    "viewGen(foo3(),10)"
   ]
  },
  {
   "cell_type": "code",
   "execution_count": null,
   "metadata": {},
   "outputs": [],
   "source": [
    "'''\n",
    "Aufgabe 143\n",
    "Die folgende Generator-Funktion zählt bei jedem Aufruf eine andere Menge von natürlichen Zahlen\n",
    "auf. Welches ist die kleinste positive natürliche Zahl, die garantiert nie aufgezählt wird?\n",
    "'''\n",
    "\n",
    "from random import randrange\n",
    "def foo4():\n",
    "    i = 0\n",
    "    while True:\n",
    "        i += 1\n",
    "        yield randrange(1,i+3)**i\n",
    "        \n",
    "        #seen: 3,4,1,2,8,9 \n",
    "        #5,6,7 nicht gesehen.."
   ]
  },
  {
   "cell_type": "code",
   "execution_count": null,
   "metadata": {},
   "outputs": [],
   "source": [
    "viewGen(foo4(),5)"
   ]
  },
  {
   "cell_type": "code",
   "execution_count": null,
   "metadata": {},
   "outputs": [],
   "source": [
    "'''\n",
    "Aufgabe 144\n",
    "Welche Menge wird von der folgenden Generator-Funktion rekursiv aufgezählt? Geben Sie die Antwort\n",
    "in beschreibender Mengenschreibweise (und nicht in Worten) an.\n",
    "'''\n",
    "def foo5():\n",
    "    f, k = 1, 1\n",
    "    while True:\n",
    "        yield f\n",
    "        f *= k\n",
    "        k += 1\n",
    "#{n e N+ : fak(n) 1*n+1}"
   ]
  },
  {
   "cell_type": "code",
   "execution_count": null,
   "metadata": {},
   "outputs": [],
   "source": [
    "viewGen(foo5(),10)"
   ]
  },
  {
   "cell_type": "code",
   "execution_count": null,
   "metadata": {},
   "outputs": [],
   "source": [
    "'''\n",
    "\n",
    "!!!!!!!!!!ATTENCIÒNE!!!!!!!!!!!!\n",
    "Aufgabe 145\n",
    "Welche Menge wird von der folgenden Generator-Funktion rekursiv aufgezählt? Geben Sie die Antwort\n",
    "in beschreibender Mengenschreibweise (und nicht in Worten) an.\n",
    "'''\n",
    "from math import gcd\n",
    "from fractions import Fraction\n",
    "def foo6():\n",
    "    i = 1\n",
    "    while True:\n",
    "        for k in range(i, 2*i):\n",
    "            if gcd(k, i) == 1:\n",
    "                yield Fraction(k, i)\n",
    "        i += 1\n",
    "        \n",
    "#lost kurz vor2"
   ]
  },
  {
   "cell_type": "code",
   "execution_count": null,
   "metadata": {},
   "outputs": [],
   "source": [
    "viewGen(foo6(),13)"
   ]
  },
  {
   "cell_type": "code",
   "execution_count": null,
   "metadata": {},
   "outputs": [],
   "source": [
    "'''\n",
    "\n",
    "!!!!ATTENCIÒNE KIWAN!!!!\n",
    "Aufgabe 146\n",
    "Welche der folgenden Mengen von Paaren sind rechtseindeutig?\n",
    "\n",
    "[x] {(1,2), (2,2), (3,2), (4,2)}\n",
    "[x] {(5,6), (6,7), (7,8), (8,9)}\n",
    "[] {(2,1), (2,2), (8,7), (9,8)} -> nicht rechtseindeutig, da 2x2\n",
    "[x] {(z**2,z): z e Z}\n",
    "[x] {(z**3,z): z e Z}\n",
    "'''\n",
    "#Rechtseindeutigkeit gehört zu dem Kapitel Funktionen - das erste Element darf nur einmal in der Menge vorkommen\n",
    "#sonst ist das Männchen mit den Spickzetteln verwirrt. Nachzulesen auf Seite 217\n",
    "\n",
    "#erste,zweite, letzte?\n",
    "\n",
    "'''\n",
    "Aufgabe 147\n",
    "Kreuzen Sie an, welche der folgenden Funktionen injektiv sind:\n",
    "'''\n",
    "from sympy import *\n",
    "x= symbols(\"x\")\n",
    "\n",
    "def f(x):\n",
    "    return 2*x\n",
    "\n",
    "def g(x):\n",
    "    return x+3\n",
    "\n",
    "print(f(x)+g(x)) #gut\n",
    "print(f(x)*g(x)) #fake\n",
    "print(f(g(x))) #gut\n",
    "print(g(f(x))) #gut"
   ]
  },
  {
   "cell_type": "code",
   "execution_count": null,
   "metadata": {},
   "outputs": [],
   "source": [
    "'''\n",
    "Aufgabe 148\n",
    "Kreuzen Sie an, welche der folgenden Funktionen injektiv sind:\n",
    "\n",
    "'''\n",
    "from sympy import *\n",
    "x= symbols(\"x\")\n",
    "\n",
    "def f(x):\n",
    "    return 2*x-4\n",
    "\n",
    "def g(x):\n",
    "    return -2*x-4\n",
    "\n",
    "print(f(x)+g(x)) #falsch -> Konstante\n",
    "print(f(x)*g(x)) #fake\n",
    "print(f(g(x))) #gut\n",
    "print(g(f(x))) #gut"
   ]
  },
  {
   "cell_type": "code",
   "execution_count": null,
   "metadata": {},
   "outputs": [],
   "source": [
    "'''\n",
    "Aufgabe 149\n",
    "Kreuzen Sie an, welche der folgenden Funktionen injektiv sind:\n",
    "'''\n",
    "\n",
    "def f(x):\n",
    "    return 2*x\n",
    "\n",
    "def g(x):\n",
    "    return x**2\n",
    "\n",
    "print(f(x)+g(x)) \n",
    "print(f(x)*g(x)) #richtig!\n",
    "print(f(g(x))) \n",
    "print(g(f(x))) "
   ]
  },
  {
   "cell_type": "code",
   "execution_count": null,
   "metadata": {},
   "outputs": [],
   "source": [
    "'''\n",
    "??????\n",
    "Aufgabe 150\n",
    "Gegeben seien diese beiden Funktioonen:\n",
    "Kreuzen Sie an, welche der folgenden Funktionen injektiv sind:\n",
    "[x] g [x]f [x]fog [x]gof\n",
    "'''\n",
    "from sympy import *\n",
    "x = symbols(\"x\")\n",
    "\n",
    "def f(x):\n",
    "    return x\n",
    "\n",
    "def g(x):\n",
    "    return (x,x)\n",
    "\n",
    "print(f(x))\n",
    "print(g(x))\n",
    "print(f(g(x))) \n",
    "print(g(f(x))) "
   ]
  },
  {
   "cell_type": "code",
   "execution_count": null,
   "metadata": {},
   "outputs": [],
   "source": [
    "'''\n",
    "Aufgabe 151\n",
    "Gegeben seien diese beiden Funktionen:\n",
    "\n",
    "'''\n",
    "y= symbols(\"y\")\n",
    "def f(Matrix([x,y]):\n",
    "    return y+1\n",
    "\n",
    "def g(x):\n",
    "    return Matrix([x-1,x+1])\n",
    "\n",
    "print(f(x))\n",
    "print(g(x))\n",
    "print(f(g(x))) \n",
    "print(g(f(x))) "
   ]
  },
  {
   "cell_type": "code",
   "execution_count": null,
   "metadata": {},
   "outputs": [],
   "source": [
    "'''\n",
    "Aufgabe 152 & 153\n",
    "ATTENTICIONENEJSAKOJDLKSAJÄDw\n",
    "'''"
   ]
  },
  {
   "cell_type": "code",
   "execution_count": null,
   "metadata": {},
   "outputs": [],
   "source": [
    "'''\n",
    "HJASDJKSALJDLKJAS!???!\n",
    "Aufgabe 154\n",
    "Gegeben seien diese beiden Funktionen\n",
    "injektiv?\n",
    "\n",
    "'''\n",
    "from sympy import * \n",
    "x= symbols(\"x\")\n",
    "def f(x):\n",
    "    return x**2\n",
    "\n",
    "def g(x):\n",
    "    return x**3\n",
    "\n",
    "print(\"juu\",f(x)*g(x))\n",
    "print(\"juu\",f(f(x)))\n",
    "print(\"juu\",f(g(x))) \n",
    "print(\"juu\",g(g(x))) "
   ]
  },
  {
   "cell_type": "code",
   "execution_count": null,
   "metadata": {},
   "outputs": [],
   "source": [
    "'''\n",
    "Aufgabe 157\n",
    "Geben Sie die dreißigste Nachkommastelle von sqrt(5)\n",
    "'''\n",
    "from sympy import *\n",
    "sqrt(5).evalf(32) #Lösung:1 -> zwei mehr ausgeben lassen wegen Rundung und weil Vorkommastelle wohl auch dazu zählt (bei größeren Vorkammestellen also evtl. noch mehr?)\n",
    "#Alternativ: N(sqrt(5), 32)"
   ]
  },
  {
   "cell_type": "code",
   "execution_count": null,
   "metadata": {},
   "outputs": [],
   "source": [
    "'''\n",
    "Aufgabe 158\n",
    "Geben sie die sechste Nachkommastelle von e**pi*sqrt(67)'''\n",
    "from sympy import *\n",
    "(E**(pi*sqrt(67))).evalf(50)\n",
    "#8?"
   ]
  },
  {
   "cell_type": "code",
   "execution_count": null,
   "metadata": {},
   "outputs": [],
   "source": [
    "'''\n",
    "Aufgabe 159\n",
    "Geben Sie die sechste Nachkommastelle von e**pi*sqrt(163) an\n",
    "'''\n",
    "\n",
    "(E**(pi*sqrt(163))).evalf(40)\n",
    "#9?"
   ]
  },
  {
   "cell_type": "code",
   "execution_count": null,
   "metadata": {},
   "outputs": [],
   "source": [
    "'''\n",
    "Aufgabe 160\n",
    "Geben Sie die dritte Nachkommastelle von (10**100)/7 an\n",
    "'''\n",
    "\n",
    "(Rational(10**100, 7)).evalf(111) #Rational() sind Brüche in sympy\n",
    "#1"
   ]
  },
  {
   "cell_type": "code",
   "execution_count": null,
   "metadata": {},
   "outputs": [],
   "source": [
    "'''\n",
    "Aufgabe 161\n",
    "Geben sie die dritte Nachkommastelle von 10**1000000 / 7 an\n",
    "'''\n",
    "(Rational(10**1000000, 7)).evalf(1111111)\n",
    "#mit Strg+f nach punkt suchen\n",
    "#1"
   ]
  },
  {
   "cell_type": "code",
   "execution_count": null,
   "metadata": {},
   "outputs": [],
   "source": [
    "'''\n",
    "!!!!!!!!!!!!ATTENCIÒNE!!!!!!!!!!!!!!\n",
    "Aufgabe 162\n",
    "Kreuzen Sie die kleinste der folgenden vier Zahlen an.\n",
    "[x]-1+10**-18 []-1+10**-17\n",
    "[]cos(pi* cos(ln(pi + 20))) [] cos(ln(pi + 20))\n",
    "'''\n",
    "from sympy import cos, log, evalf\n",
    "from math import pi\n",
    "\n",
    "from sympy import *\n",
    "a = N(-1+10**-18,20)\n",
    "b = N(-1+10**-17,20)\n",
    "c = cos(pi*cos(ln(pi+20))).evalf(20)\n",
    "d = cos(ln(pi+20)).evalf(20)\n",
    "print(a, b, c, d)\n",
    "#a und b werden von Python gerundet :/\n",
    "#c > d, weil c 17 9en nach dem Komma hat und d nur 9 9en\n",
    "\n",
    "print(-1 + 10**-2) #das sind 2 9en nach dem Komma\n",
    "#dementsprechend haben a und b 18 bzw. 17 9en nach dem Komma, a ist also die kleinste Zahl\n",
    "#Lösung: a"
   ]
  },
  {
   "cell_type": "code",
   "execution_count": null,
   "metadata": {},
   "outputs": [],
   "source": [
    "'''\n",
    "!!!!!!!!!!ATTENCIÒNE!!!!!!!!!!\n",
    "Aufgabe 163\n",
    "Kreuzen Sie die kleinste der folgenden vier Zahlen an\n",
    "'''\n",
    "from sympy import sin\n",
    "from math import log, pi\n",
    "print(\"1 \", cos(log(pi+20)))\n",
    "print(\"2 \", cos(pi*cos(log(pi+20))))\n",
    "print(\"3 \", sin(2017*(5*sqrt(2))))\n",
    "print(\"4 \", -9*2071723*5363222357*(10**-17))\n",
    "\n",
    "#2 oder 4?"
   ]
  },
  {
   "cell_type": "code",
   "execution_count": null,
   "metadata": {},
   "outputs": [],
   "source": [
    "'''\n",
    "Aufgabe 164\n",
    "Der Punkt P hat die Koordinaten (12; 0). Der Abstand vom Ursprung zum Punkt Q ist 13. Geben\n",
    "Sie die Koordinaten von Q an.\n",
    "'''\n",
    "#pythagoras -> 5\n",
    "\n",
    "#satz des pythagoras und bam.\n",
    "print(sqrt(13**2-12**2))"
   ]
  },
  {
   "cell_type": "code",
   "execution_count": null,
   "metadata": {},
   "outputs": [],
   "source": [
    "'''\n",
    "Aufgabe 165\n",
    "Von dem rechtwinkligen Dreieck unten kennen Sie die Länge der Hypotenuse und den Winkel oben\n",
    "rechts. Wie berechnet man die Länge der Kathete a?\n",
    "'''\n",
    "from math import sin, cos\n",
    "a=cos(20*degToRad)*5\n",
    "a\n",
    "print(\"a=5*cos20°\")"
   ]
  },
  {
   "cell_type": "code",
   "execution_count": null,
   "metadata": {},
   "outputs": [],
   "source": [
    "'''\n",
    "Aufgabe 166\n",
    "Die Länge der Diagonale in dem Quadrat unten ist 35. Geben Sie die Lange der fett eingezeichneten\n",
    "Strecke auf zwei Stellen nach dem Komma genau an.\n",
    "'''\n",
    "\n",
    "#wenn \"zwei stellen nach dem Komma\"-> NICHT SYMPY ->\n",
    "#mit Math rechnen weil näherungsweise (ggf. nochmal importieren)\n",
    "#Bogenmaß beachten!\n",
    "\n",
    "from math import sin, cos, tan, pi\n",
    "\n",
    "degToRad=(pi/180)\n",
    "radtoDeg= (180/pi)\n",
    "\n",
    "#zunächst Kante des Quadrats berechnen\n",
    "#alpha = 15° hypo=35\n",
    "\n",
    "KaQua=cos(45*degToRad)*35\n",
    "AB=KaQua/cos(30*degToRad)\n",
    "KuSeite= tan(15*degToRad)*AB\n",
    "print(\"Ergebnis ist \", KuSeite) \n",
    "#zwei Stellen 7,66\n"
   ]
  },
  {
   "cell_type": "code",
   "execution_count": null,
   "metadata": {},
   "outputs": [],
   "source": [
    "'''\n",
    "Aufgabe 167\n",
    "Die Länge der Diagonale in dem Quadrat unten ist 35. Geben Sie die Lange der fett eingezeichneten\n",
    "Strecke auf zwei Stellen nach dem Komma genau an.\n",
    "'''\n",
    "KaQua=cos(45*degToRad)*35\n",
    "AB=KaQua/cos(15*degToRad)\n",
    "KuSeite= tan(30*degToRad)*AB\n",
    "KuSeite\n",
    "#14.79"
   ]
  },
  {
   "cell_type": "code",
   "execution_count": 53,
   "metadata": {},
   "outputs": [
    {
     "name": "stdout",
     "output_type": "stream",
     "text": [
      "6.324555320336759\n",
      "2.9999999999999987  Das wäre dann... 3.00\n"
     ]
    }
   ],
   "source": [
    "'''\n",
    "Aufgabe 168\n",
    "In der folgenden Skizze haben a, b und d die Längen 6, 2 und 7. Die rechten Winkel sind markiert.\n",
    "Geben Sie die Länge der fett eingezeichneten Strecke auf zwei Stellen nach dem Komma an.\n",
    "'''\n",
    "#pythagoras ist unser Freund\n",
    "a,b,d = 6,2,7\n",
    "from math import sqrt, cos, sin, tan\n",
    "c=sqrt((a**2)+(b**2))\n",
    "print(c)\n",
    "#x**2 = d**2-c**2\n",
    "x=sqrt(d**2-c**2)\n",
    "print(x, \" Das wäre dann... 3.00\")\n"
   ]
  },
  {
   "cell_type": "code",
   "execution_count": null,
   "metadata": {},
   "outputs": [],
   "source": [
    "'''\n",
    "Aufgabe 169\n",
    "Der Radius des Kreises ist 50. Die Strecke von A nach B geht durch den Mittelpunkt. Geben Sie\n",
    "die Länge der Strecke von B nach C auf zwei Stellen nach dem Komma genau an.\n",
    "'''\n",
    "#rechterwinkel wenn man n kreis drumzieht und alle Punkte auf der Linie stehen \n",
    "#ist ein rechter Winkel dabei\n",
    "#alpha = 180-90 = 90/5\n",
    "alpha=(90/5)*degToRad\n",
    "beta=(alpha*3)\n",
    "AB=100 #da radius *2\n",
    "BC=sin(2*alpha)*AB\n",
    "BC\n",
    "\n",
    "#ergebnis 58,78"
   ]
  },
  {
   "cell_type": "code",
   "execution_count": null,
   "metadata": {},
   "outputs": [],
   "source": [
    "'''\n",
    "!!!!!!!!!ATTENCIÒNE!!!!!!!!!\n",
    "Aufgabe 170\n",
    "M ist der Mittelpunkt des Kreises. Die Strecken AM und AB sind gleich lang. Geben Sie den durch\n",
    "ein Fragezeichen markierten Winkel in Abhängigkeit von alpha an.\n",
    "'''\n",
    "from sympy import *\n",
    "#Rechtes Dreieck\n",
    "    #linker Winkel ist auch Alpha, weil es ein gleichseitiges Dreieck ist\n",
    "    #obiger Winkel somit: Gamma = 180-2*Alpha\n",
    "#linkes Dreieck\n",
    "    #rechter Winkel Delta muss zsm mit Gamma 180° ergeben -> Delta = 180 - Gamma\n",
    "    #Strecke AM ist genauso lang wie Strecke von M zum obigen Punkt C (CM), sind beide der Radius des Kreises\n",
    "    #obiger Winkel somit auch Delta\n",
    "    #unterer Winkel: Epsilon = 180 - 2*Delta\n",
    "#gesuchter Winkel\n",
    "    #180 - Epsilon - Alpha\n",
    "    #180 - (180 - 2 * Delta) - Alpha\n",
    "    #180 - (180 - 2 * (180 - Gamma)) - Alpha\n",
    "    #180 - (180 - 2 * (180 - (180 - 2 * Alpha))) - Alpha\n",
    "    \n",
    "a = symbols(\"a\")\n",
    "180 - (180 - 2 * (180 - (180 - 2 * a))) - a\n",
    "#Lösung: 3 * Alpha"
   ]
  },
  {
   "cell_type": "code",
   "execution_count": null,
   "metadata": {},
   "outputs": [],
   "source": [
    "'''\n",
    "Aufgabe 171\n",
    "Ein gleichschenkliges Dreieck hat die Seitenlängen 10, 13 und 13. Geben Sie seine Fläche an.\n",
    "'''\n",
    "#formel für Fläche: A = 0,5 · c · h\n",
    "a,c = 13, 10\n",
    "\n",
    "#zunächst die Höhe ausrechnen mit Pythagoras\n",
    "h=sqrt(a**2-5**2)\n",
    "\n",
    "fl = (c*h)/2\n",
    "print(\"Ergebnis: \", fl)"
   ]
  },
  {
   "cell_type": "code",
   "execution_count": null,
   "metadata": {},
   "outputs": [],
   "source": [
    "'''\n",
    "Aufgabe 172\n",
    "In der folgenden Skizze sind drei Quadrate und zwei Kreise dargestellt. Figuren, die sich berühren,\n",
    "berühren sich immer in exakt vier Punkten. Das kleinste Quadrat hat die Seitenlänge 2. Geben Sie\n",
    "die Fläche des größten Quadrates an.\n",
    "'''\n",
    "\n",
    "#die Dreiecke vom 2. Quadrat sind rechwinklig.  \n",
    "#zunächst diagonale des Quadrats berechnen, der gleichzeitig, der durchmesser des kleinsten Kreises ist\n",
    "from math import sqrt\n",
    "d=sqrt(2**2+2**2)\n",
    "print(d)\n",
    "#der durchmesser ist gleichzeitig auch die Kantenlänge des größeren Quadrats\n",
    "d2=sqrt(d**2+d**2)\n",
    "print(d2)\n",
    "#somit ist d2 wieder der Durchmesser vom größten Kreis und wiederum die Kantenlänge des größten Quadrats\n",
    "flaeche=d2*d2\n",
    "print(\"Ergebnis :\", flaeche)\n",
    "\n"
   ]
  },
  {
   "cell_type": "code",
   "execution_count": null,
   "metadata": {},
   "outputs": [],
   "source": [
    "'''\n",
    "Aufgabe 173\n",
    "Geben Sie die Polarkoordinaten von (-1,-sqrt(3)) an. Winkel phi in Bogenmaß und |phi| <= pi\n",
    "'''\n",
    "#Funktion von Seite 276 klauen\n",
    "from math import sqrt, atan2\n",
    "\n",
    "def polar(x,y):\n",
    "    return sqrt(x*x+y*y), atan2(y,x)\n",
    "\n",
    "polar(-1,-sqrt(3))\n",
    "\n",
    "print(\"Ergebnis: (2,-2) -> Da Bogenmaß bleibt die hintere Zahl so wie sie ist\")"
   ]
  },
  {
   "cell_type": "code",
   "execution_count": null,
   "metadata": {},
   "outputs": [],
   "source": [
    "'''\n",
    "Aufgabe 174\n",
    "Geben Sie die Polarkoordinaten von (-sqrt(3),1) an.\n",
    "Winkel phi in Grad und |phi| <= 180°.)\n",
    "'''\n",
    "#wieder fkt von oben\n",
    "from math import sqrt, atan2, pi\n",
    "degToRad=(pi/180) #ins Bogenmaß\n",
    "radToDeg= (180/pi) #nachGrad\n",
    "\n",
    "def polar(x,y):\n",
    "    return sqrt(x*x+y*y), atan2(y,x)\n",
    "\n",
    "print(polar(-sqrt(3),1))\n",
    "#da diesmal Grad gefordert ist, muss man die zweite Zahl umrechnen\n",
    "print(2.6179938779914944*radToDeg)\n",
    "print(\"Lösung: (2,150°)\")"
   ]
  },
  {
   "cell_type": "code",
   "execution_count": null,
   "metadata": {},
   "outputs": [],
   "source": [
    "'''\n",
    "!!!!!!!!!!ATTENCIONE!!!!\n",
    "Aufgabe 175\n",
    "Der Punkt P hat den Abstand 10 vom Nullpunkt und liegt auf der Geraden y = -4x auf der rechten\n",
    "Seite der y-Achse. Geben Sie die kartesischen Koordinaten von P auf zwei Stellen nach dem Komma\n",
    "genau an.\n",
    "'''\n",
    "\n",
    "#Mona\n",
    "i=0\n",
    "x=2.4253562503\n",
    "for i in range(0,100):\n",
    "    if ((-4*x)**2)+x**2>100:\n",
    "        print(x,-4*x)\n",
    "    x+=0.000000000001\n",
    "print(\"stop\")\n",
    "\n",
    "#2,42, -9,7"
   ]
  },
  {
   "cell_type": "code",
   "execution_count": null,
   "metadata": {},
   "outputs": [],
   "source": [
    "'''\n",
    "!!!!!!!!!DARK MAGIC ALERT!!!!!!!!!!!\n",
    "Aufgabe 176\n",
    "Seien a und b zwei verschiedene Punkte in der Ebene, die beide nicht der Nullpunkt sind. Welche\n",
    "der folgenden Punkte liegen auf der Verbindungsgeraden von a und b? (Wie üblich werden hier\n",
    "Punkte mit ihren Ortsvektoren identifiziert.)\n",
    "[] a+b  []a-b  [x] 1/3*(2a+b)  [x]1/3*(a+2b) [x]1/3*(4a-b)\n",
    "\n",
    "#wenn das was multipliziert wird 1 ergibt\n",
    "#muss immer eins sein um auf der Linie zu liegen\n",
    "#zb x*(a*v1+b*v2) > (a+b)*x=1 -> liegt auf der geraden\n",
    "#(|a|+|b|) *x= 1 > Strecke\n",
    "\n",
    "Aufgabe 177\n",
    "Seien a und b zwei verschiedene Punkte in der Ebene, die beide nicht der Nullpunkt sind. Welche\n",
    "der folgenden Punkte liegen auf der Verbindungsstrecke zwischen a und b? (Wie üblich werden hier\n",
    "Punkte mit ihren Ortsvektoren identifiziert.)\n",
    "[]a+b []a-b [x] 1/3*(2a+b)  [x]1/3*(a+2b) []1/3*(4a-b)\n",
    "\n",
    "'''"
   ]
  },
  {
   "cell_type": "code",
   "execution_count": null,
   "metadata": {},
   "outputs": [],
   "source": [
    "'''\n",
    "Aufgabe 178\n",
    "Seien p und v die Vektoren (4,5,6)T und (1,-2,3)T und g die Gerade p+Rv. Welchen Wert muss\n",
    "a haben, damit der Punkt (1, a,-3) auf g liegt?\n",
    "'''\n",
    "#zunächst gleichung aufstellen -> g=p+x*v\n",
    "\n",
    "#1. 4+x*1=1\n",
    "#2. 5+x*(-2)=a\n",
    "#3. 6+x*3=-3\n",
    "#jeweils nach x auflösen -> -3\n",
    "#dann die -3 in die zweite Gleichung einsetzen \n",
    "\n",
    "a=5+(-3*(-2))\n",
    "print(\"a =\",a)"
   ]
  },
  {
   "cell_type": "code",
   "execution_count": null,
   "metadata": {},
   "outputs": [],
   "source": [
    "'''\n",
    "Aufgabe 179\n",
    "Ergänzen Sie die folgende Matrix A so, dass A.T = A gilt\n",
    "'''\n",
    "from sympy import *\n",
    "from math import pi, sqrt\n",
    "init_printing()\n",
    "x= symbols(\"x\")\n",
    "A=Matrix([[1/2,-3,x,-3], [-3,42,-3,7],[1, -3,2*pi,x],[-3,x,2,-sqrt(8)]])\n",
    "B=Matrix([[1/2,-3,1,-3], [-3,42,-3,7],[1, -3,2*pi,2],[-3,7,2,-sqrt(8)]])\n",
    "\n",
    "#zunächst A.T gebildet, dann die fehlenden Werte abgelesen und in B eingesetzt.\n",
    "#1,2,7\n",
    "B"
   ]
  },
  {
   "cell_type": "code",
   "execution_count": null,
   "metadata": {},
   "outputs": [],
   "source": [
    "'''\n",
    "Aufgabe 180\n",
    "Geben Sie eine 2x2-Matrix A an, für die A*A=A gilt. Die Nullmatrix \n",
    "und die Einheitsmatrix zählen nicht als Lösungen\n",
    "'''\n",
    "from sympy import *\n",
    "K=Matrix([[0.5,0.5],[0.5,0.5]])\n",
    "K*K, K\n",
    "\n",
    "#generator programmieren KIWAN\n",
    "\n",
    "from sympy import *\n",
    "init_printing(pretty_print=True)\n",
    "#Generator für 2x2 Matrizen\n",
    "def nr180():\n",
    "    M = []\n",
    "    for a in range(10):\n",
    "        for b in range(10):\n",
    "            for c in range(10):\n",
    "                for d in range(10):\n",
    "                    M.append(Matrix([[a,b], [c,d]]))\n",
    "    for i in M:\n",
    "        if i*i == i:\n",
    "            print(i)\n",
    "nr180() #eine davon aussuchen (außer Null- und Einheitsmatrix)\n",
    "#mögliche Lösung: Matrix([[0,0], [0,1]])\n",
    "A = Matrix([[0,0], [0,1]])\n",
    "A, A*A"
   ]
  },
  {
   "cell_type": "code",
   "execution_count": null,
   "metadata": {},
   "outputs": [],
   "source": [
    "'''\n",
    "Aufgabe 181\n",
    "ATTENTCIONE DASSELBE WIE OBEN AHH!\n",
    "\n",
    "Geben Sie eine 2x2-Matrix A an, für die AxA = A.T gilt. Die Nullmatrix und die Einheitsmatrix\n",
    "zählen nicht als Lösungen.\n",
    "'''\n",
    "#siehe oben _> Mona\n",
    "\n",
    "#kiwan\n",
    "from sympy import *\n",
    "init_printing(pretty_print=True)\n",
    "#Generator für 2x2 Matrizen\n",
    "def nr181():\n",
    "    M = []\n",
    "    for a in range(10):\n",
    "        for b in range(10):\n",
    "            for c in range(10):\n",
    "                for d in range(10):\n",
    "                    M.append(Matrix([[a,b], [c,d]]))\n",
    "    for i in M:\n",
    "        if i*i == i.T:\n",
    "            print(i)\n",
    "nr181() #eine davon aussuchen (außer Null- und Einheitsmatrix)\n",
    "#mögliche Lösung: Matrix([[0,0], [0,1]])\n",
    "A = Matrix([[0,0], [0,1]])\n",
    "A, A*A, A.T"
   ]
  },
  {
   "cell_type": "code",
   "execution_count": null,
   "metadata": {},
   "outputs": [],
   "source": [
    "'''\n",
    "!!!!!!!!!!!!ATTENCIONE!!!!!!!!!!!\n",
    "\n",
    "Aufgabe 182\n",
    "Geben Sie eine 2x2-Matrix an, für die A*A=2A gilt. Die Nullmatrix \n",
    "zählt nicht als  Lösung. Aber dafuq. 2*A ist doch alles A*A..\n",
    "'''\n",
    "J = Matrix([[1,1],[1,1]])\n",
    "J*J\n",
    "2*J #mona is smart\n",
    "\n",
    "from sympy import *\n",
    "init_printing(pretty_print=True)\n",
    "#Generator für 2x2 Matrizen\n",
    "def nr182():\n",
    "    M = []\n",
    "    for a in range(10):\n",
    "        for b in range(10):\n",
    "            for c in range(10):\n",
    "                for d in range(10):\n",
    "                    M.append(Matrix([[a,b], [c,d]]))\n",
    "    for i in M:\n",
    "        if i*i == 2*i:\n",
    "            print(i)\n",
    "nr182() #eine davon aussuchen (außer Null- und Einheitsmatrix)\n",
    "#mögliche Lösung: Matrix([[0,0], [0,1]])\n",
    "A = Matrix([[0,0], [0,2]])\n",
    "A, A*A, 2*A"
   ]
  },
  {
   "cell_type": "code",
   "execution_count": null,
   "metadata": {},
   "outputs": [],
   "source": [
    "'''\n",
    "Aufgabe 183\n",
    "Ermitteln Sie die eindeutige Lösung des folgenden Gleichungssymstems:\n",
    "'''\n",
    "#am besten klatscht man das in eine Matrix.\n",
    "#zunächst sortiert man die komponenten >x,y,z\n",
    "from sympy import *\n",
    "\n",
    "M=Matrix([[3,2,1,8], [1,4,5,0],[2,1,1,32]])\n",
    "#und dann schummelt man mit rref()\n",
    "print(M.rref())\n",
    "\n",
    "print(\"Lösung ist ein 3er Tupel mit: (23,-47,33)\")"
   ]
  },
  {
   "cell_type": "code",
   "execution_count": null,
   "metadata": {},
   "outputs": [],
   "source": [
    "'''\n",
    "Aufgabe 184\n",
    "Genau eines der folgenden drei linearen Gleichungssysteme hat keine Lösung.\n",
    "Welches?\n",
    "'''\n",
    "#3 matrizen\n",
    "\n",
    "A=Matrix([[1,2,3,-1],[7,-7,2,2],[1,2,3,1]])\n",
    "B=Matrix([[1,2,3,1],[7,-7,2,2],[1,2,4,1]])\n",
    "C=Matrix([[1,2,3,-1],[7,-7,2,2],[1,2,3,-1]])\n",
    "print(A.rref())\n",
    "#A\n",
    "\n",
    "#>Kiwan spicken Linsolve\n",
    "\n",
    "#Nr.184\n",
    "from sympy import *\n",
    "init_printing()\n",
    "x,y,z = symbols(\"x y z\")\n",
    "a = linsolve([  x + 2*y + 3*z + 1,\n",
    "              7*x - 7*y + 2*z - 2,\n",
    "              1*x + 2*y + 3*z - 1], [x,y,z])\n",
    "b = linsolve([  x + 2*y + 3*z + 1,\n",
    "              7*x - 7*y + 2*z - 2,\n",
    "              1*x + 2*y + 4*z - 1], [x,y,z])\n",
    "c = linsolve([  x + 2*y + 3*z + 1,\n",
    "              7*x - 7*y + 2*z - 2,\n",
    "              1*x + 2*y + 3*z + 1], [x,y,z])\n",
    "a,b,c"
   ]
  },
  {
   "cell_type": "code",
   "execution_count": null,
   "metadata": {},
   "outputs": [],
   "source": [
    "'''\n",
    "Aufgabe 185\n",
    "Die Funktionf(v)= A*v R3->R2 \n",
    "(x,y,z) (5x-2y, 4x-z)\n",
    "soll durch eine Matrix als f(v)=A*v dargestellt werden. Geben Sie die Matrix A an.\n",
    "\n",
    "'''\n",
    "#lösung \n",
    "M=Matrix([[5,-2,0],[4,0,-1]])\n",
    "\n",
    "#weil heftige ausrechnung und so.\n",
    "#man stellt n Gleichungssystem auf und löst das \n",
    "# abc=5x-2y\n",
    "#def=4x-z \n"
   ]
  },
  {
   "cell_type": "code",
   "execution_count": null,
   "metadata": {},
   "outputs": [],
   "source": [
    "'''\n",
    "Aufgabe 186\n",
    "Die lineare Abbildung f von R2 nach R2 bildet (1,0)T auf (2,1)T und (0,1)T auf (2,-4)T ab. Geben Sie die den Vektor f((3,2)T) an.\n",
    "'''\n",
    "\n",
    "from sympy import *\n",
    "A= Matrix([1,0])\n",
    "B=Matrix([2,1])\n",
    "C=Matrix([0,1])\n",
    "D=Matrix([2,-4])\n",
    "\n",
    "for a in range (-10,11): #brute force Test\n",
    "    for b in range(-10,10):\n",
    "        for c in range(-10,10):\n",
    "            for d in range(-10,10):\n",
    "                M = Matrix([[a,b],[c,d]])\n",
    "                if M*A==B and M*C==D:\n",
    "                    print(M)\n",
    "                    E = M #um die richtige Matrix abzuspeichern\n",
    "                    \n",
    "E*Matrix([3,2])\n",
    "#Lösung (10,-5)"
   ]
  },
  {
   "cell_type": "code",
   "execution_count": null,
   "metadata": {},
   "outputs": [],
   "source": [
    "'''\n",
    "Aufgabe 187\n",
    "Die lineare Abbildung f von R2 nach R2 bildet (1,0)T auf (2,1)T und (0,2)T auf (2,-4)T ab. Geben Sie die den Vektor f((3,2)T ) an.\n",
    "'''\n",
    "\n",
    "from sympy import *\n",
    "A= Matrix([1,0])\n",
    "B=Matrix([2,1])\n",
    "C=Matrix([0,2])\n",
    "D=Matrix([2,-4])\n",
    "\n",
    "for a in range (-10,11): #brute force Test\n",
    "    for b in range(-10,10):\n",
    "        for c in range(-10,10):\n",
    "            for d in range(-10,10):\n",
    "                M = Matrix([[a,b],[c,d]])\n",
    "                if M*A==B and M*C==D:\n",
    "                    print(M)\n",
    "                    E = M #um die richtige Matrix abzuspeichern\n",
    "\n",
    "E*Matrix([3,2])\n",
    "#Lösung (8,-1)"
   ]
  },
  {
   "cell_type": "code",
   "execution_count": null,
   "metadata": {},
   "outputs": [],
   "source": [
    "'''\n",
    "Aufgabe 188\n",
    "Die lineare Abbildung f von R2 nach R2 bildet (1,0)T auf (2,1)T und (0,2)T auf (2,-4)T ab. f soll durch eine Matrix als f(v) = A * v dargestellt werden. Geben Sie die Matrix A an.\n",
    "'''\n",
    "\n",
    "from sympy import *\n",
    "A= Matrix([1,0])\n",
    "B=Matrix([2,1])\n",
    "C=Matrix([0,2])\n",
    "D=Matrix([2,-4])\n",
    "\n",
    "for a in range (-10,11): #brute force Test\n",
    "    for b in range(-10,10):\n",
    "        for c in range(-10,10):\n",
    "            for d in range(-10,10):\n",
    "                M = Matrix([[a,b],[c,d]])\n",
    "                if M*A==B and M*C==D:\n",
    "                    print(M)\n",
    "                    E = M #um die richtige Matrix abzuspeichern\n",
    "\n",
    "            # Matrix ([2,1],[1,-2])"
   ]
  },
  {
   "cell_type": "code",
   "execution_count": null,
   "metadata": {},
   "outputs": [],
   "source": [
    "'''\n",
    "Aufgabe 189\n",
    "Die lineare Abbildung f von R2 nach R2 bildet (1,0)T auf (2,1)T und (-1,1)T auf (2,-4)T ab. f soll durch eine Matrix als f(v) = A * v dargestellt werden. Geben Sie die Matrix A an.\n",
    "'''\n",
    "\n",
    "from sympy import *\n",
    "A= Matrix([1,0])\n",
    "B=Matrix([2,1])\n",
    "C=Matrix([-1,1])\n",
    "D=Matrix([2,-4])\n",
    "\n",
    "for a in range (-10,10):\n",
    "    for b in range (-10,10):\n",
    "        for c in range(-10,10):\n",
    "            for d in range (-10,10):\n",
    "                M = Matrix([[a,b],[c,d]])\n",
    "                if M*A==B and M*C==D:\n",
    "                    print(M)\n",
    "                    E=M\n",
    "    #lösung: Matrix([2,4],[1,-3])"
   ]
  },
  {
   "cell_type": "code",
   "execution_count": null,
   "metadata": {},
   "outputs": [],
   "source": [
    "'''\n",
    "ATTENTIOE!!!!!!!!!!!!!!!!!\n",
    "Aufgabe 190\n",
    "f : R2 > R2 sei eine Drehung um den Nullpunkt, die (2,0)T auf (1,sqrt(3)T abbildet. f soll durch eine Matrix als f(v) = A * v dargestellt werden. Geben Sie die Matrix A an.\n",
    "'''\n",
    "\n",
    "#Drehung um den Nullpunkt erhält man per \n",
    "#cos α −sin α\n",
    "#sin α cos α\n",
    "\n",
    "#HOALYFUCK"
   ]
  },
  {
   "cell_type": "code",
   "execution_count": null,
   "metadata": {},
   "outputs": [],
   "source": [
    "'''\n",
    "ATTENCIONE!\n",
    "Aufgabe 191\n",
    "Welche der folgenden Matrizen bewirken in der Ebene R2 eine Drehung um 30\u000e im mathematisch\n",
    "positiven Sinn?\n",
    "'''\n",
    "\n",
    "#mathematisch positiver Sinn - gegen den Uhrzeigersinn\n",
    "\n",
    "#würde behaupten \n",
    "'''\n",
    "-cos30° sin 30°\n",
    "sin30° cos30°\n",
    "'''"
   ]
  },
  {
   "cell_type": "code",
   "execution_count": null,
   "metadata": {},
   "outputs": [],
   "source": [
    "'''\n",
    "Aufgabe 192\n",
    "Sei b der Vektor (3,1)T . Geben Sie einen zur x-Achse parallelen Vektor a an, für den das von a und b aufgespannte Parallelogramm die Fläche 5 hat.\n",
    "'''\n",
    "\n",
    "from sympy import *\n",
    "a= symbols(\"a\")\n",
    "B= Matrix([3,1])\n",
    "#(5,0)\n",
    "Fl= 5\n"
   ]
  },
  {
   "cell_type": "code",
   "execution_count": 54,
   "metadata": {},
   "outputs": [
    {
     "name": "stdout",
     "output_type": "stream",
     "text": [
      "Die Determinante von 5**A ist -243\n"
     ]
    }
   ],
   "source": [
    "'''\n",
    "Aufgabe 193\n",
    "Gegeben sei die folgende Matrix A. Berechnen Sie die Determinante von A * A*A*A*A\n",
    "'''\n",
    "A = Matrix([[1,2,3],[4,5,-6],[2,3,1]])\n",
    "K= (A**5).det()\n",
    "print(\"Die Determinante von 5**A ist\", K)"
   ]
  },
  {
   "cell_type": "code",
   "execution_count": 55,
   "metadata": {},
   "outputs": [
    {
     "name": "stdout",
     "output_type": "stream",
     "text": [
      "1 -1 1 1\n"
     ]
    }
   ],
   "source": [
    "'''\n",
    "Aufgabe 194\n",
    "Sei E21 die 21x21-Einheitsmatrix. Geben Sie die Determinante von -E21 an.\n",
    "'''\n",
    "\n",
    "##Die Determinante einer Einheitsmatrix ist immer 1, die Determinante von -Em ist -1 bei ungeraden und 1 bei geraden Dimensionen\n",
    "#Eine Primmzahl ist immer ungerade, somit muss m=n+1 zwingend gerade sein, und die Lösung ist 1\n",
    "\n",
    "E= Matrix([[1,0,0],[0,1,0],[0,0,1]])\n",
    "\n",
    "\n",
    "#Test mit gerader Dimension\n",
    "M2=Matrix([[1,0,0,0],[0,1,0,0],[0,0,1,0],[0,0,0,1]]) #Test mit 4x4 Matrix\n",
    "print(E.det(), (-E).det(), M2.det(), (-M2).det()) #Klammer ist wichtig\n",
    "#Lösung für -E(21): -1"
   ]
  },
  {
   "cell_type": "code",
   "execution_count": 56,
   "metadata": {},
   "outputs": [
    {
     "name": "stdout",
     "output_type": "stream",
     "text": [
      "Die Determinante ist: 59049\n"
     ]
    }
   ],
   "source": [
    "'''\n",
    "ATTTENTIONE!!!\n",
    "Aufgabe 195\n",
    "Sei E10 die 10x10 Einheitsmatrix. Geben sie die Dterminante von 3*E10 an\n",
    "'''\n",
    "\n",
    "E2=Matrix([[1,0],[0,1]])\n",
    "E3=3*E2\n",
    "#determinante einer jeden Einheitsmatrix 1. Mal 3 ersetzt die 1 durch eine 3.\n",
    "\n",
    "print(\"Die Determinante ist:\",3**10)"
   ]
  },
  {
   "cell_type": "code",
   "execution_count": 57,
   "metadata": {},
   "outputs": [
    {
     "name": "stdout",
     "output_type": "stream",
     "text": [
      "Die Determinante ist: 1024\n"
     ]
    }
   ],
   "source": [
    "'''\n",
    "Aufgabe 196\n",
    "Sei E10 die 10x10 Einheitsmatrix. Geben sie die Determinante von (E10 +E10) an\n",
    "'''\n",
    "\n",
    "E2=Matrix([[1,0],[0,1]])\n",
    "K2=E2+E2\n",
    "K2\n",
    "#Determinante einer jeden Einheitsmatrix ist 1. E10+E10 ersetzt alle durch eine 2\n",
    "print(\"Die Determinante ist:\", 2**10)"
   ]
  },
  {
   "cell_type": "code",
   "execution_count": 58,
   "metadata": {},
   "outputs": [
    {
     "name": "stdout",
     "output_type": "stream",
     "text": [
      "Die Determinante ist: 1/1024\n"
     ]
    }
   ],
   "source": [
    "'''\n",
    "Aufgabe 197\n",
    "Sei E10 die 10x10 Einheitsmatrix. Geben sie die Determinante von (E10 +E10)**-1 an\n",
    "'''\n",
    "from fractions import Fraction\n",
    "E2=Matrix([[1,0],[0,1]])\n",
    "K2=E2+E2\n",
    "K2\n",
    "#Determinante einer jeden Einheitsmatrix ist 1. E10+E10 ersetzt alle durch eine 2\n",
    "print(\"Die Determinante ist:\", Fraction((2**10)**-1))"
   ]
  },
  {
   "cell_type": "code",
   "execution_count": null,
   "metadata": {},
   "outputs": [],
   "source": [
    "'''\n",
    "Aufgabe 198\n",
    "Sei E3 die 3x3 Einheitsmatrix. Welchen Wert muss a haben, damit det((aE3)**-1)=27 gilt?\n",
    "'''\n",
    "\n",
    "E3=Matrix([[1,0,0],[0,1,0],[0,0,1]])\n",
    "\n",
    "for a in range (-10,40):\n",
    "    M=(E3.inv()).det()\n",
    "    if a*M == 27:\n",
    "        print(a)\n",
    "        \n",
    "#Wenn die Einheitsmatrix mit a multipliziert wird, werden alle 1en durch a ersetzt\n",
    "#Die Inverse dieser neuen Matrix ersetzt a mit dem Kehrwert 1/a\n",
    "#Der Kehrwert der dritten Wurzel (ich glaub weils ne 3x3 Matrix ist) von 27 ist die Lösung\n",
    "print(cbrt(27)) #cbrt = cube root; dritte Wurzel von 27 #Alternative: 27**Fraction(1,3); lieber Fraction benutzen als 1/3\n",
    "(Fraction(1,3)*E3).inv().det()\n",
    "#Lösung: 1/3\n"
   ]
  },
  {
   "cell_type": "code",
   "execution_count": 59,
   "metadata": {},
   "outputs": [
    {
     "data": {
      "image/png": "[encoded data removed]",
      "text/latex": [
       "$$4.0$$"
      ],
      "text/plain": [
       "4.0"
      ]
     },
     "execution_count": 59,
     "metadata": {},
     "output_type": "execute_result"
    }
   ],
   "source": [
    "'''\n",
    "ATTENCTIONE!!!\n",
    "Aufgabe 199\n",
    "Sei En die nxnEinheitsmatrix. Welchen Wert muss a haben, damit det(aEn)=n gilt?\n",
    "'''\n",
    "#a=n?\n",
    "\n",
    "E4=Matrix([[1,0,0,0],[0,1,0,0],[0,0,1,0],[0,0,0,1]])\n",
    "\n",
    "sqrt(sqrt((4*E4).det()))\n",
    "\n",
    "#mh irgendwie zweimal wurzelziehen.. aber klappt das bei allen?\n",
    "#keine Ahnung.. \n"
   ]
  },
  {
   "cell_type": "code",
   "execution_count": 60,
   "metadata": {},
   "outputs": [
    {
     "name": "stdout",
     "output_type": "stream",
     "text": [
      "Die Lösung ist: 0\n"
     ]
    }
   ],
   "source": [
    "'''\n",
    "Aufgabe 200\n",
    "Welchen Wert muss a haben, damit die folgende Determinante den Wert 3 hat?\n",
    "'''\n",
    "\n",
    "for a in range(-10,30):\n",
    "    M=Matrix([[1,2,3,4],[4,-1,3,1],[2,a,2,1],[1,1,1,1]])\n",
    "    if M.det() == 3:\n",
    "        k=a\n",
    "        \n",
    "print(\"Die Lösung ist:\", k)"
   ]
  },
  {
   "cell_type": "code",
   "execution_count": 61,
   "metadata": {},
   "outputs": [
    {
     "name": "stdout",
     "output_type": "stream",
     "text": [
      "2\n",
      "4\n"
     ]
    }
   ],
   "source": [
    "'''\n",
    "Aufgabe 201\n",
    "Welche beiden Werte für a sorgen dafür, dass die Matrix A*A die Determinante 9 hat?\n",
    "'''\n",
    "\n",
    "for a in range(-10,10):\n",
    "    A=Matrix([[1,1,-1],[3,a,0],[1,1,2]])\n",
    "    K=A*A\n",
    "    if K.det()==9:\n",
    "        print (a)\n",
    "#lösung: 2 und 4"
   ]
  },
  {
   "cell_type": "code",
   "execution_count": 62,
   "metadata": {},
   "outputs": [
    {
     "name": "stdout",
     "output_type": "stream",
     "text": [
      "[-106]\n",
      "[-106, -87]\n",
      "[-106, -87, -70]\n",
      "[-106, -87, -70, -55]\n",
      "[-106, -87, -70, -55, -42]\n",
      "[-106, -87, -70, -55, -42, -31]\n",
      "[-106, -87, -70, -55, -42, -31, -22]\n",
      "[-106, -87, -70, -55, -42, -31, -22, -15]\n",
      "[-106, -87, -70, -55, -42, -31, -22, -15, -10]\n",
      "[-106, -87, -70, -55, -42, -31, -22, -15, -10, -7]\n",
      "[-106, -87, -70, -55, -42, -31, -22, -15, -10, -7, -6]\n",
      "[-106, -87, -70, -55, -42, -31, -22, -15, -10, -7, -6, -7]\n",
      "[-106, -87, -70, -55, -42, -31, -22, -15, -10, -7, -6, -7, -10]\n",
      "[-106, -87, -70, -55, -42, -31, -22, -15, -10, -7, -6, -7, -10, -15]\n",
      "[-106, -87, -70, -55, -42, -31, -22, -15, -10, -7, -6, -7, -10, -15, -22]\n",
      "[-106, -87, -70, -55, -42, -31, -22, -15, -10, -7, -6, -7, -10, -15, -22, -31]\n",
      "[-106, -87, -70, -55, -42, -31, -22, -15, -10, -7, -6, -7, -10, -15, -22, -31, -42]\n",
      "[-106, -87, -70, -55, -42, -31, -22, -15, -10, -7, -6, -7, -10, -15, -22, -31, -42, -55]\n",
      "[-106, -87, -70, -55, -42, -31, -22, -15, -10, -7, -6, -7, -10, -15, -22, -31, -42, -55, -70]\n",
      "[-106, -87, -70, -55, -42, -31, -22, -15, -10, -7, -6, -7, -10, -15, -22, -31, -42, -55, -70, -87]\n",
      "scheint: -6 zu sein\n"
     ]
    }
   ],
   "source": [
    "'''\n",
    "Aufgabe 202\n",
    "Was ist der größtmögliche Wert der folgenden Determinante, wenn für a beliebige reele Zahlen eingesetzt werden dürfen?\n",
    "'''\n",
    "from sympy import *\n",
    "from math import pi\n",
    "\n",
    "a= symbols(\"a\")\n",
    "K1=[]\n",
    "\n",
    "for a in range(-10,10):\n",
    "    L=Matrix([[a,2,0],[pi, 42,1],[-3,a,0]])\n",
    "    K1.append(L.det())\n",
    "    print(K1)\n",
    "print(\"scheint: -6 zu sein\")"
   ]
  },
  {
   "cell_type": "code",
   "execution_count": 63,
   "metadata": {},
   "outputs": [
    {
     "name": "stdout",
     "output_type": "stream",
     "text": [
      "Die Lösung ist: 1\n"
     ]
    }
   ],
   "source": [
    "'''\n",
    "Aufgabe 203\n",
    "Welchen Wert muss a haben, damit die folgende Matrix singulär ist?\n",
    "'''\n",
    "\n",
    "U=Matrix([[1,2,3,4],[4,-1,3,1],[3,a,2,1],[1,1,1,1]])\n",
    "#reguläre Matrix -> invertierbare Matrix (A**-1)\n",
    "#singuläre Matrix -> eine Matrix, die keine inverse hat\n",
    "\n",
    "#wenn es eine singuläre Matrix gibt, die keine inverse hat, ist die determinante der Matrix 0\n",
    "\n",
    "\n",
    "for a in range(-10,10):\n",
    "    U=Matrix([[1,2,3,4],[4,-1,3,1],[3,a,2,1],[1,1,1,1]])\n",
    "    if U.det() == 0:\n",
    "        print(\"Die Lösung ist:\", a)\n",
    "        "
   ]
  },
  {
   "cell_type": "code",
   "execution_count": 12,
   "metadata": {},
   "outputs": [
    {
     "name": "stdout",
     "output_type": "stream",
     "text": [
      "20000 20000 20000 20000\n"
     ]
    }
   ],
   "source": [
    "'''\n",
    "!!!ATTENCTION!!!!!\n",
    "\n",
    "Aufgabe 204\n",
    "Welche de folgenden Matrizen kann für keinen reellen Wert a singulär werden?\n",
    "'''\n",
    "from sympy import *\n",
    "c= 0\n",
    "c2=0\n",
    "c3=0\n",
    "c4=0\n",
    "for a in range(-10000,10000):\n",
    "    M1=Matrix([[a,2,0],[pi,42,1],[-3,a,0]])\n",
    "    M2=Matrix([[a,2,0],[pi,42,1],[3,a,0]])\n",
    "    M3=Matrix([[a,2,0],[pi,-42,1],[3,a,0]])\n",
    "    M4=Matrix([[-a,2,0],[pi,-42,1],[3,-a,0]])\n",
    "    if M1.det()!=1:\n",
    "        c+=1\n",
    "    if M2.det()!=1:\n",
    "        c2+=1\n",
    "    if M3.det()!=1:\n",
    "         c3+=1\n",
    "    if M4.det()!=1:\n",
    "         c4+=1\n",
    "print(c,c2,c3,c4)\n",
    "\n",
    "#brute force funkt nicht. Da nicht reelle Zahlen abgedeckt werden\n",
    "\n"
   ]
  },
  {
   "cell_type": "code",
   "execution_count": 20,
   "metadata": {},
   "outputs": [
    {
     "name": "stdout",
     "output_type": "stream",
     "text": [
      "-5 {(1/3, -1/9, -1/9)}\n",
      "-4 {(3/8, -1/8, -1/8)}\n",
      "-3 {(3/7, -1/7, -1/7)}\n",
      "-2 {(1/2, -1/6, -1/6)}\n",
      "-1 {(3/5, -1/5, -1/5)}\n",
      "0 {(3/4, -1/4, -1/4)}\n",
      "1 {(1, -1/3, -1/3)}\n",
      "2 {(3/2, -1/2, -1/2)}\n",
      "3 {(3, -1, -1)}\n",
      "4 EmptySet()\n",
      "5 {(-3, 1, 1)}\n"
     ]
    }
   ],
   "source": [
    "'''\n",
    "Aufgabe 205\n",
    "welchen Wert muss a haben, damit das folgende lineare Gleichungssystem keine Lösung hat?\n",
    "'''\n",
    "#am besten mit linsolve..\n",
    "init_printing()\n",
    "x,y,z = symbols(\"x y z\")\n",
    "for a in range(-5,6):\n",
    "    M=Matrix([[1,2,1,0],[1,1,2,0],[2,2,a,1]])\n",
    "    print(a, linsolve(M,[x,y,z]))\n",
    "    \n",
    "print(\"4 killt das LGS\")"
   ]
  },
  {
   "cell_type": "code",
   "execution_count": 64,
   "metadata": {},
   "outputs": [
    {
     "name": "stdout",
     "output_type": "stream",
     "text": [
      "Die Lösung ist Matrix([[-3/4, 1/4, 17/8], [-5/4, 3/4, 19/8], [1/4, 1/4, 1/8]])\n"
     ]
    }
   ],
   "source": [
    "'''\n",
    "Aufgabe 206\n",
    "Gegeben sei folgende Matrix:\n",
    "Geben Sie die Matrix B an, für die B**-1 = A gilt\n",
    "'''\n",
    "init_printing(pretty_print=True)\n",
    "from fractions import Fraction\n",
    "A=Matrix([[1,-1,2],[Fraction(-3,2),Fraction(5,4), Fraction(7,4)],[1,Fraction(-1,2), Fraction(1,2)]])\n",
    "B= A.inv()\n",
    "\n",
    "print(\"Die Lösung ist\", B)"
   ]
  },
  {
   "cell_type": "code",
   "execution_count": 40,
   "metadata": {},
   "outputs": [
    {
     "name": "stdout",
     "output_type": "stream",
     "text": [
      "Lösung ist -1/12\n"
     ]
    }
   ],
   "source": [
    "'''\n",
    "Aufgabe 207\n",
    "Gegeben sei die folgende Matrix:\n",
    "Geben sie die Determinante von A**-1 an\n",
    "'''\n",
    "\n",
    "Q=Matrix([[1,2,3],[4,6,5],[3,2,1]])\n",
    "Q1=Q.inv().det()\n",
    "Q2=Q.inv()\n",
    "print(\"Lösung ist\", Q1)"
   ]
  },
  {
   "cell_type": "code",
   "execution_count": 69,
   "metadata": {},
   "outputs": [
    {
     "name": "stdout",
     "output_type": "stream",
     "text": [
      "12.5663706143592 Ist die Lösung\n"
     ]
    }
   ],
   "source": [
    "'''\n",
    "!!!!!!!!ATTENCIONE!!!!!!\n",
    "Aufgabe 208\n",
    "Die durch (v1,v2) > (v1+7*v2,v1+3*v2) definierte lineare Abbildung bildet einen Einheitskreis auf eine Ellipse ab. Welche Fläche hat diese Ellipse?\n",
    "'''\n",
    "from math import pi\n",
    "#Fläche π·a·b\n",
    "v1 = symbols(\"v1\")\n",
    "v2 = symbols(\"v2\")\n",
    "K=Matrix([[v1,v2],[v1+7*v2,v1+3*v2]])\n",
    "\n",
    "#aus den Vektoren eine Matrix machen\n",
    "K=Matrix([[1,7],[1,3]])\n",
    "k=K.det()\n",
    "\n",
    "Fl=k*pi\n",
    "print(Fl*(-1), \"Ist die Lösung\")"
   ]
  },
  {
   "cell_type": "code",
   "execution_count": 75,
   "metadata": {},
   "outputs": [
    {
     "name": "stdout",
     "output_type": "stream",
     "text": [
      "50.2654824574367 ist die Lösung\n"
     ]
    }
   ],
   "source": [
    "'''\n",
    "ATTENCIONE!!!!!!\n",
    "Aufgabe 209\n",
    "siehe oben\n",
    "\n",
    "Die durch (v1,v2) > (v1+7*v2,v1+3*v2) definierte lineare Abbildung bildet einen Kreis mit dem Radius 2 auf eine Ellipse ab. Welche Fläche hat diese Ellipse?\n",
    "'''\n",
    "#???????\n",
    "#determinante der Matrix*pi*r**2\n",
    "#fläche = obiges*pi\n",
    "\n",
    "M=Matrix([[1,7],[1,3]])\n",
    "m=M.det()*pi*(2**2)\n",
    "\n",
    "print(m*(-1), \"ist die Lösung\")"
   ]
  },
  {
   "cell_type": "code",
   "execution_count": 51,
   "metadata": {},
   "outputs": [
    {
     "data": {
      "image/png": "[encoded data removed]",
      "text/latex": [
       "$$7.615773105863909$$"
      ],
      "text/plain": [
       "7.615773105863909"
      ]
     },
     "execution_count": 51,
     "metadata": {},
     "output_type": "execute_result"
    }
   ],
   "source": [
    "'''\n",
    "Aufgabe 210\n",
    "Die durch (v1,v2,v3)>(v1+7v2+2v3,v1+3v2+2v3,v1+v2+v3) definierte lineare Abbildung bildet einen Würfel mit dem Volumen 1 auf einen Spat ab. Welches Volumen hat dieser Spat?\n",
    "'''\n"
   ]
  },
  {
   "cell_type": "code",
   "execution_count": null,
   "metadata": {},
   "outputs": [],
   "source": []
  }
 ],
 "metadata": {
  "kernelspec": {
   "display_name": "Python 3",
   "language": "python",
   "name": "python3"
  },
  "language_info": {
   "codemirror_mode": {
    "name": "ipython",
    "version": 3
   },
   "file_extension": ".py",
   "mimetype": "text/x-python",
   "name": "python",
   "nbconvert_exporter": "python",
   "pygments_lexer": "ipython3",
   "version": "3.7.3"
  }
 },
 "nbformat": 4,
 "nbformat_minor": 2
}
