{
 "cells": [
  {
   "cell_type": "code",
   "execution_count": 18,
   "metadata": {},
   "outputs": [
    {
     "data": {
      "text/plain": [
       "'Aufgabensammlung WS 2019 Stand 11. Oktober 2019'"
      ]
     },
     "execution_count": 18,
     "metadata": {},
     "output_type": "execute_result"
    }
   ],
   "source": [
    "'''Aufgabensammlung WS 2019 Stand 11. Oktober 2019'''"
   ]
  },
  {
   "cell_type": "code",
   "execution_count": 8,
   "metadata": {},
   "outputs": [
    {
     "ename": "SyntaxError",
     "evalue": "(unicode error) 'unicodeescape' codec can't decode bytes in position 651-652: malformed \\N character escape (<ipython-input-8-01a989d28dca>, line 135)",
     "output_type": "error",
     "traceback": [
      "\u001b[1;36m  File \u001b[1;32m\"<ipython-input-8-01a989d28dca>\"\u001b[1;36m, line \u001b[1;32m135\u001b[0m\n\u001b[1;33m    '''\u001b[0m\n\u001b[1;37m      ^\u001b[0m\n\u001b[1;31mSyntaxError\u001b[0m\u001b[1;31m:\u001b[0m (unicode error) 'unicodeescape' codec can't decode bytes in position 651-652: malformed \\N character escape\n"
     ]
    }
   ],
   "source": [
    "'''\n",
    "Aufabe 118\n",
    "Kreuzen Sie von den folgenden Aussagen die an, die wahr sind.\n",
    "[x]4e[3,5]         [x]3e[3,5)        [x]5e(3,5]         [x] [3,4] n (4;5] = leere Menge\n",
    "\n",
    "\n",
    "Aufgabe 119\n",
    "Welche der folgenden Mengen sind Intervalle?\n",
    "[x] [40,42]\\{42}               [ ] [40,42]\\{41}         [] [40,42]\\[40,42)\n",
    "[x] [40,41]\\[42,43]            [] [40,41]n[42,43]        [x] [40,41]U[42,43]\n",
    "\n",
    "!!!!!!!!!!!ATTENCIÒNE!!!!!!!!!!!!!!\n",
    "[40,42] ohne das Element 41, würde doch zwei Intervalle ergeben, oder? \n",
    "[40,41) und (41,42] > zählt nicht\n",
    "\n",
    "\n",
    "Aufgabe 120\n",
    "Welche der folgenden Mengen sind echte Intervalle?\n",
    "[x] [40,42]\\[40,41)             [x] [40,41]\\N           [] [40,42]\\[40,42)\n",
    "[ ] [40,41]\\Q                   [ ] [40,41]n[41,43]     [ ] (40,42)\\ N\n",
    "\n",
    "!!!!!!!!!!!!!ATTENCIÒNE!!!!!!!!!!!\n",
    "echte Intervalle sind als Intervalle definiert, die mehr als eine Zahl enthalten. Wenn bei [40,41]\\Q-> gibts noch R, oder?\n",
    "Das letzte teilt sich wieder in (40,41) & (41,42) auf, oder? > geklärt\n",
    "\n",
    "\n",
    "Aufgabe 121\n",
    "Welche der folgenden Mengen sind echte Intervalle?\n",
    "[x] [40,42]\\[40,41)               [x] [40,41]\\N          [] [40,42]\\[40,42)\n",
    "[x] [40,41)U{41}                  [x] [40,41]\\{41}       [x] (40,41)U[41,42]\n",
    "\n",
    "\n",
    "Aufgabe 122\n",
    "Sei A={10/n : n e N+}. Geben Sie das kleinste Intervall I oberhalb von A an. (Damit ist gemeint,\n",
    "dass sowohl A teilmenge I als auch A keine Teilmenge J für jedes Intervall J keine Teilmenge I gelten soll.)\n",
    "#whatever..\n",
    "\n",
    "Aufgabe 123\n",
    "Sei A = {m/n : m e Z und n e N+ und |m| < |n|}. Geben Sie das kleinste Intervall I oberhalb\n",
    "von A an. (Damit ist gemeint, dass sowohl A \u0012 I als auch A * J fur jedes Intervall J ( I gelten\n",
    "soll.)\n",
    "#whatever\n",
    "\n",
    "Aufgabe 124\n",
    "Wenn a e [2,4) und b e [3,6) gilt, in welchem Intervall befindet sich dann a + b? (Gesucht ist das\n",
    "kleinstmöogliche Intervall, in dem a + b mit Sicherheit liegt. Es gibt also nur eine mögliche Antwort.)\n",
    "[] [2,10)       [] [2,10]    [] [2,6)     [] [2,6]     [x] [5,10)     [] [5,10]\n",
    "\n",
    "\n",
    "Aufgabe 125\n",
    "Wenn a e (2,4] und b e [3,6) gilt, in welchem Intervall befindet sich dann a + b? (Gesucht ist das\n",
    "kleinstmögliche Intervall, in dem a + b mit Sicherheit liegt. Es gibt also nur eine mögliche Antwort.)\n",
    "[] (2,6)     [] (2,6]      [] [2,6)      [] [2,6]     [] (5,10)      [] (5,10]     [x] [5,10)   [] [5,10]\n",
    "\n",
    "\n",
    "Aufgabe 126\n",
    "Wenn a e [2,4] und b e [10,20] gilt, in welchem Intervall befindet sich dann b-a? (Gesucht ist\n",
    "das kleinstmögliche Intervall, in dem b-a mit Sicherheit liegt. Es gibt also nur eine mogliche\n",
    "Antwort.)\n",
    "[] [2,20]    [x][8,16]  [] [6,18]   [] [8,18]  [] [6,16]\n",
    "\n",
    "\n",
    "Aufgabe 127\n",
    "Sei M = {ab : a e [1,2] und b e [-2,1)}. Was ist das größte Element von M?\n",
    "[] 1     [] 2   [] 4   [x] M hat kein größtes Element.\n",
    "\n",
    "\n",
    "Aufgabe 128\n",
    "Sei M = {ab:a e [-1,2/3] und b e [-3/2,3]}\n",
    "Was ist das größte Element von M?\n",
    "[] 3/2      [] 2    [] 3    [x] M hat kein größtes Element\n",
    "#es wird immer größer deshalb hat es kein größtes Element\n",
    "\n",
    "\n",
    "Aufgabe 129\n",
    "Welche der folgenden Mengen sind endlich?\n",
    "[] [40,42]\\[40,41)     [x]{-40,-41}\\ N        [x] [40,42]\\[40,42)\n",
    "[] [40,41]\\Q           [x] [40,41]n[41,43]    [x] [40,41]n[42,43]\n",
    "\n",
    "\n",
    "Aufgabe 130\n",
    "In der folgenden Liste kommt eine Menge nur einmal vor. Kreuzen Sie diese an:\n",
    "[] [3,5]n[4,6] =[4,5]       [] (3,5]n[4,6) =[3,5]       [] (3,5]n[4,6] = [4,5]\n",
    "[] [3,5)U[4,6] = [3,6]       [x] (4,6]n[3,5] =(4,5]     [] [4,6]U[3,5] = [3,6]\n",
    "\n",
    "\n",
    "\n",
    "Aufgabe 131\n",
    "Jeweils zwei der unten aufgeführten Mengen sind gleich. Finden Sie die entsprechenden Paare.\n",
    "A = [38,43)U{38,40,43}       B = [38,40)U(38,40]\n",
    "C = [40,40]\\(40,43]          D = [40,43]U{40}\n",
    "E = [38,43]\\(40,43]          F = [38,43]n(40,43]\n",
    "G = [3840]U[40,43]           H = {38,40}\n",
    "I = [38,40]n[40,43]          J = [38,40]U(38,40)\n",
    "\n",
    "H ❤️ J    A ❤️ G   D ❤️ F\n",
    "B ❤️ E    I ❤️ C\n",
    "\n",
    "A&G = [38,43]\n",
    "B&E = [38,40]\n",
    "C&I = [40,40]\n",
    "D&F = (40,43]\n",
    "H&J = {38,40}\n",
    "\n",
    "\n",
    "Aufgabe 132\n",
    "Jeweils zwei der unten aufgeführten Mengen sind gleich. Finden Sie die entsprechenden Paare.\n",
    "A = [38,40)U(38,40]          B = [40,40]\\(40,43]\n",
    "C = [38,43)U{n e N:38<n<44}  D = {x e R : 40<x<=43}\n",
    "E = [38,43]\\(40,43]          F = [38,43]n(40,43]\n",
    "G = [38,40]U[40,43]          H = {x e [38; 40] : x/2 e N}\n",
    "I = [38,40]U[40,43]          J = [38,40]\\(38,40)\n",
    "\n",
    "A ❤️ E   C ❤️ G   I ❤️ B   D ❤️ F   H ❤️ J\n",
    "\n",
    "A&E = [38,40]\n",
    "C&G = [38,43]\n",
    "I&B = [40,40]\n",
    "D&F = (40,43]\n",
    "H&J = {38,40}\n",
    "\n",
    "\n",
    "Aufgabe 133\n",
    "Jeweils zwei der unten aufgeführten Mengen sind gleich. Finden Sie die entsprechenden Paare.\n",
    "#whatever\n",
    "#help\n",
    "\n",
    "\n",
    "!!!!!!!!!!!!!!!!ATTENCIÓNE!!!!!!!!!!!!!!\n",
    "Aufgabe 134\n",
    "Sei A = [0; 9] \\ N. Wie viele Elemente hat ´PM(´PM(A))?\n",
    "# Die Potenzmenge einer Potenzmenge einer Menge der Mächtigkeit n ist 2**2**n in diesem Fall\n",
    "2**2**10\n",
    "> Potenzgesetze 2**20\n",
    "\n",
    "#1048576 Antwort\n",
    "'''\n"
   ]
  },
  {
   "cell_type": "code",
   "execution_count": 9,
   "metadata": {},
   "outputs": [
    {
     "data": {
      "text/plain": [
       "1048576"
      ]
     },
     "execution_count": 9,
     "metadata": {},
     "output_type": "execute_result"
    }
   ],
   "source": [
    "2**20"
   ]
  },
  {
   "cell_type": "code",
   "execution_count": 35,
   "metadata": {},
   "outputs": [
    {
     "data": {
      "text/plain": [
       "4"
      ]
     },
     "execution_count": 35,
     "metadata": {},
     "output_type": "execute_result"
    }
   ],
   "source": [
    "'''\n",
    "Aufgabe 135\n",
    "Welchen Wert hat die Variable c nach Ausführung des folgenden Codes?\n",
    "'''\n",
    "c = 1\n",
    "for i in range(2222):\n",
    "    c = (11 * c) % 13\n",
    "c\n",
    "#gibt je nach 2 - 4,10,12 aus wg. Restklasse. Wir haben im Original Code 10*2 \n",
    "#Antwort: 4"
   ]
  },
  {
   "cell_type": "code",
   "execution_count": 47,
   "metadata": {},
   "outputs": [
    {
     "name": "stdout",
     "output_type": "stream",
     "text": [
      "1\n"
     ]
    }
   ],
   "source": [
    "'''\n",
    "Aufgabe 136\n",
    "Welchen Wert hat die Variable s nach Ausführung des folgenden Codes?\n",
    "'''\n",
    "def foo ():\n",
    "    k = 0\n",
    "    while True:\n",
    "        yield k\n",
    "        k += 1\n",
    "        \n",
    "c, s = 0, 0\n",
    "for i in foo():\n",
    "    s = (s + i) % 3\n",
    "    c += 1\n",
    "    if c > 34:\n",
    "        break\n",
    "print(s)\n",
    "\n",
    "# Ergebnis: 1"
   ]
  },
  {
   "cell_type": "code",
   "execution_count": 1,
   "metadata": {},
   "outputs": [
    {
     "ename": "SyntaxError",
     "evalue": "invalid syntax (<ipython-input-1-b22c71510b3e>, line 17)",
     "output_type": "error",
     "traceback": [
      "\u001b[1;36m  File \u001b[1;32m\"<ipython-input-1-b22c71510b3e>\"\u001b[1;36m, line \u001b[1;32m17\u001b[0m\n\u001b[1;33m    if :\u001b[0m\n\u001b[1;37m       ^\u001b[0m\n\u001b[1;31mSyntaxError\u001b[0m\u001b[1;31m:\u001b[0m invalid syntax\n"
     ]
    }
   ],
   "source": [
    "'''\n",
    "!!!!!!!!!!!!!!!!!!ATTENCIÒNE!!!!!!!!!!!!!!!!!!!!!\n",
    "Aufgabe 137\n",
    "\n",
    "Wenn man in den Kasten unten True einsetzt, wird foo eine Generator-Funktion, die die Menge\n",
    "A = {p e Q : 0 < p < 1}rekursiv aufzählt. Was muss man in den Kasten einsetzen, damit in dieser\n",
    "Aufzählung jedes Element aus A nur einmal vorkommt?\n",
    "'''\n",
    "from fractions import Fraction\n",
    "from math import * # <-- Das ist ein Hinweis...\n",
    "\n",
    "def foo ():\n",
    "    i = 3\n",
    "    while True:\n",
    "        for m in range(1, ceil(i / 2)): #ceil nachgucken\n",
    "            n = i - m\n",
    "            if #:\n",
    "            yield Fraction(m, n)\n",
    "        i += 1"
   ]
  },
  {
   "cell_type": "code",
   "execution_count": 2,
   "metadata": {},
   "outputs": [
    {
     "data": {
      "text/plain": [
       "'\\n!!!!!!!!!!!!!!ATTENCIÒNE!!!!!!!!!!!\\nAufgabe 138\\n\\nfrom math import sqrt\\ndef foo (n = False):\\n    k = 2\\n    while not n or k <= n:\\n        X = True\\n        for p in foo(sqrt(k)):\\n            if :\\n                X = False\\n                break\\n        if X:\\n            yield k\\n        k += 1\\n'"
      ]
     },
     "execution_count": 2,
     "metadata": {},
     "output_type": "execute_result"
    }
   ],
   "source": [
    "'''\n",
    "!!!!!!!!!!!!!!ATTENCIÒNE!!!!!!!!!!!\n",
    "Aufgabe 138\n",
    "\n",
    "from math import sqrt\n",
    "def foo (n = False):\n",
    "    k = 2\n",
    "    while not n or k <= n:\n",
    "        X = True\n",
    "        for p in foo(sqrt(k)):\n",
    "            if #:\n",
    "                X = False\n",
    "                break\n",
    "        if X:\n",
    "            yield k\n",
    "        k += 1\n",
    "'''"
   ]
  },
  {
   "cell_type": "code",
   "execution_count": 6,
   "metadata": {},
   "outputs": [
    {
     "data": {
      "text/plain": [
       "2"
      ]
     },
     "execution_count": 6,
     "metadata": {},
     "output_type": "execute_result"
    }
   ],
   "source": [
    "'''\n",
    "Aufgabe 139\n",
    "Welche Menge wird von der folgenden Generator-Funktion rekursiv aufgezahlt? Geben Sie die Antwort\n",
    "in beschreibender Mengenschreibweise (und nicht in Worten) an.\n",
    "def foo ():\n",
    "    i = 1\n",
    "    while True:\n",
    "        yield i\n",
    "        i += 2\n",
    "'''\n",
    "#{i e N: i%2 = 1} "
   ]
  },
  {
   "cell_type": "code",
   "execution_count": 7,
   "metadata": {},
   "outputs": [],
   "source": [
    "'''\n",
    "Aufgabe 140\n",
    "Welche Menge wird von der folgenden Generator-Funktion rekursiv aufgezählt? Geben Sie die Antwort\n",
    "in beschreibender Mengenschreibweise (und nicht in Worten) an.\n",
    "'''\n",
    "\n",
    "def viewGen(gen,n):\n",
    "    c=1\n",
    "    L=[] #Liste durch großbuchstaben\n",
    "    for x in gen:\n",
    "        if c > n:\n",
    "            break\n",
    "        L.append(x)\n",
    "        c+=1\n",
    "    return L\n",
    "\n",
    "def foo():\n",
    "    i=2\n",
    "    while True:\n",
    "        yield i\n",
    "        i*=3\n",
    "        \n",
    "# {i e N: i=2 und i*=3 }????"
   ]
  },
  {
   "cell_type": "code",
   "execution_count": 8,
   "metadata": {},
   "outputs": [
    {
     "data": {
      "text/plain": [
       "[2, 6, 18, 54, 162, 486, 1458, 4374, 13122, 39366]"
      ]
     },
     "execution_count": 8,
     "metadata": {},
     "output_type": "execute_result"
    }
   ],
   "source": [
    "viewGen(foo(),10)"
   ]
  },
  {
   "cell_type": "code",
   "execution_count": 10,
   "metadata": {},
   "outputs": [
    {
     "data": {
      "text/plain": [
       "1458"
      ]
     },
     "execution_count": 10,
     "metadata": {},
     "output_type": "execute_result"
    }
   ],
   "source": [
    "'''\n",
    "Aufgabe 141\n",
    "Welche Menge wird von der folgenden Generator-Funktion rekursiv aufgezählt? Geben Sie die Antwort\n",
    "in beschreibender Mengenschreibweise (und nicht in Worten) an.\n",
    "'''\n",
    "\n",
    "def foo2():\n",
    "    i = 2\n",
    "    while True:\n",
    "        yield i\n",
    "        i *= 4\n",
    "\n",
    "#{i e N+: i=4 und i*=4}       ?????"
   ]
  },
  {
   "cell_type": "code",
   "execution_count": 11,
   "metadata": {},
   "outputs": [],
   "source": [
    "'''\n",
    "Aufgabe 142\n",
    "Die folgende Generator-Funktion zählt bei jedem Aufruf eine andere Menge von natürlichen Zahlen\n",
    "auf. Welches sind die drei kleinsten natürlichen Zahlen, die garantiert nie aufgezählt werden?\n",
    "'''\n",
    "\n",
    "from sympy import prime\n",
    "from random import randrange\n",
    "def foo3():\n",
    "    i = 0\n",
    "    while True:\n",
    "        i += 1\n",
    "        p = 1\n",
    "        for k in range(i):\n",
    "            p *= prime(randrange(1,i+2))\n",
    "        yield p\n",
    "\n",
    "        #seen 3,2,6,4,9,8\n",
    "        #1,5,7"
   ]
  },
  {
   "cell_type": "code",
   "execution_count": 127,
   "metadata": {},
   "outputs": [
    {
     "data": {
      "text/plain": [
       "[3, 15, 30, 14641, 39039, 4444531, 481650, 37665030, 12802632117, 747943350]"
      ]
     },
     "execution_count": 127,
     "metadata": {},
     "output_type": "execute_result"
    }
   ],
   "source": [
    "viewGen(foo3(),10)"
   ]
  },
  {
   "cell_type": "code",
   "execution_count": 128,
   "metadata": {},
   "outputs": [],
   "source": [
    "'''\n",
    "Aufgabe 143\n",
    "Die folgende Generator-Funktion zählt bei jedem Aufruf eine andere Menge von natürlichen Zahlen\n",
    "auf. Welches ist die kleinste positive natürliche Zahl, die garantiert nie aufgezählt wird?\n",
    "'''\n",
    "\n",
    "from random import randrange\n",
    "def foo4():\n",
    "    i = 0\n",
    "    while True:\n",
    "        i += 1\n",
    "        yield randrange(1,i+3)**i\n",
    "        \n",
    "        #seen: 3,4,1,2,8,9 \n",
    "        #5,6,7 nicht gesehen.."
   ]
  },
  {
   "cell_type": "code",
   "execution_count": 223,
   "metadata": {},
   "outputs": [
    {
     "data": {
      "text/plain": [
       "[3, 4, 125, 625, 1024]"
      ]
     },
     "execution_count": 223,
     "metadata": {},
     "output_type": "execute_result"
    }
   ],
   "source": [
    "viewGen(foo4(),5)"
   ]
  },
  {
   "cell_type": "code",
   "execution_count": 224,
   "metadata": {},
   "outputs": [],
   "source": [
    "'''\n",
    "Aufgabe 144\n",
    "Welche Menge wird von der folgenden Generator-Funktion rekursiv aufgezählt? Geben Sie die Antwort\n",
    "in beschreibender Mengenschreibweise (und nicht in Worten) an.\n",
    "'''\n",
    "def foo5():\n",
    "    f, k = 1, 1\n",
    "    while True:\n",
    "        yield f\n",
    "        f *= k\n",
    "        k += 1\n",
    "#{n e N+ : fak(n) 1*n+1}"
   ]
  },
  {
   "cell_type": "code",
   "execution_count": 229,
   "metadata": {},
   "outputs": [
    {
     "data": {
      "text/plain": [
       "[1, 1, 2, 6, 24, 120, 720, 5040, 40320, 362880]"
      ]
     },
     "execution_count": 229,
     "metadata": {},
     "output_type": "execute_result"
    }
   ],
   "source": [
    "viewGen(foo5(),10)"
   ]
  },
  {
   "cell_type": "code",
   "execution_count": 241,
   "metadata": {},
   "outputs": [],
   "source": [
    "'''\n",
    "\n",
    "!!!!!!!!!!ATTENCIÒNE!!!!!!!!!!!!\n",
    "Aufgabe 145\n",
    "Welche Menge wird von der folgenden Generator-Funktion rekursiv aufgezählt? Geben Sie die Antwort\n",
    "in beschreibender Mengenschreibweise (und nicht in Worten) an.\n",
    "'''\n",
    "from math import gcd\n",
    "from fractions import Fraction\n",
    "def foo6():\n",
    "    i = 1\n",
    "    while True:\n",
    "        for k in range(i, 2*i):\n",
    "            if gcd(k, i) == 1:\n",
    "                yield Fraction(k, i)\n",
    "        i += 1\n",
    "        \n",
    "#lost kurz vor2"
   ]
  },
  {
   "cell_type": "code",
   "execution_count": 243,
   "metadata": {},
   "outputs": [
    {
     "data": {
      "text/plain": [
       "[Fraction(1, 1),\n",
       " Fraction(3, 2),\n",
       " Fraction(4, 3),\n",
       " Fraction(5, 3),\n",
       " Fraction(5, 4),\n",
       " Fraction(7, 4),\n",
       " Fraction(6, 5),\n",
       " Fraction(7, 5),\n",
       " Fraction(8, 5),\n",
       " Fraction(9, 5),\n",
       " Fraction(7, 6),\n",
       " Fraction(11, 6),\n",
       " Fraction(8, 7)]"
      ]
     },
     "execution_count": 243,
     "metadata": {},
     "output_type": "execute_result"
    }
   ],
   "source": [
    "viewGen(foo6(),13)"
   ]
  },
  {
   "cell_type": "code",
   "execution_count": null,
   "metadata": {},
   "outputs": [],
   "source": [
    "'''\n",
    "Aufgabe 146\n",
    "Welche der folgenden Mengen von Paaren sind rechtseindeutig?\n",
    "'''\n",
    "\n",
    "#erste,zweite, letzte"
   ]
  }
 ],
 "metadata": {
  "kernelspec": {
   "display_name": "Python 3",
   "language": "python",
   "name": "python3"
  },
  "language_info": {
   "codemirror_mode": {
    "name": "ipython",
    "version": 3
   },
   "file_extension": ".py",
   "mimetype": "text/x-python",
   "name": "python",
   "nbconvert_exporter": "python",
   "pygments_lexer": "ipython3",
   "version": "3.7.3"
  }
 },
 "nbformat": 4,
 "nbformat_minor": 2
}
