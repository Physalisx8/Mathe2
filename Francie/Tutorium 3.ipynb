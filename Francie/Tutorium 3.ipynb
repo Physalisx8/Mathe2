{
 "cells": [
  {
   "cell_type": "code",
   "execution_count": 16,
   "metadata": {},
   "outputs": [],
   "source": [
    "from sympy import * #nur für das Landaukalkül\n",
    "from math import sin, cos, tan, log"
   ]
  },
  {
   "cell_type": "code",
   "execution_count": 19,
   "metadata": {},
   "outputs": [
    {
     "name": "stdout",
     "output_type": "stream",
     "text": [
      "0\n",
      "0\n"
     ]
    }
   ],
   "source": [
    "#es kommt 22-25 dran und Landaukalkül\n",
    "\n",
    "#Aufgabe 284 - rechtes durch das linke teilen -> Zahl rauskommt wahr.. \n",
    "#wenn unendlich false\n",
    "x = symbols(\"x\")\n",
    "def test(x):\n",
    "    return(((x**2)*(2**x))/2**x)\n",
    "limit(test(x),x,oo) #false\n",
    "\n",
    "def test2(x):\n",
    "    return (((x**2)*(2**x))/3**x)\n",
    "print(limit(test2(x),x,oo)) #richtg\n",
    "\n",
    "def test4(x):\n",
    "    return ((2**x+42)/3**x)\n",
    "\n",
    "print(limit(test4(x),x,oo))\n",
    "\n",
    "\n",
    "\n",
    "#472 & 252 wichtig"
   ]
  },
  {
   "cell_type": "code",
   "execution_count": 73,
   "metadata": {},
   "outputs": [
    {
     "name": "stdout",
     "output_type": "stream",
     "text": [
      "Ergebnis ist  7.657285981882495\n"
     ]
    }
   ],
   "source": [
    "#166\n",
    "#wenn \"zwei stellen nach dem Komma\"-> NICHT SYMPY ->\n",
    "#mit Math rechnen weil näherungsweise (ggf. nochmal importieren)\n",
    "#Bogenmaß beachten!\n",
    "\n",
    "from math import sin, cos, tan, pi\n",
    "\n",
    "degToRad=(pi/180)\n",
    "radtoDeg= (180/pi)\n",
    "\n",
    "#zunächst Kante des Quadrats berechnen\n",
    "#alpha = 15° hypo=35\n",
    "\n",
    "KaQua=cos(45*degToRad)*35\n",
    "AB=KaQua/cos(30*degToRad)\n",
    "KuSeite= tan(15*degToRad)*AB\n",
    "print(\"Ergebnis ist \", KuSeite) \n",
    "#zwei Stellen 7,66"
   ]
  },
  {
   "cell_type": "code",
   "execution_count": 2,
   "metadata": {},
   "outputs": [],
   "source": [
    "#aufgabe169\n",
    "#rechterwinkel wenn man n kreis drumzieht und alle Punkte auf der Linie stehen \n",
    "#ist ein rechter Winkel dabei"
   ]
  },
  {
   "cell_type": "code",
   "execution_count": null,
   "metadata": {},
   "outputs": [],
   "source": [
    "#winkel alpha 180 ° - 90 -> 90/5 teilen."
   ]
  },
  {
   "cell_type": "code",
   "execution_count": 72,
   "metadata": {},
   "outputs": [
    {
     "data": {
      "text/plain": [
       "58.778525229247315"
      ]
     },
     "execution_count": 72,
     "metadata": {},
     "output_type": "execute_result"
    }
   ],
   "source": [
    "alpha=(90/5)*degToRad\n",
    "beta=(alpha*3)\n",
    "AB=100 #da radius *2\n",
    "BC=sin(2*alpha)*AB\n",
    "BC\n",
    "\n",
    "#ergebnis 58,78"
   ]
  },
  {
   "cell_type": "code",
   "execution_count": 74,
   "metadata": {},
   "outputs": [],
   "source": [
    "#aufgabe 176/177\n",
    "#zwei möglichkeiten verbindungsstrecke oder verbindungsgerade\n",
    "#muss immer eins sein um auf der Linie zu liegen\n",
    "#zb x*(a*v1+b*v2) > (a+b)*x=1 -> liegt auf der geraden\n",
    "#(|a|+|b|) *x= 1 > Strecke\n",
    "\n",
    "#176 3,4,5 177 3,4\n"
   ]
  },
  {
   "cell_type": "code",
   "execution_count": 44,
   "metadata": {},
   "outputs": [
    {
     "data": {
      "text/plain": [
       "(1.9999999999999998, -2.0943951023931957)"
      ]
     },
     "execution_count": 44,
     "metadata": {},
     "output_type": "execute_result"
    }
   ],
   "source": [
    "#Aufgabe173/174 -> Bogenmaß/Grad beachten!\n",
    "#man braucht ne Länge und nen Winkel\n",
    "#seite276 funktion klauen und einfügen.\n",
    "\n",
    "from math import sqrt, atan2\n",
    "\n",
    "def polar(x,y):\n",
    "    return sqrt(x*x+y*y),atan2(y,x)\n",
    "\n",
    "polar(-1,-sqrt(3))"
   ]
  },
  {
   "cell_type": "code",
   "execution_count": 152,
   "metadata": {},
   "outputs": [
    {
     "data": {
      "text/plain": [
       "(1.9999999999999998, 2.6179938779914944)"
      ]
     },
     "execution_count": 152,
     "metadata": {},
     "output_type": "execute_result"
    }
   ],
   "source": [
    "polar(-sqrt(3),1)\n",
    "#lösung (2,-2,09) #im fall von Bogenmaß bleibt die Zahl so"
   ]
  },
  {
   "cell_type": "code",
   "execution_count": 40,
   "metadata": {},
   "outputs": [
    {
     "data": {
      "text/plain": [
       "150.0"
      ]
     },
     "execution_count": 40,
     "metadata": {},
     "output_type": "execute_result"
    }
   ],
   "source": [
    "2.6179938779914944*(180/pi)\n",
    "#lösung (2,150°) #im fall von Grad muss man umrechnen"
   ]
  },
  {
   "cell_type": "code",
   "execution_count": 76,
   "metadata": {},
   "outputs": [
    {
     "data": {
      "text/plain": [
       "14.792740578363098"
      ]
     },
     "execution_count": 76,
     "metadata": {},
     "output_type": "execute_result"
    }
   ],
   "source": [
    "#167\n",
    "KaQua=cos(45*degToRad)*35\n",
    "AB=KaQua/cos(15*degToRad)\n",
    "KuSeite= tan(30*degToRad)*AB\n",
    "KuSeite"
   ]
  },
  {
   "cell_type": "code",
   "execution_count": 77,
   "metadata": {},
   "outputs": [
    {
     "data": {
      "text/plain": [
       "24.748737341529164"
      ]
     },
     "execution_count": 77,
     "metadata": {},
     "output_type": "execute_result"
    }
   ],
   "source": [
    "KaQua"
   ]
  },
  {
   "cell_type": "code",
   "execution_count": 85,
   "metadata": {},
   "outputs": [],
   "source": [
    "Qua=2*(KaQua**2)"
   ]
  },
  {
   "cell_type": "code",
   "execution_count": 86,
   "metadata": {},
   "outputs": [
    {
     "data": {
      "text/plain": [
       "35.0"
      ]
     },
     "execution_count": 86,
     "metadata": {},
     "output_type": "execute_result"
    }
   ],
   "source": [
    "sqrt(Qua)"
   ]
  },
  {
   "cell_type": "code",
   "execution_count": 81,
   "metadata": {},
   "outputs": [
    {
     "name": "stdout",
     "output_type": "stream",
     "text": [
      "Ergebnis ist  7.657285981882495\n"
     ]
    }
   ],
   "source": [
    "'''\n",
    "Aufgabe 166\n",
    "Die Länge der Diagonale in dem Quadrat unten ist 35. Geben Sie die Lange der fett eingezeichneten\n",
    "Strecke auf zwei Stellen nach dem Komma genau an.\n",
    "'''\n",
    "\n",
    "#wenn \"zwei stellen nach dem Komma\"-> NICHT SYMPY ->\n",
    "#mit Math rechnen weil näherungsweise (ggf. nochmal importieren)\n",
    "#Bogenmaß beachten!\n",
    "\n",
    "from math import sin, cos, tan, pi\n",
    "\n",
    "degToRad=(pi/180)\n",
    "radtoDeg= (180/pi)\n",
    "\n",
    "#zunächst Kante des Quadrats berechnen\n",
    "#alpha = 15° hypo=35\n",
    "\n",
    "KaQua=cos(45*degToRad)*35\n",
    "AB=KaQua/cos(30*degToRad)\n",
    "KuSeite= tan(15*degToRad)*AB\n",
    "print(\"Ergebnis ist \", KuSeite) \n",
    "#zwei Stellen 7,66"
   ]
  },
  {
   "cell_type": "code",
   "execution_count": 82,
   "metadata": {},
   "outputs": [
    {
     "data": {
      "text/plain": [
       "14.792740578363098"
      ]
     },
     "execution_count": 82,
     "metadata": {},
     "output_type": "execute_result"
    }
   ],
   "source": [
    "'''\n",
    "Aufgabe 167\n",
    "Die Länge der Diagonale in dem Quadrat unten ist 35. Geben Sie die Lange der fett eingezeichneten\n",
    "Strecke auf zwei Stellen nach dem Komma genau an.\n",
    "'''\n",
    "KaQua=cos(45*degToRad)*35\n",
    "AB=KaQua/cos(15*degToRad)\n",
    "KuSeite= tan(30*degToRad)*AB\n",
    "KuSeite\n",
    "#14.79"
   ]
  },
  {
   "cell_type": "code",
   "execution_count": 159,
   "metadata": {},
   "outputs": [
    {
     "name": "stdout",
     "output_type": "stream",
     "text": [
      "-1.00000000000000\n",
      "-1.00000000000000\n",
      "-1.00000000000000\n",
      "-0.999999999243680\n"
     ]
    }
   ],
   "source": [
    "'''\n",
    "!!!!!!!!!!!!ATTENCIÒNE!!!!!!!!!!!!!!\n",
    "Aufgabe 162\n",
    "Kreuzen Sie die kleinste der folgenden vier Zahlen an.\n",
    "[x]-1+10**-18 []-1+10**-17\n",
    "[]cos(pi* cos(ln(pi + 20))) [] cos(ln(pi + 20))\n",
    "'''\n",
    "from sympy import cos, log, evalf\n",
    "from math import pi\n",
    "\n",
    "print(N(-1+10**(-18)))\n",
    "print(N(-1+10**(-17)))\n",
    "print(cos(pi*cos(ln(pi+20))))\n",
    "print(cos(ln(pi + 20)))\n",
    "#das erste weil das die meisten 9 nach dem Komma hat."
   ]
  },
  {
   "cell_type": "code",
   "execution_count": 102,
   "metadata": {},
   "outputs": [
    {
     "name": "stdout",
     "output_type": "stream",
     "text": [
      "1  -0.999999999243680\n",
      "2  -1.00000000000000\n",
      "3  -0.467862561603726\n",
      "4  -1.0\n"
     ]
    }
   ],
   "source": [
    "'''\n",
    "!!!!!!!!!!ATTENCIÒNE!!!!!!!!!!\n",
    "Aufgabe 163\n",
    "Kreuzen Sie die kleinste der folgenden vier Zahlen an\n",
    "'''\n",
    "from sympy import sin\n",
    "from math import sqrt\n",
    "print(\"1 \", cos(ln(pi+20)))\n",
    "print(\"2 \", cos(pi*cos(ln(pi+20))))\n",
    "print(\"3 \", sin(2017*(5*sqrt(2))))\n",
    "print(\"4 \", -9*2071723*5363222357*(10**-17))\n",
    "\n",
    "#2 oder 4?"
   ]
  },
  {
   "cell_type": "code",
   "execution_count": 104,
   "metadata": {},
   "outputs": [
    {
     "data": {
      "text/plain": [
       "'\\nAufgabe 164\\nDer Punkt P hat die Koordinaten (12; 0). Der Abstand vom Ursprung zum Punkt Q ist 13. Geben\\nSie die Koordinaten von Q an.\\n'"
      ]
     },
     "execution_count": 104,
     "metadata": {},
     "output_type": "execute_result"
    }
   ],
   "source": [
    "'''\n",
    "Aufgabe 164\n",
    "Der Punkt P hat die Koordinaten (12; 0). Der Abstand vom Ursprung zum Punkt Q ist 13. Geben\n",
    "Sie die Koordinaten von Q an.\n",
    "'''\n",
    "#pythagoras -> 5"
   ]
  },
  {
   "cell_type": "code",
   "execution_count": 108,
   "metadata": {},
   "outputs": [
    {
     "name": "stdout",
     "output_type": "stream",
     "text": [
      "a=5*cos20°\n"
     ]
    }
   ],
   "source": [
    "'''\n",
    "Aufgabe 165\n",
    "Von dem rechtwinkligen Dreieck unten kennen Sie die Länge der Hypotenuse und den Winkel oben\n",
    "rechts. Wie berechnet man die Länge der Kathete a?\n",
    "'''\n",
    "from math import sin, cos\n",
    "a=cos(20*degToRad)*5\n",
    "a\n",
    "print(\"a=5*cos20°\")"
   ]
  },
  {
   "cell_type": "code",
   "execution_count": 123,
   "metadata": {},
   "outputs": [
    {
     "name": "stdout",
     "output_type": "stream",
     "text": [
      "2.9999999999999987  Das wäre dann... 3.0\n"
     ]
    }
   ],
   "source": [
    "'''\n",
    "Aufgabe 168\n",
    "In der folgenden Skizze haben a, b und d die Längen 6, 2 und 7. Die rechten Winkel sind markiert.\n",
    "Geben Sie die Länge der fett eingezeichneten Strecke auf zwei Stellen nach dem Komma an.\n",
    "'''\n",
    "#pythagoras ist unser Freund\n",
    "a,b,d = 6,2,7\n",
    "from math import sqrt, cos, sin, tan\n",
    "c=sqrt((a**2)+(b**2))\n",
    "\n",
    "#x**2 = d**2-c**2\n",
    "x=sqrt(d**2-c**2)\n",
    "print(x, \" Das wäre dann... 3.00\")\n"
   ]
  },
  {
   "cell_type": "code",
   "execution_count": 124,
   "metadata": {},
   "outputs": [
    {
     "data": {
      "text/plain": [
       "58.778525229247315"
      ]
     },
     "execution_count": 124,
     "metadata": {},
     "output_type": "execute_result"
    }
   ],
   "source": [
    "'''\n",
    "Aufgabe 169\n",
    "Der Radius des Kreises ist 50. Die Strecke von A nach B geht durch den Mittelpunkt. Geben Sie\n",
    "die Länge der Strecke von B nach C auf zwei Stellen nach dem Komma genau an.\n",
    "'''\n",
    "#rechterwinkel wenn man n kreis drumzieht und alle Punkte auf der Linie stehen \n",
    "#ist ein rechter Winkel dabei\n",
    "#alpha = 180-90 = 90/5\n",
    "alpha=(90/5)*degToRad\n",
    "beta=(alpha*3)\n",
    "AB=100 #da radius *2\n",
    "BC=sin(2*alpha)*AB\n",
    "BC\n",
    "\n",
    "#ergebnis 58,78"
   ]
  },
  {
   "cell_type": "code",
   "execution_count": 125,
   "metadata": {},
   "outputs": [
    {
     "data": {
      "text/plain": [
       "'\\n!!!!!!!!!ATTENCIÒNE!!!!!!!!!\\nAufgabe 170\\nM ist der Mittelpunkt des Kreises. Die Strecken AM und AB sind gleich lang. Geben Sie den durch\\nein Fragezeichen markierten Winkel in Abhängigkeit von alpha an.\\n'"
      ]
     },
     "execution_count": 125,
     "metadata": {},
     "output_type": "execute_result"
    }
   ],
   "source": [
    "'''\n",
    "!!!!!!!!!ATTENCIÒNE!!!!!!!!!\n",
    "Aufgabe 170\n",
    "M ist der Mittelpunkt des Kreises. Die Strecken AM und AB sind gleich lang. Geben Sie den durch\n",
    "ein Fragezeichen markierten Winkel in Abhängigkeit von alpha an.\n",
    "'''\n",
    "# beta ist ebenfalls alpha, da die Schenkel gleich lang sind.\n",
    "# ? = 180-90-alpha \n",
    "#(90° da der Kreis alle Spitzen des Dreiecks berührt und somit\n",
    "#rechtwinklig ist)\n",
    "#3alpha\n",
    "#gamme ist 190 - 2alpha. delta muss zusammen mit gamma 180 ergeben. "
   ]
  },
  {
   "cell_type": "code",
   "execution_count": 136,
   "metadata": {},
   "outputs": [
    {
     "name": "stdout",
     "output_type": "stream",
     "text": [
      "Ergebnis:  60.0\n"
     ]
    }
   ],
   "source": [
    "'''\n",
    "Aufgabe 171\n",
    "Ein gleichschenkliges Dreieck hat die Seitenlängen 10, 13 und 13. Geben Sie seine Fläche an.\n",
    "'''\n",
    "#formel für Fläche: A = 0,5 · c · h\n",
    "a,c = 13, 10\n",
    "\n",
    "#zunächst die Höhe ausrechnen mit Pythagoras\n",
    "h=sqrt(a**2-5**2)\n",
    "\n",
    "fl = (c*h)/2\n",
    "print(\"Ergebnis: \", fl)"
   ]
  },
  {
   "cell_type": "code",
   "execution_count": 145,
   "metadata": {},
   "outputs": [
    {
     "name": "stdout",
     "output_type": "stream",
     "text": [
      "2.8284271247461903\n",
      "4.0\n",
      "Ergebnis : 16.0\n"
     ]
    }
   ],
   "source": [
    "'''\n",
    "Aufgabe 172\n",
    "In der folgenden Skizze sind drei Quadrate und zwei Kreise dargestellt. Figuren, die sich berühren,\n",
    "berühren sich immer in exakt vier Punkten. Das kleinste Quadrat hat die Seitenlänge 2. Geben Sie\n",
    "die Fläche des größten Quadrates an.\n",
    "'''\n",
    "\n",
    "#die Dreiecke vom 2. Quadrat sind rechwinklig.  \n",
    "#zunächst diagonale des Quadrats berechnen, der gleichzeitig, der durchmesser des kleinsten Kreises ist\n",
    "from math import sqrt\n",
    "d=sqrt(2**2+2**2)\n",
    "print(d)\n",
    "#der durchmesser ist gleichzeitig auch die Kantenlänge des größeren Quadrats\n",
    "d2=sqrt(d**2+d**2)\n",
    "print(d2)\n",
    "#somit ist d2 wieder der Durchmesser vom größten Kreis und wiederum die Kantenlänge des größten Quadrats\n",
    "flaeche=d2*d2\n",
    "print(\"Ergebnis :\", flaeche)\n",
    "\n"
   ]
  },
  {
   "cell_type": "code",
   "execution_count": 148,
   "metadata": {},
   "outputs": [
    {
     "name": "stdout",
     "output_type": "stream",
     "text": [
      "Ergebnis: (2,-2) -> Da Bogenmaß bleibt die hintere Zahl so wie sie ist\n"
     ]
    }
   ],
   "source": [
    "'''\n",
    "Aufgabe 173\n",
    "Geben Sie die Polarkoordinaten von (-1,-sqrt(3)) an. Winkel phi in Bogenmaß und |phi| <= pi\n",
    "'''\n",
    "#Funktion von Seite 276 klauen\n",
    "from math import sqrt, atan2\n",
    "\n",
    "def polar(x,y):\n",
    "    return sqrt(x*x+y*y), atan2(y,x)\n",
    "\n",
    "polar(-1,-sqrt(3))\n",
    "\n",
    "print(\"Ergebnis: (2,-2) -> Da Bogenmaß bleibt die hintere Zahl so wie sie ist\")"
   ]
  },
  {
   "cell_type": "code",
   "execution_count": 2,
   "metadata": {},
   "outputs": [
    {
     "name": "stdout",
     "output_type": "stream",
     "text": [
      "(1.9999999999999998, 2.6179938779914944)\n",
      "150.0\n",
      "Lösung: (2,150°)\n"
     ]
    }
   ],
   "source": [
    "'''\n",
    "Aufgabe 174\n",
    "Geben Sie die Polarkoordinaten von (-sqrt(3),1) an.\n",
    "Winkel phi in Grad und |phi| <= 180°.)\n",
    "'''\n",
    "#wieder fkt von oben\n",
    "from math import sqrt, atan2, pi\n",
    "degToRad=(pi/180) #ins Bogenmaß\n",
    "radToDeg= (180/pi) #nachGrad\n",
    "\n",
    "def polar(x,y):\n",
    "    return sqrt(x*x+y*y), atan2(y,x)\n",
    "\n",
    "print(polar(-sqrt(3),1))\n",
    "#da diesmal Grad gefordert ist, muss man die zweite Zahl umrechnen\n",
    "print(2.6179938779914944*radToDeg)\n",
    "print(\"Lösung: (2,150°)\")"
   ]
  },
  {
   "cell_type": "code",
   "execution_count": 4,
   "metadata": {},
   "outputs": [
    {
     "data": {
      "text/plain": [
       "(171.89897367379973, -1.5824313300901574)"
      ]
     },
     "execution_count": 4,
     "metadata": {},
     "output_type": "execute_result"
    }
   ],
   "source": [
    "polar(-2,-3)"
   ]
  },
  {
   "cell_type": "code",
   "execution_count": null,
   "metadata": {},
   "outputs": [],
   "source": [
    "'''\n",
    "Aufgabe 175\n",
    "Der Punkt P hat den Abstand 10 vom Nullpunkt und liegt auf der Geraden y = -4x auf der rechten\n",
    "Seite der y-Achse. Geben Sie die kartesischen Koordinaten von P auf zwei Stellen nach dem Komma\n",
    "genau an.\n",
    "'''\n"
   ]
  },
  {
   "cell_type": "code",
   "execution_count": null,
   "metadata": {},
   "outputs": [],
   "source": [
    "'''\n",
    "!!!!!!!!!DARK MAGIC ALERT!!!!!!!!!!!\n",
    "Aufgabe 176\n",
    "Seien a und b zwei verschiedene Punkte in der Ebene, die beide nicht der Nullpunkt sind. Welche\n",
    "der folgenden Punkte liegen auf der Verbindungsgeraden von a und b? (Wie üblich werden hier\n",
    "Punkte mit ihren Ortsvektoren identifiziert.)\n",
    "[] a+b  []a-b  [x] 1/3*(2a+b)  [x]1/3*(a+2b) [x]1/3*(4a-b)\n",
    "\n",
    "#wenn das was multipliziert wird 1 ergibt\n",
    "#muss immer eins sein um auf der Linie zu liegen\n",
    "#zb x*(a*v1+b*v2) > (a+b)*x=1 -> liegt auf der geraden\n",
    "#(|a|+|b|) *x= 1 > Strecke\n",
    "\n",
    "Aufgabe 177\n",
    "Seien a und b zwei verschiedene Punkte in der Ebene, die beide nicht der Nullpunkt sind. Welche\n",
    "der folgenden Punkte liegen auf der Verbindungsstrecke zwischen a und b? (Wie üblich werden hier\n",
    "Punkte mit ihren Ortsvektoren identifiziert.)\n",
    "[]a+b []a-b [x] 1/3*(2a+b)  [x]1/3*(a+2b) []1/3*(4a-b)\n",
    "\n",
    "'''\n",
    "\n"
   ]
  },
  {
   "cell_type": "code",
   "execution_count": 5,
   "metadata": {},
   "outputs": [
    {
     "name": "stdout",
     "output_type": "stream",
     "text": [
      "a = 11\n"
     ]
    }
   ],
   "source": [
    "'''\n",
    "Aufgabe 178\n",
    "Seien p und v die Vektoren (4,5,6)T und (1,-2,3)T und g die Gerade p+Rv. Welchen Wert muss\n",
    "a haben, damit der Punkt (1, a,-3) auf g liegt?\n",
    "'''\n",
    "#zunächst gleichung aufstellen -> g=p+x*v\n",
    "\n",
    "#1. 4+x*1=1\n",
    "#2. 5+x*(-2)=a\n",
    "#3. 6+x*3=-3\n",
    "#jeweils nach x auflösen -> -3\n",
    "#dann die -3 in die zweite Gleichung einsetzen \n",
    "\n",
    "a=5+(-3*(-2))\n",
    "print(\"a =\",a)"
   ]
  },
  {
   "cell_type": "code",
   "execution_count": 18,
   "metadata": {},
   "outputs": [
    {
     "data": {
      "text/latex": [
       "$$\\left[\\begin{matrix}0.5 & -3 & x & -3\\\\-3 & 42 & -3 & 7\\\\1 & -3 & 6.28318530717959 & x\\\\-3 & x & 2 & -2.82842712474619\\end{matrix}\\right]$$"
      ],
      "text/plain": [
       "⎡0.5  -3         x                 -3        ⎤\n",
       "⎢                                            ⎥\n",
       "⎢-3   42         -3                 7        ⎥\n",
       "⎢                                            ⎥\n",
       "⎢ 1   -3  6.28318530717959          x        ⎥\n",
       "⎢                                            ⎥\n",
       "⎣-3   x          2          -2.82842712474619⎦"
      ]
     },
     "execution_count": 18,
     "metadata": {},
     "output_type": "execute_result"
    }
   ],
   "source": [
    "'''\n",
    "Aufgabe 179\n",
    "Ergänzen Sie die folgende Matrix A so, dass A.T = A gilt\n",
    "'''\n",
    "from sympy import *\n",
    "from math import pi, sqrt\n",
    "init_printing()\n",
    "x= symbols(\"x\")\n",
    "A=Matrix([[1/2,-3,x,-3], [-3,42,-3,7],[1, -3,2*pi,x],[-3,x,2,-sqrt(8)]])\n",
    "B=Matrix([[1/2,-3,1,-3], [-3,42,-3,7],[1, -3,2*pi,2],[-3,7,2,-sqrt(8)]])\n",
    "\n",
    "#zunächst A.T gebildet, dann die fehlenden Werte abgelesen und in B eingesetzt.\n"
   ]
  },
  {
   "cell_type": "code",
   "execution_count": 19,
   "metadata": {},
   "outputs": [
    {
     "data": {
      "text/latex": [
       "$$\\left[\\begin{matrix}0.5 & -3 & 1 & -3\\\\-3 & 42 & -3 & 7\\\\1 & -3 & 6.28318530717959 & 2\\\\-3 & 7 & 2 & -2.82842712474619\\end{matrix}\\right]$$"
      ],
      "text/plain": [
       "⎡0.5  -3         1                 -3        ⎤\n",
       "⎢                                            ⎥\n",
       "⎢-3   42         -3                 7        ⎥\n",
       "⎢                                            ⎥\n",
       "⎢ 1   -3  6.28318530717959          2        ⎥\n",
       "⎢                                            ⎥\n",
       "⎣-3   7          2          -2.82842712474619⎦"
      ]
     },
     "execution_count": 19,
     "metadata": {},
     "output_type": "execute_result"
    }
   ],
   "source": [
    "B"
   ]
  },
  {
   "cell_type": "code",
   "execution_count": 17,
   "metadata": {},
   "outputs": [
    {
     "name": "stdout",
     "output_type": "stream",
     "text": [
      "5.0\n"
     ]
    }
   ],
   "source": [
    "'''\n",
    "Aufgabe 164\n",
    "Der Punkt P hat die Koordinaten (12,0). Der Abstand vom Ursprung zum Punkt Q ist 13. Geben\n",
    "Sie die Koordinaten von Q an.\n",
    "'''\n",
    "#satz des pythagoras und bam.\n",
    "print(sqrt(13**2-12**2))"
   ]
  },
  {
   "cell_type": "code",
   "execution_count": 29,
   "metadata": {},
   "outputs": [
    {
     "data": {
      "text/latex": [
       "$$\\left[\\begin{matrix}1 & 0\\\\0 & 1\\end{matrix}\\right]$$"
      ],
      "text/plain": [
       "⎡1  0⎤\n",
       "⎢    ⎥\n",
       "⎣0  1⎦"
      ]
     },
     "execution_count": 29,
     "metadata": {},
     "output_type": "execute_result"
    }
   ],
   "source": [
    "'''\n",
    "\n",
    "ATTENCIONE!!!!!!!!!!!\n",
    "Ist ne Einheitsmatrix. Kein Plan. Irgendwas mit komischen Vorzeichen?\n",
    "\n",
    "\n",
    "Aufgabe 180\n",
    "Geben Sie eine 2x2-Matrix A an, für die A*A=A gilt. Die Nullmatrix \n",
    "und die Einheitsmatrix zählen nicht als Lösungen\n",
    "'''\n",
    "K=Matrix([[1,0],[0,1]])\n",
    "K*K\n",
    "\n",
    "#generator programmieren"
   ]
  },
  {
   "cell_type": "code",
   "execution_count": 30,
   "metadata": {},
   "outputs": [
    {
     "data": {
      "text/plain": [
       "'\\nAufgabe 181\\nATTENTCIONE DASSELBE WIE OBEN AHH!\\n\\nGeben Sie eine 2x2-Matrix A an, für die AxA = A.T gilt. Die Nullmatrix und die Einheitsmatrix\\nzählen nicht als Lösungen.\\n'"
      ]
     },
     "execution_count": 30,
     "metadata": {},
     "output_type": "execute_result"
    }
   ],
   "source": [
    "'''\n",
    "Aufgabe 181\n",
    "ATTENTCIONE DASSELBE WIE OBEN AHH!\n",
    "\n",
    "Geben Sie eine 2x2-Matrix A an, für die AxA = A.T gilt. Die Nullmatrix und die Einheitsmatrix\n",
    "zählen nicht als Lösungen.\n",
    "'''\n",
    "#kein Plan"
   ]
  },
  {
   "cell_type": "code",
   "execution_count": 32,
   "metadata": {},
   "outputs": [
    {
     "data": {
      "image/png": "[encoded data removed]",
      "text/latex": [
       "$$2$$"
      ],
      "text/plain": [
       "2"
      ]
     },
     "execution_count": 32,
     "metadata": {},
     "output_type": "execute_result"
    }
   ],
   "source": [
    "'''\n",
    "!!!!!!!!!!!!ATTENCIONE!!!!!!!!!!!\n",
    "\n",
    "Aufgabe 182\n",
    "Geben Sie eine 2x2-Matrix an, für die A*A=2A gilt. Die Nullmatrix \n",
    "zählt nicht als  Lösung. Aber dafuq. 2*A ist doch alles A*A..\n",
    "'''\n",
    "1+1"
   ]
  },
  {
   "cell_type": "code",
   "execution_count": 35,
   "metadata": {},
   "outputs": [
    {
     "name": "stdout",
     "output_type": "stream",
     "text": [
      "(Matrix([\n",
      "[1, 0, 0,  23],\n",
      "[0, 1, 0, -47],\n",
      "[0, 0, 1,  33]]), (0, 1, 2))\n",
      "Lösung ist ein 3er Tupel mit: (23,-47,33)\n"
     ]
    }
   ],
   "source": [
    "'''\n",
    "Aufgabe 183\n",
    "Ermitteln Sie die eindeutige Lösung des folgenden Gleichungssymstems:\n",
    "'''\n",
    "#am besten klatscht man das in eine Matrix.\n",
    "#zunächst sortiert man die komponenten >x,y,z\n",
    "from sympy import *\n",
    "\n",
    "M=Matrix([[3,2,1,8], [1,4,5,0],[2,1,1,32]])\n",
    "#und dann schummelt man mit rref()\n",
    "print(M.rref())\n",
    "\n",
    "print(\"Lösung ist ein 3er Tupel mit: (23,-47,33)\")\n"
   ]
  },
  {
   "cell_type": "code",
   "execution_count": 39,
   "metadata": {},
   "outputs": [
    {
     "data": {
      "text/latex": [
       "$$\\left ( \\left[\\begin{matrix}1 & 0 & \\frac{25}{21} & 0\\\\0 & 1 & \\frac{19}{21} & 0\\\\0 & 0 & 0 & 1\\end{matrix}\\right], \\quad \\left ( 0, \\quad 1, \\quad 3\\right )\\right )$$"
      ],
      "text/plain": [
       "⎛⎡      25   ⎤           ⎞\n",
       "⎜⎢1  0  ──  0⎥           ⎟\n",
       "⎜⎢      21   ⎥           ⎟\n",
       "⎜⎢           ⎥           ⎟\n",
       "⎜⎢      19   ⎥, (0, 1, 3)⎟\n",
       "⎜⎢0  1  ──  0⎥           ⎟\n",
       "⎜⎢      21   ⎥           ⎟\n",
       "⎜⎢           ⎥           ⎟\n",
       "⎝⎣0  0  0   1⎦           ⎠"
      ]
     },
     "execution_count": 39,
     "metadata": {},
     "output_type": "execute_result"
    }
   ],
   "source": [
    "'''\n",
    "Aufgabe 184\n",
    "Genau eines der folgenden drei linearen Gleichungssysteme hat keine Lösung.\n",
    "Welches?\n",
    "'''\n",
    "#3 matrizen\n",
    "\n",
    "A=Matrix([[1,2,3,-1],[7,-7,2,2],[1,2,3,1]])\n",
    "B=Matrix([[1,2,3,1],[7,-7,2,2],[1,2,4,1]])\n",
    "C=Matrix([[1,2,3,-1],[7,-7,2,2],[1,2,3,-1]])\n",
    "A.rref()\n",
    "#A\n",
    "\n",
    "#>Kiwan spicken Linsolve"
   ]
  },
  {
   "cell_type": "code",
   "execution_count": 40,
   "metadata": {},
   "outputs": [
    {
     "data": {
      "text/latex": [
       "$$\\left ( \\left[\\begin{matrix}1 & 0 & 0 & \\frac{11}{21}\\\\0 & 1 & 0 & \\frac{5}{21}\\\\0 & 0 & 1 & 0\\end{matrix}\\right], \\quad \\left ( 0, \\quad 1, \\quad 2\\right )\\right )$$"
      ],
      "text/plain": [
       "⎛⎡          11 ⎤           ⎞\n",
       "⎜⎢1  0  0   ── ⎥           ⎟\n",
       "⎜⎢          21 ⎥           ⎟\n",
       "⎜⎢             ⎥, (0, 1, 2)⎟\n",
       "⎜⎢0  1  0  5/21⎥           ⎟\n",
       "⎜⎢             ⎥           ⎟\n",
       "⎝⎣0  0  1   0  ⎦           ⎠"
      ]
     },
     "execution_count": 40,
     "metadata": {},
     "output_type": "execute_result"
    }
   ],
   "source": [
    "B.rref()"
   ]
  },
  {
   "cell_type": "code",
   "execution_count": 41,
   "metadata": {},
   "outputs": [
    {
     "data": {
      "text/latex": [
       "$$\\left ( \\left[\\begin{matrix}1 & 0 & \\frac{25}{21} & - \\frac{1}{7}\\\\0 & 1 & \\frac{19}{21} & - \\frac{3}{7}\\\\0 & 0 & 0 & 0\\end{matrix}\\right], \\quad \\left ( 0, \\quad 1\\right )\\right )$$"
      ],
      "text/plain": [
       "⎛⎡      25      ⎤        ⎞\n",
       "⎜⎢1  0  ──  -1/7⎥        ⎟\n",
       "⎜⎢      21      ⎥        ⎟\n",
       "⎜⎢              ⎥        ⎟\n",
       "⎜⎢      19      ⎥, (0, 1)⎟\n",
       "⎜⎢0  1  ──  -3/7⎥        ⎟\n",
       "⎜⎢      21      ⎥        ⎟\n",
       "⎜⎢              ⎥        ⎟\n",
       "⎝⎣0  0  0    0  ⎦        ⎠"
      ]
     },
     "execution_count": 41,
     "metadata": {},
     "output_type": "execute_result"
    }
   ],
   "source": [
    "C.rref()"
   ]
  },
  {
   "cell_type": "code",
   "execution_count": null,
   "metadata": {},
   "outputs": [],
   "source": []
  }
 ],
 "metadata": {
  "kernelspec": {
   "display_name": "Python 3",
   "language": "python",
   "name": "python3"
  },
  "language_info": {
   "codemirror_mode": {
    "name": "ipython",
    "version": 3
   },
   "file_extension": ".py",
   "mimetype": "text/x-python",
   "name": "python",
   "nbconvert_exporter": "python",
   "pygments_lexer": "ipython3",
   "version": "3.7.3"
  }
 },
 "nbformat": 4,
 "nbformat_minor": 2
}
