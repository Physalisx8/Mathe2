{
 "cells": [
  {
   "cell_type": "code",
   "execution_count": null,
   "metadata": {},
   "outputs": [],
   "source": [
    "#Nr.122\n",
    "#A = {10/n: n € N+} = {10/1, 10/2, 10/3, ..., 10/4567890, ...}\n",
    "#Gesucht ist ein Intervall, in das gerade noch so alle Elemente von A reinpassen (\"kleinstes Interevall I oberhalb von A\")\n",
    "#Gegeben für: I = (0, 10]\n",
    "\n",
    "#A ist vollständig in I enthalten (A c_ I), #Anm.: c_ = Teilmenge (c mit Strich darunter)\n",
    "#aber in I sind noch unendlich viele irrationale Zahlen\n",
    "#Ich denke, das ist mit A c_/ J und J C_, I gemeint #Anm.: c_/ = keine Teilmenge (komplett durchgestrichen)\n",
    "#                                                          c_, = echte Teilmenge (nur unterer Strich durchgestrichen)\n",
    "\n",
    "#Lösung: (0, 10]"
   ]
  },
  {
   "cell_type": "code",
   "execution_count": null,
   "metadata": {},
   "outputs": [],
   "source": [
    "#Nr.123\n",
    "#A = {m/n: m € Z und n € N+ und |m| < |n|}\n",
    "#Betrag vom Zähler ist immer kleiner als vom Nenner; kommt immer näher an -1 bzw. 1 -> I = (-1, 1)\n",
    "#siehe auch Erklärung bei Nr.122\n",
    "#Lösung: (-1, 1)"
   ]
  },
  {
   "cell_type": "code",
   "execution_count": null,
   "metadata": {},
   "outputs": [],
   "source": [
    "#Nr.134\n",
    "#Die Potenzmenge einer Potenzmenge einer Menge der Mächtigkeit n ist 2**2**n\n",
    "#|A| = 10\n",
    "pow(pow(2,2),10), (2**2)**10 #Achtung: 2**2**10 ohne Klammern funktioniert nicht\n",
    "#https://math.stackexchange.com/questions/1253260/is-power-set-of-a-power-set-of-a-set-equal-to-the-power-set-of-the-same-set/1253271\n",
    "#Lösung: 1048576"
   ]
  },
  {
   "cell_type": "code",
   "execution_count": 2,
   "metadata": {},
   "outputs": [
    {
     "data": {
      "text/plain": [
       "4.47213595499958"
      ]
     },
     "execution_count": 2,
     "metadata": {},
     "output_type": "execute_result"
    }
   ],
   "source": [
    "#Nr.135\n",
    "from math import sqrt\n",
    "c = 1\n",
    "for i in range(2):\n",
    "    c = (11 * c) % 13\n",
    "c #abwechselnd 4; 10; 12 -> Aufgabe hat 10 2en -> 4\n",
    "2*sqrt(5)\n",
    "#Lösung: 4"
   ]
  },
  {
   "cell_type": "code",
   "execution_count": 30,
   "metadata": {},
   "outputs": [
    {
     "data": {
      "text/plain": [
       "1"
      ]
     },
     "execution_count": 30,
     "metadata": {},
     "output_type": "execute_result"
    }
   ],
   "source": [
    "#Nr.136\n",
    "def foo ():\n",
    "    k = 0\n",
    "    while True:\n",
    "        yield k\n",
    "        k += 1\n",
    "        \n",
    "c, s = 0, 0\n",
    "for i in foo():\n",
    "    s = (s + i) % 3\n",
    "    c += 1\n",
    "    if c > 333334:\n",
    "        break\n",
    "s\n",
    "#Lösung: 1"
   ]
  },
  {
   "cell_type": "code",
   "execution_count": 2,
   "metadata": {},
   "outputs": [
    {
     "data": {
      "text/plain": [
       "[Fraction(1, 2),\n",
       " Fraction(1, 3),\n",
       " Fraction(1, 4),\n",
       " Fraction(2, 3),\n",
       " Fraction(1, 5),\n",
       " Fraction(1, 6),\n",
       " Fraction(2, 5),\n",
       " Fraction(3, 4),\n",
       " Fraction(1, 7),\n",
       " Fraction(3, 5)]"
      ]
     },
     "execution_count": 2,
     "metadata": {},
     "output_type": "execute_result"
    }
   ],
   "source": [
    "#Nr.137\n",
    "from fractions import Fraction\n",
    "from math import *\n",
    "def foo():\n",
    "    i = 3\n",
    "    while True:\n",
    "        for m in range(1, ceil(i / 2)): #ceil rundet immer auf (entsprechend gibt es floor, was immer abrundet)\n",
    "            n = i - m\n",
    "            if gcd(m,n) == 1:\n",
    "                yield Fraction(m, n)\n",
    "        i += 1\n",
    "def viewGen (gen, n): #Gibt die ersten n Elemente des Generators gen aus\n",
    "    c = 1\n",
    "    L = []\n",
    "    for x in gen:\n",
    "        if c > n:\n",
    "            break\n",
    "        L.append(x)\n",
    "        c += 1\n",
    "    return L\n",
    "viewGen(foo(),10)\n",
    "\n",
    "#Vorgehensweise: die ersten Ausgaben der Funktion einfach händisch aufschreiben (s. unten)\n",
    "#Irgendwann kam mir der Gedanke, dass man bei den Brüchen, die gekürzt werden (z.B. bei i=6 -> 2/4 = 1/2), \n",
    "#das m und n abfangen muss. Die gekürzten sind genau die, die mehrmals ausgegeben werden\n",
    "#Beim Überfliegen der Doku zur math-Bib fiel mir durch gcd auf, die Brüche werden nicht gekürzt, wenn Zähler oder Nenner\n",
    "#aus ner 1 oder ner Primzahl bestehen\n",
    "#Anmerkung im Nachhinein: das obige stimmt nicht ganz. Bei z.B. 2/6 hat man auch eine Primzahl, aber der Bruch kann gekürzt\n",
    "#werden. Also gilt meine Annahme nicht, wenn der Nenner ein Vielfaches der Primzahl aus dem Zähler ist.\n",
    "#Lösung müsste so aber trotzdem stimmen\n",
    "\n",
    "#Rückschluss: wenn der ggT größer als 1 ist, wird der Bruch gekürzt. Diesen Fall einfach abfangen\n",
    "\n",
    "#Lösung: if gcd(m,n) == 1"
   ]
  },
  {
   "cell_type": "code",
   "execution_count": null,
   "metadata": {},
   "outputs": [],
   "source": [
    "#zu 137 (siehe \"Vorgehensweise\")\n",
    "\"\"\"\n",
    "i=3\n",
    "m in range(1,2)\n",
    "n=2\n",
    "1/2\n",
    "\n",
    "i=4\n",
    "m in range(1,2)\n",
    "n=3\n",
    "1/3\n",
    "\n",
    "i=5\n",
    "m in range(1,3)\n",
    "n=4\n",
    "n=3\n",
    "1/4\n",
    "2/3\n",
    "\n",
    "i=6\n",
    "m in range(1,3)\n",
    "n=5\n",
    "n=4\n",
    "1/5\n",
    "2/4=1/2\n",
    "\n",
    "i=7\n",
    "m in range(1,4)\n",
    "n=6\n",
    "n=5\n",
    "n=4\n",
    "1/6\n",
    "2/5\n",
    "3/4\n",
    "\n",
    "i=8\n",
    "m in range(1,4)\n",
    "n=7\n",
    "n=6\n",
    "n=5\n",
    "1/7\n",
    "2/6=1/3\n",
    "3/5\n",
    "\"\"\""
   ]
  },
  {
   "cell_type": "code",
   "execution_count": 27,
   "metadata": {},
   "outputs": [
    {
     "data": {
      "text/plain": [
       "[2, 3, 5, 7, 11, 13, 17, 19, 23, 29]"
      ]
     },
     "execution_count": 27,
     "metadata": {},
     "output_type": "execute_result"
    }
   ],
   "source": [
    "#Nr.138\n",
    "from math import sqrt\n",
    "def foo (n = False):\n",
    "    k = 2\n",
    "    while not n or k <= n:\n",
    "        X = True\n",
    "        for p in foo(sqrt(k)): #kp was die Zeile soll\n",
    "            if k % p == 0:\n",
    "                X = False\n",
    "                break\n",
    "        if X:\n",
    "            yield k\n",
    "        k += 1\n",
    "\n",
    "def viewGen (gen, n): #Gibt die ersten n Elemente des Generators gen aus\n",
    "    c = 1\n",
    "    L = []\n",
    "    for x in gen:\n",
    "        if c > n:\n",
    "            break\n",
    "        L.append(x)\n",
    "        c += 1\n",
    "    return L\n",
    "viewGen(foo(),10)"
   ]
  },
  {
   "cell_type": "code",
   "execution_count": 49,
   "metadata": {},
   "outputs": [
    {
     "data": {
      "text/plain": [
       "[2, 6, 18, 54, 162, 486, 1458, 4374, 13122, 39366]"
      ]
     },
     "execution_count": 49,
     "metadata": {},
     "output_type": "execute_result"
    }
   ],
   "source": [
    "#Nr.140\n",
    "def foo():\n",
    "    i = 2\n",
    "    while True:\n",
    "        yield i\n",
    "        i *= 3\n",
    "def viewGen (gen, n): #Gibt die ersten n Elemente des Generators gen aus\n",
    "    c = 1\n",
    "    L = []\n",
    "    for x in gen:\n",
    "        if c > n:\n",
    "            break\n",
    "        L.append(x)\n",
    "        c += 1\n",
    "    return L\n",
    "viewGen(foo(),10)\n",
    "#Lösung: {2*3**i: i € N}"
   ]
  },
  {
   "cell_type": "code",
   "execution_count": 46,
   "metadata": {},
   "outputs": [
    {
     "data": {
      "text/plain": [
       "[2, 8, 32, 128, 512, 2048, 8192, 32768, 131072, 524288]"
      ]
     },
     "execution_count": 46,
     "metadata": {},
     "output_type": "execute_result"
    }
   ],
   "source": [
    "#Nr.141\n",
    "def foo():\n",
    "    i = 2\n",
    "    while True:\n",
    "        yield i\n",
    "        i *= 4\n",
    "def viewGen (gen, n): #Gibt die ersten n Elemente des Generators gen aus\n",
    "    c = 1\n",
    "    L = []\n",
    "    for x in gen:\n",
    "        if c > n:\n",
    "            break\n",
    "        L.append(x)\n",
    "        c += 1\n",
    "    return L\n",
    "viewGen(foo(),10)\n",
    "#Lösung: {2*4**i: i € N}"
   ]
  },
  {
   "cell_type": "code",
   "execution_count": 50,
   "metadata": {},
   "outputs": [],
   "source": [
    "#Nr.142\n",
    "from sympy import prime #n-te Primzahl; prime(1)=2, prime(3)=5, prime(10)=29\n",
    "from random import randrange\n",
    "def foo():\n",
    "    i = 0\n",
    "    while True:\n",
    "        i += 1\n",
    "        p = 1\n",
    "        for k in range(i):\n",
    "            p *= prime(randrange(1,i+2))\n",
    "        yield p\n",
    "#für i = 1\n",
    "    #p=1\n",
    "    #k range: 0\n",
    "        #p*=prime(1 oder 2) -> p = 2 oder 3\n",
    "        #die ersten 2 Lösungen sind also: 0 und 1\n",
    "#für i = 2\n",
    "    #p=1\n",
    "    #k range: 0 bis 1\n",
    "        #k=0: p*=prime(1,2 oder 3) -> p = 2,3 oder 5 (die werden noch nicht geyielded!)\n",
    "        #k=1: p*=prime(1,2 oder 3) -> p = 4,6,9,10,15,25\n",
    "        #letzte Lösung ist 5\n",
    "#Lösung: 0, 1, 5"
   ]
  },
  {
   "cell_type": "code",
   "execution_count": 185,
   "metadata": {},
   "outputs": [],
   "source": [
    "#Nr.143\n",
    "from random import randrange\n",
    "def foo():\n",
    "    i = 0\n",
    "    while True:\n",
    "        i += 1\n",
    "        yield randrange(1,i+3)**i\n",
    "#für i = 1\n",
    "    #mögliche range: (1,i+3)**i -> (1,4) -> 1,2,3\n",
    "#für i = 2\n",
    "    #(1,5)**2 -> 1,4,9,16\n",
    "#für i = 3\n",
    "    #(1,6)**3 -> 1,8,27,64,125\n",
    "#...\n",
    "#5 wird nie ausgegeben\n",
    "#Lösung: 5"
   ]
  },
  {
   "cell_type": "code",
   "execution_count": 158,
   "metadata": {},
   "outputs": [
    {
     "data": {
      "text/plain": [
       "[1, 1, 2, 6, 24, 120, 720, 5040, 40320, 362880]"
      ]
     },
     "execution_count": 158,
     "metadata": {},
     "output_type": "execute_result"
    }
   ],
   "source": [
    "#Nr.144\n",
    "def foo():\n",
    "    f, k = 1, 1\n",
    "    while True:\n",
    "        yield f\n",
    "        f *= k\n",
    "        k += 1\n",
    "def viewGen (gen, n): #Gibt die ersten n Elemente des Generators gen aus\n",
    "    c = 1\n",
    "    L = []\n",
    "    for x in gen:\n",
    "        if c > n:\n",
    "            break\n",
    "        L.append(x)\n",
    "        c += 1\n",
    "    return L\n",
    "viewGen(foo(),10)\n",
    "\n",
    "#foo macht dasselbe wie\n",
    "#f = 1\n",
    "#for k in range(1,11):\n",
    "#    print(f)\n",
    "#    f*=k\n",
    "\n",
    "#Lösung: {f € N: f!}"
   ]
  },
  {
   "cell_type": "code",
   "execution_count": 82,
   "metadata": {},
   "outputs": [
    {
     "data": {
      "text/plain": [
       "[Fraction(1, 1),\n",
       " Fraction(3, 2),\n",
       " Fraction(4, 3),\n",
       " Fraction(5, 3),\n",
       " Fraction(5, 4),\n",
       " Fraction(7, 4),\n",
       " Fraction(6, 5),\n",
       " Fraction(7, 5),\n",
       " Fraction(8, 5),\n",
       " Fraction(9, 5)]"
      ]
     },
     "execution_count": 82,
     "metadata": {},
     "output_type": "execute_result"
    }
   ],
   "source": [
    "#Nr.145\n",
    "from math import gcd\n",
    "from fractions import Fraction\n",
    "def foo():\n",
    "    i = 1\n",
    "    while True:\n",
    "        for k in range(i, 2*i):\n",
    "            if gcd(k, i) == 1:\n",
    "                yield Fraction(k, i)\n",
    "        i += 1\n",
    "def viewGen (gen, n): #Gibt die ersten n Elemente des Generators gen aus\n",
    "    c = 1\n",
    "    L = []\n",
    "    for x in gen:\n",
    "        if c > n:\n",
    "            break\n",
    "        L.append(x)\n",
    "        c += 1\n",
    "    return L\n",
    "viewGen(foo(),10)\n",
    "#Lösung: {k/i: k,i € N und k>=i und k/i<2}"
   ]
  },
  {
   "cell_type": "code",
   "execution_count": 15,
   "metadata": {},
   "outputs": [
    {
     "name": "stdout",
     "output_type": "stream",
     "text": [
      "True\n",
      "True\n",
      "False\n",
      "False\n",
      "True\n"
     ]
    }
   ],
   "source": [
    "#Nr.146\n",
    "from sympy import *\n",
    "def rightUnique (f):\n",
    "    for x1,y1 in f:\n",
    "        for x2,y2 in f:\n",
    "            if x1==x2 and y1!=y2:\n",
    "                return False\n",
    "    return True\n",
    "def square():\n",
    "    return {(z**2,z) for z in range(-50,50)}\n",
    "def cube():\n",
    "    return {(z**3,z) for z in range(-50,50)}\n",
    "print(rightUnique({(1,2),(2,2),(3,2),(4,2)}))\n",
    "print(rightUnique({(5,6),(6,7),(7,8),(8,9)}))\n",
    "print(rightUnique({(2,1),(2,2),(8,7),(9,8)}))\n",
    "print(rightUnique(square()))\n",
    "print(rightUnique(cube()))\n",
    "#Richtig: a,b,e"
   ]
  },
  {
   "cell_type": "code",
   "execution_count": 8,
   "metadata": {},
   "outputs": [
    {
     "name": "stdout",
     "output_type": "stream",
     "text": [
      "3*x + 3\n",
      "2*x*(x + 3)\n",
      "2*x + 6\n",
      "2*x + 3\n"
     ]
    }
   ],
   "source": [
    "#Nr.147\n",
    "from sympy import *\n",
    "x = symbols(\"x\")\n",
    "def f(x):\n",
    "    return 2*x\n",
    "def g(x):\n",
    "    return x+3\n",
    "print(f(x)+g(x)) #Richtig\n",
    "print(f(x)*g(x)) #x**2 (nach Ausmultiplizieren), deshalb falsch\n",
    "print(f(g(x))) #Richtig\n",
    "print(g(f(x))) #Richtig"
   ]
  },
  {
   "cell_type": "code",
   "execution_count": 9,
   "metadata": {},
   "outputs": [
    {
     "name": "stdout",
     "output_type": "stream",
     "text": [
      "-8\n",
      "-4*x - 12\n",
      "(-2*x - 4)*(2*x - 4)\n",
      "-4*x + 4\n"
     ]
    }
   ],
   "source": [
    "#Nr.148\n",
    "from sympy import *\n",
    "x = symbols(\"x\")\n",
    "def f(x):\n",
    "    return 2*x-4\n",
    "def g(x):\n",
    "    return (-2)*x-4\n",
    "print(f(x)+g(x)) #Falsch, weil eine Konstante rauskommt\n",
    "print(f(g(x))) #Richtig\n",
    "print(f(x)*g(x))\n",
    "print(g(f(x))) #Richtig"
   ]
  },
  {
   "cell_type": "code",
   "execution_count": 34,
   "metadata": {},
   "outputs": [
    {
     "name": "stdout",
     "output_type": "stream",
     "text": [
      "2*x**3\n",
      "x**2 + 2*x\n",
      "4*x**2\n",
      "2*x**2\n"
     ]
    }
   ],
   "source": [
    "#Nr.149\n",
    "from sympy import *\n",
    "x = symbols(\"x\")\n",
    "def f(x):\n",
    "    return 2*x\n",
    "def g(x):\n",
    "    return x**2\n",
    "print(f(x)*g(x)) #Richtig, weil die Potenz ungerade ist\n",
    "print(f(x)+g(x))\n",
    "print(g(f(x))) \n",
    "print(f(g(x)))"
   ]
  },
  {
   "cell_type": "code",
   "execution_count": 7,
   "metadata": {},
   "outputs": [
    {
     "name": "stdout",
     "output_type": "stream",
     "text": [
      "x\n",
      "(x, x)\n",
      "(x, x)\n"
     ]
    }
   ],
   "source": [
    "\"!\"\n",
    "#Nr.150\n",
    "from sympy import *\n",
    "x,y = symbols(\"x y\")\n",
    "def f(x,y):\n",
    "    return x\n",
    "def g(x):\n",
    "    return (x,x)\n",
    "print(f(x,y))\n",
    "print(g(x))\n",
    "print(g(f(x,y)))"
   ]
  },
  {
   "cell_type": "code",
   "execution_count": 11,
   "metadata": {},
   "outputs": [
    {
     "name": "stdout",
     "output_type": "stream",
     "text": [
      "x**5\n",
      "x**6\n",
      "x**4\n",
      "x**9\n"
     ]
    }
   ],
   "source": [
    "#Nr.154\n",
    "from sympy import *\n",
    "x = symbols(\"x\")\n",
    "def f(x):\n",
    "    return x**2\n",
    "def g(x):\n",
    "    return x**3\n",
    "print(f(x)*g(x)) #Richtig, weil die Potenz ungerade ist\n",
    "print(f(g(x)))\n",
    "print(f(f(x)))\n",
    "print(g(g(x))) #Richtig, weil die Potenz ungerade ist"
   ]
  },
  {
   "cell_type": "code",
   "execution_count": 155,
   "metadata": {},
   "outputs": [
    {
     "name": "stdout",
     "output_type": "stream",
     "text": [
      "x**5\n",
      "x**6\n",
      "x**4\n",
      "x**9\n"
     ]
    }
   ],
   "source": [
    "#Nr.155\n",
    "from sympy import *\n",
    "x = symbols(\"x\")\n",
    "def f(x):\n",
    "    return x**2\n",
    "def g(x):\n",
    "    return x**3\n",
    "print(f(x)*g(x)) #Richtig, weil die Potenz ungerade ist\n",
    "print(f(g(x))) #Falsch wegen gerader Potenz (negative Zahlen werden nicht abgebildet)\n",
    "print(f(f(x)))\n",
    "print(g(g(x))) #Richtig, weil die Potenz ungerade ist"
   ]
  },
  {
   "cell_type": "code",
   "execution_count": 18,
   "metadata": {},
   "outputs": [
    {
     "data": {
      "text/plain": [
       "3574215"
      ]
     },
     "execution_count": 18,
     "metadata": {},
     "output_type": "execute_result"
    }
   ],
   "source": [
    "#Nr.156\n",
    "from sympy import *\n",
    "x = symbols(\"x\")\n",
    "def f(x):\n",
    "    return 5*x\n",
    "def g(x):\n",
    "    return x+3\n",
    "def h(x):\n",
    "    return f(g(x))\n",
    "#h = f(g(x))\n",
    "#h2 = h(h(x))\n",
    "h(h(h(h(h(h(h(42)))))))\n",
    "#Lösung: 3574215"
   ]
  },
  {
   "cell_type": "code",
   "execution_count": 1,
   "metadata": {},
   "outputs": [
    {
     "data": {
      "text/plain": [
       "2.2360679774997896964091736687313"
      ]
     },
     "execution_count": 1,
     "metadata": {},
     "output_type": "execute_result"
    }
   ],
   "source": [
    "#Nr.157\n",
    "from sympy import *\n",
    "sqrt(5).evalf(32) #Lösung:1 -> zwei mehr ausgeben lassen wegen Rundung und weil Vorkommastelle wohl auch dazu zählt (bei größeren Vorkammestellen also evtl. noch mehr?)\n",
    "#Alternativ: N(sqrt(5), 32)"
   ]
  },
  {
   "cell_type": "code",
   "execution_count": 4,
   "metadata": {},
   "outputs": [
    {
     "data": {
      "text/plain": [
       "147197952743.99999866245422450682926131257862850818"
      ]
     },
     "execution_count": 4,
     "metadata": {},
     "output_type": "execute_result"
    }
   ],
   "source": [
    "#Nr.158\n",
    "from sympy import *\n",
    "(E**(pi*sqrt(67))).evalf(50)\n",
    "#Lösung: 8"
   ]
  },
  {
   "cell_type": "code",
   "execution_count": 10,
   "metadata": {},
   "outputs": [
    {
     "data": {
      "text/plain": [
       "262537412640768743.99999999999925007259719818568888"
      ]
     },
     "execution_count": 10,
     "metadata": {},
     "output_type": "execute_result"
    }
   ],
   "source": [
    "#Nr.159\n",
    "from sympy import *\n",
    "(E**(pi*sqrt(163))).evalf(50)\n",
    "#Lösung: 9"
   ]
  },
  {
   "cell_type": "code",
   "execution_count": 10,
   "metadata": {},
   "outputs": [
    {
     "data": {
      "text/plain": [
       "1428571428571428571428571428571428571428571428571428571428571428571428571428571428571428571428571428.57142857143"
      ]
     },
     "execution_count": 10,
     "metadata": {},
     "output_type": "execute_result"
    }
   ],
   "source": [
    "#Nr.160\n",
    "from sympy import *\n",
    "(Rational(10**100, 7)).evalf(111) #Rational() sind Brüche in sympy\n",
    "#Lösung: 1"
   ]
  },
  {
   "cell_type": "code",
   "execution_count": 8,
   "metadata": {
    "scrolled": true
   },
   "outputs": [],
   "source": [
    "#Nr.161\n",
    "from sympy import *\n",
    "#(Rational(10**1000000, 7)).evalf(1111111) #Rational() sind Brüche in sympy\n",
    "#Dauert sau lange oof (und hat beim 2. Versuch nach 10 Min. nicht gefunzt lmao); mit strg+F nach . suchen\n",
    "#Lösung: 1"
   ]
  },
  {
   "cell_type": "code",
   "execution_count": 38,
   "metadata": {},
   "outputs": [
    {
     "name": "stdout",
     "output_type": "stream",
     "text": [
      "-1.0000000000000000000 -1.0000000000000000000 -0.99999999999999999718 -0.99999999924368013310\n",
      "Test: -0.99\n"
     ]
    }
   ],
   "source": [
    "#Nr.162\n",
    "from sympy import *\n",
    "a = N(-1+10**-18,20)\n",
    "b = N(-1+10**-17,20)\n",
    "c = cos(pi*cos(ln(pi+20))).evalf(20)\n",
    "d = cos(ln(pi+20)).evalf(20)\n",
    "print(a, b, c, d)\n",
    "#a und b werden von Python gerundet :/\n",
    "#c > d, weil c 17 9en nach dem Komma hat und d nur 9 9en\n",
    "\n",
    "print(\"Test:\", -1 + 10**-2) #so erhält man 2 9en nach dem Komma\n",
    "#dementsprechend haben a und b 18 bzw. 17 9en nach dem Komma, a ist also die kleinste Zahl\n",
    "#Lösung: a"
   ]
  },
  {
   "cell_type": "code",
   "execution_count": 37,
   "metadata": {},
   "outputs": [
    {
     "data": {
      "text/plain": [
       "(-0.9999999992436801331, -0.99999999999999999718, -0.99999999999999997857, -1.0)"
      ]
     },
     "execution_count": 37,
     "metadata": {},
     "output_type": "execute_result"
    }
   ],
   "source": [
    "#Nr.163\n",
    "from sympy import *\n",
    "a = N(cos(ln(pi+20)),20)\n",
    "b = N(cos(pi*cos(ln(pi+20))),20)\n",
    "c = N(sin(2017*root(2,5)),20)\n",
    "d = N(-9*2071723*5363222357*10**-17,15) #-9*2071723*5363222357= -99999999999999999‬ (17 9en); * 10**-17 = -0.99...9 (17 9en)\n",
    "a,b,c,d\n",
    "#a hat 9, c hat 16 9en nach dem Komma\n",
    "#b hat 17, d auch 17; d endet jedoch nach diesen 17 9en (auch wenn Python das nicht anzeigt)\n",
    "#da b noch mehr Stellen d hat ist das die kleinste Zahl\n",
    "#Lösung: b"
   ]
  },
  {
   "cell_type": "code",
   "execution_count": 38,
   "metadata": {},
   "outputs": [
    {
     "data": {
      "text/plain": [
       "5.0"
      ]
     },
     "execution_count": 38,
     "metadata": {},
     "output_type": "execute_result"
    }
   ],
   "source": [
    "#Nr.164\n",
    "#Dreieck mit Eckpunkten P, Q und Ursprung\n",
    "#P(12, 0) -> Untere Seite hat Länge 12\n",
    "#Hypotenuse hat Länge 13\n",
    "#13*13 = 12*12 + PQ*PQ\n",
    "PQ = sqrt(13*13 - 12*12)\n",
    "PQ\n",
    "#Q hat dieselbe x-Koordinate wie P (erkennbar an rechtem Winkel bei Strecke PQ)\n",
    "#Lösung: Q(12, 5)"
   ]
  },
  {
   "cell_type": "code",
   "execution_count": 8,
   "metadata": {},
   "outputs": [
    {
     "data": {
      "text/plain": [
       "(4.698463103929542,\n",
       " 5.320888862379561,\n",
       " 1.7101007166283435,\n",
       " 4.698463103929543,\n",
       " 5.320888862379561,\n",
       " 1.7101007166283442)"
      ]
     },
     "execution_count": 8,
     "metadata": {},
     "output_type": "execute_result"
    }
   ],
   "source": [
    "#Nr.165\n",
    "from math import *\n",
    "degToRad = (pi/180)\n",
    "radToDeg = (180/pi)\n",
    "richtig = 5 * sin(70*degToRad)\n",
    "a1 = 5 / cos(20*degToRad)\n",
    "a2 = 5 * sin(20*degToRad)\n",
    "a3 = 5 * cos(20*degToRad)\n",
    "a4 = 5 / sin(70*degToRad)\n",
    "a5 = 5 * cos(70*degToRad)\n",
    "richtig,a1,a2,a3,a4,a5\n",
    "#Lösung: a3\n",
    "\n",
    "#Alternativ: Dritter Winkel = 180-90-70 = 20\n",
    "#dann kriegt man die Seite entweder mit 5*sin(70) oder eben mit 5*cos(20)"
   ]
  },
  {
   "cell_type": "code",
   "execution_count": 2,
   "metadata": {},
   "outputs": [
    {
     "name": "stdout",
     "output_type": "stream",
     "text": [
      "d1: 24.748737341529164\n",
      "d2: 28.577380332470412\n",
      "d3: 7.657285981882495\n"
     ]
    }
   ],
   "source": [
    "#Nr.166\n",
    "#Wenn 2 Nachkommastellen gefordert sind, NICHT mit sympy rechnen, sondern mit math\n",
    "from math import *\n",
    "degToRad = (pi/180)\n",
    "radToDeg = (180/pi)\n",
    "#Länge der Diagonalen im Quadrat: 35\n",
    "#Unten rechts 90°, anderen beiden Winkel müssen je 45° sein\n",
    "#45° unterteilt in 2*Alpha und Alpha -> 45° / 3 = 15° = Alpha\n",
    "\n",
    "#Großes Dreieck: Hypotenuse 35, Winkel 45°, Ankathete d1 gesucht\n",
    "#cos(45) = d1 / 35\n",
    "d1 = cos(45*degToRad) * 35 #besser in Variable speichern, sonst gibts am Ende Rundungsfehler\n",
    "print(\"d1:\",d1)\n",
    "\n",
    "#Mittleres Dreieck: Ankathete d1, Winkel 2*Alpha 30°, Hypotenuse d2 gesucht\n",
    "#cos(30) = d1 / d2\n",
    "d2 = d1 / cos(30*degToRad)\n",
    "print(\"d2:\",d2)\n",
    "\n",
    "#Kleines Dreieck mit gesuchter Seite: Ankathete d2, Winkel Alpha 15°\n",
    "#tan(15) = d3 / d2\n",
    "d3 = tan(15*degToRad) * d2\n",
    "print(\"d3:\",d3)\n",
    "#Lösung: 7.66"
   ]
  },
  {
   "cell_type": "code",
   "execution_count": 5,
   "metadata": {},
   "outputs": [
    {
     "name": "stdout",
     "output_type": "stream",
     "text": [
      "d1: 24.748737341529164\n",
      "d2: 25.621778264910706\n",
      "d3: 14.792740578363098\n"
     ]
    }
   ],
   "source": [
    "#Nr.167\n",
    "from math import *\n",
    "degToRad = (pi/180)\n",
    "radToDeg = (180/pi)\n",
    "#Länge der Diagonalen im Quadrat: 35\n",
    "#Unten rechts 90°, anderen beiden Winkel müssen je 45° sein\n",
    "#45° unterteilt in 2*Alpha und Alpha -> 45° / 3 = 15° = Alpha\n",
    "\n",
    "#Großes Dreieck: Hypotenuse 35, Winkel 45°, Ankathete d1 gesucht\n",
    "#cos(45) = d1 / 35\n",
    "d1 = cos(45*degToRad) * 35 #besser in Variable speichern, sonst gibts am Ende Rundungsfehler\n",
    "print(\"d1:\",d1)\n",
    "\n",
    "#Kleines Dreieck: Ankathete d1, Winkel Alpha 15°, Hypotenuse d2 gesucht\n",
    "#cos(15) = d1 / d2\n",
    "d2 = d1 / cos(15*degToRad)\n",
    "print(\"d2:\",d2)\n",
    "\n",
    "#Mittleres Dreieck mit gesuchter Seite: Ankathete d2, Winkel 2*Alpha 30°, Gegenkathete gesucht\n",
    "#tan(30) = d3 / d2\n",
    "d3 = tan(30*degToRad) * d2\n",
    "print(\"d3:\",d3)\n",
    "#Lösung: 14.79"
   ]
  },
  {
   "cell_type": "code",
   "execution_count": 35,
   "metadata": {},
   "outputs": [
    {
     "name": "stdout",
     "output_type": "stream",
     "text": [
      "Alpha: 18.43494882292201\n",
      "c: 6.324555320336759\n",
      "e: 2.9999999999999987\n"
     ]
    }
   ],
   "source": [
    "#Nr.168\n",
    "from math import *\n",
    "degToRad = (pi/180)\n",
    "radToDeg = (180/pi)\n",
    "a,b,d = 6,2,7\n",
    "#Kleiner Winkel im unteren Dreieck: Tangens von Gegen- (b) zu Ankathete (a)\n",
    "#tan(Alpha) = b/a\n",
    "Alpha = atan(b/a)*radToDeg #radToDeg nicht in die atan-Klammer!\n",
    "print(\"Alpha:\", Alpha)\n",
    "#war eig unnötig da mit Pythagoras einfacher, aber mit b/sin(Alpha) bzw. a/cos(Alpha) kommt man auf dasselbe Ergebnis\n",
    "\n",
    "#Hypotenuse c des unteren Dreiecks mit Satz des Pythagoras\n",
    "c = sqrt(a*a + b*b)\n",
    "print(\"c:\", c)\n",
    "\n",
    "#gesuchte Seite e mit Umstellung des Satzes des Pythagoras\n",
    "#d*d = c*c + e*e\n",
    "#e*e = d*d - c*c\n",
    "e = sqrt(d*d - c*c)\n",
    "print(\"e:\", e)\n",
    "#Lösung: 3.00"
   ]
  },
  {
   "cell_type": "code",
   "execution_count": 4,
   "metadata": {},
   "outputs": [
    {
     "data": {
      "text/plain": [
       "58.778525229247315"
      ]
     },
     "execution_count": 4,
     "metadata": {},
     "output_type": "execute_result"
    }
   ],
   "source": [
    "#Nr.169\n",
    "from math import *\n",
    "degToRad = (pi/180)\n",
    "radToDeg = (180/pi)\n",
    "Alpha = 90/5*degToRad\n",
    "AB = 100 #Radius ist 50, AB geht durch Mittelpunkt und ist somit = der Durchmesser; Hypotenuse zum Winkel bei A\n",
    "#BC als Gegenkathete vom Winkel bei A (2*Alpha)\n",
    "#sin(2*Alpha) = CB / AB\n",
    "CB = sin(2*Alpha) * AB\n",
    "CB #Lösung: 58.78"
   ]
  },
  {
   "cell_type": "code",
   "execution_count": 2,
   "metadata": {},
   "outputs": [
    {
     "data": {
      "text/plain": [
       "3*a"
      ]
     },
     "execution_count": 2,
     "metadata": {},
     "output_type": "execute_result"
    }
   ],
   "source": [
    "#Nr.170\n",
    "from sympy import *\n",
    "#Rechtes Dreieck\n",
    "    #linker Winkel ist auch Alpha, weil es ein gleichseitiges Dreieck ist\n",
    "    #obiger Winkel somit: Gamma = 180-2*Alpha\n",
    "#linkes Dreieck\n",
    "    #rechter Winkel Delta muss zsm mit Gamma 180° ergeben -> Delta = 180 - Gamma\n",
    "    #Strecke AM ist genauso lang wie Strecke von M zum obigen Punkt C (CM), sind beide der Radius des Kreises\n",
    "    #obiger Winkel somit auch Delta\n",
    "    #unterer Winkel: Epsilon = 180 - 2*Delta\n",
    "#gesuchter Winkel\n",
    "    #180 - Epsilon - Alpha\n",
    "    #180 - (180 - 2 * Delta) - Alpha\n",
    "    #180 - (180 - 2 * (180 - Gamma)) - Alpha\n",
    "    #180 - (180 - 2 * (180 - (180 - 2 * Alpha))) - Alpha\n",
    "    \n",
    "a = symbols(\"a\")\n",
    "180 - (180 - 2 * (180 - (180 - 2 * a))) - a\n",
    "#Lösung: 3 * Alpha"
   ]
  },
  {
   "cell_type": "code",
   "execution_count": 47,
   "metadata": {},
   "outputs": [
    {
     "name": "stdout",
     "output_type": "stream",
     "text": [
      "Höhe h: 12.0\n",
      "gesuchte Fläche: 60.0\n"
     ]
    }
   ],
   "source": [
    "#Nr.171\n",
    "#Seitenlängen: a = b = 13; c = 10\n",
    "c = 10\n",
    "#Fläche eines Dreiecks: c*h/2\n",
    "\n",
    "#Höhe h berechnen:\n",
    "#durch h entstehen 2 rechtwinklige Dreiecke jeweils mit Hypotenuse a=b=13 und der unteren Kathete 1/2*c = 5\n",
    "#durch Satz des Pythagoras lässt sich h berechnen\n",
    "#13*13 = 5*5 + h*h\n",
    "#h*h = 13*13 - 5*5\n",
    "h = sqrt(13*13-5*5)\n",
    "print(\"Höhe h:\", h)\n",
    "\n",
    "A = c*h/2\n",
    "print(\"gesuchte Fläche:\", A)\n",
    "#Lösung: 60"
   ]
  },
  {
   "cell_type": "code",
   "execution_count": 24,
   "metadata": {},
   "outputs": [
    {
     "data": {
      "text/plain": [
       "16"
      ]
     },
     "execution_count": 24,
     "metadata": {},
     "output_type": "execute_result"
    }
   ],
   "source": [
    "#Nr.172\n",
    "from math import *\n",
    "#innerstes Quadrat hat Seitenlänge 2\n",
    "\n",
    "#Diagonale des innersten Quadrats ist gleichzeitig Durchmesser des inneren Kreises\n",
    "#Der Durchmesser wiederum ist gleichzeitig Seitenlänge des mittleren Quadrats\n",
    "#Berechnung: Diagonale lässt 2 rechtwinklige Dreiecke entstehen, ist von beiden die Hypotenuse\n",
    "d1 = sqrt(2*2 + 2*2) #d1 = sqrt(8)\n",
    "\n",
    "#Diagonale des mittleren Quadrats ist gleichzeitig Durchmesser des äußeren Kreises\n",
    "#Der Durchmesser wiederum ist gleichzeitig Seitenlänge des äußersten und gesuchten Quadrats\n",
    "d2 = sqrt(d1*d1 + d1*d1) #d2 = sqrt(16) = 4\n",
    "\n",
    "#Fläche des Quadrats\n",
    "4*4\n",
    "#Lösung: 16"
   ]
  },
  {
   "cell_type": "code",
   "execution_count": 42,
   "metadata": {},
   "outputs": [
    {
     "name": "stdout",
     "output_type": "stream",
     "text": [
      "Nr.173 (1.9999999999999998, -2.0943951023931957)\n",
      "\n",
      "Nr.174 (1.9999999999999998, 2.6179938779914944)\n",
      "in Grad: 150.0\n"
     ]
    }
   ],
   "source": [
    "#Nr.173\n",
    "from math import sqrt, atan2\n",
    "def polar(x,y):\n",
    "    return sqrt(x*x+y*y), atan2(y,x)\n",
    "print(\"Nr.173\", polar(-1, -sqrt(3)))\n",
    "\n",
    "#Nr.174\n",
    "print(\"\\nNr.174\", polar(-sqrt(3), 1))\n",
    "print(\"in Grad:\", 2.6179938779914944 * radToDeg)"
   ]
  },
  {
   "cell_type": "code",
   "execution_count": null,
   "metadata": {},
   "outputs": [],
   "source": [
    "#Nr.178\n",
    "#g: [4,5,6] + s * [1,-2,3]; P = [1,a,-3]\n",
    "#P mit g gleichsetzen\n",
    "\n",
    "#I. 1=4+s -> s=-3\n",
    "#II. a=5-2*s\n",
    "#III. -3=6+3*s -> -9=3*s -> s=-3\n",
    "\n",
    "#s in II einsetzen\n",
    "#a = 5 - 2 * (-3)\n",
    "#a = 5 + 6 =  11\n",
    "#Lösung: 11"
   ]
  },
  {
   "cell_type": "code",
   "execution_count": 4,
   "metadata": {},
   "outputs": [
    {
     "name": "stdout",
     "output_type": "stream",
     "text": [
      "Matrix([[0, 0], [0, 0]])\n",
      "Matrix([[0, 0], [0, 1]])\n",
      "Matrix([[0, 0], [1, 1]])\n",
      "Matrix([[0, 0], [2, 1]])\n",
      "Matrix([[0, 0], [3, 1]])\n",
      "Matrix([[0, 0], [4, 1]])\n",
      "Matrix([[0, 1], [0, 1]])\n",
      "Matrix([[0, 2], [0, 1]])\n",
      "Matrix([[0, 3], [0, 1]])\n",
      "Matrix([[0, 4], [0, 1]])\n",
      "Matrix([[1, 0], [0, 0]])\n",
      "Matrix([[1, 0], [0, 1]])\n",
      "Matrix([[1, 0], [1, 0]])\n",
      "Matrix([[1, 0], [2, 0]])\n",
      "Matrix([[1, 0], [3, 0]])\n",
      "Matrix([[1, 0], [4, 0]])\n",
      "Matrix([[1, 1], [0, 0]])\n",
      "Matrix([[1, 2], [0, 0]])\n",
      "Matrix([[1, 3], [0, 0]])\n",
      "Matrix([[1, 4], [0, 0]])\n"
     ]
    },
    {
     "data": {
      "text/latex": [
       "$$\\left ( \\left[\\begin{matrix}0 & 0\\\\0 & 1\\end{matrix}\\right], \\quad \\left[\\begin{matrix}0 & 0\\\\0 & 1\\end{matrix}\\right]\\right )$$"
      ],
      "text/plain": [
       "⎛⎡0  0⎤  ⎡0  0⎤⎞\n",
       "⎜⎢    ⎥, ⎢    ⎥⎟\n",
       "⎝⎣0  1⎦  ⎣0  1⎦⎠"
      ]
     },
     "execution_count": 4,
     "metadata": {},
     "output_type": "execute_result"
    }
   ],
   "source": [
    "#Nr.180\n",
    "from sympy import *\n",
    "init_printing(pretty_print=True)\n",
    "#Generator für 2x2 Matrizen\n",
    "def nr180():\n",
    "    M = []\n",
    "    for a in range(5):\n",
    "        for b in range(5):\n",
    "            for c in range(5):\n",
    "                for d in range(5):\n",
    "                    M.append(Matrix([[a,b], [c,d]]))\n",
    "    for i in M:\n",
    "        if i*i == i:\n",
    "            print(i)\n",
    "nr180() #eine davon aussuchen (außer Null- und Einheitsmatrix)\n",
    "#mögliche Lösung: Matrix([[0,0], [0,1]])\n",
    "A = Matrix([[0,0], [0,1]])\n",
    "A, A*A"
   ]
  },
  {
   "cell_type": "code",
   "execution_count": 55,
   "metadata": {},
   "outputs": [
    {
     "name": "stdout",
     "output_type": "stream",
     "text": [
      "Matrix([[0, 0], [0, 0]])\n",
      "Matrix([[0, 0], [0, 1]])\n",
      "Matrix([[1, 0], [0, 0]])\n",
      "Matrix([[1, 0], [0, 1]])\n"
     ]
    },
    {
     "data": {
      "text/latex": [
       "$$\\left ( \\left[\\begin{matrix}0 & 0\\\\0 & 1\\end{matrix}\\right], \\quad \\left[\\begin{matrix}0 & 0\\\\0 & 1\\end{matrix}\\right], \\quad \\left[\\begin{matrix}0 & 0\\\\0 & 1\\end{matrix}\\right]\\right )$$"
      ],
      "text/plain": [
       "⎛⎡0  0⎤  ⎡0  0⎤  ⎡0  0⎤⎞\n",
       "⎜⎢    ⎥, ⎢    ⎥, ⎢    ⎥⎟\n",
       "⎝⎣0  1⎦  ⎣0  1⎦  ⎣0  1⎦⎠"
      ]
     },
     "execution_count": 55,
     "metadata": {},
     "output_type": "execute_result"
    }
   ],
   "source": [
    "#Nr.181\n",
    "from sympy import *\n",
    "init_printing(pretty_print=True)\n",
    "#Generator für 2x2 Matrizen\n",
    "def nr181():\n",
    "    M = []\n",
    "    for a in range(10):\n",
    "        for b in range(10):\n",
    "            for c in range(10):\n",
    "                for d in range(10):\n",
    "                    M.append(Matrix([[a,b], [c,d]]))\n",
    "    for i in M:\n",
    "        if i*i == i.T:\n",
    "            print(i)\n",
    "nr181() #eine davon aussuchen (außer Null- und Einheitsmatrix)\n",
    "#mögliche Lösung: Matrix([[0,0], [0,1]])\n",
    "A = Matrix([[0,0], [0,1]])\n",
    "A, A*A, A.T"
   ]
  },
  {
   "cell_type": "code",
   "execution_count": 5,
   "metadata": {},
   "outputs": [
    {
     "name": "stdout",
     "output_type": "stream",
     "text": [
      "Matrix([[0, 0], [0, 0]])\n",
      "Matrix([[0, 0], [0, 2]])\n",
      "Matrix([[0, 0], [1, 2]])\n",
      "Matrix([[0, 0], [2, 2]])\n",
      "Matrix([[0, 0], [3, 2]])\n",
      "Matrix([[0, 0], [4, 2]])\n",
      "Matrix([[0, 1], [0, 2]])\n",
      "Matrix([[0, 2], [0, 2]])\n",
      "Matrix([[0, 3], [0, 2]])\n",
      "Matrix([[0, 4], [0, 2]])\n",
      "Matrix([[1, 1], [1, 1]])\n",
      "Matrix([[2, 0], [0, 0]])\n",
      "Matrix([[2, 0], [0, 2]])\n",
      "Matrix([[2, 0], [1, 0]])\n",
      "Matrix([[2, 0], [2, 0]])\n",
      "Matrix([[2, 0], [3, 0]])\n",
      "Matrix([[2, 0], [4, 0]])\n",
      "Matrix([[2, 1], [0, 0]])\n",
      "Matrix([[2, 2], [0, 0]])\n",
      "Matrix([[2, 3], [0, 0]])\n",
      "Matrix([[2, 4], [0, 0]])\n"
     ]
    },
    {
     "data": {
      "text/latex": [
       "$$\\left ( \\left[\\begin{matrix}0 & 0\\\\0 & 2\\end{matrix}\\right], \\quad \\left[\\begin{matrix}0 & 0\\\\0 & 4\\end{matrix}\\right], \\quad \\left[\\begin{matrix}0 & 0\\\\0 & 4\\end{matrix}\\right]\\right )$$"
      ],
      "text/plain": [
       "⎛⎡0  0⎤  ⎡0  0⎤  ⎡0  0⎤⎞\n",
       "⎜⎢    ⎥, ⎢    ⎥, ⎢    ⎥⎟\n",
       "⎝⎣0  2⎦  ⎣0  4⎦  ⎣0  4⎦⎠"
      ]
     },
     "execution_count": 5,
     "metadata": {},
     "output_type": "execute_result"
    }
   ],
   "source": [
    "#Nr.182\n",
    "from sympy import *\n",
    "init_printing(pretty_print=True)\n",
    "#Generator für 2x2 Matrizen\n",
    "def nr182():\n",
    "    M = []\n",
    "    for a in range(5):\n",
    "        for b in range(5):\n",
    "            for c in range(5):\n",
    "                for d in range(5):\n",
    "                    M.append(Matrix([[a,b], [c,d]]))\n",
    "    for i in M:\n",
    "        if i*i == 2*i:\n",
    "            print(i)\n",
    "nr182() #eine davon aussuchen (außer Null- und Einheitsmatrix)\n",
    "#mögliche Lösung: Matrix([[0,0], [0,1]])\n",
    "A = Matrix([[0,0], [0,2]])\n",
    "A, A*A, 2*A"
   ]
  },
  {
   "cell_type": "code",
   "execution_count": 2,
   "metadata": {},
   "outputs": [
    {
     "data": {
      "text/plain": [
       "{(23, -47, 33)}"
      ]
     },
     "execution_count": 2,
     "metadata": {},
     "output_type": "execute_result"
    }
   ],
   "source": [
    "#Nr.183\n",
    "from sympy import *\n",
    "x,y,z = symbols(\"x y z\")\n",
    "linsolve([3*x + 2*y +   z -  8,\n",
    "            x + 4*y + 5*z +  0,\n",
    "          2*x +   y +   z - 32], [x,y,z])\n",
    "#Lösung: {(23, -47, 33)}"
   ]
  },
  {
   "cell_type": "code",
   "execution_count": 8,
   "metadata": {},
   "outputs": [
    {
     "data": {
      "image/png": "[encoded data removed]",
      "text/latex": [
       "$$\\left ( \\emptyset, \\quad \\left\\{\\left ( - \\frac{53}{21}, \\quad - \\frac{47}{21}, \\quad 2\\right )\\right\\}, \\quad \\left\\{\\left ( - \\frac{25 z}{21} - \\frac{1}{7}, \\quad - \\frac{19 z}{21} - \\frac{3}{7}, \\quad z\\right )\\right\\}\\right )$$"
      ],
      "text/plain": [
       "⎛   ⎧⎛-53   -47    ⎞⎫  ⎧⎛  25⋅z   1    19⋅z   3   ⎞⎫⎞\n",
       "⎜∅, ⎨⎜────, ────, 2⎟⎬, ⎨⎜- ──── - ─, - ──── - ─, z⎟⎬⎟\n",
       "⎝   ⎩⎝ 21    21    ⎠⎭  ⎩⎝   21    7     21    7   ⎠⎭⎠"
      ]
     },
     "execution_count": 8,
     "metadata": {},
     "output_type": "execute_result"
    }
   ],
   "source": [
    "#Nr.184\n",
    "from sympy import *\n",
    "init_printing()\n",
    "x,y,z = symbols(\"x y z\")\n",
    "a = linsolve([  x + 2*y + 3*z + 1,\n",
    "              7*x - 7*y + 2*z - 2,\n",
    "              1*x + 2*y + 3*z - 1], [x,y,z])\n",
    "b = linsolve([  x + 2*y + 3*z + 1,\n",
    "              7*x - 7*y + 2*z - 2,\n",
    "              1*x + 2*y + 4*z - 1], [x,y,z])\n",
    "c = linsolve([  x + 2*y + 3*z + 1,\n",
    "              7*x - 7*y + 2*z - 2,\n",
    "              1*x + 2*y + 3*z + 1], [x,y,z])\n",
    "a,b,c\n",
    "#Lösung: a"
   ]
  },
  {
   "cell_type": "code",
   "execution_count": 54,
   "metadata": {},
   "outputs": [
    {
     "name": "stdout",
     "output_type": "stream",
     "text": [
      "Matrix([[2, 2], [1, -4]])\n"
     ]
    },
    {
     "data": {
      "text/plain": [
       "Matrix([\n",
       "[10],\n",
       "[-5]])"
      ]
     },
     "execution_count": 54,
     "metadata": {},
     "output_type": "execute_result"
    }
   ],
   "source": [
    "#Nr.186\n",
    "from sympy import *\n",
    "A = Matrix([1,0])\n",
    "B = Matrix([2,1])\n",
    "C = Matrix([0,1])\n",
    "D = Matrix([2,-4])\n",
    "for a in range(-10,10): #brute force Test mit Zahlen von -10 bis 9\n",
    "    for b in range(-10,10):\n",
    "        for c in range(-10,10):\n",
    "            for d in range(-10,10):\n",
    "                M = Matrix([[a,b],[c,d]])\n",
    "                if M*A==B and M*C==D:\n",
    "                    print(M)\n",
    "                    E = M #um die richtige Matrix abzuspeichern\n",
    "E * Matrix([3,2])\n",
    "#Lösung: Matrix([10, -5])"
   ]
  },
  {
   "cell_type": "code",
   "execution_count": 55,
   "metadata": {},
   "outputs": [
    {
     "name": "stdout",
     "output_type": "stream",
     "text": [
      "Matrix([[2, 1], [1, -2]])\n"
     ]
    },
    {
     "data": {
      "text/plain": [
       "Matrix([\n",
       "[ 8],\n",
       "[-1]])"
      ]
     },
     "execution_count": 55,
     "metadata": {},
     "output_type": "execute_result"
    }
   ],
   "source": [
    "#Nr.187\n",
    "from sympy import *\n",
    "A = Matrix([1,0])\n",
    "B = Matrix([2,1])\n",
    "C = Matrix([0,2])\n",
    "D = Matrix([2,-4])\n",
    "for a in range(-10,10): #brute force Test mit Zahlen von -10 bis 9\n",
    "    for b in range(-10,10):\n",
    "        for c in range(-10,10):\n",
    "            for d in range(-10,10):\n",
    "                M = Matrix([[a,b],[c,d]])\n",
    "                if M*A==B and M*C==D:\n",
    "                    print(M)\n",
    "                    E = M #um die richtige Matrix abzuspeichern\n",
    "E * Matrix([3,2])\n",
    "#Lösung: Matrix([8, -1])"
   ]
  },
  {
   "cell_type": "code",
   "execution_count": 6,
   "metadata": {},
   "outputs": [
    {
     "name": "stdout",
     "output_type": "stream",
     "text": [
      "Matrix([[2, 1], [1, -2]])\n"
     ]
    }
   ],
   "source": [
    "#Nr.188\n",
    "from sympy import *\n",
    "A = Matrix([1,0])\n",
    "B = Matrix([2,1])\n",
    "C = Matrix([0,2])\n",
    "D = Matrix([2,-4])\n",
    "for a in range(-10,10): #brute force Test mit Zahlen von -10 bis 9\n",
    "    for b in range(-10,10):\n",
    "        for c in range(-10,10):\n",
    "            for d in range(-10,10):\n",
    "                M = Matrix([[a,b],[c,d]])\n",
    "                if M*A==B and M*C==D:\n",
    "                    print(M)"
   ]
  },
  {
   "cell_type": "code",
   "execution_count": 5,
   "metadata": {},
   "outputs": [
    {
     "name": "stdout",
     "output_type": "stream",
     "text": [
      "Matrix([[2, 4], [1, -3]])\n"
     ]
    }
   ],
   "source": [
    "#Nr.189\n",
    "from sympy import *\n",
    "A = Matrix([1,0])\n",
    "B = Matrix([2,1])\n",
    "C = Matrix([-1,1])\n",
    "D = Matrix([2,-4])\n",
    "for a in range(-10,10): #brute force Test mit Zahlen von -10 bis 9\n",
    "    for b in range(-10,10):\n",
    "        for c in range(-10,10):\n",
    "            for d in range(-10,10):\n",
    "                M = Matrix([[a,b],[c,d]])\n",
    "                if M*A==B and M*C==D:\n",
    "                    print(M)"
   ]
  },
  {
   "cell_type": "code",
   "execution_count": 10,
   "metadata": {},
   "outputs": [
    {
     "data": {
      "image/png": "[encoded data removed]",
      "text/latex": [
       "$$\\frac{\\sqrt{3}}{2}$$"
      ],
      "text/plain": [
       "√3\n",
       "──\n",
       "2 "
      ]
     },
     "execution_count": 10,
     "metadata": {},
     "output_type": "execute_result"
    }
   ],
   "source": [
    "from sympy import *\n",
    "degToRad = (pi/180)\n",
    "radToDeg = (180/pi)\n",
    "for i in range(0,361):\n",
    "    A = Matrix([[cos(i*degToRad), -sin(i*degToRad)], [sin(i*degToRad), cos(i*degToRad)]])\n",
    "    if A==Matrix([[sqrt(3)/3, -1/2], [1/2, sqrt(3)/3]]):\n",
    "        print(i,\"°:\",A)\n",
    "cos(30*pi/180)"
   ]
  },
  {
   "cell_type": "code",
   "execution_count": 17,
   "metadata": {},
   "outputs": [
    {
     "name": "stdout",
     "output_type": "stream",
     "text": [
      "30 ° sqrt(3)/2\n",
      "330 ° sqrt(3)/2\n"
     ]
    }
   ],
   "source": [
    "for i in range(361):\n",
    "    if cos(i*pi/180)==(sqrt(3)/2):\n",
    "        print(i,\"°\",cos(i*pi/180))"
   ]
  },
  {
   "cell_type": "code",
   "execution_count": 71,
   "metadata": {},
   "outputs": [
    {
     "name": "stdout",
     "output_type": "stream",
     "text": [
      "60 °: Matrix([[1/2, -sqrt(3)/2], [sqrt(3)/2, 1/2]])\n"
     ]
    }
   ],
   "source": [
    "#Nr.190\n",
    "from sympy import *\n",
    "degToRad = (pi/180)\n",
    "radToDeg = (180/pi)\n",
    "v = Matrix([2,0])\n",
    "w = Matrix([1,sqrt(3)])\n",
    "for i in range(0,361):\n",
    "    A = Matrix([[cos(i*degToRad), -sin(i*degToRad)], [sin(i*degToRad), cos(i*degToRad)]])\n",
    "    if A*v==w:\n",
    "        print(i,\"°:\",A)"
   ]
  },
  {
   "cell_type": "code",
   "execution_count": 18,
   "metadata": {},
   "outputs": [
    {
     "data": {
      "text/latex": [
       "$$\\left ( \\left[\\begin{matrix}\\frac{\\sqrt{3}}{2} & - \\frac{1}{2}\\\\\\frac{1}{2} & \\frac{\\sqrt{3}}{2}\\end{matrix}\\right], \\quad 1, \\quad \\left[\\begin{matrix}\\frac{1}{2} & \\frac{\\sqrt{3}}{2}\\\\0 & 1\\end{matrix}\\right], \\quad \\frac{1}{2}, \\quad \\left[\\begin{matrix}\\frac{\\sqrt{3}}{2} & \\frac{\\sqrt{3}}{2}\\\\- \\frac{1}{2} & \\frac{1}{2}\\end{matrix}\\right], \\quad \\frac{\\sqrt{3}}{2}, \\quad \\left[\\begin{matrix}\\frac{\\sqrt{3}}{2} & \\frac{1}{2}\\\\\\frac{1}{2} & \\frac{\\sqrt{3}}{2}\\end{matrix}\\right], \\quad \\frac{1}{2}, \\quad \\left[\\begin{matrix}- \\frac{\\sqrt{3}}{2} & \\frac{1}{2}\\\\\\frac{1}{2} & \\frac{\\sqrt{3}}{2}\\end{matrix}\\right], \\quad -1, \\quad \\left[\\begin{matrix}\\frac{\\sqrt{3}}{2} & 0.5\\\\-0.5 & \\frac{\\sqrt{3}}{3}\\end{matrix}\\right], \\quad 0.75, \\quad \\left[\\begin{matrix}\\frac{\\sqrt{3}}{2} & -0.5\\\\0.5 & \\frac{\\sqrt{3}}{3}\\end{matrix}\\right], \\quad 0.75\\right )$$"
      ],
      "text/plain": [
       "⎛⎡√3       ⎤                                      ⎡√3      ⎤       ⎡-√3      ⎤\n",
       "⎜⎢──   -1/2⎥     ⎡     √3⎤       ⎡ √3   √3 ⎤      ⎢──   1/2⎥       ⎢────  1/2⎥\n",
       "⎜⎢2        ⎥     ⎢1/2  ──⎥       ⎢ ──   ── ⎥  √3  ⎢2       ⎥       ⎢ 2       ⎥\n",
       "⎜⎢         ⎥, 1, ⎢     2 ⎥, 1/2, ⎢ 2    2  ⎥, ──, ⎢        ⎥, 1/2, ⎢         ⎥\n",
       "⎜⎢      √3 ⎥     ⎢       ⎥       ⎢         ⎥  2   ⎢     √3 ⎥       ⎢      √3 ⎥\n",
       "⎜⎢1/2   ── ⎥     ⎣ 0   1 ⎦       ⎣-1/2  1/2⎦      ⎢1/2  ── ⎥       ⎢1/2   ── ⎥\n",
       "⎝⎣      2  ⎦                                      ⎣     2  ⎦       ⎣      2  ⎦\n",
       "\n",
       "      ⎡ √3      ⎤        ⎡√3       ⎤      ⎞\n",
       "      ⎢ ──   0.5⎥        ⎢──   -0.5⎥      ⎟\n",
       "      ⎢ 2       ⎥        ⎢2        ⎥      ⎟\n",
       ", -1, ⎢         ⎥, 0.75, ⎢         ⎥, 0.75⎟\n",
       "      ⎢      √3 ⎥        ⎢      √3 ⎥      ⎟\n",
       "      ⎢-0.5  ── ⎥        ⎢0.5   ── ⎥      ⎟\n",
       "      ⎣      3  ⎦        ⎣      3  ⎦      ⎠"
      ]
     },
     "execution_count": 18,
     "metadata": {},
     "output_type": "execute_result"
    }
   ],
   "source": [
    "\"!\"\n",
    "#Nr.191\n",
    "from sympy import *\n",
    "degToRad = (pi/180)\n",
    "radToDeg = (180/pi)\n",
    "init_printing(pretty_print=True)\n",
    "\n",
    "M = Matrix([[cos(30*degToRad),-sin(30*degToRad)], [sin(30*degToRad),cos(30*degToRad)]]) #Drehmatrix aus Buch\n",
    "A = Matrix([[sin(30*degToRad),cos(30*degToRad)], [0,1]])\n",
    "B = Matrix([[cos(30*degToRad),cos(30*degToRad)], [-sin(30*degToRad),sin(30*degToRad)]])\n",
    "C = Matrix([[cos(30*degToRad),sin(30*degToRad)], [sin(30*degToRad),cos(30*degToRad)]])\n",
    "D = Matrix([[-cos(30*degToRad),sin(30*degToRad)], [sin(30*degToRad),cos(30*degToRad)]]) #Falsch, dreht um 30° im negativen Sinn\n",
    "E = Matrix([[sqrt(3)/2, 1/2], [-1/2, sqrt(3)/3]])\n",
    "F = Matrix([[sqrt(3)/2, -1/2], [1/2, sqrt(3)/3]])\n",
    "M,M.det(), A,A.det(), B,B.det(), C,C.det(), D,D.det(), E,E.det(), F,F.det()\n",
    "\n"
   ]
  },
  {
   "cell_type": "code",
   "execution_count": 64,
   "metadata": {},
   "outputs": [
    {
     "name": "stdout",
     "output_type": "stream",
     "text": [
      "5\n"
     ]
    }
   ],
   "source": [
    "#Nr.192\n",
    "from sympy import *\n",
    "b = Matrix([3,1])\n",
    "for i in range(10):\n",
    "    a = Matrix([i,0]) #parallel zur x-Achse heißt, die y-Komponente ist 0\n",
    "    M = Matrix([[i,3],[0,1]])\n",
    "    if M.det() == 5:\n",
    "        print(i)\n",
    "#Lösung: a = (5,0)"
   ]
  },
  {
   "cell_type": "code",
   "execution_count": 77,
   "metadata": {},
   "outputs": [
    {
     "data": {
      "image/png": "[encoded data removed]",
      "text/latex": [
       "$$-243$$"
      ],
      "text/plain": [
       "-243"
      ]
     },
     "execution_count": 77,
     "metadata": {},
     "output_type": "execute_result"
    }
   ],
   "source": [
    "#Nr.193\n",
    "from sympy import *\n",
    "A = Matrix([[1,2,3],[4,5,-6],[2,3,1]])\n",
    "(A**5).det()\n",
    "#Lösung: -243"
   ]
  },
  {
   "cell_type": "code",
   "execution_count": 9,
   "metadata": {},
   "outputs": [
    {
     "data": {
      "image/png": "[encoded data removed]",
      "text/latex": [
       "$$\\left ( 1, \\quad -1, \\quad 1, \\quad 1\\right )$$"
      ],
      "text/plain": [
       "(1, -1, 1, 1)"
      ]
     },
     "execution_count": 9,
     "metadata": {},
     "output_type": "execute_result"
    }
   ],
   "source": [
    "#Nr.194\n",
    "from sympy import *\n",
    "\n",
    "#Die Determinante einer Einheitsmatrix ist immer 1, die Determinante von -Em ist -1 bei ungeraden und 1 bei geraden Dimensionen\n",
    "#Eine Primzahl ist immer ungerade, somit muss m=n+1 zwingend gerade sein, und die Lösung ist 1\n",
    "\n",
    "#Test mit ungerader Dimension\n",
    "M1=Matrix([[1,0,0],[0,1,0],[0,0,1]]) #Test mit 3x3 Matrix\n",
    "\n",
    "#Test mit gerader Dimension\n",
    "M2=Matrix([[1,0,0,0],[0,1,0,0],[0,0,1,0],[0,0,0,1]]) #Test mit 4x4 Matrix\n",
    "M1.det(), (-M1).det(), M2.det(), (-M2).det() #Klammer ist wichtig\n",
    "#Lösung für -E(21): -1"
   ]
  },
  {
   "cell_type": "code",
   "execution_count": 113,
   "metadata": {},
   "outputs": [
    {
     "name": "stdout",
     "output_type": "stream",
     "text": [
      "59049\n"
     ]
    },
    {
     "data": {
      "image/png": "[encoded data removed]",
      "text/latex": [
       "$$59049$$"
      ],
      "text/plain": [
       "59049"
      ]
     },
     "execution_count": 113,
     "metadata": {},
     "output_type": "execute_result"
    }
   ],
   "source": [
    "#Nr.195\n",
    "from sympy import *\n",
    "#Determinante jeder Einheitsmatrix: 1\n",
    "#3*E(10) ersetzt jeder 1 mit einer 3\n",
    "print(3**10)\n",
    "\n",
    "#Alternativ\n",
    "(3*eye(10)).det()\n",
    "#Lösung: 59049"
   ]
  },
  {
   "cell_type": "code",
   "execution_count": 111,
   "metadata": {},
   "outputs": [
    {
     "name": "stdout",
     "output_type": "stream",
     "text": [
      "1024\n"
     ]
    },
    {
     "data": {
      "image/png": "[encoded data removed]",
      "text/latex": [
       "$$1024$$"
      ],
      "text/plain": [
       "1024"
      ]
     },
     "execution_count": 111,
     "metadata": {},
     "output_type": "execute_result"
    }
   ],
   "source": [
    "#Nr.196\n",
    "#E(10)+E(10) ersetzt jede 1 mit einer 2 -> bei Matrizenaddition komponentenweise addieren\n",
    "print(2**10)\n",
    "\n",
    "#Alternativ\n",
    "from sympy import *\n",
    "(eye(10)+eye(10)).det() #eye bildet Einheitsmatrix\n",
    "#Lösung: 1024"
   ]
  },
  {
   "cell_type": "code",
   "execution_count": 137,
   "metadata": {},
   "outputs": [
    {
     "name": "stdout",
     "output_type": "stream",
     "text": [
      "Matrix([[1/2, 0, 0], [0, 1/2, 0], [0, 0, 1/2]]) 1/1024\n"
     ]
    },
    {
     "data": {
      "image/png": "[encoded data removed]",
      "text/latex": [
       "$$\\frac{1}{1024}$$"
      ],
      "text/plain": [
       "1/1024"
      ]
     },
     "execution_count": 137,
     "metadata": {},
     "output_type": "execute_result"
    }
   ],
   "source": [
    "#Nr.197\n",
    "from sympy import *\n",
    "from fractions import Fraction\n",
    "E = Matrix([[2,0,0],[0,2,0],[0,0,2]])\n",
    "print(E.inv(), Fraction(1,2)**10)\n",
    "\n",
    "#Alternativ\n",
    "(eye(10)+eye(10)).inv().det() #eye bildet Einheitsmatrix\n",
    "#Lösung: 1/1024"
   ]
  },
  {
   "cell_type": "code",
   "execution_count": 17,
   "metadata": {},
   "outputs": [
    {
     "name": "stdout",
     "output_type": "stream",
     "text": [
      "3\n",
      "Probe: 27\n"
     ]
    },
    {
     "data": {
      "image/png": "[encoded data removed]",
      "text/latex": [
       "$$\\left [ \\frac{1}{3}\\right ]$$"
      ],
      "text/plain": [
       "[1/3]"
      ]
     },
     "execution_count": 17,
     "metadata": {},
     "output_type": "execute_result"
    }
   ],
   "source": [
    "#Nr.198\n",
    "from sympy import *\n",
    "from fractions import Fraction\n",
    "#Wenn die Einheitsmatrix mit a multipliziert wird, werden alle 1en durch a ersetzt\n",
    "#Die Inverse dieser neuen Matrix ersetzt a mit dem Kehrwert 1/a\n",
    "#Der Kehrwert der dritten Wurzel (ich glaub weils ne 3x3 Matrix ist) von 27 ist die Lösung\n",
    "print(cbrt(27)) #cbrt = cube root; dritte Wurzel von 27 #Alternative: 27**Fraction(1,3); lieber Fraction benutzen als 1/3\n",
    "print(\"Probe:\", (Fraction(1,3)*eye(3)).inv().det())\n",
    "\n",
    "#Alternativ\n",
    "a = symbols(\"a\", real=True) #durch real=True werden die komplexen Zahlen nicht ausgegeben, nur die reellen\n",
    "solve((a*eye(3)).inv().det() - 27, [a]) #mit Klammern aufpassen!!\n",
    "#die = 27 auf die andere Seite -> -27\n",
    "#Das erste Ergebnis ist (zumindest hier) die richtige Lösung\n",
    "#Lösung: 1/3"
   ]
  },
  {
   "cell_type": "code",
   "execution_count": 19,
   "metadata": {},
   "outputs": [
    {
     "name": "stdout",
     "output_type": "stream",
     "text": [
      "3.00000000000000\n"
     ]
    },
    {
     "data": {
      "image/png": "[encoded data removed]",
      "text/latex": [
       "$$\\left [ \\left ( 1, \\quad 1\\right )\\right ]$$"
      ],
      "text/plain": [
       "[(1, 1)]"
      ]
     },
     "metadata": {},
     "output_type": "display_data"
    },
    {
     "data": {
      "image/png": "[encoded data removed]",
      "text/latex": [
       "$$\\left [ \\left ( \\sqrt{2}, \\quad 2\\right )\\right ]$$"
      ],
      "text/plain": [
       "[(√2, 2)]"
      ]
     },
     "metadata": {},
     "output_type": "display_data"
    },
    {
     "data": {
      "image/png": "[encoded data removed]",
      "text/latex": [
       "$$\\left [ \\left ( \\sqrt[3]{3}, \\quad 3\\right )\\right ]$$"
      ],
      "text/plain": [
       "⎡⎛3 ___   ⎞⎤\n",
       "⎣⎝╲╱ 3 , 3⎠⎦"
      ]
     },
     "metadata": {},
     "output_type": "display_data"
    },
    {
     "data": {
      "image/png": "[encoded data removed]",
      "text/latex": [
       "$$\\left [ \\left ( \\sqrt{2}, \\quad 4\\right )\\right ]$$"
      ],
      "text/plain": [
       "[(√2, 4)]"
      ]
     },
     "metadata": {},
     "output_type": "display_data"
    },
    {
     "data": {
      "image/png": "[encoded data removed]",
      "text/latex": [
       "$$\\left [ \\left ( \\sqrt[5]{5}, \\quad 5\\right )\\right ]$$"
      ],
      "text/plain": [
       "⎡⎛5 ___   ⎞⎤\n",
       "⎣⎝╲╱ 5 , 5⎠⎦"
      ]
     },
     "metadata": {},
     "output_type": "display_data"
    },
    {
     "data": {
      "image/png": "[encoded data removed]",
      "text/latex": [
       "$$\\left [ \\left ( \\sqrt[6]{6}, \\quad 6\\right )\\right ]$$"
      ],
      "text/plain": [
       "⎡⎛6 ___   ⎞⎤\n",
       "⎣⎝╲╱ 6 , 6⎠⎦"
      ]
     },
     "metadata": {},
     "output_type": "display_data"
    }
   ],
   "source": [
    "#Nr.199\n",
    "#Überlegung mit 3x3 Matrix\n",
    "#Wenn die Einheitsmatrix mit a multipliziert wird, werden alle 1en durch a ersetzt\n",
    "#Damit 3 als Determinante herauskommt, muss gelten:\n",
    "#a*a*a = 3\n",
    "#a**3 = 3\n",
    "#a = dritte Wurzel aus 3\n",
    "\n",
    "#Test\n",
    "a = root(3,3).evalf()\n",
    "print((a*eye(3)).det())\n",
    "\n",
    "#Alternativ\n",
    "a = symbols(\"a\")\n",
    "init_printing(True)\n",
    "for n in range(1,7): #mit paar Zahlen ausprobieren\n",
    "    display(solve((a * eye(n)).det() - n, [a,n])) #display ist so wie init_printing (bei print(...) funzt init_printing nicht)\n",
    "#Muster erkennbar: n-te Wurzel aus n\n",
    "#Lösung: n-te Wurzel aus n"
   ]
  },
  {
   "cell_type": "code",
   "execution_count": 1,
   "metadata": {},
   "outputs": [
    {
     "name": "stdout",
     "output_type": "stream",
     "text": [
      "0\n"
     ]
    }
   ],
   "source": [
    "#Nr.200\n",
    "from sympy import *\n",
    "for a in range (-5,6):\n",
    "    M = Matrix([[1,2,3,4],[4,-1,3,1],[2,a,2,1],[1,1,1,1]])\n",
    "    if M.det() == 3:\n",
    "        print(a)\n",
    "#Lösung: 0"
   ]
  },
  {
   "cell_type": "code",
   "execution_count": 72,
   "metadata": {},
   "outputs": [
    {
     "name": "stdout",
     "output_type": "stream",
     "text": [
      "2\n",
      "4\n"
     ]
    },
    {
     "data": {
      "image/png": "[encoded data removed]",
      "text/latex": [
       "$$\\left ( 9, \\quad 9\\right )$$"
      ],
      "text/plain": [
       "(9, 9)"
      ]
     },
     "execution_count": 72,
     "metadata": {},
     "output_type": "execute_result"
    }
   ],
   "source": [
    "#Nr.201\n",
    "from sympy import *\n",
    "a = symbols(\"a\")\n",
    "A = Matrix([[1,1,-1],[3,a,0],[1,1,2]])\n",
    "for i in range (-10,10):\n",
    "    A2 = Matrix([[1,1,-1],[3,i,0],[1,1,2]])\n",
    "    if (A2*A2).det() == 9:\n",
    "        print(i)\n",
    "\n",
    "#Test\n",
    "T1 = Matrix([[1,1,-1],[3,2,0],[1,1,2]])\n",
    "T2 = Matrix([[1,1,-1],[3,4,0],[1,1,2]])\n",
    "(T1*T1).det(), (T2*T2).det()\n",
    "#Lösung: 2 und 4"
   ]
  },
  {
   "cell_type": "code",
   "execution_count": 43,
   "metadata": {},
   "outputs": [
    {
     "name": "stdout",
     "output_type": "stream",
     "text": [
      "-5 : -31\n",
      "-4 : -22\n",
      "-3 : -15\n",
      "-2 : -10\n",
      "-1 : -7\n",
      "0 : -6\n",
      "1 : -7\n",
      "2 : -10\n",
      "3 : -15\n",
      "4 : -22\n"
     ]
    }
   ],
   "source": [
    "#Nr.202\n",
    "from sympy import *\n",
    "for a in range (-5,5): # Determinante wird halt immer kleiner, kp man\n",
    "    M = Matrix([[a,2,0],[pi,42,1],[-3,a,0]])\n",
    "    print(a,\":\", M.det())\n",
    "    \n",
    "#Determinante per Hand:\n",
    "#a*42*0 + 2*1*-3 + 0*pi*a - 0*42*-3 - 2*pi*0 - a*1*a\n",
    "#0 + (-6) + 0 - 0 - 0 - a**2\n",
    "#-6 - a**2\n",
    "#Die Determinante wird für jede andere reelle Zahl als 0 kleiner (da a**2 immer positiv ist)\n",
    "#Somit ist für a=0 die Determinante -6 die größtmögliche\n",
    "#Lösung: -6"
   ]
  },
  {
   "cell_type": "code",
   "execution_count": 20,
   "metadata": {},
   "outputs": [
    {
     "name": "stdout",
     "output_type": "stream",
     "text": [
      "1\n"
     ]
    }
   ],
   "source": [
    "#Nr.203\n",
    "for a in range(-5,6):\n",
    "    M = Matrix([[1,2,3,4],[4,-1,3,1],[3,a,2,1],[1,1,1,1]])\n",
    "    if M.det() == 0:\n",
    "        print(a)\n",
    "#Lösung: 1"
   ]
  },
  {
   "cell_type": "code",
   "execution_count": 58,
   "metadata": {},
   "outputs": [
    {
     "name": "stdout",
     "output_type": "stream",
     "text": [
      "-5 {(1/3, -1/9, -1/9)}\n",
      "-4 {(3/8, -1/8, -1/8)}\n",
      "-3 {(3/7, -1/7, -1/7)}\n",
      "-2 {(1/2, -1/6, -1/6)}\n",
      "-1 {(3/5, -1/5, -1/5)}\n",
      "0 {(3/4, -1/4, -1/4)}\n",
      "1 {(1, -1/3, -1/3)}\n",
      "2 {(3/2, -1/2, -1/2)}\n",
      "3 {(3, -1, -1)}\n",
      "4 EmptySet()\n",
      "5 {(-3, 1, 1)}\n"
     ]
    }
   ],
   "source": [
    "#Nr.205\n",
    "x,y,z = symbols(\"x y z\")\n",
    "for a in range(-5,6):\n",
    "    M=Matrix([[1,2,1,0],[1,1,2,0],[2,2,a,1]])\n",
    "    print(a, linsolve(M,[x,y,z]))\n",
    "#Lösung: 4"
   ]
  },
  {
   "cell_type": "code",
   "execution_count": 73,
   "metadata": {},
   "outputs": [
    {
     "data": {
      "text/latex": [
       "$$\\left ( \\left[\\begin{matrix}1 & -1 & 2\\\\- \\frac{3}{2} & \\frac{5}{4} & \\frac{7}{4}\\\\1 & - \\frac{1}{2} & \\frac{1}{2}\\end{matrix}\\right], \\quad \\left[\\begin{matrix}- \\frac{3}{4} & \\frac{1}{4} & \\frac{17}{8}\\\\- \\frac{5}{4} & \\frac{3}{4} & \\frac{19}{8}\\\\\\frac{1}{4} & \\frac{1}{4} & \\frac{1}{8}\\end{matrix}\\right]\\right )$$"
      ],
      "text/plain": [
       "⎛⎡ 1     -1    2 ⎤  ⎡-3/4  1/4  17/8⎤⎞\n",
       "⎜⎢               ⎥  ⎢               ⎥⎟\n",
       "⎜⎢-3/2  5/4   7/4⎥, ⎢-5/4  3/4  19/8⎥⎟\n",
       "⎜⎢               ⎥  ⎢               ⎥⎟\n",
       "⎝⎣ 1    -1/2  1/2⎦  ⎣1/4   1/4  1/8 ⎦⎠"
      ]
     },
     "execution_count": 73,
     "metadata": {},
     "output_type": "execute_result"
    }
   ],
   "source": [
    "#Nr.206\n",
    "from sympy import *\n",
    "from fractions import Fraction\n",
    "init_printing(pretty_print=True)\n",
    "A = Matrix([[1,-1,2],[Fraction(-3,2),Fraction(5,4),Fraction(7,4)],[1,Fraction(-1,2),Fraction(1,2)]])\n",
    "A, A.inv()\n",
    "#Lösung: B = A.inv()"
   ]
  },
  {
   "cell_type": "code",
   "execution_count": 2,
   "metadata": {},
   "outputs": [
    {
     "data": {
      "text/plain": [
       "-1/12"
      ]
     },
     "execution_count": 2,
     "metadata": {},
     "output_type": "execute_result"
    }
   ],
   "source": [
    "#Nr.207\n",
    "from sympy import *\n",
    "A = Matrix([[1,2,3],[4,6,5],[3,2,1]])\n",
    "A.inv().det()\n",
    "#Lösung: -1/12"
   ]
  },
  {
   "cell_type": "code",
   "execution_count": 26,
   "metadata": {},
   "outputs": [
    {
     "data": {
      "text/plain": [
       "-4"
      ]
     },
     "execution_count": 26,
     "metadata": {},
     "output_type": "execute_result"
    }
   ],
   "source": [
    "#Nr.208\n",
    "from sympy import *\n",
    "M = Matrix([[1,7],[1,3]])\n",
    "M.det() #Determiante -4 heißt Flächenvergrößerungsfaktor 4\n",
    "#Fläche eines Kreises: A(Kreis) = pi*r**2\n",
    "    #Radius des Einheitskreises: r=1\n",
    "    #A(Kreis) = pi\n",
    "#A(Ellipse) = A(Kreis) * |det(M)|\n",
    "    #A(Ellipse) = pi * |-4| = 4*pi\n",
    "#Lösung: 4*pi"
   ]
  },
  {
   "cell_type": "code",
   "execution_count": 30,
   "metadata": {},
   "outputs": [
    {
     "data": {
      "text/plain": [
       "-4"
      ]
     },
     "execution_count": 30,
     "metadata": {},
     "output_type": "execute_result"
    }
   ],
   "source": [
    "#Nr.209\n",
    "from sympy import *\n",
    "M = Matrix([[1,7],[1,3]])\n",
    "M.det() #Determiante -4 heißt Flächenvergrößerungsfaktor 4\n",
    "#A(Kreis) = pi * 2**2 = 4*pi\n",
    "#A(Ellipse) = 4*pi * |-4| = 16*pi\n",
    "#Lösung: 16*pi"
   ]
  },
  {
   "cell_type": "code",
   "execution_count": 31,
   "metadata": {},
   "outputs": [
    {
     "data": {
      "text/plain": [
       "4"
      ]
     },
     "execution_count": 31,
     "metadata": {},
     "output_type": "execute_result"
    }
   ],
   "source": [
    "#Nr.210\n",
    "from sympy import *\n",
    "M = Matrix([[1,7,2],[1,3,2],[1,1,1]])\n",
    "M.det() #Determiante 4 heißt Volumenvergrößerungsfaktor 4\n",
    "#V(Würfel) = a**3 = 1**3 = 1\n",
    "#V(Spat) = 1 * 4 = 4\n",
    "#Lösung: 4"
   ]
  },
  {
   "cell_type": "code",
   "execution_count": 2,
   "metadata": {},
   "outputs": [
    {
     "data": {
      "text/plain": [
       "6"
      ]
     },
     "execution_count": 2,
     "metadata": {},
     "output_type": "execute_result"
    }
   ],
   "source": [
    "#Nr.211\n",
    "from sympy import *\n",
    "M = Matrix([[3,7,2],[1,3,2],[1,1,1]])\n",
    "M.det() #Determiante 4 heißt Volumenvergrößerungsfaktor 4\n",
    "#V(Würfel) = a**3 = 2**3 = 8\n",
    "#V(Spat) = 8 * 6 = 48\n",
    "#Lösung: 48"
   ]
  },
  {
   "cell_type": "code",
   "execution_count": 8,
   "metadata": {},
   "outputs": [
    {
     "name": "stdout",
     "output_type": "stream",
     "text": [
      "2*a + 1\n",
      "Test: 3 -3\n"
     ]
    }
   ],
   "source": [
    "#Nr.212\n",
    "from sympy import *\n",
    "from fractions import Fraction\n",
    "init_printing(False)\n",
    "a = symbols(\"a\")\n",
    "M = Matrix([[a,1,2],[1,2,0],[1,3,1]])\n",
    "print(M.det())\n",
    "#V(Würfel) = 2\n",
    "#V(Spat) = 2*(2*a1+1)=3 -> 4*a1+2=3 -> 4*a1=1 -> a1=1/4\n",
    "\n",
    "#(Wahrscheinlich zu umständliche?) Methode um auf a2 zu kommen\n",
    "#Überlegung: Wählt man a=1/4, ist die Determinante von M = 1.5\n",
    "#Die einzige Möglichkeit, wie das Volumen nicht geändert wird, trotz verschiedener Determinante,\n",
    "#ist die Determinante mit vertauschtem Vorzeichen. Hier also -1.5\n",
    "#Wdh.: 2*a1 + 1 = 1.5 -> a1 = 1/4\n",
    "#2*a2 + 1 = -1.5 -> a2 = -5/4\n",
    "\n",
    "M2 = Matrix([[Fraction(1,4),1,2],[1,2,0],[1,3,1]])\n",
    "M3 = Matrix([[Fraction(-5,4),1,2],[1,2,0],[1,3,1]])\n",
    "print(\"Test:\", 2*M2.det(), 2*M3.det())\n",
    "#Lösung: 1/4 und -5/4"
   ]
  },
  {
   "cell_type": "code",
   "execution_count": 110,
   "metadata": {},
   "outputs": [
    {
     "data": {
      "text/plain": [
       "8"
      ]
     },
     "execution_count": 110,
     "metadata": {},
     "output_type": "execute_result"
    }
   ],
   "source": [
    "\"!Unsicher\"\n",
    "#Nr.213\n",
    "from sympy import *\n",
    "#Vektoren jeweils von P1 zu P2, P1 zu P3 und P2 zu P4\n",
    "M = Matrix([[1,0,0], [1,2,0], [1,2,4]])\n",
    "M.det()\n",
    "#Lösung: 8"
   ]
  },
  {
   "cell_type": "code",
   "execution_count": 164,
   "metadata": {},
   "outputs": [
    {
     "data": {
      "text/plain": [
       "38"
      ]
     },
     "execution_count": 164,
     "metadata": {},
     "output_type": "execute_result"
    }
   ],
   "source": [
    "#Nr.214\n",
    "from sympy import *\n",
    "A = Matrix([[4,-1], [-1,4]])\n",
    "B = Matrix([[3,2], [1,4]])\n",
    "C = Matrix([[2,-2], [0,4]])\n",
    "D = Matrix([[3,2], [2,3]])\n",
    "abs(A.det())+abs(B.det())+abs(C.det())+abs(D.det()) \n",
    "#hier waren eh alle Werte positiv, aber würde man die Vektoren in ner anderen Reihenfolge aufschreiben,\n",
    "#würde die negative Determinante rauskommen. Deshalb auf safe Betrag nehmen\n",
    "\n",
    "#Alternative: Norm des Kreuzprodukts aus den zwei Vektoren (geht nur für 3D, deshalb z-Koordinate mit 0 auffüllen)\n",
    "#z.B.: Matrix([4,-1,0]).cross(Matrix([-1,4,0])).norm() --> 15\n",
    "#Lösung: 38"
   ]
  },
  {
   "cell_type": "code",
   "execution_count": 4,
   "metadata": {},
   "outputs": [
    {
     "data": {
      "text/plain": [
       "-6"
      ]
     },
     "execution_count": 4,
     "metadata": {},
     "output_type": "execute_result"
    }
   ],
   "source": [
    "#Nr.219\n",
    "from sympy import *\n",
    "degToRad = (pi/180)\n",
    "radToDeg = (180/pi)\n",
    "\n",
    "A = Matrix([[-1,0], [0,1]]) #Spiegelung an y-Achse: https://www.k-achilles.de/matrizen/abbildungen-mit-matrizen.pdf\n",
    "B = Matrix([[5,1], [1,1]])\n",
    "C = Matrix([[25,1], [1,1]])\n",
    "(A*B.inv()*C.T).det()\n",
    "#Lösung: -6"
   ]
  },
  {
   "cell_type": "code",
   "execution_count": 3,
   "metadata": {},
   "outputs": [
    {
     "data": {
      "text/plain": [
       "4.00000000000000"
      ]
     },
     "execution_count": 3,
     "metadata": {},
     "output_type": "execute_result"
    }
   ],
   "source": [
    "#Nr.220\n",
    "from sympy import *\n",
    "from math import sin,cos #wichtig!\n",
    "degToRad = (pi/180)\n",
    "radToDeg = (180/pi)\n",
    "\n",
    "A = Matrix([[cos(30*degToRad), -sin(30*degToRad)], [sin(30*degToRad), cos(30*degToRad)]]) #Drehmatrix aus Buch\n",
    "B = Matrix([[7,1], [1,1]])\n",
    "C = Matrix([[25,1], [1,1]])\n",
    "(A.inv()*B.inv()*C.T).det() #wurde auch mit anderen Matrizen getestet\n",
    "#Lösung: 4"
   ]
  },
  {
   "cell_type": "code",
   "execution_count": 90,
   "metadata": {
    "collapsed": true
   },
   "outputs": [
    {
     "data": {
      "text/latex": [
       "$$\\left ( \\left[\\begin{matrix}\\frac{1}{7 x} & \\frac{2}{7 x}\\\\- \\frac{2}{7 y} & \\frac{3}{7 y}\\end{matrix}\\right], \\quad \\left[\\begin{matrix}\\frac{1}{4 x y + 3 x} & \\frac{2 y}{4 x y + 3 x}\\\\- \\frac{2 x}{4 x y + 3 x} & \\frac{3 x}{4 x y + 3 x}\\end{matrix}\\right], \\quad \\left[\\begin{matrix}- \\frac{1}{4 x y - 3 x} & \\frac{2 y}{4 x y - 3 x}\\\\- \\frac{2 x}{4 x y - 3 x} & \\frac{3 x}{4 x y - 3 x}\\end{matrix}\\right], \\quad \\left[\\begin{matrix}0 & \\frac{1}{4 x}\\\\- \\frac{1}{4 y} & \\frac{3}{8 y}\\end{matrix}\\right]\\right )$$"
      ],
      "text/plain": [
       "⎛⎡ 1    2 ⎤  ⎡     1           2⋅y    ⎤  ⎡    -1           2⋅y    ⎤  ⎡      1 \n",
       "⎜⎢───  ───⎥  ⎢───────────  ───────────⎥  ⎢───────────  ───────────⎥  ⎢ 0   ───\n",
       "⎜⎢7⋅x  7⋅x⎥  ⎢4⋅x⋅y + 3⋅x  4⋅x⋅y + 3⋅x⎥  ⎢4⋅x⋅y - 3⋅x  4⋅x⋅y - 3⋅x⎥  ⎢     4⋅x\n",
       "⎜⎢        ⎥, ⎢                        ⎥, ⎢                        ⎥, ⎢        \n",
       "⎜⎢-2    3 ⎥  ⎢   -2⋅x          3⋅x    ⎥  ⎢   -2⋅x          3⋅x    ⎥  ⎢-1    3 \n",
       "⎜⎢───  ───⎥  ⎢───────────  ───────────⎥  ⎢───────────  ───────────⎥  ⎢───  ───\n",
       "⎝⎣7⋅y  7⋅y⎦  ⎣4⋅x⋅y + 3⋅x  4⋅x⋅y + 3⋅x⎦  ⎣4⋅x⋅y - 3⋅x  4⋅x⋅y - 3⋅x⎦  ⎣4⋅y  8⋅y\n",
       "\n",
       "⎤⎞\n",
       "⎥⎟\n",
       "⎥⎟\n",
       "⎥⎟\n",
       "⎥⎟\n",
       "⎥⎟\n",
       "⎦⎠"
      ]
     },
     "execution_count": 90,
     "metadata": {},
     "output_type": "execute_result"
    }
   ],
   "source": [
    "\"!\"\n",
    "#Nr.221\n",
    "from sympy import *\n",
    "x,y = symbols(\"x y\")\n",
    "def f(x,y):\n",
    "    return Matrix([[3*x,-2*y], [2*x,y]])\n",
    "def g(x,y):\n",
    "    return Matrix([[3*x,-2*y], [2*x,1]])\n",
    "def h(x,y):\n",
    "    return Matrix([[3*x,-2*y], [2*x,-1]])\n",
    "f(x,y).inv(), g(x,y).inv(), h(x,y).inv(), (g(x,y)+h(x,y)).inv()"
   ]
  },
  {
   "cell_type": "code",
   "execution_count": 94,
   "metadata": {
    "collapsed": true
   },
   "outputs": [
    {
     "data": {
      "text/latex": [
       "$$\\left ( \\left[\\begin{matrix}\\frac{1}{7 x} & \\frac{2}{7 x}\\\\- \\frac{2}{7 y} & \\frac{3}{7 y}\\end{matrix}\\right], \\quad \\left[\\begin{matrix}\\frac{1}{4 x y + 3 x} & \\frac{2 y}{4 x y + 3 x}\\\\- \\frac{2 x}{4 x y + 3 x} & \\frac{3 x}{4 x y + 3 x}\\end{matrix}\\right], \\quad \\left[\\begin{matrix}- \\frac{1}{4 x y - 3 x} & \\frac{2 y}{4 x y - 3 x}\\\\- \\frac{2 x}{4 x y - 3 x} & \\frac{3 x}{4 x y - 3 x}\\end{matrix}\\right], \\quad \\left[\\begin{matrix}0 & \\frac{1}{4 x}\\\\- \\frac{1}{4 y} & \\frac{3}{8 y}\\end{matrix}\\right], \\quad \\left[\\begin{matrix}21 x y & - 14 y^{2}\\\\14 x y & 7 y^{2}\\end{matrix}\\right]\\right )$$"
      ],
      "text/plain": [
       "⎛⎡ 1    2 ⎤  ⎡     1           2⋅y    ⎤  ⎡    -1           2⋅y    ⎤  ⎡      1 \n",
       "⎜⎢───  ───⎥  ⎢───────────  ───────────⎥  ⎢───────────  ───────────⎥  ⎢ 0   ───\n",
       "⎜⎢7⋅x  7⋅x⎥  ⎢4⋅x⋅y + 3⋅x  4⋅x⋅y + 3⋅x⎥  ⎢4⋅x⋅y - 3⋅x  4⋅x⋅y - 3⋅x⎥  ⎢     4⋅x\n",
       "⎜⎢        ⎥, ⎢                        ⎥, ⎢                        ⎥, ⎢        \n",
       "⎜⎢-2    3 ⎥  ⎢   -2⋅x          3⋅x    ⎥  ⎢   -2⋅x          3⋅x    ⎥  ⎢-1    3 \n",
       "⎜⎢───  ───⎥  ⎢───────────  ───────────⎥  ⎢───────────  ───────────⎥  ⎢───  ───\n",
       "⎝⎣7⋅y  7⋅y⎦  ⎣4⋅x⋅y + 3⋅x  4⋅x⋅y + 3⋅x⎦  ⎣4⋅x⋅y - 3⋅x  4⋅x⋅y - 3⋅x⎦  ⎣4⋅y  8⋅y\n",
       "\n",
       "⎤                  ⎞\n",
       "⎥  ⎡             2⎤⎟\n",
       "⎥  ⎢21⋅x⋅y  -14⋅y ⎥⎟\n",
       "⎥, ⎢              ⎥⎟\n",
       "⎥  ⎢            2 ⎥⎟\n",
       "⎥  ⎣14⋅x⋅y   7⋅y  ⎦⎟\n",
       "⎦                  ⎠"
      ]
     },
     "execution_count": 94,
     "metadata": {},
     "output_type": "execute_result"
    }
   ],
   "source": [
    "#zu 221\n",
    "from sympy import *\n",
    "x,y = symbols(\"x y\")\n",
    "def f(x):\n",
    "    return Matrix([[3*x,-2*y], [2*x,y]])\n",
    "def g(x):\n",
    "    return Matrix([[3*x,-2*y], [2*x,1]])\n",
    "def h(x):\n",
    "    return Matrix([[3*x,-2*y], [2*x,-1]])\n",
    "f(x).inv(), g(x).inv(), h(x).inv(), (g(x)+h(x)).inv(), (f(f(x))).det()"
   ]
  },
  {
   "cell_type": "code",
   "execution_count": 76,
   "metadata": {
    "collapsed": true
   },
   "outputs": [
    {
     "data": {
      "text/latex": [
       "$$\\left ( \\left[\\begin{matrix}\\frac{1}{7} & \\frac{2}{7}\\\\- \\frac{2}{7} & \\frac{3}{7}\\end{matrix}\\right], \\quad \\left[\\begin{matrix}\\frac{1}{7} & \\frac{2}{7}\\\\- \\frac{2}{7} & \\frac{3}{7}\\end{matrix}\\right], \\quad \\left[\\begin{matrix}-1 & 2\\\\-2 & 3\\end{matrix}\\right], \\quad \\left[\\begin{matrix}\\frac{1}{14} & \\frac{1}{7}\\\\- \\frac{1}{7} & \\frac{3}{14}\\end{matrix}\\right], \\quad \\left[\\begin{matrix}\\frac{1}{7} & \\frac{2}{7}\\\\- \\frac{2}{7} & \\frac{3}{7}\\end{matrix}\\right]\\right )$$"
      ],
      "text/plain": [
       "⎛⎡1/7   2/7⎤  ⎡1/7   2/7⎤  ⎡-1  2⎤  ⎡1/14  1/7 ⎤  ⎡1/7   2/7⎤⎞\n",
       "⎜⎢         ⎥, ⎢         ⎥, ⎢     ⎥, ⎢          ⎥, ⎢         ⎥⎟\n",
       "⎝⎣-2/7  3/7⎦  ⎣-2/7  3/7⎦  ⎣-2  3⎦  ⎣-1/7  3/14⎦  ⎣-2/7  3/7⎦⎠"
      ]
     },
     "execution_count": 76,
     "metadata": {},
     "output_type": "execute_result"
    }
   ],
   "source": [
    "#zu 221\n",
    "from sympy import *\n",
    "x,y = symbols(\"x y\")\n",
    "def f(x):\n",
    "    return Matrix([[3,-2], [2,1]])\n",
    "def g(x):\n",
    "    return Matrix([[3,-2], [2,1]])\n",
    "def h(x):\n",
    "    return Matrix([[3,-2], [2,-1]])\n",
    "f(x).inv(), g(x).inv(), h(x).inv(), (f(x)+g(x)).inv(),  f(f(x)).inv()"
   ]
  },
  {
   "cell_type": "code",
   "execution_count": 4,
   "metadata": {},
   "outputs": [
    {
     "name": "stdout",
     "output_type": "stream",
     "text": [
      "45 °:  Matrix([[sqrt(2)], [sqrt(2)]])\n"
     ]
    }
   ],
   "source": [
    "#Nr.226\n",
    "from sympy import *\n",
    "degToRad = (pi/180)\n",
    "radToDeg = (180/pi)\n",
    "for i in range(0,181):\n",
    "    Dreh = Matrix([[cos(i*degToRad), -sin(i*degToRad)], [sin(i*degToRad), cos(i*degToRad)]])\n",
    "    test = Dreh*Matrix([2,0])\n",
    "    if test==Matrix([sqrt(2),sqrt(2)]) or test==Matrix([1,1]) or test==Matrix([0,0]) or test==Matrix([1,-1]) or test==Matrix([1,sqrt(2)]):\n",
    "        print(i,\"°: \", Dreh * Matrix([2,0]))\n",
    "#Bei einer 45° Drehung kommt (sqrt(2), sqrt(2)) heraus, die anderen 4 sind also unmöglich (Diese 4 ankreuzen!)"
   ]
  },
  {
   "cell_type": "code",
   "execution_count": 139,
   "metadata": {},
   "outputs": [
    {
     "data": {
      "image/png": "[encoded data removed]",
      "text/latex": [
       "$$\\left ( 4.47213595499958, \\quad 3.16227766016838\\right )$$"
      ],
      "text/plain": [
       "(4.47213595499958, 3.16227766016838)"
      ]
     },
     "execution_count": 139,
     "metadata": {},
     "output_type": "execute_result"
    }
   ],
   "source": [
    "\"!\"\n",
    "#Nr.227\n",
    "from sympy import *\n",
    "from math import sin,cos\n",
    "degToRad = (pi/180)\n",
    "radToDeg = (180/pi)\n",
    "M = Matrix([[cos(30*degToRad), -sin(30*degToRad)], [sin(30*degToRad), cos(30*degToRad)]])\n",
    "v = Matrix([1,2])\n",
    "w = Matrix([2,-1])\n",
    "(M*v).norm() + (M*w).norm(), (M*(v+w)).norm() #warum ergibt das nicht dasselbe?? s.Buch S.333 (iii.)\n",
    "#Lösung: 4.47 oder 3.16"
   ]
  },
  {
   "cell_type": "code",
   "execution_count": 127,
   "metadata": {},
   "outputs": [
    {
     "data": {
      "text/latex": [
       "$$\\left ( \\left[\\begin{matrix}-2\\\\1\\end{matrix}\\right], \\quad \\left[\\begin{matrix}1\\\\2\\end{matrix}\\right]\\right )$$"
      ],
      "text/plain": [
       "⎛⎡-2⎤  ⎡1⎤⎞\n",
       "⎜⎢  ⎥, ⎢ ⎥⎟\n",
       "⎝⎣1 ⎦  ⎣2⎦⎠"
      ]
     },
     "execution_count": 127,
     "metadata": {},
     "output_type": "execute_result"
    }
   ],
   "source": [
    "from sympy import *\n",
    "#from math import sin,cos\n",
    "degToRad = (pi/180)\n",
    "radToDeg = (180/pi)\n",
    "M = Matrix([[cos(90*degToRad), -sin(90*degToRad)], [sin(90*degToRad), cos(90*degToRad)]])\n",
    "v = Matrix([1,2])\n",
    "w = Matrix([2,-1])\n",
    "vw=v+w\n",
    "(M*v).norm()+(M*w).norm(),(M*vw).norm()\n",
    "M*v,M*w"
   ]
  },
  {
   "cell_type": "code",
   "execution_count": 125,
   "metadata": {},
   "outputs": [
    {
     "data": {
      "text/plain": [
       "'\\n[0,-1] * [1]\\n[1,0]    [2]\\n\\n= [-2]\\n  [1]\\n  \\nsqrt(4+1) = sqrt(5)\\n  \\n  \\n[0,-1] * [2]\\n[1,0]    [-1]\\n\\n= [1]\\n  [2]\\n\\nsqrt(1+4) = sqrt(5)\\n  \\n'"
      ]
     },
     "execution_count": 125,
     "metadata": {},
     "output_type": "execute_result"
    }
   ],
   "source": [
    "#zu 227\n",
    "\"\"\"\n",
    "[0,-1] * [1]\n",
    "[1,0]    [2]\n",
    "\n",
    "= [-2]\n",
    "  [1]\n",
    "  \n",
    "sqrt(4+1) = sqrt(5)\n",
    "  \n",
    "  \n",
    "[0,-1] * [2]\n",
    "[1,0]    [-1]\n",
    "\n",
    "= [1]\n",
    "  [2]\n",
    "\n",
    "sqrt(1+4) = sqrt(5)\n",
    "  \n",
    "\"\"\""
   ]
  },
  {
   "cell_type": "code",
   "execution_count": 41,
   "metadata": {},
   "outputs": [
    {
     "name": "stdout",
     "output_type": "stream",
     "text": [
      "4\n"
     ]
    }
   ],
   "source": [
    "#Nr.228\n",
    "from sympy import *\n",
    "v = Matrix([1,2,3])\n",
    "e3 = Matrix([0,0,1])\n",
    "for a in range(-10,11):\n",
    "    w=Matrix([2,a,2])\n",
    "    if v.cross(w).dot(e3) == 0:\n",
    "        print(a)\n",
    "#Lösung: 4"
   ]
  },
  {
   "cell_type": "code",
   "execution_count": 55,
   "metadata": {},
   "outputs": [
    {
     "name": "stdout",
     "output_type": "stream",
     "text": [
      "a und b senkrecht: 0\n",
      "Kreuzprodukt aus a und b / a x b = c: Matrix([[-6], [0], [2]])\n",
      "a x b = a?: 10\n",
      "a x b = -c?: 0 0\n",
      "a x b = -a?: -10\n",
      "a x b = 2c?: 0 0\n"
     ]
    }
   ],
   "source": [
    "#Nr.230\n",
    "#bissl rumprobieren mit irgendwelchen Vektoren\n",
    "from sympy import *\n",
    "a = Matrix([1,0,3])\n",
    "b = Matrix([0,2,0])\n",
    "print(\"a und b senkrecht:\", a.dot(b))\n",
    "c = a.cross(b)\n",
    "\n",
    "#Das Kreuzprodukts ist immer senkrecht auf den beiden Faktoren,\n",
    "#deshalb hier mithilfe des Skalarprodukts auf Orthogonalität prüfen\n",
    "print(\"Kreuzprodukt aus a und b / a x b = c:\", c) #a x b = c ist sowieso richtig\n",
    "print(\"a x b = a?:\", a.dot(a)) #falsch\n",
    "print(\"a x b = -c?:\", a.dot(-c), b.dot(-c)) #richtig, -c ist senkrecht auf a und b\n",
    "print(\"a x b = -a?:\", a.dot(-a)) #falsch\n",
    "print(\"a x b = 2c?:\", a.dot(2*c), b.dot(2*c)) #richtig, 2*c ist senkrecht auf a und b\n",
    "#Richtig: 1,3,5"
   ]
  },
  {
   "cell_type": "code",
   "execution_count": 35,
   "metadata": {},
   "outputs": [
    {
     "data": {
      "text/plain": [
       "Matrix([\n",
       "[ 2/3],\n",
       "[-2/3],\n",
       "[-1/3]])"
      ]
     },
     "execution_count": 35,
     "metadata": {},
     "output_type": "execute_result"
    }
   ],
   "source": [
    "#Nr.231\n",
    "from sympy import *\n",
    "a = Matrix([-4,-3,-2])\n",
    "b = Matrix([-1,1,-4])\n",
    "c = a.cross(b)\n",
    "c.normalized()"
   ]
  },
  {
   "cell_type": "code",
   "execution_count": 46,
   "metadata": {},
   "outputs": [
    {
     "name": "stdout",
     "output_type": "stream",
     "text": [
      "Matrix([[-14], [-14], [-7]]) 21\n"
     ]
    },
    {
     "data": {
      "text/plain": [
       "(Matrix([\n",
       " [-2],\n",
       " [-2],\n",
       " [-1]]), 3)"
      ]
     },
     "execution_count": 46,
     "metadata": {},
     "output_type": "execute_result"
    }
   ],
   "source": [
    "#Nr.232\n",
    "from sympy import *\n",
    "a = Matrix([3,-4,2])\n",
    "b = Matrix([-1,-1,4])\n",
    "c = a.cross(b)\n",
    "print(c, c.norm())\n",
    "#c hat die Norm 21, also c durch 7 teilen, um den Vektor mit der Norm 3 zu erhalten\n",
    "c/7, (c/7).norm() # -c/7 müsste auch gehen"
   ]
  },
  {
   "cell_type": "code",
   "execution_count": 48,
   "metadata": {},
   "outputs": [
    {
     "name": "stdout",
     "output_type": "stream",
     "text": [
      "Matrix([[-14], [-14], [-7]]) 21\n"
     ]
    },
    {
     "data": {
      "text/plain": [
       "(Matrix([\n",
       " [-2],\n",
       " [-2],\n",
       " [-1]]), 3)"
      ]
     },
     "execution_count": 48,
     "metadata": {},
     "output_type": "execute_result"
    }
   ],
   "source": [
    "#Nr.234 #ist dasselbe wie Nr.232 & 235\n",
    "from sympy import *\n",
    "#Kreuzprodukt aus Spannvektoren der Ebene bilden\n",
    "a = Matrix([3,-4,2])\n",
    "b = Matrix([-1,-1,4])\n",
    "c = a.cross(b)\n",
    "print(c, c.norm())\n",
    "#c hat die Norm 21, also c durch 7 teilen, um den Vektor mit der Norm 3 zu erhalten\n",
    "c/7, (c/7).norm() # -c/7 müsste auch gehen"
   ]
  },
  {
   "cell_type": "code",
   "execution_count": 53,
   "metadata": {},
   "outputs": [
    {
     "name": "stdout",
     "output_type": "stream",
     "text": [
      "Matrix([[-14], [-14], [-7]]) 21\n"
     ]
    },
    {
     "data": {
      "text/plain": [
       "(Matrix([\n",
       " [-2],\n",
       " [-2],\n",
       " [-1]]), 3)"
      ]
     },
     "execution_count": 53,
     "metadata": {},
     "output_type": "execute_result"
    }
   ],
   "source": [
    "#Nr.235 #ist dasselbe wie Nr.232 & 234\n",
    "A = Matrix([1,2,3])\n",
    "B = Matrix([4,-2,5])\n",
    "C = Matrix([0,1,7])\n",
    "AB = B-A\n",
    "AC = C-A\n",
    "c = AB.cross(AC)\n",
    "print(c, c.norm())\n",
    "#c hat die Norm 21, also c durch 7 teilen, um den Vektor mit der Norm 3 zu erhalten\n",
    "c/7, (c/7).norm() # -c/7 müsste auch gehen"
   ]
  },
  {
   "cell_type": "code",
   "execution_count": 14,
   "metadata": {},
   "outputs": [
    {
     "name": "stdout",
     "output_type": "stream",
     "text": [
      "Matrix([[-14], [-14], [-7]])\n",
      "-63\n"
     ]
    },
    {
     "data": {
      "text/plain": [
       "(-63, -63, -77, -63, -112)"
      ]
     },
     "execution_count": 14,
     "metadata": {},
     "output_type": "execute_result"
    }
   ],
   "source": [
    "#Nr.236\n",
    "from sympy import *\n",
    "#Ebene von Parameter- in Koordinatenform bringen\n",
    "#1.Kreuzprodukt aus Spannvektoren\n",
    "A = Matrix([3,-4,2])\n",
    "B = Matrix([-1,-1,4])\n",
    "print(A.cross(B))\n",
    "#E: -14x-14y-7z = a\n",
    "#2. Stützpunkt einsetzen, um a zu berechnen\n",
    "a = -14*1 - 14*2 - 7*3\n",
    "print(a)\n",
    "#E: -14x-14y-7z = -63\n",
    "\n",
    "#Punkte einsetzen\n",
    "P1 = -14*0-14*1-7*7\n",
    "P2 = -14*1-14*2-7*3\n",
    "P3 = -14*3-14*2-7*1\n",
    "P4 = -14*6-14*-7-7*11\n",
    "P5 = -14*7-14*1-7*0\n",
    "P1,P2,P3,P4,P5\n",
    "\n",
    "#Alternative zur Koordinatenform: Punkte mit Parameterform gleichsetzen und umformen, ist aber schwerer wegen den 2 Parametern\n",
    "#Lösung: P1,P2,P4 erfüllen die Gleichung und liegen somit in der Ebene"
   ]
  },
  {
   "cell_type": "code",
   "execution_count": 48,
   "metadata": {},
   "outputs": [
    {
     "name": "stdout",
     "output_type": "stream",
     "text": [
      "1\n"
     ]
    },
    {
     "data": {
      "image/png": "[encoded data removed]",
      "text/latex": [
       "$$\\left [ \\left \\{ a : 1\\right \\}\\right ]$$"
      ],
      "text/plain": [
       "[{a: 1}]"
      ]
     },
     "execution_count": 48,
     "metadata": {},
     "output_type": "execute_result"
    }
   ],
   "source": [
    "#Nr.237\n",
    "from sympy import *\n",
    "for a in range (1,11):\n",
    "    M = (1/sqrt(2)) * Matrix([[a,0,-1], [-1,0,-1], [0, sqrt(2), 0]])\n",
    "    if M * M.T == eye(3): #siehe Buch Lösung zu Nr.569\n",
    "        print(a)\n",
    "        \n",
    "\n",
    "#Alternativ\n",
    "a = symbols(\"a\")\n",
    "M = (1/sqrt(2)) * Matrix([[a,0,-1], [-1,0,-1], [0, sqrt(2), 0]])\n",
    "solve(M * M.T - eye(3)) #siehe Buch Lösung zu Nr.569\n",
    "#Lösung: 1"
   ]
  },
  {
   "cell_type": "code",
   "execution_count": 49,
   "metadata": {},
   "outputs": [
    {
     "data": {
      "image/png": "[encoded data removed]",
      "text/latex": [
       "$$\\left [ \\left \\{ a : - \\frac{\\sqrt{6}}{6}\\right \\}, \\quad \\left \\{ a : \\frac{\\sqrt{6}}{6}\\right \\}\\right ]$$"
      ],
      "text/plain": [
       "⎡⎧   -√6 ⎫  ⎧   √6⎫⎤\n",
       "⎢⎨a: ────⎬, ⎨a: ──⎬⎥\n",
       "⎣⎩    6  ⎭  ⎩   6 ⎭⎦"
      ]
     },
     "execution_count": 49,
     "metadata": {},
     "output_type": "execute_result"
    }
   ],
   "source": [
    "#Nr.238\n",
    "from sympy import *\n",
    "for a in range (1,11):\n",
    "    M = a * Matrix([[sqrt(3),-sqrt(3),0], [sqrt(2),sqrt(2),sqrt(2)], [1,1,-2]])\n",
    "    if M.T*M==eye(3): #siehe Buch Lösung zu Nr.569\n",
    "        print(a)\n",
    "#funzt hier nicht oof\n",
    "\n",
    "#Alternativ\n",
    "a = symbols(\"a\")\n",
    "M = a * Matrix([[sqrt(3),-sqrt(3),0], [sqrt(2),sqrt(2),sqrt(2)], [1,1,-2]])\n",
    "solve(M * M.T - eye(3)) #siehe Buch Lösung zu Nr.569\n",
    "#Lösung: sqrt(6)/6 oder -sqrt(6)/6"
   ]
  },
  {
   "cell_type": "code",
   "execution_count": 8,
   "metadata": {},
   "outputs": [
    {
     "data": {
      "text/plain": [
       "-5.00000000000000"
      ]
     },
     "execution_count": 8,
     "metadata": {},
     "output_type": "execute_result"
    }
   ],
   "source": [
    "#Nr.240\n",
    "from sympy import *\n",
    "P = Matrix([5,6,1])\n",
    "(1/3) * (Matrix([2,-1,2]).dot(P)) - 7\n",
    "#Lösung: |-5| = 5 "
   ]
  },
  {
   "cell_type": "code",
   "execution_count": 1,
   "metadata": {
    "scrolled": true
   },
   "outputs": [
    {
     "name": "stdout",
     "output_type": "stream",
     "text": [
      "sqrt(61)\n",
      "9*sqrt(61)/61\n",
      "4.86540143745005\n"
     ]
    },
    {
     "data": {
      "text/plain": [
       "4.86540143745005"
      ]
     },
     "execution_count": 1,
     "metadata": {},
     "output_type": "execute_result"
    }
   ],
   "source": [
    "#Nr.241\n",
    "from sympy import *\n",
    "p = Matrix([3,-1])\n",
    "n = Matrix([5,6])\n",
    "x = Matrix([7,2])\n",
    "#g: x=(3,-1)+r*(6,-5)\n",
    "\n",
    "#Normalenform #war im Nachhinein egal, direkt Hessesche Form bilden!\n",
    "    #k = n*p = 3*6 + (-1)*(-5) = 23\n",
    "    #{x€R**2: (5,6) * x - 23}\n",
    "#Hessesche Normalenform\n",
    "print(n.norm())\n",
    "    #||n|| = sqrt(61)\n",
    "n0 = 1/sqrt(61) * n\n",
    "k0 = n0.dot(p)\n",
    "print(k0) #k0 = 9*sqrt(61)/61; wäre k0 negativ, müsste man noch n0 * -1 rechnen (s.Buch Lösung Nr. 557)\n",
    "#{x€R**2: 1/sqrt(61)*n * x - (9*sqrt(61)/61) = 0}\n",
    "\n",
    "#Punkt für x einsetzen\n",
    "d = n0.dot(x)-k0\n",
    "print(d.evalf())\n",
    "\n",
    "\n",
    "#SIMPLERE ALTERNATIVE\n",
    "#Einziger Nachteil: Man kriegt nicht mehr den gerichteten Abstand, sondern immer den Betrag\n",
    "#https://de.serlo.org/mathe/geometrie/analytische-geometrie/abstaende-winkel/abstaende/abstand-punktes-einer-geraden-berechnen-analytische-geometrie\n",
    "#Geradengleichung aufstellen\n",
    "    #Stützvektor gegeben, für Richtungsvektor beim gegebenen Normalenvektor Komponenten vertauschen und bei einer Vorzeichen ändern\n",
    "    #g: x=(3,-1)+r*(6,-5)\n",
    "#Formel für Abstand von P(x,y,z) zu g: x = a + r*b\n",
    "    #(|(p-a) x b) / |b|\n",
    "#Wegen des Kreuzprodukts muss in 3D gerechnet werden; bei 2D einfach 0 für die z-Koordinate verwenden\n",
    "punkt = Matrix([7,2,0])\n",
    "a = Matrix([3,-1,0])\n",
    "b = Matrix([6,-5,0])\n",
    "zähler = ((punkt-a).cross(b)).norm()\n",
    "nenner = b.norm()\n",
    "(zähler/nenner).evalf()\n",
    "#Lösung: 4.87"
   ]
  },
  {
   "cell_type": "code",
   "execution_count": 101,
   "metadata": {},
   "outputs": [
    {
     "name": "stdout",
     "output_type": "stream",
     "text": [
      "5\n",
      "1.00000000000000\n",
      "\n",
      "0\n",
      "-1.60000000000000\n",
      "-0.200000000000000\n",
      "0.400000000000000\n"
     ]
    }
   ],
   "source": [
    "#Nr.242\n",
    "#Formel bei Nr.241 unten kann nicht angewendet werden, weil hier der gerichtete Abstand gefragt ist\n",
    "p = Matrix([3,-1])\n",
    "n = Matrix([3,4])\n",
    "x1 = Matrix([-1,2])\n",
    "x2 = Matrix([-1,0])\n",
    "x3 = Matrix([0,1])\n",
    "x4 = Matrix([1,1])\n",
    "\n",
    "#Hessesche Normalenform\n",
    "print(n.norm())\n",
    "    #||n|| = 5\n",
    "n0 = 1/5 * n\n",
    "k0 = n0.dot(p)\n",
    "print(k0) #k0 = 1; wäre k0 negativ, müsste man noch n0 * -1 rechnen (s.Buch Lösung Nr. 557)\n",
    "#Problem mit k0: k0=1.00000... gibt am Ende (für d1) ein falsches Ergebnis, deshalb auf 1 setzen\n",
    "k0 = 1\n",
    "\n",
    "d1 = n0.dot(x1)-k0\n",
    "d2 = n0.dot(x2)-k0\n",
    "d3 = n0.dot(x3)-k0\n",
    "d4 = n0.dot(x4)-k0\n",
    "print()\n",
    "print(d1.evalf()) #liegt auf der Geraden\n",
    "print(d2.evalf()) #liegt auf der Seite mit dem Ursprung\n",
    "print(d3.evalf()) #liegt auf der Seite mit dem Ursprung\n",
    "print(d4.evalf()) #liegt NICHT auf der Seite mit dem Ursprung\n",
    "#Richtig: d2 und d3"
   ]
  },
  {
   "cell_type": "code",
   "execution_count": 71,
   "metadata": {},
   "outputs": [
    {
     "name": "stdout",
     "output_type": "stream",
     "text": [
      "sqrt(77)\n",
      "31*sqrt(77)/77\n",
      "10.2564518813674\n"
     ]
    },
    {
     "data": {
      "text/plain": [
       "10.2564518813674"
      ]
     },
     "execution_count": 71,
     "metadata": {},
     "output_type": "execute_result"
    }
   ],
   "source": [
    "#Nr.243\n",
    "from sympy import *\n",
    "p = Matrix([1,2,3])\n",
    "n = Matrix([5,4,6])\n",
    "x = Matrix([7,8,9])\n",
    "\n",
    "#Hessesche Normalenform\n",
    "print(n.norm())\n",
    "    #||n|| = sqrt(77)\n",
    "n0 = 1/sqrt(77)*n\n",
    "k0 = n0.dot(p)\n",
    "print(k0) #k0 = 31*sqrt(77)/77; wäre k0 negativ, müsste man noch n0 * -1 rechnen (s.Buch Lösung Nr. 557)\n",
    "d = n0.dot(x) - k0\n",
    "print(d.evalf())\n",
    "\n",
    "\n",
    "#SIMPLERE ALTERNATIVE\n",
    "#Einziger Nachteil: Man kriegt nicht mehr den gerichteten Abstand, sondern immer den Betrag\n",
    "#https://www.frustfrei-lernen.de/mathematik/abstand-punkt-zu-ebene.html\n",
    "p = Matrix([1,2,3])\n",
    "n = Matrix([5,4,6])\n",
    "x = Matrix([7,8,9])\n",
    "#Koordinatenform der Ebene benötigt\n",
    "    #E: n1*x + n2*y + n3*z = a\n",
    "    #n ist schon gegeben\n",
    "    #a = n * ein Punkt der Ebene -> a = n*p\n",
    "a = n.dot(p)\n",
    "#Formel\n",
    "    #(n1*x + n2*y + n3*z - a) / |n|\n",
    "    #der Zähler OHNE das \"-a\" ist: b = n * Punkt, dessen Abstand gesucht ist -> b = n*x\n",
    "b = n.dot(x)\n",
    "\n",
    "((b-a) / n.norm()).evalf()\n",
    "#Lösung: 10.26"
   ]
  },
  {
   "cell_type": "code",
   "execution_count": 81,
   "metadata": {},
   "outputs": [
    {
     "data": {
      "text/plain": [
       "2.12132034355964"
      ]
     },
     "execution_count": 81,
     "metadata": {},
     "output_type": "execute_result"
    }
   ],
   "source": [
    "#Nr.244\n",
    "#siehe Formel bei Nr.241 unten\n",
    "p = Matrix([7,2,0])\n",
    "a = Matrix([3,1,0])\n",
    "b = Matrix([2,2,0])\n",
    "zähler = ((p-a).cross(b)).norm()\n",
    "nenner = b.norm()\n",
    "(zähler/nenner).evalf()\n",
    "#Lösung: 2.12"
   ]
  },
  {
   "cell_type": "code",
   "execution_count": 3,
   "metadata": {},
   "outputs": [
    {
     "data": {
      "text/plain": [
       "21"
      ]
     },
     "execution_count": 3,
     "metadata": {},
     "output_type": "execute_result"
    }
   ],
   "source": [
    "#Nr.275\n",
    "from sympy import *\n",
    "x = symbols(\"x\")\n",
    "def func(x, a):\n",
    "    return (((4*x)+a)*(a*x+4)) / (2*(x**2)+18)\n",
    "def nr275():\n",
    "    for a in range (1, 50):\n",
    "        if limit(func(x, a),x,oo) == 42:\n",
    "            return a\n",
    "nr275()\n",
    "#Lösung: 21"
   ]
  },
  {
   "cell_type": "code",
   "execution_count": 33,
   "metadata": {},
   "outputs": [
    {
     "name": "stdout",
     "output_type": "stream",
     "text": [
      "oo\n",
      "E\n",
      "1\n",
      "exp(2)\n"
     ]
    }
   ],
   "source": [
    "def a(n):\n",
    "    return ((n)/n+1)**n\n",
    "def b(n):\n",
    "    return ((2+2*n)/(2*n))**n\n",
    "def c(n):\n",
    "    return ((n+1)/n)\n",
    "def d(n):\n",
    "    return ((n+2)/n)**n\n",
    "print(limit(a(n),n,oo))\n",
    "print(limit(b(n),n,oo))\n",
    "print(limit(c(n),n,oo))\n",
    "print(limit(d(n),n,oo))"
   ]
  },
  {
   "cell_type": "code",
   "execution_count": 31,
   "metadata": {},
   "outputs": [
    {
     "name": "stdout",
     "output_type": "stream",
     "text": [
      "exp(-1)\n",
      "E\n",
      "1\n",
      "exp(3)\n"
     ]
    }
   ],
   "source": [
    "def a(n):\n",
    "    return ((3*n)/(3+3*n))**n\n",
    "def b(n):\n",
    "    return ((3*n)/(3+3*n))**-n\n",
    "def c(n):\n",
    "    return ((3*n+3)/(3*n))\n",
    "def d(n):\n",
    "    return ((n+3)/(n))**n\n",
    "print(limit(a(n),n,oo))\n",
    "print(limit(b(n),n,oo))\n",
    "print(limit(c(n),n,oo))\n",
    "print(limit(d(n),n,oo))"
   ]
  },
  {
   "cell_type": "code",
   "execution_count": 28,
   "metadata": {},
   "outputs": [
    {
     "data": {
      "image/png": "[encoded data removed]",
      "text/latex": [
       "$$e^{-2}$$"
      ],
      "text/plain": [
       " -2\n",
       "ℯ  "
      ]
     },
     "execution_count": 28,
     "metadata": {},
     "output_type": "execute_result"
    }
   ],
   "source": [
    "#Nr.278\n",
    "from sympy import *\n",
    "n = symbols(\"n\")\n",
    "init_printing()\n",
    "def nr278 (n):\n",
    "    return ((n**2) / (n**(2)+2*n+1)) ** n\n",
    "limit(nr278(n), n, oo)\n",
    "#Lösung: e**-2"
   ]
  },
  {
   "cell_type": "code",
   "execution_count": 5,
   "metadata": {},
   "outputs": [
    {
     "data": {
      "image/png": "[encoded data removed]",
      "text/latex": [
       "$$e^{-3}$$"
      ],
      "text/plain": [
       " -3\n",
       "ℯ  "
      ]
     },
     "execution_count": 5,
     "metadata": {},
     "output_type": "execute_result"
    }
   ],
   "source": [
    "#Nr.279\n",
    "from sympy import *\n",
    "n = symbols(\"n\")\n",
    "def nr279 (n):\n",
    "    return ((n**(2)+3*n) / (n**(2)+6*n+9)) ** (n+42)\n",
    "limit(nr279(n), n, oo)\n",
    "#Lösung: e**-3"
   ]
  },
  {
   "cell_type": "code",
   "execution_count": 12,
   "metadata": {},
   "outputs": [
    {
     "name": "stdout",
     "output_type": "stream",
     "text": [
      "oo\n",
      "oo\n",
      "0\n",
      "0\n",
      "0\n"
     ]
    }
   ],
   "source": [
    "#Nr.284\n",
    "from sympy import *\n",
    "n = symbols(\"n\")\n",
    "def a(n):\n",
    "    return (3**n) / (2**(n+42))\n",
    "def b(n):\n",
    "    return (n**(2)*2**(n)) / (2**n)\n",
    "def c(n):\n",
    "    return (n**(2)*2**(n)) / (3**n)\n",
    "def d(n):\n",
    "    return (2**(n+42)) / (3**n)\n",
    "def e(n):\n",
    "    return (n * log(n)) / (n**2)\n",
    "print(limit(a(n),n,oo))\n",
    "print(limit(b(n),n,oo))\n",
    "print(limit(c(n),n,oo))\n",
    "print(limit(d(n),n,oo))\n",
    "print(limit(e(n),n,oo))\n",
    "#Lösung: c,d,e"
   ]
  },
  {
   "cell_type": "code",
   "execution_count": 43,
   "metadata": {},
   "outputs": [
    {
     "name": "stdout",
     "output_type": "stream",
     "text": [
      "oo\n",
      "0\n",
      "0\n",
      "oo\n",
      "0\n"
     ]
    }
   ],
   "source": [
    "#Nr.285\n",
    "from sympy import *\n",
    "n = symbols(\"n\")\n",
    "def a(n):\n",
    "    return (n**(2)*2**(n)) / (2**n)\n",
    "def b(n):\n",
    "    return (n**(2)*2**(n)) / (3**n)\n",
    "def c(n):\n",
    "    return (2**(n+42)) / (3**n)\n",
    "def d(n):\n",
    "    erg = 1\n",
    "    for k in range(0,4):\n",
    "        erg *= (n+k)\n",
    "    return (erg) / (n**3)\n",
    "def e(n):\n",
    "    return ((log(n))**2) / (n**2)\n",
    "print(limit(a(n),n,oo))\n",
    "print(limit(b(n),n,oo))\n",
    "print(limit(c(n),n,oo))\n",
    "print(limit(d(n),n,oo))\n",
    "print(limit(e(n),n,oo))\n",
    "#Lösung: b,c,e"
   ]
  },
  {
   "cell_type": "code",
   "execution_count": 4,
   "metadata": {},
   "outputs": [
    {
     "name": "stdout",
     "output_type": "stream",
     "text": [
      "oo\n",
      "oo\n",
      "0\n",
      "oo\n",
      "oo\n"
     ]
    }
   ],
   "source": [
    "#Nr.286\n",
    "from sympy import *\n",
    "n = symbols(\"n\")\n",
    "def a(n):\n",
    "    return ((n**4+n**3+n**2+n)**4) / (n**10)\n",
    "def b(n):\n",
    "    return (2**(2*n)) / (3**n)\n",
    "def c(n):\n",
    "    return (2**(3*n)) / (9**n)\n",
    "def d(n):\n",
    "    erg = 1\n",
    "    for k in range(1,4):\n",
    "        erg *= (n**k+k)\n",
    "    return (erg) / (n**3)\n",
    "def e(n):\n",
    "    return ((2**n)**2) / (2**n) #beim Zähler alternativ: 2**(n*2), aber nicht 2**n**2 (auch wenns hier eh bei beiden oo ist)\n",
    "print(limit(a(n),n,oo))\n",
    "print(limit(b(n),n,oo))\n",
    "print(limit(c(n),n,oo))\n",
    "print(limit(d(n),n,oo))\n",
    "print(limit(e(n),n,oo))\n",
    "#Lösung: c"
   ]
  },
  {
   "cell_type": "code",
   "execution_count": null,
   "metadata": {},
   "outputs": [],
   "source": [
    "\"SoSe 19 Testate\""
   ]
  },
  {
   "cell_type": "code",
   "execution_count": 18,
   "metadata": {},
   "outputs": [
    {
     "data": {
      "text/plain": [
       "28"
      ]
     },
     "execution_count": 18,
     "metadata": {},
     "output_type": "execute_result"
    }
   ],
   "source": [
    "\"Unsicher\"\n",
    "#4A Nr.1\n",
    "#(a+b)*(a+b) = (a+b)**2 = a**2 + 2*a*b + b**2\n",
    "#Da a und b orthogonal zueinander sind, ergibt 2*a*b = 0 und der Term verkürzt sich zu\n",
    "#a**2 + b**2\n",
    "a,b = 4,2*sqrt(3)\n",
    "a**2+b**2"
   ]
  },
  {
   "cell_type": "code",
   "execution_count": null,
   "metadata": {},
   "outputs": [],
   "source": [
    "#4A Nr.3"
   ]
  },
  {
   "cell_type": "code",
   "execution_count": null,
   "metadata": {},
   "outputs": [],
   "source": [
    "\"WiSe 19 Testate\""
   ]
  },
  {
   "cell_type": "code",
   "execution_count": 31,
   "metadata": {},
   "outputs": [
    {
     "data": {
      "text/plain": [
       "a**4"
      ]
     },
     "execution_count": 31,
     "metadata": {},
     "output_type": "execute_result"
    }
   ],
   "source": [
    "#4A Nr.2\n",
    "from sympy import *\n",
    "a = symbols(\"a\")\n",
    "M = Matrix([[a,0,0], [1,1/2,3], [pi,9,-42]])\n",
    "(M**4)[0,0]\n",
    "#Lösung: a**4"
   ]
  },
  {
   "cell_type": "code",
   "execution_count": 39,
   "metadata": {},
   "outputs": [
    {
     "data": {
      "text/latex": [
       "$$\\left ( \\left[\\begin{matrix}a & 2 & b\\\\a & b & a - 2 b\\\\2 a & d & c\\end{matrix}\\right], \\quad \\left[\\begin{matrix}a & a & 2 a\\\\2 & b & d\\\\b & a - 2 b & c\\end{matrix}\\right]\\right )$$"
      ],
      "text/plain": [
       "⎛⎡ a   2     b   ⎤  ⎡a     a     2⋅a⎤⎞\n",
       "⎜⎢               ⎥  ⎢               ⎥⎟\n",
       "⎜⎢ a   b  a - 2⋅b⎥, ⎢2     b      d ⎥⎟\n",
       "⎜⎢               ⎥  ⎢               ⎥⎟\n",
       "⎝⎣2⋅a  d     c   ⎦  ⎣b  a - 2⋅b   c ⎦⎠"
      ]
     },
     "execution_count": 39,
     "metadata": {},
     "output_type": "execute_result"
    }
   ],
   "source": [
    "#4A Nr.3\n",
    "from sympy import *\n",
    "init_printing(True)\n",
    "a,b,c,d = symbols(\"a b c d\")\n",
    "M = Matrix([[a,2,b], [a,b,a-2*b], [2*a,d,c]])\n",
    "M, M.T\n",
    "#d = a-2*b\n",
    "#a = 2\n",
    "#b = 2*a = 4\n",
    "#d = 2-2*4 = -6\n",
    "#Lösung: -6"
   ]
  },
  {
   "cell_type": "code",
   "execution_count": 49,
   "metadata": {},
   "outputs": [
    {
     "data": {
      "image/png": "[encoded data removed]",
      "text/latex": [
       "$$2$$"
      ],
      "text/plain": [
       "2"
      ]
     },
     "metadata": {},
     "output_type": "display_data"
    },
    {
     "data": {
      "text/latex": [
       "$$\\left[\\begin{matrix}10 & -2 & 0\\\\4 & 0 & -1\\end{matrix}\\right]$$"
      ],
      "text/plain": [
       "⎡10  -2  0 ⎤\n",
       "⎢          ⎥\n",
       "⎣4   0   -1⎦"
      ]
     },
     "metadata": {},
     "output_type": "display_data"
    }
   ],
   "source": [
    "#5 Nr.1\n",
    "#Matrix ablesen mit a ablesen\n",
    "v = Matrix([1,1,1])\n",
    "for a in range (-5,6):\n",
    "    A = Matrix([[5*a,-2,0],[4,0,-1]])\n",
    "    if A * v == Matrix([8,3]):\n",
    "        display(a, A)\n",
    "        \n",
    "#Alternativ: per Hand\n",
    "#obere Zeile: (5*a - 2) * 1 = 8 -> 5*a = 10 -> a = 2; dann a einsetzen\n",
    "#Lösung: Matrix([[10,-2,0], [4,0,-1]])"
   ]
  },
  {
   "cell_type": "code",
   "execution_count": null,
   "metadata": {},
   "outputs": [],
   "source": []
  }
 ],
 "metadata": {
  "kernelspec": {
   "display_name": "Python 3",
   "language": "python",
   "name": "python3"
  },
  "language_info": {
   "codemirror_mode": {
    "name": "ipython",
    "version": 3
   },
   "file_extension": ".py",
   "mimetype": "text/x-python",
   "name": "python",
   "nbconvert_exporter": "python",
   "pygments_lexer": "ipython3",
   "version": "3.7.1"
  }
 },
 "nbformat": 4,
 "nbformat_minor": 2
}
