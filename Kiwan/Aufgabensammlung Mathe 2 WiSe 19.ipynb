{
 "cells": [
  {
   "cell_type": "code",
   "execution_count": null,
   "metadata": {},
   "outputs": [],
   "source": [
    "#Nr.122\n",
    "#A = {10/n: n € N+} = {10/1, 10/2, 10/3, ..., 10/4567890, ...}\n",
    "#Gesucht ist ein Intervall, in das gerade noch so alle Elemente von A reinpassen (\"kleinstes Interevall I oberhalb von A\")\n",
    "#Gegeben für: I = (0, 10]\n",
    "\n",
    "#A ist vollständig in I enthalten (A c_ I), #Anm.: c_ = Teilmenge (c mit Strich darunter)\n",
    "#aber in I sind noch unendlich viele irrationale Zahlen\n",
    "#Ich denke, das ist mit A c_/ J und J C_, I gemeint #Anm.: c_/ = keine Teilmenge (komplett durchgestrichen)\n",
    "#                                                          c_, = echte Teilmenge (nur unterer Strich durchgestrichen)\n",
    "\n",
    "#Lösung: (0, 10]"
   ]
  },
  {
   "cell_type": "code",
   "execution_count": null,
   "metadata": {},
   "outputs": [],
   "source": [
    "#Nr.123\n",
    "#A = {m/n: m € Z und n € N+ und |m| < |n|}\n",
    "#Betrag vom Zähler ist immer kleiner als vom Nenner; kommt immer näher an -1 bzw. 1 -> I = (-1, 1)\n",
    "#siehe auch Erklärung bei Nr.122\n",
    "#Lösung: (-1, 1)"
   ]
  },
  {
   "cell_type": "code",
   "execution_count": 76,
   "metadata": {},
   "outputs": [
    {
     "data": {
      "text/plain": [
       "(1048576.0, 1048576)"
      ]
     },
     "execution_count": 76,
     "metadata": {},
     "output_type": "execute_result"
    }
   ],
   "source": [
    "#Nr.134\n",
    "#Die Potenzmenge einer Potenzmenge einer Menge der Mächtigkeit n ist 2**2**n\n",
    "#|A| = 10\n",
    "pow(pow(2,2),10), (2**2)**10 #Achtung: 2**2**10 ohne Klammern funktioniert nicht\n",
    "#https://math.stackexchange.com/questions/1253260/is-power-set-of-a-power-set-of-a-set-equal-to-the-power-set-of-the-same-set/1253271\n",
    "#Lösung: 1048576"
   ]
  },
  {
   "cell_type": "code",
   "execution_count": 2,
   "metadata": {},
   "outputs": [
    {
     "data": {
      "text/plain": [
       "4.47213595499958"
      ]
     },
     "execution_count": 2,
     "metadata": {},
     "output_type": "execute_result"
    }
   ],
   "source": [
    "#Nr.135\n",
    "from math import sqrt\n",
    "c = 1\n",
    "for i in range(2):\n",
    "    c = (11 * c) % 13\n",
    "c #abwechselnd 4; 10; 12 -> Aufgabe hat 10 2en -> 4\n",
    "2*sqrt(5)\n",
    "#Lösung: 4"
   ]
  },
  {
   "cell_type": "code",
   "execution_count": 30,
   "metadata": {},
   "outputs": [
    {
     "data": {
      "text/plain": [
       "1"
      ]
     },
     "execution_count": 30,
     "metadata": {},
     "output_type": "execute_result"
    }
   ],
   "source": [
    "#Nr.136\n",
    "def foo ():\n",
    "    k = 0\n",
    "    while True:\n",
    "        yield k\n",
    "        k += 1\n",
    "        \n",
    "c, s = 0, 0\n",
    "for i in foo():\n",
    "    s = (s + i) % 3\n",
    "    c += 1\n",
    "    if c > 333334:\n",
    "        break\n",
    "s\n",
    "#Lösung: 1"
   ]
  },
  {
   "cell_type": "code",
   "execution_count": 2,
   "metadata": {},
   "outputs": [
    {
     "data": {
      "text/plain": [
       "[Fraction(1, 2),\n",
       " Fraction(1, 3),\n",
       " Fraction(1, 4),\n",
       " Fraction(2, 3),\n",
       " Fraction(1, 5),\n",
       " Fraction(1, 6),\n",
       " Fraction(2, 5),\n",
       " Fraction(3, 4),\n",
       " Fraction(1, 7),\n",
       " Fraction(3, 5)]"
      ]
     },
     "execution_count": 2,
     "metadata": {},
     "output_type": "execute_result"
    }
   ],
   "source": [
    "#Nr.137\n",
    "from fractions import Fraction\n",
    "from math import *\n",
    "def foo():\n",
    "    i = 3\n",
    "    while True:\n",
    "        for m in range(1, ceil(i / 2)): #ceil rundet immer auf (entsprechend gibt es floor, was immer abrundet)\n",
    "            n = i - m\n",
    "            if gcd(m,n) == 1:\n",
    "                yield Fraction(m, n)\n",
    "        i += 1\n",
    "def viewGen (gen, n): #Gibt die ersten n Elemente des Generators gen aus\n",
    "    c = 1\n",
    "    L = []\n",
    "    for x in gen:\n",
    "        if c > n:\n",
    "            break\n",
    "        L.append(x)\n",
    "        c += 1\n",
    "    return L\n",
    "viewGen(foo(),10)\n",
    "\n",
    "#Vorgehensweise: die ersten Ausgaben der Funktion einfach händisch aufschreiben (s. unten)\n",
    "#Irgendwann kam mir der Gedanke, dass man bei den Brüchen, die gekürzt werden (z.B. bei i=6 -> 2/4 = 1/2), \n",
    "#das m und n abfangen muss. Die gekürzten sind genau die, die mehrmals ausgegeben werden\n",
    "#Beim Überfliegen der Doku zur math-Bib fiel mir durch gcd auf, die Brüche werden nicht gekürzt, wenn Zähler oder Nenner\n",
    "#aus ner 1 oder ner Primzahl bestehen\n",
    "#Anmerkung im Nachhinein: das obige stimmt nicht ganz. Bei z.B. 2/6 hat man auch eine Primzahl, aber der Bruch kann gekürzt\n",
    "#werden. Also gilt meine Annahme nicht, wenn der Nenner ein Vielfaches der Primzahl aus dem Zähler ist.\n",
    "#Lösung müsste so aber trotzdem stimmen\n",
    "\n",
    "#Rückschluss: wenn der ggT größer als 1 ist, wird der Bruch gekürzt. Diesen Fall einfach abfangen\n",
    "\n",
    "#Lösung: if gcd(m,n) == 1"
   ]
  },
  {
   "cell_type": "code",
   "execution_count": null,
   "metadata": {},
   "outputs": [],
   "source": [
    "#zu 137 (siehe \"Vorgehensweise\")\n",
    "\"\"\"\n",
    "i=3\n",
    "m in range(1,2)\n",
    "n=2\n",
    "1/2\n",
    "\n",
    "i=4\n",
    "m in range(1,2)\n",
    "n=3\n",
    "1/3\n",
    "\n",
    "i=5\n",
    "m in range(1,3)\n",
    "n=4\n",
    "n=3\n",
    "1/4\n",
    "2/3\n",
    "\n",
    "i=6\n",
    "m in range(1,3)\n",
    "n=5\n",
    "n=4\n",
    "1/5\n",
    "2/4=1/2\n",
    "\n",
    "i=7\n",
    "m in range(1,4)\n",
    "n=6\n",
    "n=5\n",
    "n=4\n",
    "1/6\n",
    "2/5\n",
    "3/4\n",
    "\n",
    "i=8\n",
    "m in range(1,4)\n",
    "n=7\n",
    "n=6\n",
    "n=5\n",
    "1/7\n",
    "2/6=1/3\n",
    "3/5\n",
    "\"\"\""
   ]
  },
  {
   "cell_type": "code",
   "execution_count": 27,
   "metadata": {},
   "outputs": [
    {
     "data": {
      "text/plain": [
       "[2, 3, 5, 7, 11, 13, 17, 19, 23, 29]"
      ]
     },
     "execution_count": 27,
     "metadata": {},
     "output_type": "execute_result"
    }
   ],
   "source": [
    "#Nr.138\n",
    "from math import sqrt\n",
    "def foo (n = False):\n",
    "    k = 2\n",
    "    while not n or k <= n:\n",
    "        X = True\n",
    "        for p in foo(sqrt(k)): #kp was die Zeile soll\n",
    "            if k % p == 0:\n",
    "                X = False\n",
    "                break\n",
    "        if X:\n",
    "            yield k\n",
    "        k += 1\n",
    "\n",
    "def viewGen (gen, n): #Gibt die ersten n Elemente des Generators gen aus\n",
    "    c = 1\n",
    "    L = []\n",
    "    for x in gen:\n",
    "        if c > n:\n",
    "            break\n",
    "        L.append(x)\n",
    "        c += 1\n",
    "    return L\n",
    "viewGen(foo(),10)"
   ]
  },
  {
   "cell_type": "code",
   "execution_count": 49,
   "metadata": {},
   "outputs": [
    {
     "data": {
      "text/plain": [
       "[2, 6, 18, 54, 162, 486, 1458, 4374, 13122, 39366]"
      ]
     },
     "execution_count": 49,
     "metadata": {},
     "output_type": "execute_result"
    }
   ],
   "source": [
    "#Nr.140\n",
    "def foo():\n",
    "    i = 2\n",
    "    while True:\n",
    "        yield i\n",
    "        i *= 3\n",
    "def viewGen (gen, n): #Gibt die ersten n Elemente des Generators gen aus\n",
    "    c = 1\n",
    "    L = []\n",
    "    for x in gen:\n",
    "        if c > n:\n",
    "            break\n",
    "        L.append(x)\n",
    "        c += 1\n",
    "    return L\n",
    "viewGen(foo(),10)\n",
    "#Lösung: {2*3**i: i € N}"
   ]
  },
  {
   "cell_type": "code",
   "execution_count": 46,
   "metadata": {},
   "outputs": [
    {
     "data": {
      "text/plain": [
       "[2, 8, 32, 128, 512, 2048, 8192, 32768, 131072, 524288]"
      ]
     },
     "execution_count": 46,
     "metadata": {},
     "output_type": "execute_result"
    }
   ],
   "source": [
    "#Nr.141\n",
    "def foo():\n",
    "    i = 2\n",
    "    while True:\n",
    "        yield i\n",
    "        i *= 4\n",
    "def viewGen (gen, n): #Gibt die ersten n Elemente des Generators gen aus\n",
    "    c = 1\n",
    "    L = []\n",
    "    for x in gen:\n",
    "        if c > n:\n",
    "            break\n",
    "        L.append(x)\n",
    "        c += 1\n",
    "    return L\n",
    "viewGen(foo(),10)\n",
    "#Lösung: {2*4**i: i € N}"
   ]
  },
  {
   "cell_type": "code",
   "execution_count": 50,
   "metadata": {},
   "outputs": [],
   "source": [
    "#Nr.142\n",
    "from sympy import prime #n-te Primzahl; prime(1)=2, prime(3)=5, prime(10)=29\n",
    "from random import randrange\n",
    "def foo():\n",
    "    i = 0\n",
    "    while True:\n",
    "        i += 1\n",
    "        p = 1\n",
    "        for k in range(i):\n",
    "            p *= prime(randrange(1,i+2))\n",
    "        yield p\n",
    "#für i = 1\n",
    "    #p=1\n",
    "    #k range: 0\n",
    "        #p*=prime(1 oder 2) -> p = 2 oder 3\n",
    "        #die ersten 2 Lösungen sind also: 0 und 1\n",
    "#für i = 2\n",
    "    #p=1\n",
    "    #k range: 0 bis 1\n",
    "        #k=0: p*=prime(1,2 oder 3) -> p = 2,3 oder 5 (die werden noch nicht geyielded!)\n",
    "        #k=1: p*=prime(1,2 oder 3) -> p = 4,6,9,10,15,25\n",
    "        #letzte Lösung ist 5\n",
    "#Lösung: 0, 1, 5"
   ]
  },
  {
   "cell_type": "code",
   "execution_count": 185,
   "metadata": {},
   "outputs": [],
   "source": [
    "#Nr.143\n",
    "from random import randrange\n",
    "def foo():\n",
    "    i = 0\n",
    "    while True:\n",
    "        i += 1\n",
    "        yield randrange(1,i+3)**i\n",
    "#für i = 1\n",
    "    #mögliche range: (1,i+3)**i -> (1,4) -> 1,2,3\n",
    "#für i = 2\n",
    "    #(1,5)**2 -> 1,4,9,16\n",
    "#für i = 3\n",
    "    #(1,6)**3 -> 1,8,27,64,125\n",
    "#...\n",
    "#5 wird nie ausgegeben\n",
    "#Lösung: 5"
   ]
  },
  {
   "cell_type": "code",
   "execution_count": 158,
   "metadata": {},
   "outputs": [
    {
     "data": {
      "text/plain": [
       "[1, 1, 2, 6, 24, 120, 720, 5040, 40320, 362880]"
      ]
     },
     "execution_count": 158,
     "metadata": {},
     "output_type": "execute_result"
    }
   ],
   "source": [
    "#Nr.144\n",
    "def foo():\n",
    "    f, k = 1, 1\n",
    "    while True:\n",
    "        yield f\n",
    "        f *= k\n",
    "        k += 1\n",
    "def viewGen (gen, n): #Gibt die ersten n Elemente des Generators gen aus\n",
    "    c = 1\n",
    "    L = []\n",
    "    for x in gen:\n",
    "        if c > n:\n",
    "            break\n",
    "        L.append(x)\n",
    "        c += 1\n",
    "    return L\n",
    "viewGen(foo(),10)\n",
    "\n",
    "#foo macht dasselbe wie\n",
    "#f = 1\n",
    "#for k in range(1,11):\n",
    "#    print(f)\n",
    "#    f*=k\n",
    "\n",
    "#Lösung: {f € N: f!}"
   ]
  },
  {
   "cell_type": "code",
   "execution_count": 82,
   "metadata": {},
   "outputs": [
    {
     "data": {
      "text/plain": [
       "[Fraction(1, 1),\n",
       " Fraction(3, 2),\n",
       " Fraction(4, 3),\n",
       " Fraction(5, 3),\n",
       " Fraction(5, 4),\n",
       " Fraction(7, 4),\n",
       " Fraction(6, 5),\n",
       " Fraction(7, 5),\n",
       " Fraction(8, 5),\n",
       " Fraction(9, 5)]"
      ]
     },
     "execution_count": 82,
     "metadata": {},
     "output_type": "execute_result"
    }
   ],
   "source": [
    "#Nr.145\n",
    "from math import gcd\n",
    "from fractions import Fraction\n",
    "def foo():\n",
    "    i = 1\n",
    "    while True:\n",
    "        for k in range(i, 2*i):\n",
    "            if gcd(k, i) == 1:\n",
    "                yield Fraction(k, i)\n",
    "        i += 1\n",
    "def viewGen (gen, n): #Gibt die ersten n Elemente des Generators gen aus\n",
    "    c = 1\n",
    "    L = []\n",
    "    for x in gen:\n",
    "        if c > n:\n",
    "            break\n",
    "        L.append(x)\n",
    "        c += 1\n",
    "    return L\n",
    "viewGen(foo(),10)\n",
    "#Lösung: {k/i: k,i € N und k>=i und k/i<2}"
   ]
  },
  {
   "cell_type": "code",
   "execution_count": 15,
   "metadata": {},
   "outputs": [
    {
     "name": "stdout",
     "output_type": "stream",
     "text": [
      "True\n",
      "True\n",
      "False\n",
      "False\n",
      "True\n"
     ]
    }
   ],
   "source": [
    "#Nr.146\n",
    "from sympy import *\n",
    "def rightUnique (f):\n",
    "    for x1,y1 in f:\n",
    "        for x2,y2 in f:\n",
    "            if x1==x2 and y1!=y2:\n",
    "                return False\n",
    "    return True\n",
    "def square():\n",
    "    return {(z**2,z) for z in range(-50,50)}\n",
    "def cube():\n",
    "    return {(z**3,z) for z in range(-50,50)}\n",
    "print(rightUnique({(1,2),(2,2),(3,2),(4,2)}))\n",
    "print(rightUnique({(5,6),(6,7),(7,8),(8,9)}))\n",
    "print(rightUnique({(2,1),(2,2),(8,7),(9,8)}))\n",
    "print(rightUnique(square()))\n",
    "print(rightUnique(cube()))\n",
    "#Richtig: a,b,e"
   ]
  },
  {
   "cell_type": "code",
   "execution_count": 8,
   "metadata": {},
   "outputs": [
    {
     "name": "stdout",
     "output_type": "stream",
     "text": [
      "3*x + 3\n",
      "2*x*(x + 3)\n",
      "2*x + 6\n",
      "2*x + 3\n"
     ]
    }
   ],
   "source": [
    "#Nr.147\n",
    "from sympy import *\n",
    "x = symbols(\"x\")\n",
    "def f(x):\n",
    "    return 2*x\n",
    "def g(x):\n",
    "    return x+3\n",
    "print(f(x)+g(x)) #Richtig\n",
    "print(f(x)*g(x)) #x**2 (nach Ausmultiplizieren), deshalb falsch\n",
    "print(f(g(x))) #Richtig\n",
    "print(g(f(x))) #Richtig"
   ]
  },
  {
   "cell_type": "code",
   "execution_count": 77,
   "metadata": {},
   "outputs": [
    {
     "name": "stdout",
     "output_type": "stream",
     "text": [
      "-8\n",
      "-4*x - 12\n",
      "(-2*x - 4)*(2*x - 4)\n",
      "-4*x + 4\n"
     ]
    }
   ],
   "source": [
    "#Nr.148\n",
    "from sympy import *\n",
    "x = symbols(\"x\")\n",
    "def f(x):\n",
    "    return 2*x-4\n",
    "def g(x):\n",
    "    return -2*x-4\n",
    "print(f(x)+g(x)) #Falsch, weil eine Konstante rauskommt\n",
    "print(f(g(x))) #Richtig\n",
    "print(f(x)*g(x)) #x**2 (nach Ausmultiplizieren), deshalb falsch\n",
    "print(g(f(x))) #Richtig"
   ]
  },
  {
   "cell_type": "code",
   "execution_count": 34,
   "metadata": {},
   "outputs": [
    {
     "name": "stdout",
     "output_type": "stream",
     "text": [
      "2*x**3\n",
      "x**2 + 2*x\n",
      "4*x**2\n",
      "2*x**2\n"
     ]
    }
   ],
   "source": [
    "#Nr.149\n",
    "from sympy import *\n",
    "x = symbols(\"x\")\n",
    "def f(x):\n",
    "    return 2*x\n",
    "def g(x):\n",
    "    return x**2\n",
    "print(f(x)*g(x)) #Richtig, weil die Potenz ungerade ist\n",
    "print(f(x)+g(x))\n",
    "print(g(f(x))) \n",
    "print(f(g(x)))"
   ]
  },
  {
   "cell_type": "code",
   "execution_count": 11,
   "metadata": {},
   "outputs": [
    {
     "name": "stdout",
     "output_type": "stream",
     "text": [
      "x**5\n",
      "x**6\n",
      "x**4\n",
      "x**9\n"
     ]
    }
   ],
   "source": [
    "#Nr.154\n",
    "from sympy import *\n",
    "x = symbols(\"x\")\n",
    "def f(x):\n",
    "    return x**2\n",
    "def g(x):\n",
    "    return x**3\n",
    "print(f(x)*g(x)) #Richtig, weil die Potenz ungerade ist\n",
    "print(f(g(x)))\n",
    "print(f(f(x)))\n",
    "print(g(g(x))) #Richtig, weil die Potenz ungerade ist"
   ]
  },
  {
   "cell_type": "code",
   "execution_count": 155,
   "metadata": {},
   "outputs": [
    {
     "name": "stdout",
     "output_type": "stream",
     "text": [
      "x**5\n",
      "x**6\n",
      "x**4\n",
      "x**9\n"
     ]
    }
   ],
   "source": [
    "#Nr.155\n",
    "from sympy import *\n",
    "x = symbols(\"x\")\n",
    "def f(x):\n",
    "    return x**2\n",
    "def g(x):\n",
    "    return x**3\n",
    "print(f(x)*g(x)) #Richtig, weil die Potenz ungerade ist\n",
    "print(f(g(x))) #Falsch wegen gerader Potenz (negative Zahlen werden nicht abgebildet)\n",
    "print(f(f(x)))\n",
    "print(g(g(x))) #Richtig, weil die Potenz ungerade ist"
   ]
  },
  {
   "cell_type": "code",
   "execution_count": 18,
   "metadata": {},
   "outputs": [
    {
     "data": {
      "text/plain": [
       "3574215"
      ]
     },
     "execution_count": 18,
     "metadata": {},
     "output_type": "execute_result"
    }
   ],
   "source": [
    "#Nr.156\n",
    "from sympy import *\n",
    "x = symbols(\"x\")\n",
    "def f(x):\n",
    "    return 5*x\n",
    "def g(x):\n",
    "    return x+3\n",
    "def h(x):\n",
    "    return f(g(x))\n",
    "#h = f(g(x))\n",
    "#h2 = h(h(x))\n",
    "h(h(h(h(h(h(h(42)))))))\n",
    "#Lösung: 3574215"
   ]
  },
  {
   "cell_type": "code",
   "execution_count": 1,
   "metadata": {},
   "outputs": [
    {
     "data": {
      "text/plain": [
       "2.2360679774997896964091736687313"
      ]
     },
     "execution_count": 1,
     "metadata": {},
     "output_type": "execute_result"
    }
   ],
   "source": [
    "#Nr.157\n",
    "from sympy import *\n",
    "sqrt(5).evalf(32) #Lösung:1 -> zwei mehr ausgeben lassen wegen Rundung und weil Vorkommastelle wohl auch dazu zählt (bei größeren Vorkammestellen also evtl. noch mehr?)\n",
    "#Alternativ: N(sqrt(5), 32)"
   ]
  },
  {
   "cell_type": "code",
   "execution_count": 6,
   "metadata": {},
   "outputs": [
    {
     "data": {
      "text/plain": [
       "True"
      ]
     },
     "execution_count": 6,
     "metadata": {},
     "output_type": "execute_result"
    }
   ],
   "source": [
    "#Nr.158\n",
    "from sympy import *\n",
    "(E**(pi*sqrt(67))).evalf(50) == N(E**(pi*sqrt(67)),50)\n",
    "#Lösung: 8"
   ]
  },
  {
   "cell_type": "code",
   "execution_count": 10,
   "metadata": {},
   "outputs": [
    {
     "data": {
      "text/plain": [
       "262537412640768743.99999999999925007259719818568888"
      ]
     },
     "execution_count": 10,
     "metadata": {},
     "output_type": "execute_result"
    }
   ],
   "source": [
    "#Nr.159\n",
    "from sympy import *\n",
    "(E**(pi*sqrt(163))).evalf(50)\n",
    "#Lösung: 9"
   ]
  },
  {
   "cell_type": "code",
   "execution_count": 9,
   "metadata": {},
   "outputs": [
    {
     "data": {
      "text/plain": [
       "1428571428571428571428571428571428571428571428571428571428571428571428571428571428571428571428571428.57142857143"
      ]
     },
     "execution_count": 9,
     "metadata": {},
     "output_type": "execute_result"
    }
   ],
   "source": [
    "#Nr.160\n",
    "from sympy import *\n",
    "(Rational(10**100, 7)).evalf(111) #Rational() sind Brüche in sympy\n",
    "#Lösung: 1"
   ]
  },
  {
   "cell_type": "code",
   "execution_count": 8,
   "metadata": {
    "scrolled": true
   },
   "outputs": [],
   "source": [
    "#Nr.161\n",
    "from sympy import *\n",
    "#(Rational(10**1000000, 7)).evalf(1111111) #Rational() sind Brüche in sympy\n",
    "#Dauert sau lange oof (und hat beim 2. Versuch nach 10 Min. nicht gefunzt lmao); mit strg+F nach . suchen\n",
    "\n",
    "#Durch Testen herausgefunden,dass das immer dasselbe ist für 10**10, 10**100, 10**1000 usw.\n",
    "#Lösung: 1"
   ]
  },
  {
   "cell_type": "code",
   "execution_count": 38,
   "metadata": {},
   "outputs": [
    {
     "name": "stdout",
     "output_type": "stream",
     "text": [
      "-1.0000000000000000000 -1.0000000000000000000 -0.99999999999999999718 -0.99999999924368013310\n",
      "Test: -0.99\n"
     ]
    }
   ],
   "source": [
    "#Nr.162\n",
    "from sympy import *\n",
    "a = N(-1+10**-18,20)\n",
    "b = N(-1+10**-17,20)\n",
    "c = cos(pi*cos(ln(pi+20))).evalf(20)\n",
    "d = cos(ln(pi+20)).evalf(20)\n",
    "print(a, b, c, d)\n",
    "#a und b werden von Python gerundet :/\n",
    "#c > d, weil c 17 9en nach dem Komma hat und d nur 9 9en\n",
    "\n",
    "print(\"Test:\", -1 + 10**-2) #so erhält man 2 9en nach dem Komma\n",
    "#dementsprechend haben a und b 18 bzw. 17 9en nach dem Komma, a ist also die kleinste Zahl\n",
    "#Lösung: a"
   ]
  },
  {
   "cell_type": "code",
   "execution_count": 14,
   "metadata": {},
   "outputs": [
    {
     "data": {
      "text/plain": [
       "(-0.99999999924368013310,\n",
       " -0.99999999999999999718,\n",
       " -0.99999999999999997857,\n",
       " -1.00000000000000)"
      ]
     },
     "execution_count": 14,
     "metadata": {},
     "output_type": "execute_result"
    }
   ],
   "source": [
    "#Nr.163\n",
    "from sympy import *\n",
    "a = N(cos(ln(pi+20)),20)\n",
    "b = N(cos(pi*cos(ln(pi+20))),20)\n",
    "c = N(sin(2017*root(2,5)),20)\n",
    "d = N(-9*2071723*5363222357*10**-17,15) #-9*2071723*5363222357= -99999999999999999‬ (17 9en); * 10**-17 = -0.99...9 (17 9en)\n",
    "a,b,c,d\n",
    "#a hat 9, c hat 16 9en nach dem Komma\n",
    "#b hat 17, d auch 17; d endet jedoch nach diesen 17 9en (auch wenn Python das nicht anzeigt)\n",
    "#da b noch mehr Stellen als d hat, ist das die kleinste Zahl\n",
    "#Lösung: b"
   ]
  },
  {
   "cell_type": "code",
   "execution_count": 13,
   "metadata": {},
   "outputs": [
    {
     "data": {
      "text/plain": [
       "5"
      ]
     },
     "execution_count": 13,
     "metadata": {},
     "output_type": "execute_result"
    }
   ],
   "source": [
    "#Nr.164\n",
    "#Dreieck mit Eckpunkten P, Q und Ursprung\n",
    "#P(12, 0) -> Untere Seite hat Länge 12\n",
    "#Hypotenuse hat Länge 13\n",
    "#13*13 = 12*12 + PQ*PQ\n",
    "PQ = sqrt(13*13 - 12*12)\n",
    "PQ\n",
    "#Q hat dieselbe x-Koordinate wie P (erkennbar an rechtem Winkel bei Strecke PQ)\n",
    "#Lösung: Q(12, 5)"
   ]
  },
  {
   "cell_type": "code",
   "execution_count": 8,
   "metadata": {},
   "outputs": [
    {
     "data": {
      "text/plain": [
       "(4.698463103929542,\n",
       " 5.320888862379561,\n",
       " 1.7101007166283435,\n",
       " 4.698463103929543,\n",
       " 5.320888862379561,\n",
       " 1.7101007166283442)"
      ]
     },
     "execution_count": 8,
     "metadata": {},
     "output_type": "execute_result"
    }
   ],
   "source": [
    "#Nr.165\n",
    "from math import *\n",
    "degToRad = (pi/180)\n",
    "radToDeg = (180/pi)\n",
    "richtig = 5 * sin(70*degToRad)\n",
    "a1 = 5 / cos(20*degToRad)\n",
    "a2 = 5 * sin(20*degToRad)\n",
    "a3 = 5 * cos(20*degToRad)\n",
    "a4 = 5 / sin(70*degToRad)\n",
    "a5 = 5 * cos(70*degToRad)\n",
    "richtig,a1,a2,a3,a4,a5\n",
    "#Lösung: a3\n",
    "\n",
    "#Alternativ: Dritter Winkel = 180-90-70 = 20\n",
    "#dann kriegt man die Seite entweder mit 5*sin(70) oder eben mit 5*cos(20)"
   ]
  },
  {
   "cell_type": "code",
   "execution_count": 2,
   "metadata": {},
   "outputs": [
    {
     "name": "stdout",
     "output_type": "stream",
     "text": [
      "d1: 24.748737341529164\n",
      "d2: 28.577380332470412\n",
      "d3: 7.657285981882495\n"
     ]
    }
   ],
   "source": [
    "#Nr.166\n",
    "#Wenn 2 Nachkommastellen gefordert sind, NICHT mit sympy rechnen, sondern mit math\n",
    "from math import *\n",
    "degToRad = (pi/180)\n",
    "radToDeg = (180/pi)\n",
    "#Länge der Diagonalen im Quadrat: 35\n",
    "#Unten rechts 90°, anderen beiden Winkel müssen je 45° sein\n",
    "#45° unterteilt in 2*Alpha und Alpha -> 45° / 3 = 15° = Alpha\n",
    "\n",
    "#Großes Dreieck: Hypotenuse 35, Winkel 45°, Ankathete d1 gesucht\n",
    "#cos(45) = d1 / 35\n",
    "d1 = cos(45*degToRad) * 35 #besser in Variable speichern, sonst gibts am Ende Rundungsfehler\n",
    "print(\"d1:\",d1)\n",
    "\n",
    "#Mittleres Dreieck: Ankathete d1, Winkel 2*Alpha 30°, Hypotenuse d2 gesucht\n",
    "#cos(30) = d1 / d2\n",
    "d2 = d1 / cos(30*degToRad)\n",
    "print(\"d2:\",d2)\n",
    "\n",
    "#Kleines Dreieck mit gesuchter Seite: Ankathete d2, Winkel Alpha 15°\n",
    "#tan(15) = d3 / d2\n",
    "d3 = tan(15*degToRad) * d2\n",
    "print(\"d3:\",d3)\n",
    "#Lösung: 7.66"
   ]
  },
  {
   "cell_type": "code",
   "execution_count": 5,
   "metadata": {},
   "outputs": [
    {
     "name": "stdout",
     "output_type": "stream",
     "text": [
      "d1: 24.748737341529164\n",
      "d2: 25.621778264910706\n",
      "d3: 14.792740578363098\n"
     ]
    }
   ],
   "source": [
    "#Nr.167\n",
    "from math import *\n",
    "degToRad = (pi/180)\n",
    "radToDeg = (180/pi)\n",
    "#Länge der Diagonalen im Quadrat: 35\n",
    "#Unten rechts 90°, anderen beiden Winkel müssen je 45° sein\n",
    "#45° unterteilt in 2*Alpha und Alpha -> 45° / 3 = 15° = Alpha\n",
    "\n",
    "#Großes Dreieck: Hypotenuse 35, Winkel 45°, Ankathete d1 gesucht\n",
    "#cos(45) = d1 / 35\n",
    "d1 = cos(45*degToRad) * 35 #besser in Variable speichern, sonst gibts am Ende Rundungsfehler\n",
    "print(\"d1:\",d1)\n",
    "\n",
    "#Kleines Dreieck: Ankathete d1, Winkel Alpha 15°, Hypotenuse d2 gesucht\n",
    "#cos(15) = d1 / d2\n",
    "d2 = d1 / cos(15*degToRad)\n",
    "print(\"d2:\",d2)\n",
    "\n",
    "#Mittleres Dreieck mit gesuchter Seite: Ankathete d2, Winkel 2*Alpha 30°, Gegenkathete gesucht\n",
    "#tan(30) = d3 / d2\n",
    "d3 = tan(30*degToRad) * d2\n",
    "print(\"d3:\",d3)\n",
    "#Lösung: 14.79"
   ]
  },
  {
   "cell_type": "code",
   "execution_count": 40,
   "metadata": {},
   "outputs": [
    {
     "name": "stdout",
     "output_type": "stream",
     "text": [
      "Alpha: 18.43494882292201\n",
      "c: 6.324555320336759\n",
      "e: 2.9999999999999987\n"
     ]
    }
   ],
   "source": [
    "#Nr.168\n",
    "from math import *\n",
    "degToRad = (pi/180)\n",
    "radToDeg = (180/pi)\n",
    "a,b,d = 6,2,7\n",
    "#Kleiner Winkel im unteren Dreieck: Tangens von Gegen- (b) zu Ankathete (a)\n",
    "#tan(Alpha) = b/a\n",
    "Alpha = atan(b/a)*radToDeg #radToDeg nicht in die atan-Klammer!\n",
    "print(\"Alpha:\", Alpha)\n",
    "#war eig unnötig da mit Pythagoras einfacher, aber mit b/sin(Alpha) bzw. a/cos(Alpha) kommt man auf dasselbe Ergebnis\n",
    "\n",
    "#Hypotenuse c des unteren Dreiecks mit Satz des Pythagoras\n",
    "c = sqrt(a*a + b*b) #c=sqrt(40)\n",
    "print(\"c:\", c)\n",
    "\n",
    "#gesuchte Seite e mit Umstellung von Pythagoras\n",
    "#d*d = c*c + e*e\n",
    "#e*e = d*d - c*c\n",
    "e = sqrt(d*d - c*c)\n",
    "print(\"e:\", e)\n",
    "#Lösung: 3.00"
   ]
  },
  {
   "cell_type": "code",
   "execution_count": 154,
   "metadata": {},
   "outputs": [
    {
     "data": {
      "image/png": "[encoded data removed]",
      "text/latex": [
       "$$58.778525229247315$$"
      ],
      "text/plain": [
       "58.778525229247315"
      ]
     },
     "execution_count": 154,
     "metadata": {},
     "output_type": "execute_result"
    }
   ],
   "source": [
    "#Nr.169\n",
    "from math import *\n",
    "degToRad = (pi/180)\n",
    "radToDeg = (180/pi)\n",
    "Alpha = 90/5*degToRad\n",
    "AB = 100 #Radius ist 50, AB geht durch Mittelpunkt und ist somit = der Durchmesser; Hypotenuse zum Winkel bei A\n",
    "#BC als Gegenkathete vom Winkel bei A (2*Alpha)\n",
    "#sin(2*Alpha) = BC / AB\n",
    "BC = sin(2*Alpha) * AB\n",
    "BC #Lösung: 58.78"
   ]
  },
  {
   "cell_type": "code",
   "execution_count": 17,
   "metadata": {},
   "outputs": [
    {
     "data": {
      "text/plain": [
       "3*Alpha"
      ]
     },
     "execution_count": 17,
     "metadata": {},
     "output_type": "execute_result"
    }
   ],
   "source": [
    "#Nr.170\n",
    "from sympy import *\n",
    "#Rechtes Dreieck\n",
    "    #linker Winkel ist auch Alpha, weil es ein gleichseitiges Dreieck ist\n",
    "    #obiger Winkel somit: Gamma = 180-2*Alpha\n",
    "#linkes Dreieck\n",
    "    #rechter Winkel Delta muss zsm mit Gamma 180° ergeben -> Delta = 180 - Gamma\n",
    "    #Strecke AM ist genauso lang wie Strecke von M zum obigen Punkt C (CM), sind beide der Radius des Kreises\n",
    "    #obiger Winkel somit auch Delta\n",
    "    #unterer Winkel: Epsilon = 180 - 2*Delta\n",
    "#gesuchter Winkel\n",
    "    #180 - Epsilon - Alpha\n",
    "    #180 - (180 - 2 * Delta) - Alpha\n",
    "    #180 - (180 - 2 * (180 - Gamma)) - Alpha\n",
    "    #180 - (180 - 2 * (180 - (180 - 2 * Alpha))) - Alpha\n",
    "    \n",
    "a = symbols(\"Alpha\")\n",
    "180 - (180 - 2 * (180 - (180 - 2 * a))) - a\n",
    "#Lösung: 3 * Alpha"
   ]
  },
  {
   "cell_type": "code",
   "execution_count": 19,
   "metadata": {},
   "outputs": [
    {
     "name": "stdout",
     "output_type": "stream",
     "text": [
      "Höhe h: 12\n",
      "gesuchte Fläche: 60\n"
     ]
    }
   ],
   "source": [
    "#Nr.171\n",
    "#Seitenlängen: a = b = 13; c = 10\n",
    "c = 10\n",
    "#Fläche eines Dreiecks: c*h/2\n",
    "\n",
    "#Höhe h berechnen:\n",
    "#durch h entstehen 2 rechtwinklige Dreiecke jeweils mit Hypotenuse a=b=13 und der unteren Kathete 1/2*c = 5\n",
    "#durch Satz des Pythagoras lässt sich h berechnen\n",
    "#13*13 = 5*5 + h*h\n",
    "#h*h = 13*13 - 5*5\n",
    "h = sqrt(13*13-5*5)\n",
    "print(\"Höhe h:\", h)\n",
    "\n",
    "A = c*h/2\n",
    "print(\"gesuchte Fläche:\", A)\n",
    "#Lösung: 60"
   ]
  },
  {
   "cell_type": "code",
   "execution_count": 24,
   "metadata": {},
   "outputs": [
    {
     "data": {
      "text/plain": [
       "16"
      ]
     },
     "execution_count": 24,
     "metadata": {},
     "output_type": "execute_result"
    }
   ],
   "source": [
    "#Nr.172\n",
    "from math import *\n",
    "#innerstes Quadrat hat Seitenlänge 2\n",
    "\n",
    "#Diagonale des innersten Quadrats ist gleichzeitig Durchmesser des inneren Kreises\n",
    "#Der Durchmesser wiederum ist gleichzeitig Seitenlänge des mittleren Quadrats\n",
    "#Berechnung: Diagonale lässt 2 rechtwinklige Dreiecke entstehen, ist von beiden die Hypotenuse\n",
    "d1 = sqrt(2*2 + 2*2) #d1 = sqrt(8)\n",
    "\n",
    "#Diagonale des mittleren Quadrats ist gleichzeitig Durchmesser des äußeren Kreises\n",
    "#Der Durchmesser wiederum ist gleichzeitig Seitenlänge des äußersten und gesuchten Quadrats\n",
    "d2 = sqrt(d1*d1 + d1*d1) #d2 = sqrt(16) = 4\n",
    "\n",
    "#Fläche des Quadrats\n",
    "4*4\n",
    "#Lösung: 16"
   ]
  },
  {
   "cell_type": "code",
   "execution_count": 51,
   "metadata": {},
   "outputs": [
    {
     "name": "stdout",
     "output_type": "stream",
     "text": [
      "Nr.173 (2, -2*pi/3)\n",
      "\n",
      "Nr.174 (2, 5*pi/6)\n",
      "in Grad: 150.000000000000\n"
     ]
    }
   ],
   "source": [
    "#Nr.173\n",
    "from sympy import sqrt, atan2, pi #ACHTUNG! nicht aus math, sondern aus SYMPY importieren; die numerischen Werte sind falsch\n",
    "degToRad = (pi/180)\n",
    "radToDeg = (180/pi)\n",
    "def polar(x,y):\n",
    "    return sqrt(x*x+y*y), atan2(y,x)\n",
    "print(\"Nr.173\", polar(-1, -sqrt(3)))\n",
    "\n",
    "#Nr.174\n",
    "print(\"\\nNr.174\", polar(-sqrt(3), 1))\n",
    "print(\"in Grad:\", (2.6179938779914944 * radToDeg).evalf())"
   ]
  },
  {
   "cell_type": "code",
   "execution_count": 9,
   "metadata": {},
   "outputs": [
    {
     "name": "stdout",
     "output_type": "stream",
     "text": [
      "x: 2.42535625036333\n",
      "y: -9.70142500145332\n"
     ]
    }
   ],
   "source": [
    "#Nr.175\n",
    "from math import sqrt\n",
    "#Dreieck zwischen Gerade und y-Achse\n",
    "#Hypotenuse 10\n",
    "#10² = x² + y² -> y = -4*x\n",
    "#100 = x² + (-4*x)²\n",
    "#100 = x² + 16*x²\n",
    "#100 = 17x²\n",
    "x = sqrt(100/17)\n",
    "print(\"x:\", x)\n",
    "#x in Geradengleichung einsetzen\n",
    "y = -4*x\n",
    "print(\"y:\", y)\n",
    "#Lösung: P(2.43, -9.70)"
   ]
  },
  {
   "cell_type": "code",
   "execution_count": 26,
   "metadata": {},
   "outputs": [
    {
     "data": {
      "text/plain": [
       "{a: 11, s: -3}"
      ]
     },
     "execution_count": 26,
     "metadata": {},
     "output_type": "execute_result"
    }
   ],
   "source": [
    "#Nr.178\n",
    "#g: [4,5,6] + s * [1,-2,3]; P = [1,a,-3]\n",
    "#P mit g gleichsetzen\n",
    "\n",
    "#I.   1=4+s -> s=-3\n",
    "#II.  a=5-2*s\n",
    "#III. -3=6+3*s -> -9=3*s -> s=-3\n",
    "\n",
    "#s in II einsetzen\n",
    "#a = 5 - 2 * (-3)\n",
    "#a = 5 + 6 =  11\n",
    "\n",
    "#oder mit solve\n",
    "from sympy import *\n",
    "s,a = symbols(\"s a\")\n",
    "solve([4+1*s-1,\n",
    "       5-2*s-a,\n",
    "       6+3*s+3])\n",
    "#Lösung: 11"
   ]
  },
  {
   "cell_type": "code",
   "execution_count": 33,
   "metadata": {},
   "outputs": [
    {
     "name": "stdout",
     "output_type": "stream",
     "text": [
      "Matrix([[0, 0], [0, 0]])\n",
      "Matrix([[0, 0], [0, 1]])\n",
      "Matrix([[0, 0], [1, 1]])\n",
      "Matrix([[0, 0], [2, 1]])\n",
      "Matrix([[0, 0], [3, 1]])\n",
      "Matrix([[0, 0], [4, 1]])\n",
      "Matrix([[0, 1], [0, 1]])\n",
      "Matrix([[0, 2], [0, 1]])\n",
      "Matrix([[0, 3], [0, 1]])\n",
      "Matrix([[0, 4], [0, 1]])\n",
      "Matrix([[1, 0], [0, 0]])\n",
      "Matrix([[1, 0], [0, 1]])\n",
      "Matrix([[1, 0], [1, 0]])\n",
      "Matrix([[1, 0], [2, 0]])\n",
      "Matrix([[1, 0], [3, 0]])\n",
      "Matrix([[1, 0], [4, 0]])\n",
      "Matrix([[1, 1], [0, 0]])\n",
      "Matrix([[1, 2], [0, 0]])\n",
      "Matrix([[1, 3], [0, 0]])\n",
      "Matrix([[1, 4], [0, 0]])\n"
     ]
    },
    {
     "data": {
      "text/latex": [
       "$$\\left ( \\left[\\begin{matrix}0 & 0\\\\0 & 1\\end{matrix}\\right], \\quad \\left[\\begin{matrix}0 & 0\\\\0 & 1\\end{matrix}\\right]\\right )$$"
      ],
      "text/plain": [
       "⎛⎡0  0⎤  ⎡0  0⎤⎞\n",
       "⎜⎢    ⎥, ⎢    ⎥⎟\n",
       "⎝⎣0  1⎦  ⎣0  1⎦⎠"
      ]
     },
     "execution_count": 33,
     "metadata": {},
     "output_type": "execute_result"
    }
   ],
   "source": [
    "#Nr.180\n",
    "from sympy import *\n",
    "#Generator für 2x2 Matrizen\n",
    "def nr180():\n",
    "    M = []\n",
    "    for a in range(5):\n",
    "        for b in range(5):\n",
    "            for c in range(5):\n",
    "                for d in range(5):\n",
    "                    M.append(Matrix([[a,b], [c,d]]))\n",
    "    for i in M:\n",
    "        if i*i == i:\n",
    "            print(i)\n",
    "nr180() #eine davon aussuchen (außer Null- und Einheitsmatrix)\n",
    "#mögliche Lösung: Matrix([[0,0], [0,1]])\n",
    "A = Matrix([[0,0], [0,1]])\n",
    "A, A*A"
   ]
  },
  {
   "cell_type": "code",
   "execution_count": 55,
   "metadata": {},
   "outputs": [
    {
     "name": "stdout",
     "output_type": "stream",
     "text": [
      "Matrix([[0, 0], [0, 0]])\n",
      "Matrix([[0, 0], [0, 1]])\n",
      "Matrix([[1, 0], [0, 0]])\n",
      "Matrix([[1, 0], [0, 1]])\n"
     ]
    },
    {
     "data": {
      "text/latex": [
       "$$\\left ( \\left[\\begin{matrix}0 & 0\\\\0 & 1\\end{matrix}\\right], \\quad \\left[\\begin{matrix}0 & 0\\\\0 & 1\\end{matrix}\\right], \\quad \\left[\\begin{matrix}0 & 0\\\\0 & 1\\end{matrix}\\right]\\right )$$"
      ],
      "text/plain": [
       "⎛⎡0  0⎤  ⎡0  0⎤  ⎡0  0⎤⎞\n",
       "⎜⎢    ⎥, ⎢    ⎥, ⎢    ⎥⎟\n",
       "⎝⎣0  1⎦  ⎣0  1⎦  ⎣0  1⎦⎠"
      ]
     },
     "execution_count": 55,
     "metadata": {},
     "output_type": "execute_result"
    }
   ],
   "source": [
    "#Nr.181\n",
    "from sympy import *\n",
    "#Generator für 2x2 Matrizen\n",
    "def nr181():\n",
    "    M = []\n",
    "    for a in range(10):\n",
    "        for b in range(10):\n",
    "            for c in range(10):\n",
    "                for d in range(10):\n",
    "                    M.append(Matrix([[a,b], [c,d]]))\n",
    "    for i in M:\n",
    "        if i*i == i.T:\n",
    "            print(i)\n",
    "nr181() #eine davon aussuchen (außer Null- und Einheitsmatrix)\n",
    "#mögliche Lösung: Matrix([[0,0], [0,1]])\n",
    "A = Matrix([[0,0], [0,1]])\n",
    "A, A*A, A.T"
   ]
  },
  {
   "cell_type": "code",
   "execution_count": 5,
   "metadata": {},
   "outputs": [
    {
     "name": "stdout",
     "output_type": "stream",
     "text": [
      "Matrix([[0, 0], [0, 0]])\n",
      "Matrix([[0, 0], [0, 2]])\n",
      "Matrix([[0, 0], [1, 2]])\n",
      "Matrix([[0, 0], [2, 2]])\n",
      "Matrix([[0, 0], [3, 2]])\n",
      "Matrix([[0, 0], [4, 2]])\n",
      "Matrix([[0, 1], [0, 2]])\n",
      "Matrix([[0, 2], [0, 2]])\n",
      "Matrix([[0, 3], [0, 2]])\n",
      "Matrix([[0, 4], [0, 2]])\n",
      "Matrix([[1, 1], [1, 1]])\n",
      "Matrix([[2, 0], [0, 0]])\n",
      "Matrix([[2, 0], [0, 2]])\n",
      "Matrix([[2, 0], [1, 0]])\n",
      "Matrix([[2, 0], [2, 0]])\n",
      "Matrix([[2, 0], [3, 0]])\n",
      "Matrix([[2, 0], [4, 0]])\n",
      "Matrix([[2, 1], [0, 0]])\n",
      "Matrix([[2, 2], [0, 0]])\n",
      "Matrix([[2, 3], [0, 0]])\n",
      "Matrix([[2, 4], [0, 0]])\n"
     ]
    },
    {
     "data": {
      "text/latex": [
       "$$\\left ( \\left[\\begin{matrix}0 & 0\\\\0 & 2\\end{matrix}\\right], \\quad \\left[\\begin{matrix}0 & 0\\\\0 & 4\\end{matrix}\\right], \\quad \\left[\\begin{matrix}0 & 0\\\\0 & 4\\end{matrix}\\right]\\right )$$"
      ],
      "text/plain": [
       "⎛⎡0  0⎤  ⎡0  0⎤  ⎡0  0⎤⎞\n",
       "⎜⎢    ⎥, ⎢    ⎥, ⎢    ⎥⎟\n",
       "⎝⎣0  2⎦  ⎣0  4⎦  ⎣0  4⎦⎠"
      ]
     },
     "execution_count": 5,
     "metadata": {},
     "output_type": "execute_result"
    }
   ],
   "source": [
    "#Nr.182\n",
    "from sympy import *\n",
    "#Generator für 2x2 Matrizen\n",
    "def nr182():\n",
    "    M = []\n",
    "    for a in range(5):\n",
    "        for b in range(5):\n",
    "            for c in range(5):\n",
    "                for d in range(5):\n",
    "                    M.append(Matrix([[a,b], [c,d]]))\n",
    "    for i in M:\n",
    "        if i*i == 2*i:\n",
    "            print(i)\n",
    "nr182() #eine davon aussuchen (außer Null- und Einheitsmatrix)\n",
    "#mögliche Lösung: Matrix([[0,0], [0,1]])\n",
    "A = Matrix([[0,0], [0,2]])\n",
    "A, A*A, 2*A"
   ]
  },
  {
   "cell_type": "code",
   "execution_count": 29,
   "metadata": {},
   "outputs": [
    {
     "data": {
      "text/plain": [
       "{(23, -47, 33)}"
      ]
     },
     "execution_count": 29,
     "metadata": {},
     "output_type": "execute_result"
    }
   ],
   "source": [
    "#Nr.183\n",
    "from sympy import *\n",
    "x,y,z = symbols(\"x y z\")\n",
    "linsolve([3*x + 2*y +   z -  8,\n",
    "            x + 4*y + 5*z +  0,\n",
    "          2*x +   y +   z - 32], [x,y,z])\n",
    "#geht auch mit solve statt linsolve, da muss man nicht mal die [x,y,z] am Ende angeben\n",
    "#Lösung: {(23, -47, 33)}"
   ]
  },
  {
   "cell_type": "code",
   "execution_count": 8,
   "metadata": {},
   "outputs": [
    {
     "data": {
      "image/png": "[encoded data removed]",
      "text/latex": [
       "$$\\left ( \\emptyset, \\quad \\left\\{\\left ( - \\frac{53}{21}, \\quad - \\frac{47}{21}, \\quad 2\\right )\\right\\}, \\quad \\left\\{\\left ( - \\frac{25 z}{21} - \\frac{1}{7}, \\quad - \\frac{19 z}{21} - \\frac{3}{7}, \\quad z\\right )\\right\\}\\right )$$"
      ],
      "text/plain": [
       "⎛   ⎧⎛-53   -47    ⎞⎫  ⎧⎛  25⋅z   1    19⋅z   3   ⎞⎫⎞\n",
       "⎜∅, ⎨⎜────, ────, 2⎟⎬, ⎨⎜- ──── - ─, - ──── - ─, z⎟⎬⎟\n",
       "⎝   ⎩⎝ 21    21    ⎠⎭  ⎩⎝   21    7     21    7   ⎠⎭⎠"
      ]
     },
     "execution_count": 8,
     "metadata": {},
     "output_type": "execute_result"
    }
   ],
   "source": [
    "#Nr.184\n",
    "from sympy import *\n",
    "init_printing()\n",
    "x,y,z = symbols(\"x y z\")\n",
    "a = linsolve([  x + 2*y + 3*z + 1,\n",
    "              7*x - 7*y + 2*z - 2,\n",
    "              1*x + 2*y + 3*z - 1], [x,y,z])\n",
    "b = linsolve([  x + 2*y + 3*z + 1,\n",
    "              7*x - 7*y + 2*z - 2,\n",
    "              1*x + 2*y + 4*z - 1], [x,y,z])\n",
    "c = linsolve([  x + 2*y + 3*z + 1,\n",
    "              7*x - 7*y + 2*z - 2,\n",
    "              1*x + 2*y + 3*z + 1], [x,y,z])\n",
    "a,b,c\n",
    "#Lösung: a"
   ]
  },
  {
   "cell_type": "code",
   "execution_count": 35,
   "metadata": {},
   "outputs": [
    {
     "name": "stdout",
     "output_type": "stream",
     "text": [
      "Matrix([[2, 2], [1, -4]])\n"
     ]
    },
    {
     "data": {
      "text/latex": [
       "$$\\left[\\begin{matrix}10\\\\-5\\end{matrix}\\right]$$"
      ],
      "text/plain": [
       "⎡10⎤\n",
       "⎢  ⎥\n",
       "⎣-5⎦"
      ]
     },
     "execution_count": 35,
     "metadata": {},
     "output_type": "execute_result"
    }
   ],
   "source": [
    "#Nr.186\n",
    "from sympy import *\n",
    "A = Matrix([1,0])\n",
    "B = Matrix([2,1])\n",
    "C = Matrix([0,1])\n",
    "D = Matrix([2,-4])\n",
    "for a in range(-5,6): #brute force Test mit Zahlen von -5 bis 6\n",
    "    for b in range(-5,6):\n",
    "        for c in range(-5,6):\n",
    "            for d in range(-5,6):\n",
    "                M = Matrix([[a,b],[c,d]])\n",
    "                if M*A==B and M*C==D:\n",
    "                    print(M)\n",
    "                    E = M #um die richtige Matrix abzuspeichern\n",
    "E * Matrix([3,2])\n",
    "#Lösung: Matrix([10, -5])"
   ]
  },
  {
   "cell_type": "code",
   "execution_count": 36,
   "metadata": {},
   "outputs": [
    {
     "name": "stdout",
     "output_type": "stream",
     "text": [
      "Matrix([[2, 1], [1, -2]])\n"
     ]
    },
    {
     "data": {
      "text/latex": [
       "$$\\left[\\begin{matrix}8\\\\-1\\end{matrix}\\right]$$"
      ],
      "text/plain": [
       "⎡8 ⎤\n",
       "⎢  ⎥\n",
       "⎣-1⎦"
      ]
     },
     "execution_count": 36,
     "metadata": {},
     "output_type": "execute_result"
    }
   ],
   "source": [
    "#Nr.187\n",
    "from sympy import *\n",
    "A = Matrix([1,0])\n",
    "B = Matrix([2,1])\n",
    "C = Matrix([0,2])\n",
    "D = Matrix([2,-4])\n",
    "for a in range(-5,6): #brute force Test mit Zahlen von -5 bis 5\n",
    "    for b in range(-5,6):\n",
    "        for c in range(-5,6):\n",
    "            for d in range(-5,6):\n",
    "                M = Matrix([[a,b],[c,d]])\n",
    "                if M*A==B and M*C==D:\n",
    "                    print(M)\n",
    "                    E = M #um die richtige Matrix abzuspeichern\n",
    "E * Matrix([3,2])\n",
    "#Lösung: Matrix([8, -1])"
   ]
  },
  {
   "cell_type": "code",
   "execution_count": 6,
   "metadata": {},
   "outputs": [
    {
     "name": "stdout",
     "output_type": "stream",
     "text": [
      "Matrix([[2, 1], [1, -2]])\n"
     ]
    }
   ],
   "source": [
    "#Nr.188\n",
    "from sympy import *\n",
    "A = Matrix([1,0])\n",
    "B = Matrix([2,1])\n",
    "C = Matrix([0,2])\n",
    "D = Matrix([2,-4])\n",
    "for a in range(-5,6): #brute force Test mit Zahlen von -5 bis 5\n",
    "    for b in range(-5,6):\n",
    "        for c in range(-5,6):\n",
    "            for d in range(-5,6):\n",
    "                M = Matrix([[a,b],[c,d]])\n",
    "                if M*A==B and M*C==D:\n",
    "                    print(M)"
   ]
  },
  {
   "cell_type": "code",
   "execution_count": 5,
   "metadata": {},
   "outputs": [
    {
     "name": "stdout",
     "output_type": "stream",
     "text": [
      "Matrix([[2, 4], [1, -3]])\n"
     ]
    }
   ],
   "source": [
    "#Nr.189\n",
    "from sympy import *\n",
    "A = Matrix([1,0])\n",
    "B = Matrix([2,1])\n",
    "C = Matrix([-1,1])\n",
    "D = Matrix([2,-4])\n",
    "for a in range(-5,6): #brute force Test mit Zahlen von -5 bis 5\n",
    "    for b in range(-5,6):\n",
    "        for c in range(-5,6):\n",
    "            for d in range(-5,6):\n",
    "                M = Matrix([[a,b],[c,d]])\n",
    "                if M*A==B and M*C==D:\n",
    "                    print(M)"
   ]
  },
  {
   "cell_type": "code",
   "execution_count": 71,
   "metadata": {},
   "outputs": [
    {
     "name": "stdout",
     "output_type": "stream",
     "text": [
      "60 °: Matrix([[1/2, -sqrt(3)/2], [sqrt(3)/2, 1/2]])\n"
     ]
    }
   ],
   "source": [
    "#Nr.190\n",
    "from sympy import *\n",
    "degToRad = (pi/180)\n",
    "radToDeg = (180/pi)\n",
    "v = Matrix([2,0])\n",
    "w = Matrix([1,sqrt(3)])\n",
    "for i in range(0,361):\n",
    "    A = Matrix([[cos(i*degToRad), -sin(i*degToRad)], [sin(i*degToRad), cos(i*degToRad)]])\n",
    "    if A*v==w:\n",
    "        print(i,\"°:\",A)"
   ]
  },
  {
   "cell_type": "code",
   "execution_count": 106,
   "metadata": {},
   "outputs": [
    {
     "data": {
      "text/latex": [
       "$$\\left ( \\left[\\begin{matrix}\\frac{\\sqrt{3}}{2} & - \\frac{1}{2}\\\\\\frac{1}{2} & \\frac{\\sqrt{3}}{2}\\end{matrix}\\right], \\quad \\left[\\begin{matrix}\\frac{1}{2} & \\frac{\\sqrt{3}}{2}\\\\0 & 1\\end{matrix}\\right], \\quad \\left[\\begin{matrix}\\frac{\\sqrt{3}}{2} & \\frac{\\sqrt{3}}{2}\\\\- \\frac{1}{2} & \\frac{1}{2}\\end{matrix}\\right], \\quad \\left[\\begin{matrix}\\frac{\\sqrt{3}}{2} & \\frac{1}{2}\\\\\\frac{1}{2} & \\frac{\\sqrt{3}}{2}\\end{matrix}\\right], \\quad \\left[\\begin{matrix}- \\frac{\\sqrt{3}}{2} & \\frac{1}{2}\\\\\\frac{1}{2} & \\frac{\\sqrt{3}}{2}\\end{matrix}\\right], \\quad \\left[\\begin{matrix}\\frac{\\sqrt{3}}{2} & 0.5\\\\-0.5 & \\frac{\\sqrt{3}}{2}\\end{matrix}\\right], \\quad \\left[\\begin{matrix}\\frac{\\sqrt{3}}{2} & -0.5\\\\0.5 & \\frac{\\sqrt{3}}{2}\\end{matrix}\\right]\\right )$$"
      ],
      "text/plain": [
       "⎛⎡√3       ⎤                          ⎡√3      ⎤  ⎡-√3      ⎤  ⎡ √3      ⎤  ⎡√\n",
       "⎜⎢──   -1/2⎥  ⎡     √3⎤  ⎡ √3   √3 ⎤  ⎢──   1/2⎥  ⎢────  1/2⎥  ⎢ ──   0.5⎥  ⎢─\n",
       "⎜⎢2        ⎥  ⎢1/2  ──⎥  ⎢ ──   ── ⎥  ⎢2       ⎥  ⎢ 2       ⎥  ⎢ 2       ⎥  ⎢2\n",
       "⎜⎢         ⎥, ⎢     2 ⎥, ⎢ 2    2  ⎥, ⎢        ⎥, ⎢         ⎥, ⎢         ⎥, ⎢ \n",
       "⎜⎢      √3 ⎥  ⎢       ⎥  ⎢         ⎥  ⎢     √3 ⎥  ⎢      √3 ⎥  ⎢      √3 ⎥  ⎢ \n",
       "⎜⎢1/2   ── ⎥  ⎣ 0   1 ⎦  ⎣-1/2  1/2⎦  ⎢1/2  ── ⎥  ⎢1/2   ── ⎥  ⎢-0.5  ── ⎥  ⎢0\n",
       "⎝⎣      2  ⎦                          ⎣     2  ⎦  ⎣      2  ⎦  ⎣      2  ⎦  ⎣ \n",
       "\n",
       "3       ⎤⎞\n",
       "─   -0.5⎥⎟\n",
       "        ⎥⎟\n",
       "        ⎥⎟\n",
       "     √3 ⎥⎟\n",
       ".5   ── ⎥⎟\n",
       "     2  ⎦⎠"
      ]
     },
     "execution_count": 106,
     "metadata": {},
     "output_type": "execute_result"
    }
   ],
   "source": [
    "#Nr.191\n",
    "#Tippfehler von Weitz: oR und uR haben im Eintrag unten rechts sqrt(3)/2 statt sqrt(3)/3\n",
    "from sympy import *\n",
    "degToRad = (pi/180)\n",
    "radToDeg = (180/pi)\n",
    "init_printing(pretty_print=True)\n",
    "\n",
    "M = Matrix([[cos(30*degToRad),-sin(30*degToRad)], [sin(30*degToRad),cos(30*degToRad)]]) #Drehmatrix aus Buch\n",
    "oL = Matrix([[sin(30*degToRad),cos(30*degToRad)], [0,1]])\n",
    "uL = Matrix([[cos(30*degToRad),cos(30*degToRad)], [-sin(30*degToRad),sin(30*degToRad)]])\n",
    "oM = Matrix([[cos(30*degToRad),sin(30*degToRad)], [sin(30*degToRad),cos(30*degToRad)]])\n",
    "uM = Matrix([[-cos(30*degToRad),sin(30*degToRad)], [sin(30*degToRad),cos(30*degToRad)]]) #Falsch, dreht um 30° im negativen Sinn\n",
    "oR = Matrix([[sqrt(3)/2, 1/2], [-1/2, sqrt(3)/2]])\n",
    "uR = Matrix([[sqrt(3)/2, -1/2], [1/2, sqrt(3)/2]]) #Richtig, unten Rechts\n",
    "M,oL,uL,oM,uM,oR,uR #M und uR identisch\n",
    "#Lösung: unten Rechts"
   ]
  },
  {
   "cell_type": "code",
   "execution_count": 1,
   "metadata": {},
   "outputs": [
    {
     "name": "stdout",
     "output_type": "stream",
     "text": [
      "5\n"
     ]
    }
   ],
   "source": [
    "#Nr.192\n",
    "from sympy import *\n",
    "#b = Matrix([3,1])\n",
    "for i in range(10):\n",
    "    #a = Matrix([i,0]) #parallel zur x-Achse heißt, die y-Komponente ist 0\n",
    "    M = Matrix([[i,3],[0,1]]) #nur das hier nötig, a und b nur zum Verständnis aufgeschrieben\n",
    "    if M.det() == 5:\n",
    "        print(i)\n",
    "#Lösung: a = (5,0)"
   ]
  },
  {
   "cell_type": "code",
   "execution_count": 77,
   "metadata": {},
   "outputs": [
    {
     "data": {
      "image/png": "[encoded data removed]",
      "text/latex": [
       "$$-243$$"
      ],
      "text/plain": [
       "-243"
      ]
     },
     "execution_count": 77,
     "metadata": {},
     "output_type": "execute_result"
    }
   ],
   "source": [
    "#Nr.193\n",
    "from sympy import *\n",
    "A = Matrix([[1,2,3],[4,5,-6],[2,3,1]])\n",
    "(A**5).det()\n",
    "#Lösung: -243"
   ]
  },
  {
   "cell_type": "code",
   "execution_count": 45,
   "metadata": {},
   "outputs": [
    {
     "name": "stdout",
     "output_type": "stream",
     "text": [
      "-1\n"
     ]
    },
    {
     "data": {
      "text/plain": [
       "(1, -1, 1, 1)"
      ]
     },
     "execution_count": 45,
     "metadata": {},
     "output_type": "execute_result"
    }
   ],
   "source": [
    "#Nr.194\n",
    "from sympy import *\n",
    "print((-eye(21)).det())\n",
    "\n",
    "\n",
    "#Alternativ\n",
    "#Die Determinante einer Einheitsmatrix ist immer 1, die Determinante von -Em ist -1 bei ungeraden und 1 bei geraden Dimensionen\n",
    "#Eine Primzahl ist immer ungerade, somit muss m=n+1 zwingend gerade sein, und die Lösung ist 1\n",
    "\n",
    "#Test mit ungerader Dimension\n",
    "M1=Matrix([[1,0,0],[0,1,0],[0,0,1]]) #Test mit 3x3 Matrix\n",
    "\n",
    "#Test mit gerader Dimension\n",
    "M2=Matrix([[1,0,0,0],[0,1,0,0],[0,0,1,0],[0,0,0,1]]) #Test mit 4x4 Matrix\n",
    "M1.det(), (-M1).det(), M2.det(), (-M2).det() #Klammer ist wichtig\n",
    "\n",
    "\n",
    "#Lösung für -E(21): -1"
   ]
  },
  {
   "cell_type": "code",
   "execution_count": 113,
   "metadata": {},
   "outputs": [
    {
     "name": "stdout",
     "output_type": "stream",
     "text": [
      "59049\n"
     ]
    },
    {
     "data": {
      "image/png": "[encoded data removed]",
      "text/latex": [
       "$$59049$$"
      ],
      "text/plain": [
       "59049"
      ]
     },
     "execution_count": 113,
     "metadata": {},
     "output_type": "execute_result"
    }
   ],
   "source": [
    "#Nr.195\n",
    "from sympy import *\n",
    "#Determinante jeder Einheitsmatrix: 1\n",
    "#3*E(10) ersetzt jeder 1 mit einer 3\n",
    "print(3**10)\n",
    "\n",
    "#Alternativ\n",
    "(3*eye(10)).det()\n",
    "#Lösung: 59049"
   ]
  },
  {
   "cell_type": "code",
   "execution_count": 111,
   "metadata": {},
   "outputs": [
    {
     "name": "stdout",
     "output_type": "stream",
     "text": [
      "1024\n"
     ]
    },
    {
     "data": {
      "image/png": "[encoded data removed]",
      "text/latex": [
       "$$1024$$"
      ],
      "text/plain": [
       "1024"
      ]
     },
     "execution_count": 111,
     "metadata": {},
     "output_type": "execute_result"
    }
   ],
   "source": [
    "#Nr.196\n",
    "#E(10)+E(10) ersetzt jede 1 mit einer 2 -> bei Matrizenaddition komponentenweise addieren\n",
    "print(2**10)\n",
    "\n",
    "#Alternativ\n",
    "from sympy import *\n",
    "(eye(10)+eye(10)).det() #eye bildet Einheitsmatrix\n",
    "#Lösung: 1024"
   ]
  },
  {
   "cell_type": "code",
   "execution_count": 137,
   "metadata": {},
   "outputs": [
    {
     "name": "stdout",
     "output_type": "stream",
     "text": [
      "Matrix([[1/2, 0, 0], [0, 1/2, 0], [0, 0, 1/2]]) 1/1024\n"
     ]
    },
    {
     "data": {
      "image/png": "[encoded data removed]",
      "text/latex": [
       "$$\\frac{1}{1024}$$"
      ],
      "text/plain": [
       "1/1024"
      ]
     },
     "execution_count": 137,
     "metadata": {},
     "output_type": "execute_result"
    }
   ],
   "source": [
    "#Nr.197\n",
    "from sympy import *\n",
    "from fractions import Fraction\n",
    "E = Matrix([[2,0,0],[0,2,0],[0,0,2]])\n",
    "print(E.inv(), Fraction(1,2)**10)\n",
    "\n",
    "#Alternativ\n",
    "(eye(10)+eye(10)).inv().det() #eye bildet Einheitsmatrix\n",
    "#Lösung: 1/1024"
   ]
  },
  {
   "cell_type": "code",
   "execution_count": 59,
   "metadata": {},
   "outputs": [
    {
     "name": "stdout",
     "output_type": "stream",
     "text": [
      "3\n",
      "Probe: 27\n"
     ]
    },
    {
     "data": {
      "text/plain": [
       "[1/3]"
      ]
     },
     "execution_count": 59,
     "metadata": {},
     "output_type": "execute_result"
    }
   ],
   "source": [
    "#Nr.198\n",
    "from sympy import *\n",
    "from fractions import Fraction\n",
    "#Wenn die Einheitsmatrix mit a multipliziert wird, werden alle 1en durch a ersetzt\n",
    "#Die Inverse dieser neuen Matrix ersetzt a mit dem Kehrwert 1/a\n",
    "#Der Kehrwert der dritten Wurzel (ich glaub weils ne 3x3 Matrix ist) von 27 ist die Lösung\n",
    "print(cbrt(27)) #cbrt = cube root; dritte Wurzel von 27 #Alternativ: 27**Fraction(1,3); lieber Fraction benutzen als 1/3\n",
    "print(\"Probe:\", (Fraction(1,3)*eye(3)).inv().det())\n",
    "\n",
    "#Alternativ\n",
    "a = symbols(\"a\", real=True) #durch real=True werden die komplexen Zahlen nicht ausgegeben, nur die reellen\n",
    "solve((a*eye(3)).inv().det() - 27) #mit Klammern aufpassen!!\n",
    "#die = 27 auf die andere Seite -> -27\n",
    "#Das erste Ergebnis ist (zumindest hier) die richtige Lösung\n",
    "#Lösung: 1/3"
   ]
  },
  {
   "cell_type": "code",
   "execution_count": 72,
   "metadata": {},
   "outputs": [
    {
     "name": "stdout",
     "output_type": "stream",
     "text": [
      "3.00000000000000\n"
     ]
    },
    {
     "data": {
      "image/png": "[encoded data removed]",
      "text/latex": [
       "$$\\left [ \\left ( 1, \\quad 1\\right )\\right ]$$"
      ],
      "text/plain": [
       "[(1, 1)]"
      ]
     },
     "metadata": {},
     "output_type": "display_data"
    },
    {
     "data": {
      "image/png": "[encoded data removed]",
      "text/latex": [
       "$$\\left [ \\left ( \\sqrt{2}, \\quad 2\\right )\\right ]$$"
      ],
      "text/plain": [
       "[(√2, 2)]"
      ]
     },
     "metadata": {},
     "output_type": "display_data"
    },
    {
     "data": {
      "image/png": "[encoded data removed]",
      "text/latex": [
       "$$\\left [ \\left ( \\sqrt[3]{3}, \\quad 3\\right )\\right ]$$"
      ],
      "text/plain": [
       "⎡⎛3 ___   ⎞⎤\n",
       "⎣⎝╲╱ 3 , 3⎠⎦"
      ]
     },
     "metadata": {},
     "output_type": "display_data"
    },
    {
     "data": {
      "image/png": "[encoded data removed]",
      "text/latex": [
       "$$\\left [ \\left ( \\sqrt{2}, \\quad 4\\right )\\right ]$$"
      ],
      "text/plain": [
       "[(√2, 4)]"
      ]
     },
     "metadata": {},
     "output_type": "display_data"
    },
    {
     "data": {
      "image/png": "[encoded data removed]",
      "text/latex": [
       "$$\\left [ \\left ( \\sqrt[5]{5}, \\quad 5\\right )\\right ]$$"
      ],
      "text/plain": [
       "⎡⎛5 ___   ⎞⎤\n",
       "⎣⎝╲╱ 5 , 5⎠⎦"
      ]
     },
     "metadata": {},
     "output_type": "display_data"
    },
    {
     "data": {
      "image/png": "[encoded data removed]",
      "text/latex": [
       "$$\\left [ \\left ( \\sqrt[6]{6}, \\quad 6\\right )\\right ]$$"
      ],
      "text/plain": [
       "⎡⎛6 ___   ⎞⎤\n",
       "⎣⎝╲╱ 6 , 6⎠⎦"
      ]
     },
     "metadata": {},
     "output_type": "display_data"
    }
   ],
   "source": [
    "#Nr.199\n",
    "#Überlegung mit 3x3 Matrix\n",
    "#Wenn die Einheitsmatrix mit a multipliziert wird, werden alle 1en durch a ersetzt\n",
    "#Damit 3 als Determinante herauskommt, muss gelten:\n",
    "#a*a*a = 3\n",
    "#a**3 = 3\n",
    "#a = dritte Wurzel aus 3\n",
    "\n",
    "#Test\n",
    "a = root(3,3).evalf()\n",
    "print((a*eye(3)).det())\n",
    "\n",
    "#Alternativ\n",
    "a = symbols(\"a\")\n",
    "init_printing(True)\n",
    "for n in range(1,7): #mit paar Zahlen ausprobieren\n",
    "    display(solve((a * eye(n)).det() - n,[a,n])) #display ist so wie init_printing (bei print(...) funzt init_printing nicht)\n",
    "#Muster erkennbar: n-te Wurzel aus n\n",
    "#Lösung: n-te Wurzel aus n"
   ]
  },
  {
   "cell_type": "code",
   "execution_count": 73,
   "metadata": {},
   "outputs": [
    {
     "name": "stdout",
     "output_type": "stream",
     "text": [
      "0\n"
     ]
    },
    {
     "data": {
      "image/png": "[encoded data removed]",
      "text/latex": [
       "$$\\left [ 0\\right ]$$"
      ],
      "text/plain": [
       "[0]"
      ]
     },
     "execution_count": 73,
     "metadata": {},
     "output_type": "execute_result"
    }
   ],
   "source": [
    "#Nr.200\n",
    "from sympy import *\n",
    "for a in range (-5,6):\n",
    "    M = Matrix([[1,2,3,4],[4,-1,3,1],[2,a,2,1],[1,1,1,1]])\n",
    "    if M.det() == 3:\n",
    "        print(a)\n",
    "#Lösung: 0\n",
    "\n",
    "#Alternativ\n",
    "a = symbols(\"a\")\n",
    "M = Matrix([[1,2,3,4],[4,-1,3,1],[2,a,2,1],[1,1,1,1]])\n",
    "solve(M.det()-3)"
   ]
  },
  {
   "cell_type": "code",
   "execution_count": 75,
   "metadata": {},
   "outputs": [
    {
     "name": "stdout",
     "output_type": "stream",
     "text": [
      "2\n",
      "4\n",
      "[2, 4]\n"
     ]
    },
    {
     "data": {
      "image/png": "[encoded data removed]",
      "text/latex": [
       "$$\\left ( 9, \\quad 9\\right )$$"
      ],
      "text/plain": [
       "(9, 9)"
      ]
     },
     "execution_count": 75,
     "metadata": {},
     "output_type": "execute_result"
    }
   ],
   "source": [
    "#Nr.201\n",
    "from sympy import *\n",
    "for a in range (-10,11):\n",
    "    A = Matrix([[1,1,-1],[3,a,0],[1,1,2]])\n",
    "    if (A*A).det() == 9:\n",
    "        print(a)\n",
    "        \n",
    "#Alternativ        \n",
    "a = symbols(\"a\")\n",
    "A = Matrix([[1,1,-1],[3,a,0],[1,1,2]])\n",
    "print(solve((A*A).det()-9))\n",
    "      \n",
    "#Test\n",
    "T1 = Matrix([[1,1,-1],[3,2,0],[1,1,2]])\n",
    "T2 = Matrix([[1,1,-1],[3,4,0],[1,1,2]])\n",
    "(T1*T1).det(), (T2*T2).det()\n",
    "#Lösung: 2 und 4"
   ]
  },
  {
   "cell_type": "code",
   "execution_count": 153,
   "metadata": {},
   "outputs": [
    {
     "name": "stdout",
     "output_type": "stream",
     "text": [
      "-5 : -31\n",
      "-4 : -22\n",
      "-3 : -15\n",
      "-2 : -10\n",
      "-1 : -7\n",
      "0 : -6\n",
      "1 : -7\n",
      "2 : -10\n",
      "3 : -15\n",
      "4 : -22\n"
     ]
    },
    {
     "data": {
      "image/png": "[encoded data removed]",
      "text/latex": [
       "$$\\left [ \\left \\{ x : - a^{2} - 6\\right \\}\\right ]$$"
      ],
      "text/plain": [
       "⎡⎧      2    ⎫⎤\n",
       "⎢⎨x: - a  - 6⎬⎥\n",
       "⎣⎩           ⎭⎦"
      ]
     },
     "execution_count": 153,
     "metadata": {},
     "output_type": "execute_result"
    }
   ],
   "source": [
    "#Nr.202\n",
    "from sympy import *\n",
    "for a in range (-5,5):\n",
    "    M = Matrix([[a,2,0],[pi,42,1],[-3,a,0]])\n",
    "    print(a,\":\", M.det())\n",
    "    \n",
    "#Alternativ: Determinante per Hand:\n",
    "#a*42*0 + 2*1*-3 + 0*pi*a - 0*42*-3 - 2*pi*0 - a*1*a\n",
    "#0 + (-6) + 0 - 0 - 0 - a**2\n",
    "#-6 - a**2\n",
    "#Die Determinante wird für jede andere reelle Zahl als 0 kleiner (da a**2 immer positiv ist)\n",
    "#Somit ist für a=0 die Determinante -6 die größtmögliche\n",
    "\n",
    "#Alternativ\n",
    "a,x=symbols(\"a x\")\n",
    "M = Matrix([[a, 2, 0], [pi, 42, 1], [-3, a, 0]])\n",
    "solve(M.det()-x)\n",
    "#Lösung: -6"
   ]
  },
  {
   "cell_type": "code",
   "execution_count": 78,
   "metadata": {},
   "outputs": [
    {
     "name": "stdout",
     "output_type": "stream",
     "text": [
      "1\n"
     ]
    },
    {
     "data": {
      "image/png": "[encoded data removed]",
      "text/latex": [
       "$$\\left [ 1\\right ]$$"
      ],
      "text/plain": [
       "[1]"
      ]
     },
     "execution_count": 78,
     "metadata": {},
     "output_type": "execute_result"
    }
   ],
   "source": [
    "#Nr.203\n",
    "from sympy import *\n",
    "for a in range(-5,6):\n",
    "    M = Matrix([[1,2,3,4],[4,-1,3,1],[3,a,2,1],[1,1,1,1]])\n",
    "    if M.det() == 0:\n",
    "        print(a)\n",
    "        \n",
    "#Alternativ\n",
    "a = symbols(\"a\")\n",
    "M = Matrix([[1,2,3,4],[4,-1,3,1],[3,a,2,1],[1,1,1,1]])\n",
    "solve(M.det() - 0,[a])\n",
    "#Lösung: 1"
   ]
  },
  {
   "cell_type": "code",
   "execution_count": 58,
   "metadata": {},
   "outputs": [
    {
     "name": "stdout",
     "output_type": "stream",
     "text": [
      "-5 {(1/3, -1/9, -1/9)}\n",
      "-4 {(3/8, -1/8, -1/8)}\n",
      "-3 {(3/7, -1/7, -1/7)}\n",
      "-2 {(1/2, -1/6, -1/6)}\n",
      "-1 {(3/5, -1/5, -1/5)}\n",
      "0 {(3/4, -1/4, -1/4)}\n",
      "1 {(1, -1/3, -1/3)}\n",
      "2 {(3/2, -1/2, -1/2)}\n",
      "3 {(3, -1, -1)}\n",
      "4 EmptySet()\n",
      "5 {(-3, 1, 1)}\n"
     ]
    }
   ],
   "source": [
    "#Nr.205\n",
    "from sympy import *\n",
    "x,y,z = symbols(\"x y z\")\n",
    "for a in range(-5,6):\n",
    "    M=Matrix([[1,2,1,0],[1,1,2,0],[2,2,a,1]])\n",
    "    print(a, linsolve(M,[x,y,z]))\n",
    "#Lösung: 4"
   ]
  },
  {
   "cell_type": "code",
   "execution_count": 73,
   "metadata": {},
   "outputs": [
    {
     "data": {
      "text/latex": [
       "$$\\left ( \\left[\\begin{matrix}1 & -1 & 2\\\\- \\frac{3}{2} & \\frac{5}{4} & \\frac{7}{4}\\\\1 & - \\frac{1}{2} & \\frac{1}{2}\\end{matrix}\\right], \\quad \\left[\\begin{matrix}- \\frac{3}{4} & \\frac{1}{4} & \\frac{17}{8}\\\\- \\frac{5}{4} & \\frac{3}{4} & \\frac{19}{8}\\\\\\frac{1}{4} & \\frac{1}{4} & \\frac{1}{8}\\end{matrix}\\right]\\right )$$"
      ],
      "text/plain": [
       "⎛⎡ 1     -1    2 ⎤  ⎡-3/4  1/4  17/8⎤⎞\n",
       "⎜⎢               ⎥  ⎢               ⎥⎟\n",
       "⎜⎢-3/2  5/4   7/4⎥, ⎢-5/4  3/4  19/8⎥⎟\n",
       "⎜⎢               ⎥  ⎢               ⎥⎟\n",
       "⎝⎣ 1    -1/2  1/2⎦  ⎣1/4   1/4  1/8 ⎦⎠"
      ]
     },
     "execution_count": 73,
     "metadata": {},
     "output_type": "execute_result"
    }
   ],
   "source": [
    "#Nr.206\n",
    "from sympy import *\n",
    "from fractions import Fraction\n",
    "init_printing(pretty_print=True)\n",
    "A = Matrix([[1,-1,2],[Fraction(-3,2),Fraction(5,4),Fraction(7,4)],[1,Fraction(-1,2),Fraction(1,2)]])\n",
    "A, A.inv()\n",
    "#Lösung: B = A.inv()"
   ]
  },
  {
   "cell_type": "code",
   "execution_count": 89,
   "metadata": {},
   "outputs": [
    {
     "data": {
      "text/plain": [
       "-1/12"
      ]
     },
     "execution_count": 89,
     "metadata": {},
     "output_type": "execute_result"
    }
   ],
   "source": [
    "#Nr.207\n",
    "from sympy import *\n",
    "A = Matrix([[1,2,3],[4,6,5],[3,2,1]])\n",
    "A.inv().det()\n",
    "#Lösung: -1/12"
   ]
  },
  {
   "cell_type": "code",
   "execution_count": 90,
   "metadata": {},
   "outputs": [
    {
     "name": "stdout",
     "output_type": "stream",
     "text": [
      "-4\n"
     ]
    },
    {
     "data": {
      "text/plain": [
       "4*pi"
      ]
     },
     "execution_count": 90,
     "metadata": {},
     "output_type": "execute_result"
    }
   ],
   "source": [
    "#Nr.208\n",
    "from sympy import *\n",
    "M = Matrix([[1,7],[1,3]])\n",
    "print(M.det()) #Determiante -4 heißt Flächenvergrößerungsfaktor 4\n",
    "#Fläche eines Kreises: A(Kreis) = pi*r**2\n",
    "    #Radius des Einheitskreises: r=1\n",
    "    #A(Kreis) = pi\n",
    "#A(Ellipse) = A(Kreis) * |det(M)|\n",
    "    #A(Ellipse) = pi * |-4| = 4*pi\n",
    "    \n",
    "#Alternativ\n",
    "abs(M.det()) * pi\n",
    "#Lösung: 4*pi"
   ]
  },
  {
   "cell_type": "code",
   "execution_count": 94,
   "metadata": {},
   "outputs": [
    {
     "name": "stdout",
     "output_type": "stream",
     "text": [
      "-4\n"
     ]
    },
    {
     "data": {
      "text/plain": [
       "16*pi"
      ]
     },
     "execution_count": 94,
     "metadata": {},
     "output_type": "execute_result"
    }
   ],
   "source": [
    "#Nr.209\n",
    "from sympy import *\n",
    "M = Matrix([[1,7],[1,3]])\n",
    "print(M.det()) #Determiante -4 heißt Flächenvergrößerungsfaktor 4\n",
    "#A(Kreis) = pi * 2**2 = 4*pi\n",
    "#A(Ellipse) = 4*pi * |-4| = 16*pi\n",
    "\n",
    "#Alternativ\n",
    "abs(M.det()) * pi*2**2\n",
    "#Lösung: 16*pi"
   ]
  },
  {
   "cell_type": "code",
   "execution_count": 92,
   "metadata": {},
   "outputs": [
    {
     "name": "stdout",
     "output_type": "stream",
     "text": [
      "4\n"
     ]
    },
    {
     "data": {
      "text/plain": [
       "4"
      ]
     },
     "execution_count": 92,
     "metadata": {},
     "output_type": "execute_result"
    }
   ],
   "source": [
    "#Nr.210\n",
    "from sympy import *\n",
    "M = Matrix([[1,7,2],[1,3,2],[1,1,1]])\n",
    "print(M.det()) #Determiante 4 heißt Volumenvergrößerungsfaktor 4\n",
    "#V(Würfel) = a**3 = 1**3 = 1\n",
    "#V(Spat) = 1 * 4 = 4\n",
    "\n",
    "#Alternativ\n",
    "abs(M.det()) * 1\n",
    "#Lösung: 4"
   ]
  },
  {
   "cell_type": "code",
   "execution_count": 93,
   "metadata": {},
   "outputs": [
    {
     "name": "stdout",
     "output_type": "stream",
     "text": [
      "6\n"
     ]
    },
    {
     "data": {
      "text/plain": [
       "48"
      ]
     },
     "execution_count": 93,
     "metadata": {},
     "output_type": "execute_result"
    }
   ],
   "source": [
    "#Nr.211\n",
    "from sympy import *\n",
    "M = Matrix([[3,7,2],[1,3,2],[1,1,1]])\n",
    "print(M.det()) #Determiante 6 heißt Volumenvergrößerungsfaktor 6\n",
    "#V(Würfel) = a**3 = 2**3 = 8\n",
    "#V(Spat) = 8 * 6 = 48\n",
    "\n",
    "#Alternativ\n",
    "abs(M.det()) * 8\n",
    "#Lösung: 48"
   ]
  },
  {
   "cell_type": "code",
   "execution_count": 99,
   "metadata": {},
   "outputs": [
    {
     "name": "stdout",
     "output_type": "stream",
     "text": [
      "2*a + 1\n",
      "Test: 3 -3\n"
     ]
    },
    {
     "data": {
      "text/plain": [
       "[-5/4, 1/4]"
      ]
     },
     "execution_count": 99,
     "metadata": {},
     "output_type": "execute_result"
    }
   ],
   "source": [
    "#Nr.212\n",
    "from sympy import *\n",
    "from fractions import Fraction\n",
    "init_printing(False)\n",
    "a = symbols(\"a\")\n",
    "M = Matrix([[a,1,2],[1,2,0],[1,3,1]])\n",
    "print(M.det())\n",
    "#V(Würfel) = 2\n",
    "#V(Spat) = 2*(2*a1+1)=3 -> 4*a1+2=3 -> 4*a1=1 -> a1=1/4\n",
    "\n",
    "#(Wahrscheinlich zu umständliche?) Methode um auf a2 zu kommen\n",
    "#Überlegung: Wählt man a=1/4, ist die Determinante von M = 1.5\n",
    "#Die einzige Möglichkeit, wie das Volumen nicht geändert wird, trotz verschiedener Determinante,\n",
    "#ist die Determinante mit vertauschtem Vorzeichen. Hier also -1.5\n",
    "#Wdh.: 2*a1 + 1 = 1.5 -> a1 = 1/4\n",
    "#2*a2 + 1 = -1.5 -> a2 = -5/4\n",
    "\n",
    "M2 = Matrix([[Fraction(1,4),1,2],[1,2,0],[1,3,1]])\n",
    "M3 = Matrix([[Fraction(-5,4),1,2],[1,2,0],[1,3,1]])\n",
    "print(\"Test:\", 2*M2.det(), 2*M3.det())\n",
    "#Lösung: 1/4 und -5/4\n",
    "\n",
    "\n",
    "#Alternativ\n",
    "a = symbols(\"a\", real=True) #ohne real=True funzt solve hier nicht\n",
    "M = Matrix([[a,1,2],[1,2,0],[1,3,1]])\n",
    "solve(abs(M.det())*2 - 3)"
   ]
  },
  {
   "cell_type": "code",
   "execution_count": 41,
   "metadata": {},
   "outputs": [
    {
     "name": "stdout",
     "output_type": "stream",
     "text": [
      "8\n"
     ]
    },
    {
     "data": {
      "image/png": "[encoded data removed]",
      "text/latex": [
       "$$8$$"
      ],
      "text/plain": [
       "8"
      ]
     },
     "execution_count": 41,
     "metadata": {},
     "output_type": "execute_result"
    }
   ],
   "source": [
    "#Nr.213\n",
    "from sympy import *\n",
    "#Vektoren jeweils von P1 zu P2, P1 zu P3 und P2 zu P4\n",
    "a=Matrix([[1,0,0]])\n",
    "b=Matrix([[1,2,0]])\n",
    "c=Matrix([[1,2,4]])\n",
    "\n",
    "M = Matrix([[1,0,0], [1,2,0], [1,2,4]])\n",
    "print(M.det())\n",
    "\n",
    "#Alternativ: (a x b) * c\n",
    "(a.cross(b)).dot(c)\n",
    "#Lösung: 8"
   ]
  },
  {
   "cell_type": "code",
   "execution_count": 164,
   "metadata": {},
   "outputs": [
    {
     "data": {
      "text/plain": [
       "38"
      ]
     },
     "execution_count": 164,
     "metadata": {},
     "output_type": "execute_result"
    }
   ],
   "source": [
    "#Nr.214\n",
    "from sympy import *\n",
    "A = Matrix([[4,-1], [-1,4]])\n",
    "B = Matrix([[3,2], [1,4]])\n",
    "C = Matrix([[2,-2], [0,4]])\n",
    "D = Matrix([[3,2], [2,3]])\n",
    "abs(A.det())+abs(B.det())+abs(C.det())+abs(D.det()) \n",
    "#hier waren eh alle Werte positiv, aber würde man die Vektoren in ner anderen Reihenfolge aufschreiben,\n",
    "#würde die negative Determinante rauskommen. Deshalb auf safe Betrag nehmen\n",
    "\n",
    "#Alternativ: Norm des Kreuzprodukts aus den zwei Vektoren (geht nur für 3D, deshalb z-Koordinate mit 0 auffüllen)\n",
    "#z.B.: Matrix([4,-1,0]).cross(Matrix([-1,4,0])).norm() --> 15\n",
    "#Lösung: 38"
   ]
  },
  {
   "cell_type": "code",
   "execution_count": 43,
   "metadata": {},
   "outputs": [
    {
     "data": {
      "image/png": "[encoded data removed]",
      "text/latex": [
       "$$-6$$"
      ],
      "text/plain": [
       "-6"
      ]
     },
     "execution_count": 43,
     "metadata": {},
     "output_type": "execute_result"
    }
   ],
   "source": [
    "#Nr.219\n",
    "from sympy import *\n",
    "A = Matrix([[-1,0], [0,1]]) #Spiegelung an y-Achse: https://www.k-achilles.de/matrizen/abbildungen-mit-matrizen.pdf\n",
    "B = Matrix([[5,1], [1,1]])\n",
    "C = Matrix([[25,1], [1,1]])\n",
    "(A*B.inv()*C.T).det()\n",
    "#Lösung: -6"
   ]
  },
  {
   "cell_type": "code",
   "execution_count": 45,
   "metadata": {},
   "outputs": [
    {
     "data": {
      "image/png": "[encoded data removed]",
      "text/latex": [
       "$$4.0$$"
      ],
      "text/plain": [
       "4.00000000000000"
      ]
     },
     "execution_count": 45,
     "metadata": {},
     "output_type": "execute_result"
    }
   ],
   "source": [
    "#Nr.220\n",
    "from sympy import *\n",
    "from math import sin,cos #entweder mit math oder am Ende mit N()/evalf()\n",
    "degToRad = (pi/180)\n",
    "radToDeg = (180/pi)\n",
    "\n",
    "A = Matrix([[cos(30*degToRad), -sin(30*degToRad)], [sin(30*degToRad), cos(30*degToRad)]]) #Drehmatrix aus Buch\n",
    "B = Matrix([[7,1], [1,1]])\n",
    "C = Matrix([[25,1], [1,1]])\n",
    "(A.inv()*B.inv()*C.T).det() #wurde auch mit anderen Matrizen getestet\n",
    "#Lösung: 4"
   ]
  },
  {
   "cell_type": "code",
   "execution_count": 62,
   "metadata": {},
   "outputs": [
    {
     "data": {
      "text/latex": [
       "$$\\left[\\begin{matrix}6 x - 4 y\\\\4 x\\end{matrix}\\right]$$"
      ],
      "text/plain": [
       "⎡6⋅x - 4⋅y⎤\n",
       "⎢         ⎥\n",
       "⎣   4⋅x   ⎦"
      ]
     },
     "execution_count": 62,
     "metadata": {},
     "output_type": "execute_result"
    }
   ],
   "source": [
    "#Nr.221\n",
    "from sympy import *\n",
    "init_printing(pretty_print=True)\n",
    "x,y = symbols(\"x y\")\n",
    "def f(x,y):\n",
    "    return Matrix([3*x-2*y, 2*x+y])\n",
    "def g(x,y):\n",
    "    return Matrix([3*x-2*y, 2*x+1])\n",
    "def h(x,y):\n",
    "    return Matrix([3*x-2*y, 2*x-1])\n",
    "def g_plus_h(x,y):\n",
    "    return g(x,y)+h(x,y)\n",
    "#per Hand ausgerechnet\n",
    "def f_und_f(x,y):\n",
    "    return Matrix([5*x-8*y, 8*x-3*y])\n",
    "g_plus_h(x,y)"
   ]
  },
  {
   "cell_type": "code",
   "execution_count": 67,
   "metadata": {},
   "outputs": [
    {
     "data": {
      "image/png": "[encoded data removed]",
      "text/latex": [
       "$$5.0$$"
      ],
      "text/plain": [
       "5.00000000000000"
      ]
     },
     "execution_count": 67,
     "metadata": {},
     "output_type": "execute_result"
    }
   ],
   "source": [
    "#Nr.223\n",
    "from sympy import *\n",
    "a = Matrix([5,2]).normalized() * sqrt(10)\n",
    "b = Matrix([-2,5]).normalized() * sqrt(15)\n",
    "N((a+b).norm())\n",
    "#Alternativ: s. Notiz neben Aufgabe in pdf\n",
    "#Lösung: 5"
   ]
  },
  {
   "cell_type": "code",
   "execution_count": 69,
   "metadata": {},
   "outputs": [
    {
     "data": {
      "image/png": "[encoded data removed]",
      "text/latex": [
       "$$10.0$$"
      ],
      "text/plain": [
       "10.0000000000000"
      ]
     },
     "execution_count": 69,
     "metadata": {},
     "output_type": "execute_result"
    }
   ],
   "source": [
    "#Nr.224\n",
    "from sympy import *\n",
    "#Tippfehler von Weitz, richtige Gleichung: (2a+2b) * (a+b) [statt (ab)]\n",
    "a = Matrix([2,7]).normalized() * sqrt(2) #random Vektor normalisieren * sqrt(2) -> ||a|| = sqrt(2)\n",
    "b = Matrix([-7,2]).normalized() * sqrt(3) #orthogonalen Vektor bilden\n",
    "N((2*a+2*b).dot(a+b))"
   ]
  },
  {
   "cell_type": "code",
   "execution_count": 72,
   "metadata": {},
   "outputs": [
    {
     "data": {
      "image/png": "[encoded data removed]",
      "text/latex": [
       "$$5.0$$"
      ],
      "text/plain": [
       "5.00000000000000"
      ]
     },
     "execution_count": 72,
     "metadata": {},
     "output_type": "execute_result"
    }
   ],
   "source": [
    "#Nr.225\n",
    "from sympy import *\n",
    "M = Matrix([[cos(30*degToRad),-sin(30*degToRad)], [sin(30*degToRad),cos(30*degToRad)]])\n",
    "a = Matrix([3,4])\n",
    "N((M*a).norm())\n",
    "#Alternativ: s. Notiz neben Aufgabe in pdf\n",
    "#Lösung: 5"
   ]
  },
  {
   "cell_type": "code",
   "execution_count": 75,
   "metadata": {},
   "outputs": [
    {
     "name": "stdout",
     "output_type": "stream",
     "text": [
      "45 °:  Matrix([[sqrt(2)], [sqrt(2)]])\n"
     ]
    },
    {
     "data": {
      "image/png": "[encoded data removed]",
      "text/latex": [
       "$$\\left ( 2, \\quad 2, \\quad \\sqrt{2}, \\quad 0, \\quad \\sqrt{2}, \\quad \\sqrt{3}\\right )$$"
      ],
      "text/plain": [
       "(2, 2, √2, 0, √2, √3)"
      ]
     },
     "execution_count": 75,
     "metadata": {},
     "output_type": "execute_result"
    }
   ],
   "source": [
    "#Nr.226\n",
    "from sympy import *\n",
    "degToRad = (pi/180)\n",
    "radToDeg = (180/pi)\n",
    "for i in range(0,361):\n",
    "    Dreh = Matrix([[cos(i*degToRad), -sin(i*degToRad)], [sin(i*degToRad), cos(i*degToRad)]])\n",
    "    test = Dreh*Matrix([2,0])\n",
    "    if test==Matrix([sqrt(2),sqrt(2)]) or test==Matrix([1,1]) or test==Matrix([0,0]) or test==Matrix([1,-1]) or test==Matrix([1,sqrt(2)]):\n",
    "        print(i,\"°: \", Dreh * Matrix([2,0]))\n",
    "        \n",
    "#Alternativ\n",
    "f = Matrix([[cos(pi/3), -sin(pi/3)], [sin(pi/3), cos(pi/3)]])\n",
    "x = f * Matrix([2, 0])\n",
    "\n",
    "a = Matrix([sqrt(2), sqrt(2)])\n",
    "b = Matrix([1, 1])\n",
    "c = Matrix([0, 0])\n",
    "d = Matrix([1, -1])\n",
    "e = Matrix([1, sqrt(2)])\n",
    "\n",
    "x.norm(), a.norm(), b.norm(), c.norm(), d.norm(), e.norm() #Länge ändert sich nicht bei Drehung, lediglich a stimmt überein\n",
    "                                                           #Rest unmöglich, daher ankreuzen\n",
    "#Bei einer 45° Drehung kommt (sqrt(2), sqrt(2)) heraus, die anderen 4 sind also unmöglich (Diese 4 ankreuzen!)"
   ]
  },
  {
   "cell_type": "code",
   "execution_count": 79,
   "metadata": {},
   "outputs": [
    {
     "data": {
      "image/png": "[encoded data removed]",
      "text/latex": [
       "$$\\left ( 3.16227766016838, \\quad 3.16227766016838\\right )$$"
      ],
      "text/plain": [
       "(3.16227766016838, 3.16227766016838)"
      ]
     },
     "execution_count": 79,
     "metadata": {},
     "output_type": "execute_result"
    }
   ],
   "source": [
    "#Nr.227\n",
    "from sympy import *\n",
    "from math import sin,cos\n",
    "degToRad = (pi/180)\n",
    "radToDeg = (180/pi)\n",
    "M = Matrix([[cos(30*degToRad), -sin(30*degToRad)], [sin(30*degToRad), cos(30*degToRad)]]) #Grad irrelevant\n",
    "v = Matrix([1,2])\n",
    "w = Matrix([2,-1])\n",
    "(M*v + M*w).norm(), (M*(v+w)).norm() #identisch\n",
    "#Lösung: 3.16"
   ]
  },
  {
   "cell_type": "code",
   "execution_count": 80,
   "metadata": {},
   "outputs": [
    {
     "name": "stdout",
     "output_type": "stream",
     "text": [
      "4\n"
     ]
    },
    {
     "data": {
      "image/png": "[encoded data removed]",
      "text/latex": [
       "$$\\left [ 4\\right ]$$"
      ],
      "text/plain": [
       "[4]"
      ]
     },
     "execution_count": 80,
     "metadata": {},
     "output_type": "execute_result"
    }
   ],
   "source": [
    "#Nr.228\n",
    "from sympy import *\n",
    "v = Matrix([1,2,3])\n",
    "e3 = Matrix([0,0,1])\n",
    "for a in range(-10,11):\n",
    "    w=Matrix([2,a,2])\n",
    "    if v.cross(w).dot(e3) == 0:\n",
    "        print(a)\n",
    "        \n",
    "#Alternativ\n",
    "a = symbols(\"a\")\n",
    "w = Matrix([2,a,2])\n",
    "x = v.cross(w)\n",
    "solve(x.dot(e3)-0)\n",
    "#Lösung: 4"
   ]
  },
  {
   "cell_type": "code",
   "execution_count": 55,
   "metadata": {},
   "outputs": [
    {
     "name": "stdout",
     "output_type": "stream",
     "text": [
      "a und b senkrecht: 0\n",
      "Kreuzprodukt aus a und b / a x b = c: Matrix([[-6], [0], [2]])\n",
      "a x b = a?: 10\n",
      "a x b = -c?: 0 0\n",
      "a x b = -a?: -10\n",
      "a x b = 2c?: 0 0\n"
     ]
    }
   ],
   "source": [
    "#Nr.230\n",
    "#bissl rumprobieren mit irgendwelchen Vektoren\n",
    "from sympy import *\n",
    "a = Matrix([1,0,3])\n",
    "b = Matrix([0,2,0])\n",
    "print(\"a und b senkrecht:\", a.dot(b))\n",
    "c = a.cross(b)\n",
    "\n",
    "#Das Kreuzprodukts ist immer senkrecht auf den beiden Faktoren,\n",
    "#deshalb hier mithilfe des Skalarprodukts auf Orthogonalität prüfen\n",
    "print(\"Kreuzprodukt aus a und b / a x b = c:\", c) #a x b = c ist sowieso richtig\n",
    "print(\"a x b = a?:\", a.dot(a)) #falsch\n",
    "print(\"a x b = -c?:\", a.dot(-c), b.dot(-c)) #richtig, -c ist senkrecht auf a und b\n",
    "print(\"a x b = -a?:\", a.dot(-a)) #falsch\n",
    "print(\"a x b = 2c?:\", a.dot(2*c), b.dot(2*c)) #richtig, 2*c ist senkrecht auf a und b\n",
    "#Richtig: 1,3,5"
   ]
  },
  {
   "cell_type": "code",
   "execution_count": 35,
   "metadata": {},
   "outputs": [
    {
     "data": {
      "text/plain": [
       "Matrix([\n",
       "[ 2/3],\n",
       "[-2/3],\n",
       "[-1/3]])"
      ]
     },
     "execution_count": 35,
     "metadata": {},
     "output_type": "execute_result"
    }
   ],
   "source": [
    "#Nr.231\n",
    "from sympy import *\n",
    "a = Matrix([-4,-3,-2])\n",
    "b = Matrix([-1,1,-4])\n",
    "c = a.cross(b)\n",
    "c.normalized()"
   ]
  },
  {
   "cell_type": "code",
   "execution_count": 88,
   "metadata": {
    "scrolled": true
   },
   "outputs": [
    {
     "data": {
      "text/latex": [
       "$$\\left ( \\left[\\begin{matrix}-2\\\\-2\\\\-1\\end{matrix}\\right], \\quad 3\\right )$$"
      ],
      "text/plain": [
       "⎛⎡-2⎤   ⎞\n",
       "⎜⎢  ⎥   ⎟\n",
       "⎜⎢-2⎥, 3⎟\n",
       "⎜⎢  ⎥   ⎟\n",
       "⎝⎣-1⎦   ⎠"
      ]
     },
     "execution_count": 88,
     "metadata": {},
     "output_type": "execute_result"
    }
   ],
   "source": [
    "#Nr.232\n",
    "from sympy import *\n",
    "a = Matrix([3,-4,2])\n",
    "b = Matrix([-1,-1,4])\n",
    "n = (a.cross(b)).normalized() * 3\n",
    "n, n.norm()"
   ]
  },
  {
   "cell_type": "code",
   "execution_count": 89,
   "metadata": {},
   "outputs": [
    {
     "data": {
      "text/latex": [
       "$$\\left ( \\left[\\begin{matrix}-2\\\\-2\\\\-1\\end{matrix}\\right], \\quad 3\\right )$$"
      ],
      "text/plain": [
       "⎛⎡-2⎤   ⎞\n",
       "⎜⎢  ⎥   ⎟\n",
       "⎜⎢-2⎥, 3⎟\n",
       "⎜⎢  ⎥   ⎟\n",
       "⎝⎣-1⎦   ⎠"
      ]
     },
     "execution_count": 89,
     "metadata": {},
     "output_type": "execute_result"
    }
   ],
   "source": [
    "#Nr.234 #ist dasselbe wie Nr.232 & 235\n",
    "from sympy import *\n",
    "#Kreuzprodukt aus Spannvektoren der Ebene bilden\n",
    "a = Matrix([3,-4,2])\n",
    "b = Matrix([-1,-1,4])\n",
    "n = (a.cross(b)).normalized() * 3\n",
    "n, n.norm()"
   ]
  },
  {
   "cell_type": "code",
   "execution_count": 90,
   "metadata": {},
   "outputs": [
    {
     "data": {
      "text/latex": [
       "$$\\left ( \\left[\\begin{matrix}-2\\\\-2\\\\-1\\end{matrix}\\right], \\quad 3\\right )$$"
      ],
      "text/plain": [
       "⎛⎡-2⎤   ⎞\n",
       "⎜⎢  ⎥   ⎟\n",
       "⎜⎢-2⎥, 3⎟\n",
       "⎜⎢  ⎥   ⎟\n",
       "⎝⎣-1⎦   ⎠"
      ]
     },
     "execution_count": 90,
     "metadata": {},
     "output_type": "execute_result"
    }
   ],
   "source": [
    "#Nr.235 #ist dasselbe wie Nr.232 & 234\n",
    "A = Matrix([1,2,3])\n",
    "B = Matrix([4,-2,5])\n",
    "C = Matrix([0,1,7])\n",
    "AB = B-A\n",
    "AC = C-A\n",
    "n = (AB.cross(AC)).normalized() * 3\n",
    "n, n.norm()"
   ]
  },
  {
   "cell_type": "code",
   "execution_count": 14,
   "metadata": {},
   "outputs": [
    {
     "name": "stdout",
     "output_type": "stream",
     "text": [
      "Matrix([[-14], [-14], [-7]])\n",
      "-63\n"
     ]
    },
    {
     "data": {
      "text/plain": [
       "(-63, -63, -77, -63, -112)"
      ]
     },
     "execution_count": 14,
     "metadata": {},
     "output_type": "execute_result"
    }
   ],
   "source": [
    "#Nr.236\n",
    "from sympy import *\n",
    "#Ebene von Parameter- in Koordinatenform bringen\n",
    "#1.Kreuzprodukt aus Spannvektoren\n",
    "A = Matrix([3,-4,2])\n",
    "B = Matrix([-1,-1,4])\n",
    "print(A.cross(B))\n",
    "#E: -14x-14y-7z = a\n",
    "#2. Stützpunkt einsetzen, um a zu berechnen\n",
    "a = -14*1 - 14*2 - 7*3\n",
    "print(a)\n",
    "#E: -14x-14y-7z = -63\n",
    "\n",
    "#Punkte einsetzen\n",
    "P1 = -14*0-14*1-7*7\n",
    "P2 = -14*1-14*2-7*3\n",
    "P3 = -14*3-14*2-7*1\n",
    "P4 = -14*6-14*-7-7*11\n",
    "P5 = -14*7-14*1-7*0\n",
    "P1,P2,P3,P4,P5\n",
    "\n",
    "#Alternative zur Koordinatenform: Punkte mit Parameterform gleichsetzen und umformen, ist aber schwerer wegen den 2 Parametern\n",
    "#Lösung: P1,P2,P4 erfüllen die Gleichung und liegen somit in der Ebene"
   ]
  },
  {
   "cell_type": "code",
   "execution_count": 94,
   "metadata": {},
   "outputs": [
    {
     "name": "stdout",
     "output_type": "stream",
     "text": [
      "1\n"
     ]
    },
    {
     "data": {
      "image/png": "[encoded data removed]",
      "text/latex": [
       "$$\\left ( \\left [ \\left \\{ a : 1\\right \\}\\right ], \\quad \\left [ \\left \\{ a : 1\\right \\}\\right ]\\right )$$"
      ],
      "text/plain": [
       "([{a: 1}], [{a: 1}])"
      ]
     },
     "execution_count": 94,
     "metadata": {},
     "output_type": "execute_result"
    }
   ],
   "source": [
    "#Nr.237\n",
    "from sympy import *\n",
    "for a in range (1,11):\n",
    "    M = (1/sqrt(2)) * Matrix([[a,0,-1], [-1,0,-1], [0, sqrt(2), 0]])\n",
    "    if M * M.T == eye(3): #siehe Buch Lösung zu Nr.569\n",
    "        print(a)\n",
    "        \n",
    "\n",
    "#Alternativ\n",
    "a = symbols(\"a\")\n",
    "M = (1/sqrt(2)) * Matrix([[a,0,-1], [-1,0,-1], [0, sqrt(2), 0]])\n",
    "solve(M * M.T - eye(3)), solve(M.T - M.inv()) #siehe Buch Lösung zu Nr.569; 2 Möglichkeiten, das zu lösen\n",
    "#Lösung: 1"
   ]
  },
  {
   "cell_type": "code",
   "execution_count": 92,
   "metadata": {},
   "outputs": [
    {
     "data": {
      "image/png": "[encoded data removed]",
      "text/latex": [
       "$$\\left ( \\left [ \\left \\{ a : - \\frac{\\sqrt{6}}{6}\\right \\}, \\quad \\left \\{ a : \\frac{\\sqrt{6}}{6}\\right \\}\\right ], \\quad \\left [ \\left \\{ a : - \\frac{\\sqrt{6}}{6}\\right \\}, \\quad \\left \\{ a : \\frac{\\sqrt{6}}{6}\\right \\}\\right ]\\right )$$"
      ],
      "text/plain": [
       "⎛⎡⎧   -√6 ⎫  ⎧   √6⎫⎤  ⎡⎧   -√6 ⎫  ⎧   √6⎫⎤⎞\n",
       "⎜⎢⎨a: ────⎬, ⎨a: ──⎬⎥, ⎢⎨a: ────⎬, ⎨a: ──⎬⎥⎟\n",
       "⎝⎣⎩    6  ⎭  ⎩   6 ⎭⎦  ⎣⎩    6  ⎭  ⎩   6 ⎭⎦⎠"
      ]
     },
     "execution_count": 92,
     "metadata": {},
     "output_type": "execute_result"
    }
   ],
   "source": [
    "#Nr.238\n",
    "from sympy import *\n",
    "for a in range (1,11):\n",
    "    M = a * Matrix([[sqrt(3),-sqrt(3),0], [sqrt(2),sqrt(2),sqrt(2)], [1,1,-2]])\n",
    "    if M*M.T==eye(3): #siehe Buch Lösung zu Nr.569\n",
    "        print(a)\n",
    "#funzt hier nicht, weil die Lösung keine ganze Zahl ist oof\n",
    "\n",
    "#Alternativ\n",
    "a = symbols(\"a\")\n",
    "M = a * Matrix([[sqrt(3),-sqrt(3),0], [sqrt(2),sqrt(2),sqrt(2)], [1,1,-2]])\n",
    "solve(M * M.T - eye(3)), solve(M.T - M.inv()) #siehe Buch Lösung zu Nr.569; 2 Möglichkeiten, das zu lösen\n",
    "#Lösung: sqrt(6)/6 oder -sqrt(6)/6"
   ]
  },
  {
   "cell_type": "code",
   "execution_count": 8,
   "metadata": {},
   "outputs": [
    {
     "data": {
      "text/plain": [
       "-5.00000000000000"
      ]
     },
     "execution_count": 8,
     "metadata": {},
     "output_type": "execute_result"
    }
   ],
   "source": [
    "#Nr.240\n",
    "from sympy import *\n",
    "P = Matrix([5,6,1])\n",
    "(1/3) * (Matrix([2,-1,2]).dot(P)) - 7\n",
    "#Lösung: |-5| = 5 "
   ]
  },
  {
   "cell_type": "code",
   "execution_count": 95,
   "metadata": {
    "scrolled": true
   },
   "outputs": [
    {
     "name": "stdout",
     "output_type": "stream",
     "text": [
      "9*sqrt(61)/61\n",
      "4.86540143745005\n"
     ]
    },
    {
     "data": {
      "image/png": "[encoded data removed]",
      "text/latex": [
       "$$4.86540143745005$$"
      ],
      "text/plain": [
       "4.86540143745005"
      ]
     },
     "execution_count": 95,
     "metadata": {},
     "output_type": "execute_result"
    }
   ],
   "source": [
    "#Nr.241\n",
    "from sympy import *\n",
    "p = Matrix([3,-1])\n",
    "n = Matrix([5,6])\n",
    "x = Matrix([7,2])\n",
    "#g = (3,-1)+r*(6,-5)\n",
    "\n",
    "#Normalenform #war im Nachhinein egal, direkt Hessesche Form bilden!\n",
    "    #k = n*p = 3*6 + (-1)*(-5) = 23\n",
    "    #{x€R**2: (5,6) * x - 23}\n",
    "#Hessesche Normalenform\n",
    "n0 = (1/n.norm()) * n\n",
    "k0 = n0.dot(p)\n",
    "print(k0) #k0 = 9*sqrt(61)/61; wäre k0 negativ, müsste man noch n0 * -1 rechnen (s.Buch Lösung Nr. 557)\n",
    "#{x€R**2: 1/sqrt(61)*n * x - (9*sqrt(61)/61) = 0}\n",
    "\n",
    "#Punkt für x einsetzen\n",
    "d = n0.dot(x)-k0\n",
    "print(d.evalf())\n",
    "\n",
    "\n",
    "#SIMPLERE ALTERNATIVE\n",
    "#Einziger Nachteil: Man kriegt nicht mehr den gerichteten Abstand, sondern immer den Betrag\n",
    "#https://de.serlo.org/mathe/geometrie/analytische-geometrie/abstaende-winkel/abstaende/abstand-punktes-einer-geraden-berechnen-analytische-geometrie\n",
    "#Geradengleichung aufstellen\n",
    "    #Stützvektor gegeben, für Richtungsvektor beim gegebenen Normalenvektor Komponenten vertauschen und bei einer Vorzeichen ändern\n",
    "    #g: x=(3,-1)+r*(6,-5)\n",
    "#Formel für Abstand von P(x,y,z) zu Gerade g = a + r*b\n",
    "    #(|(p-a) x b)| / |b|\n",
    "#Wegen des Kreuzprodukts muss in 3D gerechnet werden; bei 2D einfach 0 für die z-Koordinate verwenden\n",
    "punkt = Matrix([7,2,0])\n",
    "a = Matrix([3,-1,0])\n",
    "b = Matrix([6,-5,0])\n",
    "zähler = ((punkt-a).cross(b)).norm()\n",
    "nenner = b.norm()\n",
    "(zähler/nenner).evalf()\n",
    "#Lösung: 4.87"
   ]
  },
  {
   "cell_type": "code",
   "execution_count": 96,
   "metadata": {},
   "outputs": [
    {
     "name": "stdout",
     "output_type": "stream",
     "text": [
      "1\n",
      "\n",
      "0\n",
      "-1.60000000000000\n",
      "-0.200000000000000\n",
      "0.400000000000000\n"
     ]
    }
   ],
   "source": [
    "#Nr.242\n",
    "#Formel bei Nr.241 unten kann nicht angewendet werden, weil hier der gerichtete Abstand gefragt ist\n",
    "p = Matrix([3,-1])\n",
    "n = Matrix([3,4])\n",
    "x1 = Matrix([-1,2])\n",
    "x2 = Matrix([-1,0])\n",
    "x3 = Matrix([0,1])\n",
    "x4 = Matrix([1,1])\n",
    "\n",
    "#Hessesche Normalenform\n",
    "n0 = 1/n.norm() * n\n",
    "k0 = n0.dot(p)\n",
    "print(k0) #k0 = 1; wäre k0 negativ, müsste man noch n0 * -1 rechnen (s.Buch Lösung Nr. 557)\n",
    "#Problem mit k0: k0=1.00000... gibt am Ende (für d1) ein falsches Ergebnis, deshalb auf 1 setzen\n",
    "k0 = 1\n",
    "\n",
    "d1 = n0.dot(x1)-k0\n",
    "d2 = n0.dot(x2)-k0\n",
    "d3 = n0.dot(x3)-k0\n",
    "d4 = n0.dot(x4)-k0\n",
    "print()\n",
    "print(d1.evalf()) #liegt auf der Geraden\n",
    "print(d2.evalf()) #liegt auf der Seite mit dem Ursprung\n",
    "print(d3.evalf()) #liegt auf der Seite mit dem Ursprung\n",
    "print(d4.evalf()) #liegt NICHT auf der Seite mit dem Ursprung\n",
    "#Richtig: d2 und d3"
   ]
  },
  {
   "cell_type": "code",
   "execution_count": 97,
   "metadata": {},
   "outputs": [
    {
     "name": "stdout",
     "output_type": "stream",
     "text": [
      "31*sqrt(77)/77\n",
      "10.2564518813674\n"
     ]
    },
    {
     "data": {
      "image/png": "[encoded data removed]",
      "text/latex": [
       "$$10.2564518813674$$"
      ],
      "text/plain": [
       "10.2564518813674"
      ]
     },
     "execution_count": 97,
     "metadata": {},
     "output_type": "execute_result"
    }
   ],
   "source": [
    "#Nr.243\n",
    "from sympy import *\n",
    "p = Matrix([1,2,3])\n",
    "n = Matrix([5,4,6])\n",
    "x = Matrix([7,8,9])\n",
    "\n",
    "#Hessesche Normalenform\n",
    "n0 = 1/n.norm()*n\n",
    "k0 = n0.dot(p)\n",
    "print(k0) #k0 = 31*sqrt(77)/77; wäre k0 negativ, müsste man noch n0 * -1 rechnen (s.Buch Lösung Nr. 557)\n",
    "d = n0.dot(x) - k0\n",
    "print(d.evalf())\n",
    "\n",
    "\n",
    "#SIMPLERE ALTERNATIVE\n",
    "#Einziger Nachteil: Man kriegt nicht mehr den gerichteten Abstand, sondern immer den Betrag\n",
    "#https://www.frustfrei-lernen.de/mathematik/abstand-punkt-zu-ebene.html\n",
    "p = Matrix([1,2,3])\n",
    "n = Matrix([5,4,6])\n",
    "x = Matrix([7,8,9])\n",
    "#Koordinatenform der Ebene benötigt\n",
    "    #E = n1*x + n2*y + n3*z = a\n",
    "    #n ist schon gegeben\n",
    "    #a = n * ein Punkt der Ebene -> a = n*p\n",
    "a = n.dot(p)\n",
    "#Formel\n",
    "    #(n1*x + n2*y + n3*z - a) / |n|\n",
    "    #der Zähler OHNE das \"-a\" ist: b = n * Punkt, dessen Abstand zu E gesucht ist -> b = n*x\n",
    "b = n.dot(x)\n",
    "\n",
    "((b-a) / n.norm()).evalf()\n",
    "#Lösung: 10.26"
   ]
  },
  {
   "cell_type": "code",
   "execution_count": 1,
   "metadata": {},
   "outputs": [
    {
     "data": {
      "text/plain": [
       "2.12132034355964"
      ]
     },
     "execution_count": 1,
     "metadata": {},
     "output_type": "execute_result"
    }
   ],
   "source": [
    "#Nr.244\n",
    "#siehe Formel bei Nr.241 unten\n",
    "from sympy import *\n",
    "p = Matrix([7,2,0])\n",
    "a = Matrix([3,1,0])\n",
    "b = Matrix([2,2,0])\n",
    "zähler = ((p-a).cross(b)).norm()\n",
    "nenner = b.norm()\n",
    "(zähler/nenner).evalf()\n",
    "#Lösung: 2.12"
   ]
  },
  {
   "cell_type": "code",
   "execution_count": 99,
   "metadata": {},
   "outputs": [
    {
     "data": {
      "text/latex": [
       "$$\\left[\\begin{matrix}0 & -1 & -2\\\\-1 & 0 & 3\\\\0 & 0 & 1\\end{matrix}\\right]$$"
      ],
      "text/plain": [
       "⎡0   -1  -2⎤\n",
       "⎢          ⎥\n",
       "⎢-1  0   3 ⎥\n",
       "⎢          ⎥\n",
       "⎣0   0   1 ⎦"
      ]
     },
     "execution_count": 99,
     "metadata": {},
     "output_type": "execute_result"
    }
   ],
   "source": [
    "#Nr.245\n",
    "from sympy import *\n",
    "fM = Matrix([[-1,0,0],[0,1,0],[0,0,1]])\n",
    "gM = Matrix([[1,0,2],[0,1,3],[0,0,1]]) #bei Translation in 3D unterscheiden sich nur 2 Einträge von Einheitsmatrix\n",
    "hM = Matrix([[cos(-90*pi/180),-sin(-90*pi/180),0], [sin(-90*pi/180),cos(-90*pi/180),0], [0,0,1]])\n",
    "fM*gM*hM"
   ]
  },
  {
   "cell_type": "code",
   "execution_count": 114,
   "metadata": {},
   "outputs": [
    {
     "data": {
      "image/png": "[encoded data removed]",
      "text/latex": [
       "$$-42.0$$"
      ],
      "text/plain": [
       "-42.0000000000000"
      ]
     },
     "execution_count": 114,
     "metadata": {},
     "output_type": "execute_result"
    }
   ],
   "source": [
    "#Nr.274\n",
    "from sympy import *\n",
    "n=symbols(\"n\")\n",
    "def nr274(n):\n",
    "    return (2*n**2+2*n**4+2*n+4*n**4-pi) / (2017-n**3-(1/7)*n**4+4*n)\n",
    "limit(nr274(n),n,oo)\n",
    "#Alternativ: s. Notiz neben Aufgabe in pdf\n",
    "#Lösung: -42"
   ]
  },
  {
   "cell_type": "code",
   "execution_count": 112,
   "metadata": {},
   "outputs": [
    {
     "data": {
      "image/png": "[encoded data removed]",
      "text/latex": [
       "$$\\left [ 21\\right ]$$"
      ],
      "text/plain": [
       "[21]"
      ]
     },
     "execution_count": 112,
     "metadata": {},
     "output_type": "execute_result"
    }
   ],
   "source": [
    "#Nr.275\n",
    "from sympy import *\n",
    "n,a = symbols(\"n a\")\n",
    "def nr275(n):\n",
    "    return (((4*n)+a)*(a*n+4)) / (2*(n**2)+18)\n",
    "solve(limit(nr275(n),n,oo) - 42)\n",
    "#Alternativ: s. Notiz neben Aufgabe in pdf\n",
    "#Lösung: 21"
   ]
  },
  {
   "cell_type": "code",
   "execution_count": 19,
   "metadata": {},
   "outputs": [
    {
     "name": "stdout",
     "output_type": "stream",
     "text": [
      "oo\n",
      "E\n",
      "1\n",
      "exp(2)\n"
     ]
    }
   ],
   "source": [
    "#Nr.276\n",
    "from sympy import *\n",
    "n = symbols(\"n\")\n",
    "def a(n):\n",
    "    return ((n)/n+1)**n\n",
    "def b(n):\n",
    "    return ((2+2*n)/(2*n))**n\n",
    "def c(n):\n",
    "    return ((n+1)/n)\n",
    "def d(n):\n",
    "    return ((n+2)/n)**n\n",
    "print(limit(a(n),n,oo))\n",
    "print(limit(b(n),n,oo)) #Richtig\n",
    "print(limit(c(n),n,oo))\n",
    "print(limit(d(n),n,oo))\n",
    "#Lösung: b"
   ]
  },
  {
   "cell_type": "code",
   "execution_count": 20,
   "metadata": {},
   "outputs": [
    {
     "name": "stdout",
     "output_type": "stream",
     "text": [
      "exp(-1)\n",
      "E\n",
      "1\n",
      "exp(3)\n"
     ]
    }
   ],
   "source": [
    "#Nr.277\n",
    "from sympy import *\n",
    "n = symbols(\"n\")\n",
    "def a(n):\n",
    "    return ((3*n)/(3+3*n))**n\n",
    "def b(n):\n",
    "    return ((3*n)/(3+3*n))**-n\n",
    "def c(n):\n",
    "    return ((3*n+3)/(3*n))\n",
    "def d(n):\n",
    "    return ((n+3)/(n))**n\n",
    "print(limit(a(n),n,oo))\n",
    "print(limit(b(n),n,oo)) #Richtig\n",
    "print(limit(c(n),n,oo))\n",
    "print(limit(d(n),n,oo))\n",
    "#Lösung: b"
   ]
  },
  {
   "cell_type": "code",
   "execution_count": 28,
   "metadata": {},
   "outputs": [
    {
     "data": {
      "image/png": "[encoded data removed]",
      "text/latex": [
       "$$e^{-2}$$"
      ],
      "text/plain": [
       " -2\n",
       "ℯ  "
      ]
     },
     "execution_count": 28,
     "metadata": {},
     "output_type": "execute_result"
    }
   ],
   "source": [
    "#Nr.278\n",
    "from sympy import *\n",
    "n = symbols(\"n\")\n",
    "init_printing()\n",
    "def nr278 (n):\n",
    "    return ((n**2) / (n**(2)+2*n+1)) ** n\n",
    "limit(nr278(n), n, oo)\n",
    "#Lösung: e**-2"
   ]
  },
  {
   "cell_type": "code",
   "execution_count": 5,
   "metadata": {},
   "outputs": [
    {
     "data": {
      "image/png": "[encoded data removed]",
      "text/latex": [
       "$$e^{-3}$$"
      ],
      "text/plain": [
       " -3\n",
       "ℯ  "
      ]
     },
     "execution_count": 5,
     "metadata": {},
     "output_type": "execute_result"
    }
   ],
   "source": [
    "#Nr.279\n",
    "from sympy import *\n",
    "n = symbols(\"n\")\n",
    "def nr279 (n):\n",
    "    return ((n**(2)+3*n) / (n**(2)+6*n+9)) ** (n+42)\n",
    "limit(nr279(n), n, oo)\n",
    "#Lösung: e**-3"
   ]
  },
  {
   "cell_type": "code",
   "execution_count": 140,
   "metadata": {},
   "outputs": [
    {
     "data": {
      "image/png": "[encoded data removed]",
      "text/latex": [
       "$$\\left [ -1.99999899999975, \\quad 1.99999899999975\\right ]$$"
      ],
      "text/plain": [
       "[-1.99999899999975, 1.99999899999975]"
      ]
     },
     "execution_count": 140,
     "metadata": {},
     "output_type": "execute_result"
    }
   ],
   "source": [
    "#Nr.280\n",
    "from sympy import *\n",
    "n,a = symbols(\"n a\")\n",
    "def nr280(n):\n",
    "    return ((a*n**2+2)*(a*n**2-2) / (n+2*n**2+3*n**3+4*n**4))\n",
    "solve(limit(nr280(n),n,oo) - 0.999999) #-0.999999, weils < 1 sein soll\n",
    "#Alternativ: s. Notiz neben Aufgabe in pdf\n",
    "#Lösung: (-2,2)"
   ]
  },
  {
   "cell_type": "code",
   "execution_count": 142,
   "metadata": {},
   "outputs": [
    {
     "name": "stdout",
     "output_type": "stream",
     "text": [
      "0\n",
      "0\n",
      "0\n",
      "1\n",
      "1\n",
      "1\n",
      "0\n",
      "1\n",
      "1\n",
      "1\n",
      "0\n",
      "1\n",
      "0\n",
      "1\n",
      "1\n",
      "1\n",
      "1\n",
      "0\n",
      "0\n",
      "0\n",
      "1\n"
     ]
    }
   ],
   "source": [
    "#Nr.282\n",
    "#Test für die letzte Menge {a**(p-1) mod p: a€N und p€P}\n",
    "from math import *\n",
    "for a in range(7):\n",
    "    for p in range(7):\n",
    "        if not isprime(p):\n",
    "            continue\n",
    "        print((a**(p-1))%p)\n",
    "#immer 0 oder 1 -> {0,1} -> 1 als Schranke"
   ]
  },
  {
   "cell_type": "code",
   "execution_count": 12,
   "metadata": {},
   "outputs": [
    {
     "name": "stdout",
     "output_type": "stream",
     "text": [
      "oo\n",
      "oo\n",
      "0\n",
      "0\n",
      "0\n"
     ]
    }
   ],
   "source": [
    "#Nr.284\n",
    "from sympy import *\n",
    "n = symbols(\"n\")\n",
    "def a(n):\n",
    "    return (3**n) / (2**(n+42))\n",
    "def b(n):\n",
    "    return (n**(2)*2**(n)) / (2**n)\n",
    "def c(n):\n",
    "    return (n**(2)*2**(n)) / (3**n)\n",
    "def d(n):\n",
    "    return (2**(n+42)) / (3**n)\n",
    "def e(n):\n",
    "    return (n * log(n)) / (n**2)\n",
    "print(limit(a(n),n,oo))\n",
    "print(limit(b(n),n,oo))\n",
    "print(limit(c(n),n,oo))\n",
    "print(limit(d(n),n,oo))\n",
    "print(limit(e(n),n,oo))\n",
    "#Lösung: c,d,e"
   ]
  },
  {
   "cell_type": "code",
   "execution_count": 101,
   "metadata": {},
   "outputs": [
    {
     "name": "stdout",
     "output_type": "stream",
     "text": [
      "oo\n",
      "0\n",
      "0\n",
      "oo\n",
      "0\n"
     ]
    }
   ],
   "source": [
    "#Nr.285\n",
    "from sympy import *\n",
    "n = symbols(\"n\")\n",
    "def a(n):\n",
    "    return (n**(2)*2**(n)) / (2**n)\n",
    "def b(n):\n",
    "    return (n**(2)*2**(n)) / (3**n)\n",
    "def c(n):\n",
    "    return (2**(n+42)) / (3**n)\n",
    "def d(n):\n",
    "    erg = 1\n",
    "    for k in range(0,4):\n",
    "        erg *= (n+k)\n",
    "    return (erg) / (n**3)\n",
    "def e(n):\n",
    "    return ((log(n))**2) / (n**2)\n",
    "print(limit(a(n),n,oo))\n",
    "print(limit(b(n),n,oo))\n",
    "print(limit(c(n),n,oo))\n",
    "print(limit(d(n),n,oo))\n",
    "print(limit(e(n),n,oo))\n",
    "#Lösung: b,c,e"
   ]
  },
  {
   "cell_type": "code",
   "execution_count": 4,
   "metadata": {},
   "outputs": [
    {
     "name": "stdout",
     "output_type": "stream",
     "text": [
      "oo\n",
      "oo\n",
      "0\n",
      "oo\n",
      "oo\n"
     ]
    }
   ],
   "source": [
    "#Nr.286\n",
    "from sympy import *\n",
    "n = symbols(\"n\")\n",
    "def a(n):\n",
    "    return ((n**4+n**3+n**2+n)**4) / (n**10)\n",
    "def b(n):\n",
    "    return (2**(2*n)) / (3**n)\n",
    "def c(n):\n",
    "    return (2**(3*n)) / (9**n)\n",
    "def d(n):\n",
    "    erg = 1\n",
    "    for k in range(1,4):\n",
    "        erg *= (n**k+k)\n",
    "    return (erg) / (n**3)\n",
    "def e(n):\n",
    "    return ((2**n)**2) / (2**n) #beim Zähler alternativ: 2**(n*2), aber nicht 2**n**2 (auch wenns hier eh bei beiden oo ist)\n",
    "print(limit(a(n),n,oo))\n",
    "print(limit(b(n),n,oo))\n",
    "print(limit(c(n),n,oo))\n",
    "print(limit(d(n),n,oo))\n",
    "print(limit(e(n),n,oo))\n",
    "#Lösung: c"
   ]
  },
  {
   "cell_type": "code",
   "execution_count": null,
   "metadata": {},
   "outputs": [],
   "source": [
    "\"SoSe 19 Testate\""
   ]
  },
  {
   "cell_type": "code",
   "execution_count": 18,
   "metadata": {},
   "outputs": [
    {
     "data": {
      "text/plain": [
       "28"
      ]
     },
     "execution_count": 18,
     "metadata": {},
     "output_type": "execute_result"
    }
   ],
   "source": [
    "\"Unsicher\"\n",
    "#4A Nr.1\n",
    "#(a+b)*(a+b) = (a+b)**2 = a**2 + 2*a*b + b**2\n",
    "#Da a und b orthogonal zueinander sind, ergibt 2*a*b = 0 und der Term verkürzt sich zu\n",
    "#a**2 + b**2\n",
    "a,b = 4,2*sqrt(3)\n",
    "a**2+b**2"
   ]
  },
  {
   "cell_type": "code",
   "execution_count": 21,
   "metadata": {},
   "outputs": [
    {
     "data": {
      "text/plain": [
       "(False, True)"
      ]
     },
     "execution_count": 21,
     "metadata": {},
     "output_type": "execute_result"
    }
   ],
   "source": [
    "#4A+B Nr.3\n",
    "#Kreuzen Sie von den folgenden Aussagen die an, die für alle Matrizen A,B € R(nxn) wahr sind\n",
    "#Richtig    #Wenn A regulär ist, dann ist auch A**-1 regulär.\n",
    "#Richtig    #Wenn A regulär ist, dann ist auch A**T regulär.\n",
    "#Falsch     #Wenn A und B regulär sind, dann gilt (A * B)**-1 = A**-1 * B**-1.\n",
    "#Falsch     #Wenn A und B regulär sind, dann ist auch A + B regulär.\n",
    "#Richtig    #Wenn A und B regulär sind, dann gilt (A * B)**-1 = B**-1 * A**-1.\n",
    "from sympy import *\n",
    "A = Matrix([[7,2,3],[2,3,4],[3,4,5]])\n",
    "B = Matrix([[5,2,7],[3,6,3],[1,5,9]])\n",
    "(A*B).inv() == A.inv()*B.inv(),(A*B).inv() == B.inv()*A.inv()"
   ]
  },
  {
   "cell_type": "code",
   "execution_count": 148,
   "metadata": {},
   "outputs": [
    {
     "name": "stdout",
     "output_type": "stream",
     "text": [
      "Matrix([[50, 66, 39, 48], [62, 102, 59, 64], [11, 21, 12, 12]])\n"
     ]
    }
   ],
   "source": [
    "#5 Nr.3\n",
    "#Falsch (A müsste mxn und B nxk sein)     #Das Produkt AB lässt sich immer bilden.\n",
    "#Falsch     #Das Produkt AB lässt sich nur bilden, wenn A und B regulär sind.\n",
    "#Falsch (s. unten)    #Wenn sich das Produkt AB bilden lässt, dann auch das Produkt BA.\n",
    "#Falsch     #Falls sich die Produkte bilden lassen, gilt immer AB = BA.\n",
    "#Richtig    #Wenn sich die Produkte bilden lassen, gilt immer: A(BC) = (AB)C.\n",
    "A = Matrix([[5,7],[9,7],[2,1]])\n",
    "B = Matrix([[3,9,5,4],[5,3,2,4]])\n",
    "print(A*B)\n",
    "#B*A #gibt Fehler aus (widerlegt 3. Aussage)"
   ]
  },
  {
   "cell_type": "code",
   "execution_count": 149,
   "metadata": {},
   "outputs": [
    {
     "data": {
      "text/latex": [
       "$$\\left[\\begin{matrix}1 & 0 & 0 & 1\\\\0 & 1 & 0 & 2\\\\0 & 0 & 1 & 3\\\\0 & 0 & 0 & 1\\end{matrix}\\right]$$"
      ],
      "text/plain": [
       "⎡1  0  0  1⎤\n",
       "⎢          ⎥\n",
       "⎢0  1  0  2⎥\n",
       "⎢          ⎥\n",
       "⎢0  0  1  3⎥\n",
       "⎢          ⎥\n",
       "⎣0  0  0  1⎦"
      ]
     },
     "execution_count": 149,
     "metadata": {},
     "output_type": "execute_result"
    }
   ],
   "source": [
    "#5 Nr.4\n",
    "#Einfach 1,2,3 rechts einfügen, Rest wie eye(4)\n",
    "Matrix([[1,0,0,1],[0,1,0,2],[0,0,1,3],[0,0,0,1]])"
   ]
  },
  {
   "cell_type": "code",
   "execution_count": 53,
   "metadata": {},
   "outputs": [
    {
     "data": {
      "text/plain": [
       "0.7016741237876035"
      ]
     },
     "execution_count": 53,
     "metadata": {},
     "output_type": "execute_result"
    }
   ],
   "source": [
    "#6 Nr.1\n",
    "from sympy import *\n",
    "from math import acos,pi\n",
    "a = Matrix([1,2,1])\n",
    "b = Matrix([-1,3,2])\n",
    "acos(a.dot(b) / (a.norm()*b.norm()))\n",
    "#Lösung: 0.70"
   ]
  },
  {
   "cell_type": "code",
   "execution_count": 22,
   "metadata": {},
   "outputs": [
    {
     "data": {
      "text/latex": [
       "$$\\left ( \\left[\\begin{matrix}0 & -1\\\\1 & 0\\end{matrix}\\right], \\quad \\left[\\begin{matrix}0 & -1\\\\1 & 0\\end{matrix}\\right], \\quad \\left[\\begin{matrix}1 & 0\\\\1 & 0\\end{matrix}\\right], \\quad \\left[\\begin{matrix}1 & -1\\\\1 & 1\\end{matrix}\\right], \\quad \\left[\\begin{matrix}0 & 0\\\\-1 & 1\\end{matrix}\\right], \\quad \\left[\\begin{matrix}0 & 1\\\\1 & 0\\end{matrix}\\right], \\quad \\left[\\begin{matrix}-1 & 0\\\\0 & -1\\end{matrix}\\right]\\right )$$"
      ],
      "text/plain": [
       "⎛⎡0  -1⎤  ⎡0  -1⎤  ⎡1  0⎤  ⎡1  -1⎤  ⎡0   0⎤  ⎡0  1⎤  ⎡-1  0 ⎤⎞\n",
       "⎜⎢     ⎥, ⎢     ⎥, ⎢    ⎥, ⎢     ⎥, ⎢     ⎥, ⎢    ⎥, ⎢      ⎥⎟\n",
       "⎝⎣1  0 ⎦  ⎣1  0 ⎦  ⎣1  0⎦  ⎣1  1 ⎦  ⎣-1  1⎦  ⎣1  0⎦  ⎣0   -1⎦⎠"
      ]
     },
     "execution_count": 22,
     "metadata": {},
     "output_type": "execute_result"
    }
   ],
   "source": [
    "#6 Nr.2\n",
    "from sympy import *\n",
    "degToRad = (pi/180)\n",
    "radToDeg = (180/pi)\n",
    "init_printing(pretty_print=True)\n",
    "\n",
    "M = Matrix([[cos(90*degToRad),-sin(90*degToRad)], [sin(90*degToRad),cos(90*degToRad)]]) #Drehmatrix aus Buch\n",
    "oL = Matrix([[0,-1], [1,0]]) #Richtig\n",
    "uL = Matrix([[sin(90*degToRad),cos(90*degToRad)], [sin(90*degToRad),cos(90*degToRad)]])\n",
    "oM = Matrix([[1,-1], [1,1]])\n",
    "uM = Matrix([[cos(90*degToRad),cos(90*degToRad)], [-sin(90*degToRad),sin(90*degToRad)]])\n",
    "oR = Matrix([[-cos(90*degToRad),sin(90*degToRad)], [sin(90*degToRad),cos(90*degToRad)]])\n",
    "uR = Matrix([[-1,0], [0,-1]])\n",
    "M,oL,uL,oM,uM,oR,uR\n",
    "#Lösung: oben links"
   ]
  },
  {
   "cell_type": "code",
   "execution_count": 54,
   "metadata": {},
   "outputs": [
    {
     "name": "stdout",
     "output_type": "stream",
     "text": [
      "sin(90°) = 1 , cos(90°) = 0\n"
     ]
    },
    {
     "data": {
      "text/plain": [
       "({(1, 1)}, {(0, 0)}, EmptySet(), EmptySet(), EmptySet(), {(tau0, 2)})"
      ]
     },
     "execution_count": 54,
     "metadata": {},
     "output_type": "execute_result"
    }
   ],
   "source": [
    "#6 Nr.3\n",
    "from sympy import *\n",
    "print(\"sin(90°) =\", sin(90*pi/180), \", cos(90°) =\", cos(90*pi/180))\n",
    "A = Matrix([[1,0,1],[1,1,2]])\n",
    "B = Matrix([[1,0,0],[1,1,0]])\n",
    "C = Matrix([[1,1,1],[1,1,2]]) #Richtig, oben Mitte\n",
    "D = Matrix([[0,1,1],[0,1,2]]) #Richtig, unten Mitte\n",
    "E = Matrix([[0,0,1],[0,1,2]]) #Richtig, oben Rechts\n",
    "F = Matrix([[0,0,0],[0,1,2]])\n",
    "linsolve(A), linsolve(B), linsolve(C), linsolve(D), linsolve(E), linsolve(F)"
   ]
  },
  {
   "cell_type": "code",
   "execution_count": null,
   "metadata": {},
   "outputs": [],
   "source": [
    "\"WiSe 19 Testate\""
   ]
  },
  {
   "cell_type": "code",
   "execution_count": null,
   "metadata": {},
   "outputs": [],
   "source": [
    "#2B Nr.2\n",
    "#Richtig    #Wenn (a[n]) bestimmt divergiert, dann ist (1/a[n]) eine Nullfolge.\n",
    "#Richtig    #Wenn (a[n]) eine Nullfolge ist, dann ist (44a[n]) auch eine Nullfolge.\n",
    "#Falsch     #Wenn (a[n]) eine Nullfolge ist, dann divergiert (1/a[n]) bestimmt.\n",
    "#Richtig    #Wenn (44a[n]) eine Nullfolge ist, dann ist (a[n]) auch eine Nullfolge."
   ]
  },
  {
   "cell_type": "code",
   "execution_count": 40,
   "metadata": {},
   "outputs": [
    {
     "data": {
      "text/plain": [
       "360.0"
      ]
     },
     "execution_count": 40,
     "metadata": {},
     "output_type": "execute_result"
    }
   ],
   "source": [
    "#3A Nr.3\n",
    "#Hypotenuse: 41; eine Kathete: 9\n",
    "from math import *\n",
    "b = sqrt(41*41 - 9*9) #b = 40\n",
    "b * 9\n",
    "#Lösung: 360"
   ]
  },
  {
   "cell_type": "code",
   "execution_count": 75,
   "metadata": {},
   "outputs": [
    {
     "data": {
      "text/plain": [
       "16.24269245482744"
      ]
     },
     "execution_count": 75,
     "metadata": {},
     "output_type": "execute_result"
    }
   ],
   "source": [
    "#3A Nr.4\n",
    "from math import *\n",
    "#Lot von Berührpunkt des Dreiecks mit g runter auf h -> 2 Dreiecke jeweils mit Gegenkathete = 5\n",
    "\n",
    "#tan(19°) = 5/Ankathete1\n",
    "#Ankathete1 = 5/tan(19°)\n",
    "Ank1 = 5/tan(19*pi/180)\n",
    "\n",
    "Beta = 180-90-19 #Winkel bei B = 71°\n",
    "#tan(71°) = 5/Ankathete2\n",
    "#Ankathete2 = 5/tan(71°)\n",
    "Ank2 = 5/tan(Beta*pi/180)\n",
    "Ank1+Ank2\n",
    "#Lösung: 16.24"
   ]
  },
  {
   "cell_type": "code",
   "execution_count": 54,
   "metadata": {},
   "outputs": [
    {
     "data": {
      "text/plain": [
       "a**4"
      ]
     },
     "execution_count": 54,
     "metadata": {},
     "output_type": "execute_result"
    }
   ],
   "source": [
    "#4A Nr.2\n",
    "from sympy import *\n",
    "a = symbols(\"a\")\n",
    "M = Matrix([[a,0,0], [1,1/2,3], [pi,9,-42]])\n",
    "(M**4)[0,0]\n",
    "#Lösung: a**4"
   ]
  },
  {
   "cell_type": "code",
   "execution_count": 39,
   "metadata": {},
   "outputs": [
    {
     "data": {
      "text/latex": [
       "$$\\left ( \\left[\\begin{matrix}a & 2 & b\\\\a & b & a - 2 b\\\\2 a & d & c\\end{matrix}\\right], \\quad \\left[\\begin{matrix}a & a & 2 a\\\\2 & b & d\\\\b & a - 2 b & c\\end{matrix}\\right]\\right )$$"
      ],
      "text/plain": [
       "⎛⎡ a   2     b   ⎤  ⎡a     a     2⋅a⎤⎞\n",
       "⎜⎢               ⎥  ⎢               ⎥⎟\n",
       "⎜⎢ a   b  a - 2⋅b⎥, ⎢2     b      d ⎥⎟\n",
       "⎜⎢               ⎥  ⎢               ⎥⎟\n",
       "⎝⎣2⋅a  d     c   ⎦  ⎣b  a - 2⋅b   c ⎦⎠"
      ]
     },
     "execution_count": 39,
     "metadata": {},
     "output_type": "execute_result"
    }
   ],
   "source": [
    "#4A Nr.3\n",
    "from sympy import *\n",
    "init_printing(True)\n",
    "a,b,c,d = symbols(\"a b c d\")\n",
    "M = Matrix([[a,2,b], [a,b,a-2*b], [2*a,d,c]])\n",
    "M, M.T\n",
    "#d = a-2*b\n",
    "#a = 2\n",
    "#b = 2*a = 4\n",
    "#d = 2-2*4 = -6\n",
    "#Lösung: -6"
   ]
  },
  {
   "cell_type": "code",
   "execution_count": 2,
   "metadata": {},
   "outputs": [
    {
     "data": {
      "text/plain": [
       "2"
      ]
     },
     "metadata": {},
     "output_type": "display_data"
    },
    {
     "data": {
      "text/plain": [
       "Matrix([\n",
       "[10, -2,  0],\n",
       "[ 4,  0, -1]])"
      ]
     },
     "metadata": {},
     "output_type": "display_data"
    }
   ],
   "source": [
    "#5 Nr.1\n",
    "#Matrix ablesen mit a ablesen\n",
    "from sympy import *\n",
    "v = Matrix([1,1,1])\n",
    "for a in range (-5,6):\n",
    "    A = Matrix([[5*a,-2,0],[4,0,-1]])\n",
    "    if A * v == Matrix([8,3]):\n",
    "        display(a, A)\n",
    "        \n",
    "#Alternativ: per Hand\n",
    "#obere Zeile: (5*a - 2) * 1 = 8 -> 5*a = 10 -> a = 2; dann a einsetzen\n",
    "#Lösung: Matrix([[10,-2,0], [4,0,-1]])"
   ]
  },
  {
   "cell_type": "code",
   "execution_count": 147,
   "metadata": {},
   "outputs": [
    {
     "data": {
      "image/png": "[encoded data removed]",
      "text/latex": [
       "$$\\left \\{ a : 2, \\quad b : -1\\right \\}$$"
      ],
      "text/plain": [
       "{a: 2, b: -1}"
      ]
     },
     "execution_count": 147,
     "metadata": {},
     "output_type": "execute_result"
    }
   ],
   "source": [
    "#5 Nr.4\n",
    "a,b = symbols(\"a b\")\n",
    "A = Matrix([[3,4],[4,5]])\n",
    "v = Matrix([a,b])\n",
    "w = Matrix([2,3])\n",
    "solve(A*v-w)\n",
    "#Lösung: v = (2,-1)"
   ]
  },
  {
   "cell_type": "code",
   "execution_count": 44,
   "metadata": {},
   "outputs": [
    {
     "name": "stdout",
     "output_type": "stream",
     "text": [
      "4\n"
     ]
    }
   ],
   "source": [
    "#6 Nr.1\n",
    "from sympy import *\n",
    "for i in range(-10,11):\n",
    "    M = Matrix([[i,5],[0,2]]) #wenn man die Vektoren umdreht, kriegt man für i=-4, müsste auch gehen\n",
    "    if M.det()==8:\n",
    "        print(i)\n",
    "#Lösung: (4,0) oder (-4,0)"
   ]
  },
  {
   "cell_type": "code",
   "execution_count": 50,
   "metadata": {},
   "outputs": [
    {
     "data": {
      "text/plain": [
       "[1/5]"
      ]
     },
     "execution_count": 50,
     "metadata": {},
     "output_type": "execute_result"
    }
   ],
   "source": [
    "#6 Nr.2\n",
    "from sympy import *\n",
    "a = symbols(\"a\", real=True)\n",
    "solve((a*eye(3)).inv().det()-125, [a])\n",
    "#Lösung: 1/5"
   ]
  },
  {
   "cell_type": "code",
   "execution_count": 51,
   "metadata": {},
   "outputs": [
    {
     "data": {
      "text/plain": [
       "(132496, 132496, False)"
      ]
     },
     "execution_count": 51,
     "metadata": {},
     "output_type": "execute_result"
    }
   ],
   "source": [
    "#6 Nr.3\n",
    "from sympy import *\n",
    "#Falsch     #det(A**-1) = det(A**T)\n",
    "#Falsch    #det(A + A) = 2 * det(A)\n",
    "#Falsch     #det(A * A) = 2 * det(A)\n",
    "#Falsch     #det(A**T) = 1/det(A)\n",
    "#Falsch     #det(42 * A) = 42 * det(A)\n",
    "#Keine Aussage richtig\n",
    "A = Matrix([[5,8,7,5],[4,6,3,7],[9,3,2,9],[3,5,3,2]])\n",
    "(A*A).det(), (A.det())**2, (A*A).det() == (2*A).det()"
   ]
  },
  {
   "cell_type": "code",
   "execution_count": 56,
   "metadata": {},
   "outputs": [
    {
     "data": {
      "text/plain": [
       "4.99343831738294"
      ]
     },
     "execution_count": 56,
     "metadata": {},
     "output_type": "execute_result"
    }
   ],
   "source": [
    "#6 Nr.4\n",
    "from sympy import *\n",
    "n=Matrix([6,5])\n",
    "p=Matrix([3,-1])\n",
    "x=Matrix([7,2])\n",
    "n0=1/(n.norm()) * n\n",
    "k0=n0.dot(p)\n",
    "(n0.dot(x)-k0).evalf()\n",
    "#Lösung: 4.99"
   ]
  }
 ],
 "metadata": {
  "kernelspec": {
   "display_name": "Python 3",
   "language": "python",
   "name": "python3"
  },
  "language_info": {
   "codemirror_mode": {
    "name": "ipython",
    "version": 3
   },
   "file_extension": ".py",
   "mimetype": "text/x-python",
   "name": "python",
   "nbconvert_exporter": "python",
   "pygments_lexer": "ipython3",
   "version": "3.7.1"
  }
 },
 "nbformat": 4,
 "nbformat_minor": 2
}
